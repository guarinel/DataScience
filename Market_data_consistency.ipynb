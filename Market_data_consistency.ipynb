{
 "cells": [
  {
   "cell_type": "code",
   "execution_count": 4,
   "metadata": {},
   "outputs": [],
   "source": [
    "import numpy as np\n",
    "import pandas as pd\n",
    "import asimov_simulator as ad\n",
    "from asimov_simulator.modules.utils import *\n",
    "\n",
    "class Tester:\n",
    "    def __init__(self, blueprint):\n",
    "        self.md = ad.MarketData(blueprint=blueprint)\n",
    "        self.symbols = blueprint.get('symbols')\n",
    "\n",
    "    def _non_increasing(self,L):\n",
    "        return all(x>=y for x, y in zip(L, L[1:]))\n",
    "\n",
    "    def _non_decreasing(self,L):\n",
    "        return all(x<=y for x, y in zip(L, L[1:]))\n",
    "\n",
    "    def _is_zero(self,L):\n",
    "        return all(v == 0 for v in L)\n",
    "\n",
    "    def tests(self):\n",
    "        check = 0\n",
    "        j=0\n",
    "\n",
    "        for i in range(self.md.data_store.length):\n",
    "            self.md.data_store.next()\n",
    "            j+=1\n",
    "            if self.md.last_message[NOTIFY] == True:\n",
    "                # Checa spread igual ou menor que 0 \n",
    "                for symb in self.symbols:\n",
    "                    if (self.md.book[symb][1][0, 0] - self.md.book[symb][0][0, 0] <= 0) and (self.md.book[symb][1][0, 0] != 0):\n",
    "                        print('[ MARKET DATA ] Spread menor ou igual a 0 - Error in {}. i: {}'.format(symb, i))\n",
    "                        check = 1\n",
    "                        break\n",
    "              #      A cada 1000 iterações checa se os valores são monotônicos(crescente -ASK e decrescente -BID )    \n",
    "                    if (j%1000 == 0):    \n",
    "                        first_0_bid = (np.where(self.md.book[symb][0][:, 0] == 0))[0]\n",
    "                        first_0_ask = (np.where(self.md.book[symb][1][:, 0] == 0))[0]\n",
    "                        if (len(first_0_bid) != 0) and (len(first_0_ask) != 0):\n",
    "                            if (not self._non_increasing(self.md.book[symb][0][:, 0][:first_0_bid[0]-1])) or (not self._non_decreasing(self.md.book[symb][1][:, 0][:first_0_ask[0]-1])):\n",
    "                                print('[ MARKET DATA ] Error de cosistência de preço - Error in {}. i: {}'.format(symb, i))\n",
    "                                check = 1\n",
    "                                break\n",
    "                            # A cada 1000 iterações checa se após o primeiro 0 todos os valores são 0   \n",
    "                            if (not self._is_zero(self.md.book[symb][0][:, 0][first_0_bid[0]:])) or (not self._is_zero(self.md.book[symb][1][:, 0][first_0_ask[0]:])):\n",
    "                                print('[ MARKET DATA ] Valor diferente de 0 depois do termino dos níveis - Error in {}. i: {}'.format(symb, i))\n",
    "                                check = 1\n",
    "                                break\n",
    "         \n",
    "            if check == 1:\n",
    "                break\n",
    "\n",
    "        if check == 0:\n",
    "            print('[ MARKET DATA ] Teste 1, 2 e 3 - OK')\n",
    "    \n"
   ]
  },
  {
   "cell_type": "code",
   "execution_count": 1,
   "metadata": {
    "jupyter": {
     "source_hidden": true
    }
   },
   "outputs": [],
   "source": [
    "# import numpy as np\n",
    "# import pandas as pd\n",
    "# import asimov_simulator as ad\n",
    "# from asimov_simulator.modules.utils import *\n",
    "\n",
    "# class Tester:\n",
    "#     def __init__(self, blueprint):\n",
    "#         self.md = ad.MarketData(blueprint=blueprint)\n",
    "#         self.symbols = blueprint.get('symbols')\n",
    "\n",
    "#     def _non_increasing(self,L):\n",
    "#         return all(x>=y for x, y in zip(L, L[1:]))\n",
    "\n",
    "#     def _non_decreasing(self,L):\n",
    "#         return all(x<=y for x, y in zip(L, L[1:]))\n",
    "\n",
    "#     def _is_zero(self,L):\n",
    "#         return all(v == 0 for v in L)\n",
    "\n",
    "#     def tests(self):\n",
    "#         check = 0\n",
    "#         j=0\n",
    "\n",
    "#         for i in range(self.md.data_store.length):\n",
    "#             self.md.data_store.next()\n",
    "#             j+=1\n",
    "#             if self.md.last_message[NOTIFY] == True:\n",
    "#                 # Checa spread igual ou menor que 0 \n",
    "#                 for symb in self.symbols:\n",
    "#                     if (self.md.book[symb][1][0, 0] - self.md.book[symb][0][0, 0] <= 0) and (self.md.book[symb][1][0, 0] != 0):\n",
    "#                         print('[ MARKET DATA ] Spread menor ou igual a 0 - Error in {}. i: {}'.format(symb, i))\n",
    "#                         check = 1\n",
    "#                         break\n",
    "#                     # A cada 1000 iterações checa se os valores são monotônicos(crescente -ASK e decrescente -BID )    \n",
    "#                     if (j%1000 == 0):    \n",
    "#                         first_0_bid = (np.where(self.md.book[symb][0][:, 0] == 0))[0]\n",
    "#                         first_0_ask = (np.where(self.md.book[symb][1][:, 0] == 0))[0]\n",
    "#                         if (len(first_0_bid) != 0) and (len(first_0_ask) != 0):\n",
    "#                             if (not self._non_increasing(self.md.book[symb][0][:, 0][:first_0_bid[0]-1])) or (not self._non_decreasing(self.md.book[symb][1][:, 0][:first_0_ask[0]-1])):\n",
    "#                                 print('[ MARKET DATA ] Error de cosistência de preço - Error in {}. i: {}'.format(symb, i))\n",
    "#                                 check = 1\n",
    "#                                 break\n",
    "#                             # A cada 1000 iterações checa se após o primeiro 0 todos os valores são 0   \n",
    "#                             if (not self._is_zero(self.md.book[symb][0][:, 0][first_0_bid[0]:])) or (not self._is_zero(self.md.book[symb][1][:, 0][first_0_ask[0]:])):\n",
    "#                                 print('[ MARKET DATA ] Valor diferente de 0 depois do termino dos níveis - Error in {}. i: {}'.format(symb, i))\n",
    "#                                 check = 1\n",
    "#                                 break\n",
    "         \n",
    "#             if check == 1:\n",
    "#                 break\n",
    "\n",
    "#         if check == 0:\n",
    "#             print('[ MARKET DATA ] Teste 1, 2 e 3 - OK')"
   ]
  },
  {
   "cell_type": "code",
   "execution_count": null,
   "metadata": {
    "jupyter": {
     "source_hidden": true
    }
   },
   "outputs": [],
   "source": [
    "\n"
   ]
  },
  {
   "cell_type": "code",
   "execution_count": 7,
   "metadata": {},
   "outputs": [],
   "source": [
    "DATE_JAN = [\n",
    " '2020-01-02',\n",
    " '2020-01-03',\n",
    " '2020-01-06',\n",
    " '2020-01-07',\n",
    " '2020-01-08',\n",
    " '2020-01-09', \n",
    " '2020-01-10',\n",
    " '2020-01-13',\n",
    " '2020-01-14',\n",
    " '2020-01-15',\n",
    " '2020-01-16',\n",
    " '2020-01-17',\n",
    " '2020-01-20',\n",
    " '2020-01-21',\n",
    " '2020-01-22',\n",
    " '2020-01-23',\n",
    " '2020-01-24',\n",
    " '2020-01-27',\n",
    " '2020-01-28',\n",
    " '2020-01-29']"
   ]
  },
  {
   "cell_type": "code",
   "execution_count": 2,
   "metadata": {},
   "outputs": [],
   "source": [
    "DATE_DEZ = ['2019-12-02',\n",
    " '2019-12-03',\n",
    " '2019-12-04',\n",
    " '2019-12-05',\n",
    " '2019-12-06',\n",
    " '2019-12-09',\n",
    " '2019-12-10',\n",
    " '2019-12-11',\n",
    " '2019-12-12',\n",
    " '2019-12-13',\n",
    " '2019-12-16',\n",
    " '2019-12-17',\n",
    " '2019-12-18',\n",
    " '2019-12-19',\n",
    " '2019-12-20',\n",
    " '2019-12-23',\n",
    " '2019-12-26',\n",
    " '2019-12-27', \n",
    " '2019-12-30']"
   ]
  },
  {
   "cell_type": "code",
   "execution_count": 5,
   "metadata": {},
   "outputs": [
    {
     "name": "stdout",
     "output_type": "stream",
     "text": [
      "2019-12-30\n",
      "[ MARKET DATA ] Valor diferente de 0 depois do termino dos níveis - Error in DOLG20. i: 2901999\n",
      "\n",
      "\n"
     ]
    }
   ],
   "source": [
    "blueprint = {'symbols' : ['DOLG20',\n",
    "                        'WDOG20'],\n",
    "            'date' : '2020-01-30',\n",
    "            'local_sim' : False,\n",
    "            'dont_start' : False,\n",
    "            'log' : False,\n",
    "            'log_period' : 500}\n",
    "\n",
    "test = Tester(blueprint)\n",
    "print(date_)\n",
    "test.tests()\n",
    "print('\\n')"
   ]
  },
  {
   "cell_type": "code",
   "execution_count": 27,
   "metadata": {},
   "outputs": [
    {
     "data": {
      "text/plain": [
       "array([   0. ,    0. , 4331.5,    0. ,    0. ,    0. ,    0. ,    0. ,\n",
       "          0. ,    0. ,    0. ,    0. ,    0. ,    0. ,    0. ,    0. ,\n",
       "          0. ,    0. ,    0. ,    0. ,    0. ,    0. ,    0. ,    0. ,\n",
       "          0. ,    0. ,    0. ,    0. ,    0. ,    0. ,    0. ,    0. ,\n",
       "          0. ,    0. ,    0. ,    0. ,    0. ,    0. ,    0. ,    0. ,\n",
       "          0. ,    0. ,    0. ,    0. ,    0. ,    0. ,    0. ,    0. ,\n",
       "          0. ,    0. ,    0. ,    0. ,    0. ,    0. ,    0. ,    0. ,\n",
       "          0. ,    0. ,    0. ,    0. ,    0. ,    0. ,    0. ,    0. ,\n",
       "          0. ,    0. ,    0. ,    0. ,    0. ,    0. ,    0. ,    0. ,\n",
       "          0. ,    0. ,    0. ,    0. ,    0. ,    0. ,    0. ,    0. ,\n",
       "          0. ,    0. ,    0. ,    0. ,    0. ,    0. ,    0. ,    0. ,\n",
       "          0. ,    0. ,    0. ,    0. ,    0. ,    0. ,    0. ,    0. ,\n",
       "          0. ,    0. ,    0. ,    0. ,    0. ,    0. ,    0. ,    0. ,\n",
       "          0. ,    0. ,    0. ,    0. ,    0. ,    0. ,    0. ,    0. ,\n",
       "          0. ,    0. ,    0. ,    0. ,    0. ,    0. ,    0. ,    0. ,\n",
       "          0. ,    0. ,    0. ,    0. ,    0. ,    0. ,    0. ,    0. ,\n",
       "          0. ,    0. ,    0. ,    0. ,    0. ,    0. ,    0. ,    0. ,\n",
       "          0. ,    0. ,    0. ,    0. ,    0. ,    0. ,    0. ,    0. ,\n",
       "          0. ,    0. ,    0. ,    0. ,    0. ,    0. ,    0. ,    0. ,\n",
       "          0. ,    0. ,    0. ,    0. ,    0. ,    0. ,    0. ,    0. ,\n",
       "          0. ,    0. ,    0. ,    0. ,    0. ,    0. ,    0. ,    0. ,\n",
       "          0. ])"
      ]
     },
     "execution_count": 27,
     "metadata": {},
     "output_type": "execute_result"
    }
   ],
   "source": [
    "test.md.book['DOLG20'][1][:, 0][1060:]"
   ]
  },
  {
   "cell_type": "code",
   "execution_count": 15,
   "metadata": {},
   "outputs": [
    {
     "data": {
      "text/plain": [
       "(array([ 799,  800,  801,  802,  803,  804,  805,  806,  807,  808,  809,\n",
       "         810,  811,  812,  813,  814,  815,  816,  817,  818,  819,  820,\n",
       "         821,  822,  823,  824,  825,  826,  827,  828,  829,  830,  831,\n",
       "         832,  833,  834,  835,  836,  837,  838,  839,  840,  841,  842,\n",
       "         843,  844,  845,  846,  847,  848,  849,  850,  851,  852,  853,\n",
       "         854,  855,  856,  857,  858,  859,  860,  861,  862,  863,  864,\n",
       "         865,  866,  867,  868,  869,  870,  871,  872,  873,  874,  875,\n",
       "         876,  877,  878,  879,  880,  881,  882,  883,  884,  885,  886,\n",
       "         887,  888,  889,  890,  891,  892,  893,  894,  895,  896,  897,\n",
       "         898,  899,  900,  901,  902,  903,  904,  905,  906,  907,  908,\n",
       "         909,  910,  911,  912,  913,  914,  915,  916,  917,  918,  919,\n",
       "         920,  921,  922,  923,  924,  925,  926,  927,  928,  929,  930,\n",
       "         931,  932,  933,  934,  935,  936,  937,  938,  939,  940,  941,\n",
       "         942,  943,  944,  945,  946,  947,  948,  949,  950,  951,  952,\n",
       "         953,  954,  955,  956,  957,  958,  959,  960,  961,  962,  963,\n",
       "         964,  965,  966,  967,  968,  969,  970,  971,  972,  973,  974,\n",
       "         975,  976,  977,  978,  979,  980,  981,  982,  983,  984,  985,\n",
       "         986,  987,  988,  989,  990,  991,  992,  993,  994,  995,  996,\n",
       "         997,  998,  999, 1000, 1001, 1002, 1003, 1004, 1005, 1006, 1007,\n",
       "        1008, 1009, 1010, 1011, 1012, 1013, 1014, 1015, 1016, 1017, 1018,\n",
       "        1019, 1020, 1021, 1022, 1023, 1024, 1025, 1026, 1027, 1028, 1029,\n",
       "        1030, 1031, 1032, 1033, 1034, 1035, 1036, 1037, 1038, 1039, 1040,\n",
       "        1041, 1042, 1043, 1044, 1045, 1046, 1047, 1048, 1049, 1050, 1051,\n",
       "        1052, 1053, 1054, 1055, 1056, 1057, 1058, 1059, 1060, 1061, 1062,\n",
       "        1063, 1064, 1065, 1066, 1067, 1068, 1069, 1070, 1071, 1072, 1073,\n",
       "        1074, 1075, 1076, 1077, 1078, 1079, 1080, 1081, 1082, 1083, 1084,\n",
       "        1085, 1086, 1087, 1088, 1089, 1090, 1091, 1092, 1093, 1094, 1095,\n",
       "        1096, 1097, 1098, 1099, 1100, 1101, 1102, 1103, 1104, 1105, 1106,\n",
       "        1107, 1108, 1109, 1110, 1111, 1112, 1113, 1114, 1115, 1116, 1117,\n",
       "        1118, 1119, 1120, 1121, 1122, 1123, 1124, 1125, 1126, 1127, 1128,\n",
       "        1129, 1130, 1131, 1132, 1133, 1134, 1135, 1136, 1137, 1138, 1139,\n",
       "        1140, 1141, 1142, 1143, 1144, 1145, 1146, 1147, 1148, 1149, 1150,\n",
       "        1151, 1152, 1153, 1154, 1155, 1156, 1157, 1158, 1159, 1160, 1161,\n",
       "        1162, 1163, 1164, 1165, 1166, 1167, 1168, 1169, 1170, 1171, 1172,\n",
       "        1173, 1174, 1175, 1176, 1177, 1178, 1179, 1180, 1181, 1182, 1183,\n",
       "        1184, 1185, 1186, 1187, 1188, 1189, 1190, 1191, 1192, 1193, 1194,\n",
       "        1195, 1196, 1197, 1198, 1199, 1200, 1201, 1202, 1203, 1204, 1205,\n",
       "        1206, 1207, 1208, 1209, 1210, 1211, 1212, 1213, 1214, 1215, 1216,\n",
       "        1217, 1218, 1219, 1220, 1221, 1222, 1223, 1224, 1225, 1226, 1227,\n",
       "        1228, 1229, 1230, 1231, 1232, 1233, 1234, 1235, 1236, 1237, 1238,\n",
       "        1239, 1240, 1241, 1242, 1243, 1244, 1245, 1246, 1247, 1248, 1249,\n",
       "        1250, 1251, 1252, 1253, 1254, 1255, 1256]),)"
      ]
     },
     "execution_count": 15,
     "metadata": {},
     "output_type": "execute_result"
    }
   ],
   "source": [
    "np.where(test.md.book['DOLG20'][0][:, 0] == 0)"
   ]
  },
  {
   "cell_type": "code",
   "execution_count": null,
   "metadata": {},
   "outputs": [],
   "source": []
  }
 ],
 "metadata": {
  "kernelspec": {
   "display_name": "Python 3",
   "language": "python",
   "name": "python3"
  },
  "language_info": {
   "codemirror_mode": {
    "name": "ipython",
    "version": 3
   },
   "file_extension": ".py",
   "mimetype": "text/x-python",
   "name": "python",
   "nbconvert_exporter": "python",
   "pygments_lexer": "ipython3",
   "version": "3.6.8"
  }
 },
 "nbformat": 4,
 "nbformat_minor": 4
}
