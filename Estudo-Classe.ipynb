{
 "cells": [
  {
   "cell_type": "code",
   "execution_count": 1,
   "metadata": {},
   "outputs": [],
   "source": [
    "import asimov_database as ad\n",
    "import numpy as np\n",
    "import pandas as pd\n",
    "import matplotlib.pyplot as plt\n",
    "\n",
    "pr = ad.ParquetReader()\n",
    "\n",
    "\n",
    "\n",
    "class Causality:\n",
    "    def __init__(self, dol, wdo, date):\n",
    "        self.date = date\n",
    "        self.dol = dol\n",
    "        self.wdo = wdo\n",
    "    \n",
    "    def _files(self):\n",
    "\n",
    "        #Carrega e Trata os arquivos\n",
    "        level_data = pr.get_parquet(self.dol, self.date, \"level-book\")\n",
    "        self.events = pr.get_parquet(self.dol, self.date, \"events\")[\"incremental\"].read().to_pandas()\n",
    "        snap = pr.get_parquet(self.dol, self.date, \"events\")[\"snapshot\"].read().to_pandas()\n",
    "\n",
    "        level_data_wdo = pr.get_parquet(self.wdo, self.date, \"level-book\")\n",
    "        self.events_wdo = pr.get_parquet(self.wdo, self.date, \"events\")[\"incremental\"].read().to_pandas()\n",
    "        snap_wdo = pr.get_parquet(self.wdo, self.date, \"events\")[\"snapshot\"].read().to_pandas()\n",
    "\n",
    "        bid_price = level_data[\"bid_price\"].read().to_pandas()\n",
    "        bid_quantity = level_data[\"bid_quantity\"].read().to_pandas()\n",
    "        bid_inc_code = level_data[\"bid_inc_code\"].read().to_pandas()\n",
    "\n",
    "        ask_price = level_data[\"ask_price\"].read().to_pandas()\n",
    "        ask_quantity = level_data[\"ask_quantity\"].read().to_pandas()\n",
    "        ask_inc_code = level_data[\"ask_inc_code\"].read().to_pandas()\n",
    "\n",
    "        bid_price_wdo= level_data_wdo[\"bid_price\"].read().to_pandas()\n",
    "        bid_quantity_wdo = level_data_wdo[\"bid_quantity\"].read().to_pandas()\n",
    "        bid_inc_code_wdo = level_data_wdo[\"bid_inc_code\"].read().to_pandas()\n",
    "\n",
    "        ask_price_wdo = level_data_wdo[\"ask_price\"].read().to_pandas()\n",
    "        ask_quantity_wdo = level_data_wdo[\"ask_quantity\"].read().to_pandas()\n",
    "        ask_inc_code_wdo = level_data_wdo[\"ask_inc_code\"].read().to_pandas()\n",
    "\n",
    "        bid_wdo = bid_price_wdo[[\"bid_0\"]].copy()\n",
    "        bid_quantity_wdo.columns = [\"bid_quantity_wdo_{}\".format(i) for i in range(bid_quantity_wdo.shape[1])]\n",
    "        bid_wdo[\"bid_quantity_wdo_0\"] = bid_quantity_wdo[\"bid_quantity_wdo_0\"]\n",
    "        bid_wdo[\"i_bid_wdo\"] = bid_inc_code_wdo[0]#.apply(lambda x: \"B_\" + str(x))\n",
    "        bid_wdo.rename({'bid_0' : 'bid_wdo_0'}, axis = 1, inplace = True )\n",
    "\n",
    "        bid = bid_price[[\"bid_0\"]].copy()\n",
    "        bid_quantity.columns = [\"bid_quantity_{}\".format(i) for i in range(bid_quantity.shape[1])]\n",
    "        bid[\"bid_quantity_0\"] = bid_quantity[\"bid_quantity_0\"]\n",
    "        bid[\"i_bid\"] = bid_inc_code[0]\n",
    "\n",
    "        ask = ask_price[[\"ask_0\"]].copy()\n",
    "        ask_quantity.columns = [\"ask_quantity_{}\".format(i) for i in range(ask_quantity.shape[1])]\n",
    "        ask[\"ask_quantity_0\"] = ask_quantity[\"ask_quantity_0\"]\n",
    "        ask[\"i_ask\"] =ask_inc_code[0]#.apply(lambda x: \"A_\" + str(x))\n",
    "\n",
    "        ask_wdo = ask_price_wdo[[\"ask_0\"]].copy()\n",
    "\n",
    "        ask_wdo.rename({'ask_0':'ask_wdo_0'}, axis = 1, inplace= True)\n",
    "\n",
    "        ask_quantity_wdo.columns = [\"ask_quantity_wdo_{}\".format(i) for i in range(ask_quantity_wdo.shape[1])]\n",
    "        ask_wdo[\"ask_quantity_wdo_0\"] = ask_quantity_wdo[\"ask_quantity_wdo_0\"]\n",
    "        ask_wdo[\"i_ask_wdo\"] =ask_inc_code_wdo[0]\n",
    "\n",
    "        self.events.reset_index(inplace=True)\n",
    "        self.events_wdo.reset_index(inplace=True)\n",
    "\n",
    "        #Procura por atualizações provenientes da bolsa e retira da versão final\n",
    "        valor_dol = np.setdiff1d(self.events['i'].values, bid_inc_code[0].values)\n",
    "        valor_dol   \n",
    "\n",
    "        retira_dol = np.setdiff1d(valor_dol,ask_inc_code[0].values)\n",
    "        retira_dol\n",
    "\n",
    "        valor_wdo_ask = np.setdiff1d(self.events_wdo['i'].values, bid_inc_code_wdo[0].values)\n",
    "        valor_wdo_ask\n",
    "\n",
    "        retira_wdo_ask = np.setdiff1d(valor_wdo_ask,ask_inc_code_wdo[0].values)\n",
    "        retira_wdo_ask\n",
    "\n",
    "        valor_wdo_bid = np.setdiff1d(self.events_wdo['i'].values, ask_inc_code_wdo[0].values)\n",
    "        valor_wdo_bid\n",
    "\n",
    "        retira_wdo_bid = np.setdiff1d(valor_wdo_bid, bid_inc_code_wdo[0].values)\n",
    "        retira_wdo_bid\n",
    "\n",
    "        if len(retira_dol) != 0:\n",
    "            for i in retira_dol:\n",
    "                self.events = self.events[self.events['i'] != i]\n",
    "\n",
    "\n",
    "        if len(retira_wdo_bid) != 0:\n",
    "            for i in retira_wdo_bid:\n",
    "                self.events_wdo = self.events_wdo[self.events_wdo['i'] != i]\n",
    "        \n",
    "        #Cria os arquivos de bid e ask\n",
    "        bid[\"msg_seq_num\"] = self.events[self.events[\"side\"] != \"A\"][\"msg_seq_num\"].values\n",
    "        ask[\"msg_seq_num\"] = self.events[self.events[\"side\"] != \"B\"][\"msg_seq_num\"].values\n",
    "        bid_wdo[\"msg_seq_num\"] = self.events_wdo[self.events_wdo[\"side\"] != \"A\"][\"msg_seq_num\"].values\n",
    "        ask_wdo[\"msg_seq_num\"] = self.events_wdo[self.events_wdo[\"side\"] != \"B\"][\"msg_seq_num\"].values\n",
    "\n",
    "        #Cria a versao final ja preenchendo os espacos vazios com os correspondentes valores\n",
    "        df = pd.concat([ask, bid]).sort_values(by='msg_seq_num', kind = 'mergesort').reset_index()\n",
    "        dl = pd.concat([ask_wdo, bid_wdo]).sort_values(by='msg_seq_num', kind = 'mergesort').reset_index()\n",
    "\n",
    "        df['symbol'] = 'DOL'\n",
    "        dl['symbol'] = 'WDO'\n",
    "        df.ffill(inplace=True)\n",
    "        df.dropna(inplace=True)\n",
    "        dl.ffill(inplace=True)\n",
    "        dl.dropna(inplace=True)\n",
    "        \n",
    "        total = pd.concat([df, dl]).sort_values(by='msg_seq_num', kind = 'mergesort').reset_index()\n",
    "\n",
    "        total.ffill(inplace=True)\n",
    "        total.dropna(inplace=True)\n",
    "\n",
    "        total_ = total[['index','msg_seq_num', 'ask_0', 'ask_quantity_0', 'bid_0', 'bid_quantity_0', 'ask_wdo_0', 'ask_quantity_wdo_0', 'bid_wdo_0', 'bid_quantity_wdo_0']][ (total['ask_0'] != 0) & (total['bid_0'] != 0)]\n",
    "\n",
    "        total_['spread_dol'] = total['ask_0'] - total['bid_0']\n",
    "        total_['spread_wdo'] = total['ask_wdo_0'] - total['bid_wdo_0']\n",
    "        \n",
    "        #Procura pelo primeiro momento de mercado estável\n",
    "        begin = np.where( (total_['spread_wdo'] == 0.5) & (total_['spread_dol'] == 0.5) & (total_['ask_0'] == total_['ask_wdo_0']) & (total_['bid_0'] == total_['bid_wdo_0']))[0][0]\n",
    "\n",
    "        total_.rename({'index' : 'timestamp'}, axis = 1, inplace = True)\n",
    "        \n",
    "        # Inicia análise no primeiro momento de estabilidade\n",
    "        slice_ = total_.loc[begin:]\n",
    "\n",
    "        #Calcula mid price\n",
    "        slice_['mid_price'] = (slice_['ask_0'] + slice_['bid_0'])/2.0\n",
    "        slice_['mid_price_wdo'] = (slice_['ask_wdo_0'] + slice_['bid_wdo_0'])/2.0\n",
    "\n",
    "        #Filtras msg_seq_number e observa apenas o ultimo evento ocorrido\n",
    "        slice_['repeat'] = False\n",
    "        slice_['repeat'][slice_['msg_seq_num'] != slice_['msg_seq_num'].shift(-1)] = True\n",
    "        slice_  = slice_[slice_['repeat']]\n",
    "        slice_ = slice_.drop(['repeat'], axis =1).reset_index()\n",
    "        \n",
    "        #Procura primeiro instante de spread aberto\n",
    "        index_ = np.where( (slice_['spread_dol'] != 0.5) | (slice_['spread_wdo'] != 0.5) )[0]\n",
    "\n",
    "        #Procura as posicoes no vetor anterior, onde os momento de spread aberto nao sao consecutivos\n",
    "        position = np.where(np.diff(np.where( (slice_['spread_dol'] != 0.5) | (slice_['spread_wdo'] != 0.5) )) != 1)[1] +1\n",
    "\n",
    "        #Procura os indices que no dataframe correspondem ao primeiro momento dos eventos de instabilidade\n",
    "        A = []\n",
    "        for i in position:\n",
    "            A.append(index_[i])\n",
    "\n",
    "        ############################################################\n",
    "        #Cria um dict com o evento de distorçao e o evento anterior\n",
    "        frame = pd.DataFrame()\n",
    "        dict_ = {}\n",
    "        j=0\n",
    "        for i in A:\n",
    "            dict_[j] = frame.append(slice_.loc[i-1:i])\n",
    "            j+=1\n",
    "\n",
    "        dict_aux ={}\n",
    "        for i in dict_.keys():\n",
    "            dict_aux[i] = dict_[i].diff()\n",
    "\n",
    "        for i in dict_.keys():\n",
    "            dict_aux[i]['spread_dol'] = dict_[i]['spread_dol']\n",
    "            dict_aux[i]['spread_wdo'] = dict_[i]['spread_wdo']  \n",
    "            dict_aux[i]['msg_seq_num'] = dict_[i]['msg_seq_num']\n",
    "            \n",
    "        #########################################################\n",
    "\n",
    "        # distortion = pd.concat(dict_).reset_index()\n",
    "\n",
    "        # mover = distortion.dropna()[['ask_0', 'bid_0', 'ask_wdo_0', 'bid_wdo_0' ]]\n",
    "        # mover[mover['ask_0'] != 0].count()\n",
    "        # mover[mover['bid_0'] != 0].count()\n",
    "        # mover[mover['ask_wdo_0'] != 0].count()\n",
    "        # mover[mover['bid_wdo_0'] != 0].count()\n",
    "        \n",
    "        ############################################################\n",
    "        #Cria um dict com o evento de distorçao e o evento anterior\n",
    "        #Cria um dict com o evento de distorçao e 300 eventos posteriores e o evento anterior\n",
    "#         frame_next = pd.DataFrame()\n",
    "#         dict_next = {}\n",
    "#         j=0\n",
    "#         for i in A:\n",
    "#             dict_next[j] = frame_next.append(slice_.loc[i-1:i+300])\n",
    "#             j+=1\n",
    "\n",
    "#         dict_next_aux = {}\n",
    "#         for i in dict_next.keys():\n",
    "#             dict_next_aux[i] = dict_next[i].diff()\n",
    "#         #########################################################\n",
    "\n",
    "#         for i in dict_next.keys():\n",
    "#             dict_next_aux[i]['spread_dol'] = dict_next[i]['spread_dol']\n",
    "#             dict_next_aux[i]['spread_wdo'] = dict_next[i]['spread_wdo']   \n",
    "\n",
    "#         return dict_next_aux\n",
    "        return dict_aux\n",
    "\n",
    "        # distortion_next = pd.concat(dict_next_aux).reset_index()\n",
    "\n",
    "    # Cria novas colunas do dataframe com valores que correspondem ao trend do movimento\n",
    "    def func(self, dataframe):\n",
    "        dataframe['movement_dol'] = [-1 if x < 0 else 0 if x == 0 else 1 for x in dataframe['mid_price']]\n",
    "        dataframe['movement_wdo'] = [-1 if x < 0 else 0 if x == 0 else 1 for x in dataframe['mid_price_wdo']]\n",
    "#         # dataframe = self._files()\n",
    "#         dataframe.loc[dataframe['mid_price'] < 0, 'movement_dol'] = -1\n",
    "#         dataframe.loc[dataframe['mid_price']  == 0, 'movement_dol'] = 0\n",
    "#         dataframe.loc[dataframe['mid_price']  > 0, 'movement_dol'] = 1\n",
    "#         dataframe.loc[dataframe['mid_price_wdo'] < 0, 'movement_wdo'] = -1\n",
    "#         dataframe.loc[dataframe['mid_price_wdo']  == 0, 'movement_wdo'] = 0\n",
    "#         dataframe.loc[dataframe['mid_price_wdo']  > 0, 'movement_wdo'] = 1\n",
    "        return dataframe \n",
    "\n",
    "    def organiza(self):\n",
    "\n",
    "        dict_next_aux = self._files()\n",
    "        \n",
    "        # Aplica a funcao anterior ao dataframe\n",
    "        df = {}\n",
    "        for i in dict_next_aux.keys():\n",
    "            df[i] = self.func(dict_next_aux[i])[['movement_dol', 'movement_wdo',  'mid_price', 'mid_price_wdo', 'msg_seq_num']].dropna()\n",
    "        \n",
    "#         for i in dict_next_aux.keys():\n",
    "#             df[i].dropna(inplace = True)\n",
    "\n",
    "        # Procura no dict de dataframes o primeiro momento onde todos os comportamentos ocorrem no evento de distorçao \n",
    "        for i in df.keys():\n",
    "            if (len(np.where(df[i]['movement_wdo'] == 1)[0]) != 0)  and (len(np.where(df[i]['movement_wdo'] == -1)[0]) != 0) and (len(np.where(df[i]['movement_dol'] == 1)[0]) != 0) and (len(np.where(df[i]['movement_dol'] == -1)[0]) != 0):\n",
    "                break\n",
    "        \n",
    "        a = i\n",
    "        return df, a\n",
    "\n",
    "    def operacoes(self): \n",
    "        \n",
    "        df, begin_ = self.organiza()\n",
    "        self.aux_dol = 0\n",
    "        self.aux_wdo = 0\n",
    "        self.follow_up  = 0\n",
    "        self.not_follow_up = 0\n",
    "        self.follow_down = 0\n",
    "        self.not_follow_down = 0\n",
    "        self.follow_up_wdo  = 0\n",
    "        self.not_follow_up_wdo = 0\n",
    "        self.follow_down_wdo = 0\n",
    "        self.not_follow_down_wdo = 0\n",
    "#         self.cum_sum_wdo_WDO = {}\n",
    "#         self.cum_sum_dol_WDO = {}\n",
    "#         self.cum_sum_wdo_DOL = {}\n",
    "#         self.cum_sum_dol_DOL = {}\n",
    "\n",
    "        ###Inicia do primeiro momento nao vazio, ate o final do dict\n",
    "        for i in range(begin_,max(df.keys())):\n",
    "#             self.cum_sum_wdo_WDO[i] = {}\n",
    "#             self.cum_sum_dol_WDO[i] = {}\n",
    "#             self.cum_sum_wdo_DOL[i] = {}\n",
    "#             self.cum_sum_dol_DOL[i] = {}\n",
    "            df[i].reset_index(inplace=True) #Reinicia index para fazer slice\n",
    "            for j in range(max(len(np.where(df[i]['movement_wdo'] == 1)[0]), len(np.where(df[i]['movement_wdo'] == -1)[0]), len(np.where(df[i]['movement_dol'] == 1)[0]), len(np.where(df[i]['movement_dol'] == -1)[0]))):\n",
    "                a_ = np.where(df[i]['movement_wdo'] == 1)[0]\n",
    "                b_ = np.where(df[i]['movement_wdo'] == -1)[0]\n",
    "                c_ = np.where(df[i]['movement_dol'] == 1)[0]\n",
    "                d_ = np.where(df[i]['movement_dol'] == -1)[0]\n",
    "                if (len(a_) != 0)  and (len(b_) != 0) and (len(c_) != 0) and (len(d_) != 0):\n",
    "                    ## Checa para ver se o WDO foi responsavel pelo primeiro movimento \n",
    "                    if min(a_[0], b_[0]) <  min(c_[0], d_[0]):\n",
    "                        self.aux_wdo+=1\n",
    "                        ## Checa para ver se o primeiro movimento foi up ou down \n",
    "                        if a_[0] < b_[0]:\n",
    "                            steps = b_[0] # Determina o tamanho do slice no DataFrame\n",
    "                            if c_[0] < steps:\n",
    "                                self.follow_up_wdo +=1\n",
    "#                                 self.cum_sum_wdo_WDO[i][j] = df[i]['mid_price_wdo'].loc[a_[0]:steps-1].sum()\n",
    "#                                 self.cum_sum_dol_WDO[i][j] = df[i]['mid_price'].loc[c_[0]:steps-1].sum()\n",
    "                            else:\n",
    "                                self.not_follow_up_wdo +=1  \n",
    "                        else:\n",
    "                            steps = a_[0]\n",
    "                            if d_[0] < steps:\n",
    "                                self.follow_down_wdo +=1\n",
    "#                                 self.cum_sum_wdo_WDO[i][j] = df[i]['mid_price_wdo'].loc[b_[0]:steps-1].sum()\n",
    "#                                 self.cum_sum_dol_WDO[i][j] = df[i]['mid_price'].loc[d_[0]:steps-1].sum()\n",
    "                            else:\n",
    "                                self.not_follow_down_wdo +=1\n",
    "                    else:\n",
    "                        self.aux_dol+=1\n",
    "                        if c_[0] < d_[0]:\n",
    "                            steps = d_[0]\n",
    "                            if a_[0] < steps:\n",
    "                                self.follow_up +=1\n",
    "#                                 self.cum_sum_wdo_DOL[i][j] = df[i]['mid_price_wdo'].loc[a_[0]:steps-1].sum()\n",
    "#                                 self.cum_sum_dol_DOL[i][j] = df[i]['mid_price'].loc[c_[0]:steps-1].sum()\n",
    "                            else:\n",
    "                                self.not_follow_up +=1\n",
    "                        else:\n",
    "                            steps = c_[0]\n",
    "                            if b_[0] < steps:\n",
    "                                self.follow_down +=1\n",
    "#                                 self.cum_sum_wdo_DOL[i][j] = df[i]['mid_price_wdo'].loc[b_[0]:steps-1].sum()\n",
    "#                                 self.cum_sum_dol_DOL[i][j] = df[i]['mid_price'].loc[d_[0]:steps-1].sum()\n",
    "                            else:\n",
    "                                self.not_follow_down +=1\n",
    "\n",
    "                df[i] = df[i].loc[steps:]\n",
    "#                 df[i].dropna(inplace = True)\n",
    "\n",
    "\n",
    "\n"
   ]
  },
  {
   "cell_type": "code",
   "execution_count": 2,
   "metadata": {},
   "outputs": [],
   "source": [
    "def plot():\n",
    "    N = 2\n",
    "    DOL_Following = (e.follow_up_wdo/(e.follow_up_wdo+e.not_follow_up_wdo),  e.follow_up/(e.follow_up+e.not_follow_up))\n",
    "    WDO_Following = (e.follow_down_wdo/(e.follow_down_wdo+e.not_follow_down_wdo), e.follow_down/(e.follow_down+e.not_follow_down))\n",
    "\n",
    "    DOL_FollowingStd = np.std([e.follow_up_wdo/(e.follow_up_wdo+e.not_follow_up_wdo), e.follow_down_wdo/(e.follow_down_wdo+e.not_follow_down_wdo)])\n",
    "\n",
    "    WDO_FollowingStd = np.std([ e.follow_up/(e.follow_up+e.not_follow_up), e.follow_down/(e.follow_down+e.not_follow_down)])\n",
    "    ind = np.arange(N)    # the x locations for the groups\n",
    "    width = 0.35       # the width of the bars: can also be len(x) sequence\n",
    "\n",
    "    p1 = plt.bar(ind, DOL_Following, width,yerr=DOL_FollowingStd )\n",
    "    p2 = plt.bar(ind, WDO_Following, width,\n",
    "                 bottom=DOL_Following, yerr=WDO_FollowingStd)\n",
    "\n",
    "    plt.ylabel('Percentage')\n",
    "    plt.title('Movement Trend')\n",
    "    plt.xticks(ind, ('DOL_Following', 'WDO_Following'))\n",
    "    # plt.yticks(np.arange(0, 81, 10))\n",
    "    plt.legend((p1[0], p2[0]), ('Up', 'Down'))\n",
    "\n",
    "    plt.show()"
   ]
  },
  {
   "cell_type": "code",
   "execution_count": 3,
   "metadata": {},
   "outputs": [],
   "source": [
    "e = Causality(\"DOLG20\", \"WDOG20\", \"2020-01-06\")\n"
   ]
  },
  {
   "cell_type": "code",
   "execution_count": 4,
   "metadata": {},
   "outputs": [
    {
     "name": "stderr",
     "output_type": "stream",
     "text": [
      "/home/asimovws/.local/lib/python3.6/site-packages/ipykernel_launcher.py:105: FutureWarning: Sorting because non-concatenation axis is not aligned. A future version\n",
      "of pandas will change to not sort by default.\n",
      "\n",
      "To accept the future behavior, pass 'sort=False'.\n",
      "\n",
      "To retain the current behavior and silence the warning, pass 'sort=True'.\n",
      "\n",
      "/home/asimovws/.local/lib/python3.6/site-packages/ipykernel_launcher.py:106: FutureWarning: Sorting because non-concatenation axis is not aligned. A future version\n",
      "of pandas will change to not sort by default.\n",
      "\n",
      "To accept the future behavior, pass 'sort=False'.\n",
      "\n",
      "To retain the current behavior and silence the warning, pass 'sort=True'.\n",
      "\n",
      "/home/asimovws/.local/lib/python3.6/site-packages/ipykernel_launcher.py:115: FutureWarning: Sorting because non-concatenation axis is not aligned. A future version\n",
      "of pandas will change to not sort by default.\n",
      "\n",
      "To accept the future behavior, pass 'sort=False'.\n",
      "\n",
      "To retain the current behavior and silence the warning, pass 'sort=True'.\n",
      "\n",
      "/home/asimovws/.local/lib/python3.6/site-packages/ipykernel_launcher.py:134: SettingWithCopyWarning: \n",
      "A value is trying to be set on a copy of a slice from a DataFrame.\n",
      "Try using .loc[row_indexer,col_indexer] = value instead\n",
      "\n",
      "See the caveats in the documentation: http://pandas.pydata.org/pandas-docs/stable/user_guide/indexing.html#returning-a-view-versus-a-copy\n",
      "/home/asimovws/.local/lib/python3.6/site-packages/ipykernel_launcher.py:135: SettingWithCopyWarning: \n",
      "A value is trying to be set on a copy of a slice from a DataFrame.\n",
      "Try using .loc[row_indexer,col_indexer] = value instead\n",
      "\n",
      "See the caveats in the documentation: http://pandas.pydata.org/pandas-docs/stable/user_guide/indexing.html#returning-a-view-versus-a-copy\n",
      "/home/asimovws/.local/lib/python3.6/site-packages/ipykernel_launcher.py:138: SettingWithCopyWarning: \n",
      "A value is trying to be set on a copy of a slice from a DataFrame.\n",
      "Try using .loc[row_indexer,col_indexer] = value instead\n",
      "\n",
      "See the caveats in the documentation: http://pandas.pydata.org/pandas-docs/stable/user_guide/indexing.html#returning-a-view-versus-a-copy\n",
      "/home/asimovws/.local/lib/python3.6/site-packages/ipykernel_launcher.py:139: SettingWithCopyWarning: \n",
      "A value is trying to be set on a copy of a slice from a DataFrame\n",
      "\n",
      "See the caveats in the documentation: http://pandas.pydata.org/pandas-docs/stable/user_guide/indexing.html#returning-a-view-versus-a-copy\n",
      "/home/asimovws/.local/lib/python3.6/site-packages/pandas/core/generic.py:9114: SettingWithCopyWarning: \n",
      "A value is trying to be set on a copy of a slice from a DataFrame\n",
      "\n",
      "See the caveats in the documentation: http://pandas.pydata.org/pandas-docs/stable/user_guide/indexing.html#returning-a-view-versus-a-copy\n",
      "  self._update_inplace(new_data)\n",
      "/home/asimovws/.local/lib/python3.6/site-packages/ipykernel_launcher.py:3: SettingWithCopyWarning: \n",
      "A value is trying to be set on a copy of a slice from a DataFrame\n",
      "\n",
      "See the caveats in the documentation: http://pandas.pydata.org/pandas-docs/stable/user_guide/indexing.html#returning-a-view-versus-a-copy\n",
      "  This is separate from the ipykernel package so we can avoid doing imports until\n"
     ]
    },
    {
     "name": "stdout",
     "output_type": "stream",
     "text": [
      "61.04816246032715\n"
     ]
    }
   ],
   "source": [
    "import time \n",
    "start = time.time()\n",
    "df= e._files()\n",
    "end = time.time()\n",
    "print (end-start)"
   ]
  },
  {
   "cell_type": "code",
   "execution_count": 25,
   "metadata": {},
   "outputs": [
    {
     "data": {
      "text/html": [
       "<div>\n",
       "<style scoped>\n",
       "    .dataframe tbody tr th:only-of-type {\n",
       "        vertical-align: middle;\n",
       "    }\n",
       "\n",
       "    .dataframe tbody tr th {\n",
       "        vertical-align: top;\n",
       "    }\n",
       "\n",
       "    .dataframe thead th {\n",
       "        text-align: right;\n",
       "    }\n",
       "</style>\n",
       "<table border=\"1\" class=\"dataframe\">\n",
       "  <thead>\n",
       "    <tr style=\"text-align: right;\">\n",
       "      <th></th>\n",
       "      <th>index</th>\n",
       "      <th>timestamp</th>\n",
       "      <th>msg_seq_num</th>\n",
       "      <th>ask_0</th>\n",
       "      <th>ask_quantity_0</th>\n",
       "      <th>bid_0</th>\n",
       "      <th>bid_quantity_0</th>\n",
       "      <th>ask_wdo_0</th>\n",
       "      <th>ask_quantity_wdo_0</th>\n",
       "      <th>bid_wdo_0</th>\n",
       "      <th>bid_quantity_wdo_0</th>\n",
       "      <th>spread_dol</th>\n",
       "      <th>spread_wdo</th>\n",
       "      <th>mid_price</th>\n",
       "      <th>mid_price_wdo</th>\n",
       "    </tr>\n",
       "  </thead>\n",
       "  <tbody>\n",
       "    <tr>\n",
       "      <th>18</th>\n",
       "      <td>NaN</td>\n",
       "      <td>NaT</td>\n",
       "      <td>21226</td>\n",
       "      <td>NaN</td>\n",
       "      <td>NaN</td>\n",
       "      <td>NaN</td>\n",
       "      <td>NaN</td>\n",
       "      <td>NaN</td>\n",
       "      <td>NaN</td>\n",
       "      <td>NaN</td>\n",
       "      <td>NaN</td>\n",
       "      <td>0.5</td>\n",
       "      <td>0.5</td>\n",
       "      <td>NaN</td>\n",
       "      <td>NaN</td>\n",
       "    </tr>\n",
       "    <tr>\n",
       "      <th>19</th>\n",
       "      <td>1.0</td>\n",
       "      <td>0 days</td>\n",
       "      <td>21227</td>\n",
       "      <td>0.0</td>\n",
       "      <td>0.0</td>\n",
       "      <td>0.0</td>\n",
       "      <td>0.0</td>\n",
       "      <td>0.0</td>\n",
       "      <td>0.0</td>\n",
       "      <td>-0.5</td>\n",
       "      <td>113.0</td>\n",
       "      <td>0.5</td>\n",
       "      <td>1.0</td>\n",
       "      <td>0.0</td>\n",
       "      <td>-0.25</td>\n",
       "    </tr>\n",
       "  </tbody>\n",
       "</table>\n",
       "</div>"
      ],
      "text/plain": [
       "    index timestamp  msg_seq_num  ask_0  ask_quantity_0  bid_0  \\\n",
       "18    NaN       NaT        21226    NaN             NaN    NaN   \n",
       "19    1.0    0 days        21227    0.0             0.0    0.0   \n",
       "\n",
       "    bid_quantity_0  ask_wdo_0  ask_quantity_wdo_0  bid_wdo_0  \\\n",
       "18             NaN        NaN                 NaN        NaN   \n",
       "19             0.0        0.0                 0.0       -0.5   \n",
       "\n",
       "    bid_quantity_wdo_0  spread_dol  spread_wdo  mid_price  mid_price_wdo  \n",
       "18                 NaN         0.5         0.5        NaN            NaN  \n",
       "19               113.0         0.5         1.0        0.0          -0.25  "
      ]
     },
     "execution_count": 25,
     "metadata": {},
     "output_type": "execute_result"
    }
   ],
   "source": [
    "df[0]"
   ]
  },
  {
   "cell_type": "code",
   "execution_count": 6,
   "metadata": {},
   "outputs": [],
   "source": [
    "#Lista com msg_seq_number do evento anterior a distorção\n",
    "\n",
    "Previ = []\n",
    "for i in df.keys():\n",
    "    a= df[i].values[0][2]\n",
    "    Previ.append(a)"
   ]
  },
  {
   "cell_type": "code",
   "execution_count": 7,
   "metadata": {},
   "outputs": [],
   "source": [
    "#Lista com msg_seq_number de eventos nos quais ocorreram o distorçao\n",
    "Post = []\n",
    "for i in df.keys():\n",
    "    a= df[i].values[1][2]\n",
    "    Post.append(a)"
   ]
  },
  {
   "cell_type": "code",
   "execution_count": 8,
   "metadata": {},
   "outputs": [],
   "source": [
    "dh = pd.concat([e.events_wdo,e.events]).sort_values(by='msg_seq_num', kind = 'mergesort').reset_index()\n"
   ]
  },
  {
   "cell_type": "code",
   "execution_count": 9,
   "metadata": {},
   "outputs": [
    {
     "name": "stderr",
     "output_type": "stream",
     "text": [
      "/home/asimovws/.local/lib/python3.6/site-packages/ipykernel_launcher.py:2: SettingWithCopyWarning: \n",
      "A value is trying to be set on a copy of a slice from a DataFrame\n",
      "\n",
      "See the caveats in the documentation: http://pandas.pydata.org/pandas-docs/stable/user_guide/indexing.html#returning-a-view-versus-a-copy\n",
      "  \n"
     ]
    }
   ],
   "source": [
    "dh['repeat'] = False\n",
    "dh['repeat'][dh['msg_seq_num'] != dh['msg_seq_num'].shift(-1)] = True"
   ]
  },
  {
   "cell_type": "code",
   "execution_count": 10,
   "metadata": {},
   "outputs": [],
   "source": [
    "dh  = dh[dh['repeat']].reset_index()"
   ]
  },
  {
   "cell_type": "code",
   "execution_count": 46,
   "metadata": {},
   "outputs": [
    {
     "data": {
      "text/plain": [
       "WDOG20    7949\n",
       "DOLG20    5014\n",
       "Name: symbol, dtype: int64"
      ]
     },
     "execution_count": 46,
     "metadata": {},
     "output_type": "execute_result"
    }
   ],
   "source": [
    "dh['symbol'][dh['msg_seq_num'].isin(Post)].value_counts()\n"
   ]
  },
  {
   "cell_type": "code",
   "execution_count": 30,
   "metadata": {},
   "outputs": [
    {
     "data": {
      "text/plain": [
       "False"
      ]
     },
     "execution_count": 30,
     "metadata": {},
     "output_type": "execute_result"
    }
   ],
   "source": [
    "#Check if there are any duplicats in a given column\n",
    "boolean = dh['msg_seq_num'].duplicated().any() \n",
    "boolean\n"
   ]
  },
  {
   "cell_type": "code",
   "execution_count": 16,
   "metadata": {},
   "outputs": [],
   "source": [
    "#Checa os tipos de eventos logo antes a distorção\n",
    "event_type = []\n",
    "for i in Previ:\n",
    "    event_type.append(dh['event_type'][dh['msg_seq_num'] == i].values[0])"
   ]
  },
  {
   "cell_type": "code",
   "execution_count": 17,
   "metadata": {},
   "outputs": [],
   "source": [
    "#Checa os tipos de eventos no momento da distorção\n",
    "event_type_P = []\n",
    "for i in Post:\n",
    "    event_type_P.append(dh['event_type'][dh['msg_seq_num'] == i].values[0])\n",
    "\n",
    "# dh[dh['msg_seq_num'].isin(Post)]['event_type'].value_counts()\n",
    "\n"
   ]
  },
  {
   "cell_type": "code",
   "execution_count": 18,
   "metadata": {},
   "outputs": [
    {
     "data": {
      "text/plain": [
       "DELETE         6109\n",
       "DELETE_FROM    4181\n",
       "CHANGE          188\n",
       "INSERT           35\n",
       "Name: event_type, dtype: int64"
      ]
     },
     "execution_count": 18,
     "metadata": {},
     "output_type": "execute_result"
    }
   ],
   "source": [
    "dh[dh['msg_seq_num'].isin(Post)]['event_type'].value_counts()"
   ]
  },
  {
   "cell_type": "code",
   "execution_count": 19,
   "metadata": {},
   "outputs": [
    {
     "data": {
      "text/plain": [
       "Counter({'DELETE': 4212, 'INSERT': 4570, 'CHANGE': 1538, 'DELETE_FROM': 193})"
      ]
     },
     "execution_count": 19,
     "metadata": {},
     "output_type": "execute_result"
    }
   ],
   "source": [
    "from collections import Counter\n",
    "Counter(event_type)"
   ]
  },
  {
   "cell_type": "code",
   "execution_count": 20,
   "metadata": {},
   "outputs": [
    {
     "data": {
      "text/plain": [
       "Counter({'INSERT': 35, 'DELETE': 6109, 'DELETE_FROM': 4181, 'CHANGE': 188})"
      ]
     },
     "execution_count": 20,
     "metadata": {},
     "output_type": "execute_result"
    }
   ],
   "source": [
    "Counter(event_type_P)"
   ]
  },
  {
   "cell_type": "code",
   "execution_count": 11,
   "metadata": {},
   "outputs": [],
   "source": [
    "trades = pr.get_parquet(symbol='DOLG20',\n",
    "                            date='2020-01-06',\n",
    "                            type_='trades')\n",
    "md_trades = trades.read().to_pandas()"
   ]
  },
  {
   "cell_type": "code",
   "execution_count": 12,
   "metadata": {},
   "outputs": [],
   "source": [
    "trades_wdo = pr.get_parquet(symbol='WDOG20',\n",
    "                            date='2020-01-06',\n",
    "                            type_='trades')\n",
    "md_trades_wdo = trades_wdo.read().to_pandas()"
   ]
  },
  {
   "cell_type": "code",
   "execution_count": 13,
   "metadata": {},
   "outputs": [],
   "source": [
    "all_trades =  pd.concat([md_trades,md_trades_wdo]).sort_values(by='msg_seq_num', kind = 'mergesort').reset_index()"
   ]
  },
  {
   "cell_type": "code",
   "execution_count": 14,
   "metadata": {},
   "outputs": [
    {
     "data": {
      "text/html": [
       "<div>\n",
       "<style scoped>\n",
       "    .dataframe tbody tr th:only-of-type {\n",
       "        vertical-align: middle;\n",
       "    }\n",
       "\n",
       "    .dataframe tbody tr th {\n",
       "        vertical-align: top;\n",
       "    }\n",
       "\n",
       "    .dataframe thead th {\n",
       "        text-align: right;\n",
       "    }\n",
       "</style>\n",
       "<table border=\"1\" class=\"dataframe\">\n",
       "  <thead>\n",
       "    <tr style=\"text-align: right;\">\n",
       "      <th></th>\n",
       "      <th>ts</th>\n",
       "      <th>msg_seq_num</th>\n",
       "      <th>symbol</th>\n",
       "      <th>trade_id</th>\n",
       "      <th>price</th>\n",
       "      <th>quantity</th>\n",
       "      <th>trade_ts</th>\n",
       "      <th>buyer</th>\n",
       "      <th>seller</th>\n",
       "      <th>crossed</th>\n",
       "      <th>deleted</th>\n",
       "    </tr>\n",
       "  </thead>\n",
       "  <tbody>\n",
       "    <tr>\n",
       "      <th>0</th>\n",
       "      <td>2020-01-06 12:00:35.881000+00:00</td>\n",
       "      <td>15620</td>\n",
       "      <td>WDOG20</td>\n",
       "      <td>10</td>\n",
       "      <td>4062.0</td>\n",
       "      <td>10.0</td>\n",
       "      <td>12:00:35.878000</td>\n",
       "      <td>308</td>\n",
       "      <td>107</td>\n",
       "      <td>False</td>\n",
       "      <td>None</td>\n",
       "    </tr>\n",
       "    <tr>\n",
       "      <th>1</th>\n",
       "      <td>2020-01-06 12:00:35.881000+00:00</td>\n",
       "      <td>15620</td>\n",
       "      <td>WDOG20</td>\n",
       "      <td>20</td>\n",
       "      <td>4062.0</td>\n",
       "      <td>15.0</td>\n",
       "      <td>12:00:35.878000</td>\n",
       "      <td>3</td>\n",
       "      <td>107</td>\n",
       "      <td>False</td>\n",
       "      <td>None</td>\n",
       "    </tr>\n",
       "    <tr>\n",
       "      <th>2</th>\n",
       "      <td>2020-01-06 12:00:35.881000+00:00</td>\n",
       "      <td>15620</td>\n",
       "      <td>WDOG20</td>\n",
       "      <td>30</td>\n",
       "      <td>4062.0</td>\n",
       "      <td>1.0</td>\n",
       "      <td>12:00:35.878000</td>\n",
       "      <td>3</td>\n",
       "      <td>3701</td>\n",
       "      <td>False</td>\n",
       "      <td>None</td>\n",
       "    </tr>\n",
       "    <tr>\n",
       "      <th>3</th>\n",
       "      <td>2020-01-06 12:00:35.881000+00:00</td>\n",
       "      <td>15620</td>\n",
       "      <td>WDOG20</td>\n",
       "      <td>40</td>\n",
       "      <td>4062.0</td>\n",
       "      <td>10.0</td>\n",
       "      <td>12:00:35.878000</td>\n",
       "      <td>386</td>\n",
       "      <td>3701</td>\n",
       "      <td>False</td>\n",
       "      <td>None</td>\n",
       "    </tr>\n",
       "    <tr>\n",
       "      <th>4</th>\n",
       "      <td>2020-01-06 12:00:35.881000+00:00</td>\n",
       "      <td>15620</td>\n",
       "      <td>WDOG20</td>\n",
       "      <td>50</td>\n",
       "      <td>4062.0</td>\n",
       "      <td>1.0</td>\n",
       "      <td>12:00:35.878000</td>\n",
       "      <td>1982</td>\n",
       "      <td>3701</td>\n",
       "      <td>False</td>\n",
       "      <td>None</td>\n",
       "    </tr>\n",
       "    <tr>\n",
       "      <th>...</th>\n",
       "      <td>...</td>\n",
       "      <td>...</td>\n",
       "      <td>...</td>\n",
       "      <td>...</td>\n",
       "      <td>...</td>\n",
       "      <td>...</td>\n",
       "      <td>...</td>\n",
       "      <td>...</td>\n",
       "      <td>...</td>\n",
       "      <td>...</td>\n",
       "      <td>...</td>\n",
       "    </tr>\n",
       "    <tr>\n",
       "      <th>329239</th>\n",
       "      <td>2020-01-06 21:14:59.050000+00:00</td>\n",
       "      <td>3347315</td>\n",
       "      <td>WDOG20</td>\n",
       "      <td>2969750</td>\n",
       "      <td>4067.5</td>\n",
       "      <td>4.0</td>\n",
       "      <td>21:14:59.049000</td>\n",
       "      <td>3</td>\n",
       "      <td>3</td>\n",
       "      <td>False</td>\n",
       "      <td>None</td>\n",
       "    </tr>\n",
       "    <tr>\n",
       "      <th>329240</th>\n",
       "      <td>2020-01-06 21:14:59.050000+00:00</td>\n",
       "      <td>3347315</td>\n",
       "      <td>WDOG20</td>\n",
       "      <td>2969760</td>\n",
       "      <td>4067.5</td>\n",
       "      <td>1.0</td>\n",
       "      <td>21:14:59.049000</td>\n",
       "      <td>3</td>\n",
       "      <td>3</td>\n",
       "      <td>False</td>\n",
       "      <td>None</td>\n",
       "    </tr>\n",
       "    <tr>\n",
       "      <th>329241</th>\n",
       "      <td>2020-01-06 21:14:59.591000+00:00</td>\n",
       "      <td>3347323</td>\n",
       "      <td>WDOG20</td>\n",
       "      <td>2969770</td>\n",
       "      <td>4067.5</td>\n",
       "      <td>1.0</td>\n",
       "      <td>21:14:59.591000</td>\n",
       "      <td>3</td>\n",
       "      <td>3</td>\n",
       "      <td>False</td>\n",
       "      <td>None</td>\n",
       "    </tr>\n",
       "    <tr>\n",
       "      <th>329242</th>\n",
       "      <td>2020-01-06 21:14:59.591000+00:00</td>\n",
       "      <td>3347323</td>\n",
       "      <td>WDOG20</td>\n",
       "      <td>2969780</td>\n",
       "      <td>4067.5</td>\n",
       "      <td>4.0</td>\n",
       "      <td>21:14:59.591000</td>\n",
       "      <td>3</td>\n",
       "      <td>1618</td>\n",
       "      <td>False</td>\n",
       "      <td>None</td>\n",
       "    </tr>\n",
       "    <tr>\n",
       "      <th>329243</th>\n",
       "      <td>2020-01-06 21:14:59.807000+00:00</td>\n",
       "      <td>3347334</td>\n",
       "      <td>WDOG20</td>\n",
       "      <td>2969790</td>\n",
       "      <td>4067.5</td>\n",
       "      <td>1.0</td>\n",
       "      <td>21:14:59.807000</td>\n",
       "      <td>1982</td>\n",
       "      <td>1618</td>\n",
       "      <td>False</td>\n",
       "      <td>None</td>\n",
       "    </tr>\n",
       "  </tbody>\n",
       "</table>\n",
       "<p>329244 rows × 11 columns</p>\n",
       "</div>"
      ],
      "text/plain": [
       "                                     ts  msg_seq_num  symbol  trade_id  \\\n",
       "0      2020-01-06 12:00:35.881000+00:00        15620  WDOG20        10   \n",
       "1      2020-01-06 12:00:35.881000+00:00        15620  WDOG20        20   \n",
       "2      2020-01-06 12:00:35.881000+00:00        15620  WDOG20        30   \n",
       "3      2020-01-06 12:00:35.881000+00:00        15620  WDOG20        40   \n",
       "4      2020-01-06 12:00:35.881000+00:00        15620  WDOG20        50   \n",
       "...                                 ...          ...     ...       ...   \n",
       "329239 2020-01-06 21:14:59.050000+00:00      3347315  WDOG20   2969750   \n",
       "329240 2020-01-06 21:14:59.050000+00:00      3347315  WDOG20   2969760   \n",
       "329241 2020-01-06 21:14:59.591000+00:00      3347323  WDOG20   2969770   \n",
       "329242 2020-01-06 21:14:59.591000+00:00      3347323  WDOG20   2969780   \n",
       "329243 2020-01-06 21:14:59.807000+00:00      3347334  WDOG20   2969790   \n",
       "\n",
       "         price  quantity         trade_ts  buyer  seller  crossed deleted  \n",
       "0       4062.0      10.0  12:00:35.878000    308     107    False    None  \n",
       "1       4062.0      15.0  12:00:35.878000      3     107    False    None  \n",
       "2       4062.0       1.0  12:00:35.878000      3    3701    False    None  \n",
       "3       4062.0      10.0  12:00:35.878000    386    3701    False    None  \n",
       "4       4062.0       1.0  12:00:35.878000   1982    3701    False    None  \n",
       "...        ...       ...              ...    ...     ...      ...     ...  \n",
       "329239  4067.5       4.0  21:14:59.049000      3       3    False    None  \n",
       "329240  4067.5       1.0  21:14:59.049000      3       3    False    None  \n",
       "329241  4067.5       1.0  21:14:59.591000      3       3    False    None  \n",
       "329242  4067.5       4.0  21:14:59.591000      3    1618    False    None  \n",
       "329243  4067.5       1.0  21:14:59.807000   1982    1618    False    None  \n",
       "\n",
       "[329244 rows x 11 columns]"
      ]
     },
     "execution_count": 14,
     "metadata": {},
     "output_type": "execute_result"
    }
   ],
   "source": [
    "all_trades"
   ]
  },
  {
   "cell_type": "code",
   "execution_count": 15,
   "metadata": {},
   "outputs": [
    {
     "data": {
      "text/html": [
       "<div>\n",
       "<style scoped>\n",
       "    .dataframe tbody tr th:only-of-type {\n",
       "        vertical-align: middle;\n",
       "    }\n",
       "\n",
       "    .dataframe tbody tr th {\n",
       "        vertical-align: top;\n",
       "    }\n",
       "\n",
       "    .dataframe thead th {\n",
       "        text-align: right;\n",
       "    }\n",
       "</style>\n",
       "<table border=\"1\" class=\"dataframe\">\n",
       "  <thead>\n",
       "    <tr style=\"text-align: right;\">\n",
       "      <th></th>\n",
       "      <th>trade_id</th>\n",
       "      <th>price</th>\n",
       "      <th>quantity</th>\n",
       "      <th>buyer</th>\n",
       "      <th>seller</th>\n",
       "      <th>crossed</th>\n",
       "    </tr>\n",
       "    <tr>\n",
       "      <th>msg_seq_num</th>\n",
       "      <th></th>\n",
       "      <th></th>\n",
       "      <th></th>\n",
       "      <th></th>\n",
       "      <th></th>\n",
       "      <th></th>\n",
       "    </tr>\n",
       "  </thead>\n",
       "  <tbody>\n",
       "    <tr>\n",
       "      <th>15620</th>\n",
       "      <td>1360</td>\n",
       "      <td>64992.0</td>\n",
       "      <td>72.0</td>\n",
       "      <td>5396</td>\n",
       "      <td>26594</td>\n",
       "      <td>0.0</td>\n",
       "    </tr>\n",
       "    <tr>\n",
       "      <th>15621</th>\n",
       "      <td>4250</td>\n",
       "      <td>69054.0</td>\n",
       "      <td>26.0</td>\n",
       "      <td>25480</td>\n",
       "      <td>1714</td>\n",
       "      <td>0.0</td>\n",
       "    </tr>\n",
       "    <tr>\n",
       "      <th>15622</th>\n",
       "      <td>7140</td>\n",
       "      <td>69054.0</td>\n",
       "      <td>41.0</td>\n",
       "      <td>17181</td>\n",
       "      <td>4102</td>\n",
       "      <td>0.0</td>\n",
       "    </tr>\n",
       "    <tr>\n",
       "      <th>15623</th>\n",
       "      <td>10030</td>\n",
       "      <td>69054.0</td>\n",
       "      <td>53.0</td>\n",
       "      <td>5158</td>\n",
       "      <td>29874</td>\n",
       "      <td>0.0</td>\n",
       "    </tr>\n",
       "    <tr>\n",
       "      <th>15624</th>\n",
       "      <td>12920</td>\n",
       "      <td>69054.0</td>\n",
       "      <td>64.0</td>\n",
       "      <td>6497</td>\n",
       "      <td>16552</td>\n",
       "      <td>0.0</td>\n",
       "    </tr>\n",
       "    <tr>\n",
       "      <th>...</th>\n",
       "      <td>...</td>\n",
       "      <td>...</td>\n",
       "      <td>...</td>\n",
       "      <td>...</td>\n",
       "      <td>...</td>\n",
       "      <td>...</td>\n",
       "    </tr>\n",
       "    <tr>\n",
       "      <th>3347287</th>\n",
       "      <td>322630</td>\n",
       "      <td>4067.0</td>\n",
       "      <td>5.0</td>\n",
       "      <td>3</td>\n",
       "      <td>120</td>\n",
       "      <td>0.0</td>\n",
       "    </tr>\n",
       "    <tr>\n",
       "      <th>3347288</th>\n",
       "      <td>645290</td>\n",
       "      <td>8136.0</td>\n",
       "      <td>15.0</td>\n",
       "      <td>240</td>\n",
       "      <td>123</td>\n",
       "      <td>0.0</td>\n",
       "    </tr>\n",
       "    <tr>\n",
       "      <th>3347315</th>\n",
       "      <td>5939510</td>\n",
       "      <td>8135.0</td>\n",
       "      <td>5.0</td>\n",
       "      <td>6</td>\n",
       "      <td>6</td>\n",
       "      <td>0.0</td>\n",
       "    </tr>\n",
       "    <tr>\n",
       "      <th>3347323</th>\n",
       "      <td>5939550</td>\n",
       "      <td>8135.0</td>\n",
       "      <td>5.0</td>\n",
       "      <td>6</td>\n",
       "      <td>1621</td>\n",
       "      <td>0.0</td>\n",
       "    </tr>\n",
       "    <tr>\n",
       "      <th>3347334</th>\n",
       "      <td>2969790</td>\n",
       "      <td>4067.5</td>\n",
       "      <td>1.0</td>\n",
       "      <td>1982</td>\n",
       "      <td>1618</td>\n",
       "      <td>0.0</td>\n",
       "    </tr>\n",
       "  </tbody>\n",
       "</table>\n",
       "<p>155635 rows × 6 columns</p>\n",
       "</div>"
      ],
      "text/plain": [
       "             trade_id    price  quantity  buyer  seller  crossed\n",
       "msg_seq_num                                                     \n",
       "15620            1360  64992.0      72.0   5396   26594      0.0\n",
       "15621            4250  69054.0      26.0  25480    1714      0.0\n",
       "15622            7140  69054.0      41.0  17181    4102      0.0\n",
       "15623           10030  69054.0      53.0   5158   29874      0.0\n",
       "15624           12920  69054.0      64.0   6497   16552      0.0\n",
       "...               ...      ...       ...    ...     ...      ...\n",
       "3347287        322630   4067.0       5.0      3     120      0.0\n",
       "3347288        645290   8136.0      15.0    240     123      0.0\n",
       "3347315       5939510   8135.0       5.0      6       6      0.0\n",
       "3347323       5939550   8135.0       5.0      6    1621      0.0\n",
       "3347334       2969790   4067.5       1.0   1982    1618      0.0\n",
       "\n",
       "[155635 rows x 6 columns]"
      ]
     },
     "execution_count": 15,
     "metadata": {},
     "output_type": "execute_result"
    }
   ],
   "source": [
    "list_of_trades = all_trades.groupby('msg_seq_num').sum().index\n",
    "all_trades.groupby('msg_seq_num').sum()"
   ]
  },
  {
   "cell_type": "code",
   "execution_count": 16,
   "metadata": {},
   "outputs": [
    {
     "data": {
      "text/plain": [
       "Int64Index([  15620,   15621,   15622,   15623,   15624,   15625,   15626,\n",
       "              15627,   15628,   15629,\n",
       "            ...\n",
       "            3347270, 3347273, 3347274, 3347281, 3347282, 3347287, 3347288,\n",
       "            3347315, 3347323, 3347334],\n",
       "           dtype='int64', name='msg_seq_num', length=155635)"
      ]
     },
     "execution_count": 16,
     "metadata": {},
     "output_type": "execute_result"
    }
   ],
   "source": [
    "list_of_trades"
   ]
  },
  {
   "cell_type": "code",
   "execution_count": 17,
   "metadata": {},
   "outputs": [],
   "source": [
    "Msg_T=list(set(list_of_trades).intersection(set(Post)))"
   ]
  },
  {
   "cell_type": "code",
   "execution_count": 169,
   "metadata": {},
   "outputs": [],
   "source": [
    "dl= dh"
   ]
  },
  {
   "cell_type": "code",
   "execution_count": 83,
   "metadata": {},
   "outputs": [],
   "source": [
    "B = dh[dh['msg_seq_num'].isin(Msg_T)]['symbol'].value_counts()"
   ]
  },
  {
   "cell_type": "code",
   "execution_count": 39,
   "metadata": {},
   "outputs": [
    {
     "name": "stdout",
     "output_type": "stream",
     "text": [
      "Wdo : 0.7647346141322044 %, Dol: 0.6044383436284603 %\n"
     ]
    }
   ],
   "source": [
    "print('Wdo : {} %, Dol: {} %'.format(4697/6142, 2642/4371))"
   ]
  },
  {
   "cell_type": "code",
   "execution_count": 59,
   "metadata": {},
   "outputs": [
    {
     "name": "stdout",
     "output_type": "stream",
     "text": [
      "Wdo : 0.7683941138835573 %, Dol: 0.6101808439383791 %\n"
     ]
    }
   ],
   "source": [
    "print('Wdo : {} %, Dol: {} %'.format(4804/6252, 3644/5972))"
   ]
  },
  {
   "cell_type": "code",
   "execution_count": 75,
   "metadata": {},
   "outputs": [
    {
     "name": "stdout",
     "output_type": "stream",
     "text": [
      "Wdo : 0.704113724996855 %, Dol: 0.587554846429996 %\n"
     ]
    }
   ],
   "source": [
    "print('Wdo : {} %, Dol: {} %'.format(5597/7949, 2946/5014))"
   ]
  },
  {
   "cell_type": "code",
   "execution_count": 97,
   "metadata": {},
   "outputs": [
    {
     "data": {
      "text/html": [
       "<div>\n",
       "<style scoped>\n",
       "    .dataframe tbody tr th:only-of-type {\n",
       "        vertical-align: middle;\n",
       "    }\n",
       "\n",
       "    .dataframe tbody tr th {\n",
       "        vertical-align: top;\n",
       "    }\n",
       "\n",
       "    .dataframe thead th {\n",
       "        text-align: right;\n",
       "    }\n",
       "</style>\n",
       "<table border=\"1\" class=\"dataframe\">\n",
       "  <thead>\n",
       "    <tr style=\"text-align: right;\">\n",
       "      <th></th>\n",
       "      <th>WDO_Init</th>\n",
       "      <th>WDO_Trades</th>\n",
       "      <th>DOL_Init</th>\n",
       "      <th>DOL_Trades</th>\n",
       "      <th>WDO_%_Trades</th>\n",
       "      <th>DOL_%_Trades</th>\n",
       "      <th>6</th>\n",
       "    </tr>\n",
       "  </thead>\n",
       "  <tbody>\n",
       "    <tr>\n",
       "      <th>0</th>\n",
       "      <td>2020-01-02</td>\n",
       "      <td>7949</td>\n",
       "      <td>5597</td>\n",
       "      <td>5014</td>\n",
       "      <td>2946</td>\n",
       "      <td>0.704114</td>\n",
       "      <td>0.587555</td>\n",
       "    </tr>\n",
       "  </tbody>\n",
       "</table>\n",
       "</div>"
      ],
      "text/plain": [
       "     WDO_Init WDO_Trades DOL_Init DOL_Trades WDO_%_Trades DOL_%_Trades  \\\n",
       "0  2020-01-02       7949     5597       5014         2946     0.704114   \n",
       "\n",
       "          6  \n",
       "0  0.587555  "
      ]
     },
     "execution_count": 97,
     "metadata": {},
     "output_type": "execute_result"
    }
   ],
   "source": [
    "pd.DataFrame(['2020-01-02', A[0], B[0], A[1], B[1], B[0]/A[0], B[1]/A[1]]).T.rename({0: 'Date', 1:'WDO_Init', 2:'WDO_Trades', 3: 'DOL_Init', 4:'DOL_Trades', 5: 'WDO_%_Trades', 6:'DOL_%_Trades' }, axis =1)"
   ]
  },
  {
   "cell_type": "code",
   "execution_count": 2,
   "metadata": {},
   "outputs": [],
   "source": [
    "def get_trades(dol, wdo, date_):\n",
    "    trades = pr.get_parquet(symbol=dol,\n",
    "                                date=date_,\n",
    "                                type_='trades')\n",
    "    md_trades = trades.read().to_pandas()\n",
    "    trades_wdo = pr.get_parquet(symbol=wdo,\n",
    "                                date=date_,\n",
    "                                type_='trades')\n",
    "    md_trades_wdo = trades_wdo.read().to_pandas()\n",
    "    return md_trades, md_trades_wdo \n",
    "\n"
   ]
  },
  {
   "cell_type": "code",
   "execution_count": 3,
   "metadata": {},
   "outputs": [],
   "source": [
    "DATE = ['2020-01-02',\n",
    "    '2020-01-06',\n",
    "    '2020-01-03',\n",
    "    '2020-01-07',\n",
    "    '2020-01-16',\n",
    "    '2020-01-09',\n",
    "    '2020-01-10',\n",
    "    '2020-01-08']"
   ]
  },
  {
   "cell_type": "code",
   "execution_count": 4,
   "metadata": {},
   "outputs": [
    {
     "name": "stderr",
     "output_type": "stream",
     "text": [
      "/home/asimovws/.local/lib/python3.6/site-packages/ipykernel_launcher.py:105: FutureWarning: Sorting because non-concatenation axis is not aligned. A future version\n",
      "of pandas will change to not sort by default.\n",
      "\n",
      "To accept the future behavior, pass 'sort=False'.\n",
      "\n",
      "To retain the current behavior and silence the warning, pass 'sort=True'.\n",
      "\n",
      "/home/asimovws/.local/lib/python3.6/site-packages/ipykernel_launcher.py:106: FutureWarning: Sorting because non-concatenation axis is not aligned. A future version\n",
      "of pandas will change to not sort by default.\n",
      "\n",
      "To accept the future behavior, pass 'sort=False'.\n",
      "\n",
      "To retain the current behavior and silence the warning, pass 'sort=True'.\n",
      "\n",
      "/home/asimovws/.local/lib/python3.6/site-packages/ipykernel_launcher.py:115: FutureWarning: Sorting because non-concatenation axis is not aligned. A future version\n",
      "of pandas will change to not sort by default.\n",
      "\n",
      "To accept the future behavior, pass 'sort=False'.\n",
      "\n",
      "To retain the current behavior and silence the warning, pass 'sort=True'.\n",
      "\n",
      "/home/asimovws/.local/lib/python3.6/site-packages/ipykernel_launcher.py:134: SettingWithCopyWarning: \n",
      "A value is trying to be set on a copy of a slice from a DataFrame.\n",
      "Try using .loc[row_indexer,col_indexer] = value instead\n",
      "\n",
      "See the caveats in the documentation: http://pandas.pydata.org/pandas-docs/stable/user_guide/indexing.html#returning-a-view-versus-a-copy\n",
      "/home/asimovws/.local/lib/python3.6/site-packages/ipykernel_launcher.py:135: SettingWithCopyWarning: \n",
      "A value is trying to be set on a copy of a slice from a DataFrame.\n",
      "Try using .loc[row_indexer,col_indexer] = value instead\n",
      "\n",
      "See the caveats in the documentation: http://pandas.pydata.org/pandas-docs/stable/user_guide/indexing.html#returning-a-view-versus-a-copy\n",
      "/home/asimovws/.local/lib/python3.6/site-packages/ipykernel_launcher.py:138: SettingWithCopyWarning: \n",
      "A value is trying to be set on a copy of a slice from a DataFrame.\n",
      "Try using .loc[row_indexer,col_indexer] = value instead\n",
      "\n",
      "See the caveats in the documentation: http://pandas.pydata.org/pandas-docs/stable/user_guide/indexing.html#returning-a-view-versus-a-copy\n",
      "/home/asimovws/.local/lib/python3.6/site-packages/ipykernel_launcher.py:139: SettingWithCopyWarning: \n",
      "A value is trying to be set on a copy of a slice from a DataFrame\n",
      "\n",
      "See the caveats in the documentation: http://pandas.pydata.org/pandas-docs/stable/user_guide/indexing.html#returning-a-view-versus-a-copy\n",
      "/home/asimovws/.local/lib/python3.6/site-packages/pandas/core/generic.py:9114: SettingWithCopyWarning: \n",
      "A value is trying to be set on a copy of a slice from a DataFrame\n",
      "\n",
      "See the caveats in the documentation: http://pandas.pydata.org/pandas-docs/stable/user_guide/indexing.html#returning-a-view-versus-a-copy\n",
      "  self._update_inplace(new_data)\n",
      "/home/asimovws/.local/lib/python3.6/site-packages/ipykernel_launcher.py:8: SettingWithCopyWarning: \n",
      "A value is trying to be set on a copy of a slice from a DataFrame\n",
      "\n",
      "See the caveats in the documentation: http://pandas.pydata.org/pandas-docs/stable/user_guide/indexing.html#returning-a-view-versus-a-copy\n",
      "  \n",
      "/home/asimovws/.local/lib/python3.6/site-packages/ipykernel_launcher.py:17: SettingWithCopyWarning: \n",
      "A value is trying to be set on a copy of a slice from a DataFrame\n",
      "\n",
      "See the caveats in the documentation: http://pandas.pydata.org/pandas-docs/stable/user_guide/indexing.html#returning-a-view-versus-a-copy\n"
     ]
    }
   ],
   "source": [
    "j = 0\n",
    "dados= {}\n",
    "for k in DATE:\n",
    "    e = Causality(\"DOLG20\", \"WDOG20\", k)\n",
    "\n",
    "    md_trades, md_trades_wdo = get_trades(\"DOLG20\", \"WDOG20\", k)\n",
    "\n",
    "    df = e._files()\n",
    "\n",
    "    Post = []\n",
    "    for i in df.keys():\n",
    "        a= df[i].values[1][2]\n",
    "        Post.append(a)\n",
    "\n",
    "    dh = pd.concat([e.events_wdo,e.events]).sort_values(by='msg_seq_num', kind = 'mergesort').reset_index()   \n",
    "    dh['repeat'] = False\n",
    "    dh['repeat'][dh['msg_seq_num'] != dh['msg_seq_num'].shift(-1)] = True\n",
    "    dh  = dh[dh['repeat']].reset_index()\n",
    "    TOTAL = dh['symbol'][dh['msg_seq_num'].isin(Post)].value_counts()\n",
    "\n",
    "    all_trades =  pd.concat([md_trades,md_trades_wdo]).sort_values(by='msg_seq_num', kind = 'mergesort').reset_index()\n",
    "    list_of_trades = all_trades.groupby('msg_seq_num').sum().index\n",
    "    Msg_T=list(set(list_of_trades).intersection(set(Post)))\n",
    "    TRADES = dh[dh['msg_seq_num'].isin(Msg_T)]['symbol'].value_counts()\n",
    "\n",
    "    dados[j] = pd.DataFrame([k, TOTAL[0], TRADES[0], TOTAL[1], TRADES[1], TRADES[0]/TOTAL[0], TRADES[1]/TOTAL[1]]).T.rename({0: 'Date', 1:'WDO_Init', 2:'WDO_Trades', 3: 'DOL_Init', 4:'DOL_Trades', 5: 'WDO_%_Trades', 6:'DOL_%_Trades' }, axis =1)\n",
    "    j+=1"
   ]
  },
  {
   "cell_type": "code",
   "execution_count": 10,
   "metadata": {},
   "outputs": [],
   "source": [
    "all_ = pd.concat(dados)"
   ]
  },
  {
   "cell_type": "code",
   "execution_count": 37,
   "metadata": {},
   "outputs": [
    {
     "data": {
      "text/html": [
       "<div>\n",
       "<style scoped>\n",
       "    .dataframe tbody tr th:only-of-type {\n",
       "        vertical-align: middle;\n",
       "    }\n",
       "\n",
       "    .dataframe tbody tr th {\n",
       "        vertical-align: top;\n",
       "    }\n",
       "\n",
       "    .dataframe thead th {\n",
       "        text-align: right;\n",
       "    }\n",
       "</style>\n",
       "<table border=\"1\" class=\"dataframe\">\n",
       "  <thead>\n",
       "    <tr style=\"text-align: right;\">\n",
       "      <th></th>\n",
       "      <th></th>\n",
       "      <th>Date</th>\n",
       "      <th>WDO_Init</th>\n",
       "      <th>WDO_Trades</th>\n",
       "      <th>DOL_Init</th>\n",
       "      <th>DOL_Trades</th>\n",
       "      <th>WDO_%_Trades</th>\n",
       "      <th>DOL_%_Trades</th>\n",
       "    </tr>\n",
       "  </thead>\n",
       "  <tbody>\n",
       "    <tr>\n",
       "      <th>0</th>\n",
       "      <th>0</th>\n",
       "      <td>2020-01-02</td>\n",
       "      <td>6142</td>\n",
       "      <td>4697</td>\n",
       "      <td>4371</td>\n",
       "      <td>2642</td>\n",
       "      <td>0.764735</td>\n",
       "      <td>0.604438</td>\n",
       "    </tr>\n",
       "    <tr>\n",
       "      <th>1</th>\n",
       "      <th>0</th>\n",
       "      <td>2020-01-06</td>\n",
       "      <td>7949</td>\n",
       "      <td>5597</td>\n",
       "      <td>5014</td>\n",
       "      <td>2946</td>\n",
       "      <td>0.704114</td>\n",
       "      <td>0.587555</td>\n",
       "    </tr>\n",
       "    <tr>\n",
       "      <th>2</th>\n",
       "      <th>0</th>\n",
       "      <td>2020-01-03</td>\n",
       "      <td>6252</td>\n",
       "      <td>4804</td>\n",
       "      <td>5972</td>\n",
       "      <td>3644</td>\n",
       "      <td>0.768394</td>\n",
       "      <td>0.610181</td>\n",
       "    </tr>\n",
       "    <tr>\n",
       "      <th>3</th>\n",
       "      <th>0</th>\n",
       "      <td>2020-01-07</td>\n",
       "      <td>7964</td>\n",
       "      <td>5422</td>\n",
       "      <td>6500</td>\n",
       "      <td>3992</td>\n",
       "      <td>0.680814</td>\n",
       "      <td>0.614154</td>\n",
       "    </tr>\n",
       "    <tr>\n",
       "      <th>4</th>\n",
       "      <th>0</th>\n",
       "      <td>2020-01-16</td>\n",
       "      <td>7973</td>\n",
       "      <td>5605</td>\n",
       "      <td>5541</td>\n",
       "      <td>3200</td>\n",
       "      <td>0.702998</td>\n",
       "      <td>0.577513</td>\n",
       "    </tr>\n",
       "    <tr>\n",
       "      <th>5</th>\n",
       "      <th>0</th>\n",
       "      <td>2020-01-09</td>\n",
       "      <td>8923</td>\n",
       "      <td>6230</td>\n",
       "      <td>6686</td>\n",
       "      <td>3954</td>\n",
       "      <td>0.698196</td>\n",
       "      <td>0.591385</td>\n",
       "    </tr>\n",
       "    <tr>\n",
       "      <th>6</th>\n",
       "      <th>0</th>\n",
       "      <td>2020-01-10</td>\n",
       "      <td>8858</td>\n",
       "      <td>6357</td>\n",
       "      <td>5769</td>\n",
       "      <td>3296</td>\n",
       "      <td>0.717656</td>\n",
       "      <td>0.57133</td>\n",
       "    </tr>\n",
       "    <tr>\n",
       "      <th>7</th>\n",
       "      <th>0</th>\n",
       "      <td>2020-01-08</td>\n",
       "      <td>11377</td>\n",
       "      <td>8374</td>\n",
       "      <td>7693</td>\n",
       "      <td>4202</td>\n",
       "      <td>0.736046</td>\n",
       "      <td>0.546211</td>\n",
       "    </tr>\n",
       "  </tbody>\n",
       "</table>\n",
       "</div>"
      ],
      "text/plain": [
       "           Date WDO_Init WDO_Trades DOL_Init DOL_Trades WDO_%_Trades  \\\n",
       "0 0  2020-01-02     6142       4697     4371       2642     0.764735   \n",
       "1 0  2020-01-06     7949       5597     5014       2946     0.704114   \n",
       "2 0  2020-01-03     6252       4804     5972       3644     0.768394   \n",
       "3 0  2020-01-07     7964       5422     6500       3992     0.680814   \n",
       "4 0  2020-01-16     7973       5605     5541       3200     0.702998   \n",
       "5 0  2020-01-09     8923       6230     6686       3954     0.698196   \n",
       "6 0  2020-01-10     8858       6357     5769       3296     0.717656   \n",
       "7 0  2020-01-08    11377       8374     7693       4202     0.736046   \n",
       "\n",
       "    DOL_%_Trades  \n",
       "0 0     0.604438  \n",
       "1 0     0.587555  \n",
       "2 0     0.610181  \n",
       "3 0     0.614154  \n",
       "4 0     0.577513  \n",
       "5 0     0.591385  \n",
       "6 0      0.57133  \n",
       "7 0     0.546211  "
      ]
     },
     "execution_count": 37,
     "metadata": {},
     "output_type": "execute_result"
    }
   ],
   "source": [
    "all_"
   ]
  },
  {
   "cell_type": "code",
   "execution_count": 143,
   "metadata": {},
   "outputs": [
    {
     "data": {
      "text/plain": [
       "WDO_Init        8179.750000\n",
       "WDO_Trades      5885.750000\n",
       "DOL_Init        5943.250000\n",
       "DOL_Trades      3484.500000\n",
       "WDO_%_Trades       0.721619\n",
       "DOL_%_Trades       0.587846\n",
       "dtype: float64"
      ]
     },
     "execution_count": 143,
     "metadata": {},
     "output_type": "execute_result"
    }
   ],
   "source": [
    "all_[['WDO_Init', 'WDO_Trades', 'DOL_Init', 'DOL_Trades',\n",
    "       'WDO_%_Trades', 'DOL_%_Trades']].mean()"
   ]
  },
  {
   "cell_type": "code",
   "execution_count": 23,
   "metadata": {},
   "outputs": [],
   "source": [
    "move = pd.concat(df)"
   ]
  },
  {
   "cell_type": "code",
   "execution_count": 43,
   "metadata": {},
   "outputs": [],
   "source": [
    "dol_down = move[move['movement_dol'] == -1]['msg_seq_num']"
   ]
  },
  {
   "cell_type": "code",
   "execution_count": 44,
   "metadata": {},
   "outputs": [],
   "source": [
    "dol_up = move[move['movement_dol'] == 1]['msg_seq_num']"
   ]
  },
  {
   "cell_type": "code",
   "execution_count": 45,
   "metadata": {},
   "outputs": [],
   "source": [
    "wdo_down = move[move['movement_wdo'] == -1]['msg_seq_num']"
   ]
  },
  {
   "cell_type": "code",
   "execution_count": 54,
   "metadata": {},
   "outputs": [],
   "source": [
    "wdo_up = move[move['movement_wdo'] == 1]['msg_seq_num']\n"
   ]
  },
  {
   "cell_type": "code",
   "execution_count": 20,
   "metadata": {},
   "outputs": [
    {
     "data": {
      "text/html": [
       "<div>\n",
       "<style scoped>\n",
       "    .dataframe tbody tr th:only-of-type {\n",
       "        vertical-align: middle;\n",
       "    }\n",
       "\n",
       "    .dataframe tbody tr th {\n",
       "        vertical-align: top;\n",
       "    }\n",
       "\n",
       "    .dataframe thead th {\n",
       "        text-align: right;\n",
       "    }\n",
       "</style>\n",
       "<table border=\"1\" class=\"dataframe\">\n",
       "  <thead>\n",
       "    <tr style=\"text-align: right;\">\n",
       "      <th></th>\n",
       "      <th>ts</th>\n",
       "      <th>msg_seq_num</th>\n",
       "      <th>symbol</th>\n",
       "      <th>trade_id</th>\n",
       "      <th>price</th>\n",
       "      <th>quantity</th>\n",
       "      <th>trade_ts</th>\n",
       "      <th>buyer</th>\n",
       "      <th>seller</th>\n",
       "      <th>crossed</th>\n",
       "      <th>deleted</th>\n",
       "    </tr>\n",
       "  </thead>\n",
       "  <tbody>\n",
       "    <tr>\n",
       "      <th>0</th>\n",
       "      <td>2020-01-06 12:00:35.881000+00:00</td>\n",
       "      <td>15620</td>\n",
       "      <td>WDOG20</td>\n",
       "      <td>10</td>\n",
       "      <td>4062.0</td>\n",
       "      <td>10.0</td>\n",
       "      <td>12:00:35.878000</td>\n",
       "      <td>308</td>\n",
       "      <td>107</td>\n",
       "      <td>False</td>\n",
       "      <td>None</td>\n",
       "    </tr>\n",
       "    <tr>\n",
       "      <th>1</th>\n",
       "      <td>2020-01-06 12:00:35.881000+00:00</td>\n",
       "      <td>15620</td>\n",
       "      <td>WDOG20</td>\n",
       "      <td>20</td>\n",
       "      <td>4062.0</td>\n",
       "      <td>15.0</td>\n",
       "      <td>12:00:35.878000</td>\n",
       "      <td>3</td>\n",
       "      <td>107</td>\n",
       "      <td>False</td>\n",
       "      <td>None</td>\n",
       "    </tr>\n",
       "    <tr>\n",
       "      <th>2</th>\n",
       "      <td>2020-01-06 12:00:35.881000+00:00</td>\n",
       "      <td>15620</td>\n",
       "      <td>WDOG20</td>\n",
       "      <td>30</td>\n",
       "      <td>4062.0</td>\n",
       "      <td>1.0</td>\n",
       "      <td>12:00:35.878000</td>\n",
       "      <td>3</td>\n",
       "      <td>3701</td>\n",
       "      <td>False</td>\n",
       "      <td>None</td>\n",
       "    </tr>\n",
       "    <tr>\n",
       "      <th>3</th>\n",
       "      <td>2020-01-06 12:00:35.881000+00:00</td>\n",
       "      <td>15620</td>\n",
       "      <td>WDOG20</td>\n",
       "      <td>40</td>\n",
       "      <td>4062.0</td>\n",
       "      <td>10.0</td>\n",
       "      <td>12:00:35.878000</td>\n",
       "      <td>386</td>\n",
       "      <td>3701</td>\n",
       "      <td>False</td>\n",
       "      <td>None</td>\n",
       "    </tr>\n",
       "    <tr>\n",
       "      <th>4</th>\n",
       "      <td>2020-01-06 12:00:35.881000+00:00</td>\n",
       "      <td>15620</td>\n",
       "      <td>WDOG20</td>\n",
       "      <td>50</td>\n",
       "      <td>4062.0</td>\n",
       "      <td>1.0</td>\n",
       "      <td>12:00:35.878000</td>\n",
       "      <td>1982</td>\n",
       "      <td>3701</td>\n",
       "      <td>False</td>\n",
       "      <td>None</td>\n",
       "    </tr>\n",
       "    <tr>\n",
       "      <th>...</th>\n",
       "      <td>...</td>\n",
       "      <td>...</td>\n",
       "      <td>...</td>\n",
       "      <td>...</td>\n",
       "      <td>...</td>\n",
       "      <td>...</td>\n",
       "      <td>...</td>\n",
       "      <td>...</td>\n",
       "      <td>...</td>\n",
       "      <td>...</td>\n",
       "      <td>...</td>\n",
       "    </tr>\n",
       "    <tr>\n",
       "      <th>329239</th>\n",
       "      <td>2020-01-06 21:14:59.050000+00:00</td>\n",
       "      <td>3347315</td>\n",
       "      <td>WDOG20</td>\n",
       "      <td>2969750</td>\n",
       "      <td>4067.5</td>\n",
       "      <td>4.0</td>\n",
       "      <td>21:14:59.049000</td>\n",
       "      <td>3</td>\n",
       "      <td>3</td>\n",
       "      <td>False</td>\n",
       "      <td>None</td>\n",
       "    </tr>\n",
       "    <tr>\n",
       "      <th>329240</th>\n",
       "      <td>2020-01-06 21:14:59.050000+00:00</td>\n",
       "      <td>3347315</td>\n",
       "      <td>WDOG20</td>\n",
       "      <td>2969760</td>\n",
       "      <td>4067.5</td>\n",
       "      <td>1.0</td>\n",
       "      <td>21:14:59.049000</td>\n",
       "      <td>3</td>\n",
       "      <td>3</td>\n",
       "      <td>False</td>\n",
       "      <td>None</td>\n",
       "    </tr>\n",
       "    <tr>\n",
       "      <th>329241</th>\n",
       "      <td>2020-01-06 21:14:59.591000+00:00</td>\n",
       "      <td>3347323</td>\n",
       "      <td>WDOG20</td>\n",
       "      <td>2969770</td>\n",
       "      <td>4067.5</td>\n",
       "      <td>1.0</td>\n",
       "      <td>21:14:59.591000</td>\n",
       "      <td>3</td>\n",
       "      <td>3</td>\n",
       "      <td>False</td>\n",
       "      <td>None</td>\n",
       "    </tr>\n",
       "    <tr>\n",
       "      <th>329242</th>\n",
       "      <td>2020-01-06 21:14:59.591000+00:00</td>\n",
       "      <td>3347323</td>\n",
       "      <td>WDOG20</td>\n",
       "      <td>2969780</td>\n",
       "      <td>4067.5</td>\n",
       "      <td>4.0</td>\n",
       "      <td>21:14:59.591000</td>\n",
       "      <td>3</td>\n",
       "      <td>1618</td>\n",
       "      <td>False</td>\n",
       "      <td>None</td>\n",
       "    </tr>\n",
       "    <tr>\n",
       "      <th>329243</th>\n",
       "      <td>2020-01-06 21:14:59.807000+00:00</td>\n",
       "      <td>3347334</td>\n",
       "      <td>WDOG20</td>\n",
       "      <td>2969790</td>\n",
       "      <td>4067.5</td>\n",
       "      <td>1.0</td>\n",
       "      <td>21:14:59.807000</td>\n",
       "      <td>1982</td>\n",
       "      <td>1618</td>\n",
       "      <td>False</td>\n",
       "      <td>None</td>\n",
       "    </tr>\n",
       "  </tbody>\n",
       "</table>\n",
       "<p>329244 rows × 11 columns</p>\n",
       "</div>"
      ],
      "text/plain": [
       "                                     ts  msg_seq_num  symbol  trade_id  \\\n",
       "0      2020-01-06 12:00:35.881000+00:00        15620  WDOG20        10   \n",
       "1      2020-01-06 12:00:35.881000+00:00        15620  WDOG20        20   \n",
       "2      2020-01-06 12:00:35.881000+00:00        15620  WDOG20        30   \n",
       "3      2020-01-06 12:00:35.881000+00:00        15620  WDOG20        40   \n",
       "4      2020-01-06 12:00:35.881000+00:00        15620  WDOG20        50   \n",
       "...                                 ...          ...     ...       ...   \n",
       "329239 2020-01-06 21:14:59.050000+00:00      3347315  WDOG20   2969750   \n",
       "329240 2020-01-06 21:14:59.050000+00:00      3347315  WDOG20   2969760   \n",
       "329241 2020-01-06 21:14:59.591000+00:00      3347323  WDOG20   2969770   \n",
       "329242 2020-01-06 21:14:59.591000+00:00      3347323  WDOG20   2969780   \n",
       "329243 2020-01-06 21:14:59.807000+00:00      3347334  WDOG20   2969790   \n",
       "\n",
       "         price  quantity         trade_ts  buyer  seller  crossed deleted  \n",
       "0       4062.0      10.0  12:00:35.878000    308     107    False    None  \n",
       "1       4062.0      15.0  12:00:35.878000      3     107    False    None  \n",
       "2       4062.0       1.0  12:00:35.878000      3    3701    False    None  \n",
       "3       4062.0      10.0  12:00:35.878000    386    3701    False    None  \n",
       "4       4062.0       1.0  12:00:35.878000   1982    3701    False    None  \n",
       "...        ...       ...              ...    ...     ...      ...     ...  \n",
       "329239  4067.5       4.0  21:14:59.049000      3       3    False    None  \n",
       "329240  4067.5       1.0  21:14:59.049000      3       3    False    None  \n",
       "329241  4067.5       1.0  21:14:59.591000      3       3    False    None  \n",
       "329242  4067.5       4.0  21:14:59.591000      3    1618    False    None  \n",
       "329243  4067.5       1.0  21:14:59.807000   1982    1618    False    None  \n",
       "\n",
       "[329244 rows x 11 columns]"
      ]
     },
     "execution_count": 20,
     "metadata": {},
     "output_type": "execute_result"
    }
   ],
   "source": [
    "all_trades"
   ]
  },
  {
   "cell_type": "code",
   "execution_count": 67,
   "metadata": {},
   "outputs": [],
   "source": [
    "all_grouped = all_trades[all_trades['msg_seq_num'].isin(Msg_T)].groupby(['msg_seq_num','symbol']).agg({'price' : 'mean','quantity': 'sum'}).reset_index()\n",
    "\n",
    "\n"
   ]
  },
  {
   "cell_type": "code",
   "execution_count": 68,
   "metadata": {},
   "outputs": [
    {
     "data": {
      "text/plain": [
       "price       4064.0\n",
       "quantity      13.0\n",
       "dtype: float64"
      ]
     },
     "execution_count": 68,
     "metadata": {},
     "output_type": "execute_result"
    }
   ],
   "source": [
    "all_grouped[all_grouped['symbol'] == 'WDOG20'][['price', 'quantity']].median()\n"
   ]
  },
  {
   "cell_type": "code",
   "execution_count": 69,
   "metadata": {},
   "outputs": [
    {
     "data": {
      "text/plain": [
       "price       4063.5\n",
       "quantity      10.0\n",
       "dtype: float64"
      ]
     },
     "execution_count": 69,
     "metadata": {},
     "output_type": "execute_result"
    }
   ],
   "source": [
    "all_grouped[all_grouped['symbol'] == 'DOLG20'][['price', 'quantity']].median()\n"
   ]
  },
  {
   "cell_type": "code",
   "execution_count": 71,
   "metadata": {},
   "outputs": [],
   "source": [
    "all_trades_grouped = all_trades.groupby(['msg_seq_num','symbol']).agg({'price' : 'mean','quantity': 'sum'}).reset_index()\n"
   ]
  },
  {
   "cell_type": "code",
   "execution_count": 72,
   "metadata": {},
   "outputs": [
    {
     "data": {
      "text/plain": [
       "price       4064.0\n",
       "quantity       2.0\n",
       "dtype: float64"
      ]
     },
     "execution_count": 72,
     "metadata": {},
     "output_type": "execute_result"
    }
   ],
   "source": [
    "all_trades_grouped[all_trades_grouped['symbol'] == 'WDOG20'][['price', 'quantity']].median()"
   ]
  },
  {
   "cell_type": "code",
   "execution_count": 73,
   "metadata": {},
   "outputs": [
    {
     "data": {
      "text/plain": [
       "price       4063.205882\n",
       "quantity       5.000000\n",
       "dtype: float64"
      ]
     },
     "execution_count": 73,
     "metadata": {},
     "output_type": "execute_result"
    }
   ],
   "source": [
    "all_trades_grouped[all_trades_grouped['symbol'] == 'DOLG20'][['price', 'quantity']].median()"
   ]
  },
  {
   "cell_type": "code",
   "execution_count": 77,
   "metadata": {},
   "outputs": [],
   "source": [
    "all_grouped_without = all_trades[~all_trades['msg_seq_num'].isin(Msg_T)].groupby(['msg_seq_num','symbol']).agg({'price' : 'mean','quantity': 'sum'}).reset_index()\n"
   ]
  },
  {
   "cell_type": "code",
   "execution_count": 78,
   "metadata": {},
   "outputs": [
    {
     "data": {
      "text/plain": [
       "price       4064.0\n",
       "quantity       2.0\n",
       "dtype: float64"
      ]
     },
     "execution_count": 78,
     "metadata": {},
     "output_type": "execute_result"
    }
   ],
   "source": [
    "all_grouped_without[all_grouped_without['symbol'] == 'WDOG20'][['price', 'quantity']].median()"
   ]
  },
  {
   "cell_type": "code",
   "execution_count": 79,
   "metadata": {},
   "outputs": [
    {
     "data": {
      "text/plain": [
       "price       4063.0\n",
       "quantity       5.0\n",
       "dtype: float64"
      ]
     },
     "execution_count": 79,
     "metadata": {},
     "output_type": "execute_result"
    }
   ],
   "source": [
    "all_grouped_without[all_grouped_without['symbol'] == 'DOLG20'][['price', 'quantity']].median()"
   ]
  },
  {
   "cell_type": "code",
   "execution_count": 32,
   "metadata": {},
   "outputs": [],
   "source": [
    "# index_ = dh[dh['msg_seq_num'] == i].index[0]"
   ]
  },
  {
   "cell_type": "code",
   "execution_count": 34,
   "metadata": {},
   "outputs": [],
   "source": [
    "dict_ = {}\n",
    "j = 0 \n",
    "for i in wdo_up:\n",
    "    index_ = dh[dh['msg_seq_num'] == i].index[0]\n",
    "    x = dh['event_type'].values[index_-200:index_-1]\n",
    "    dict_[j] =pd.DataFrame(np.array(np.unique(x, return_counts=True)).T)\n",
    "    j+=1"
   ]
  },
  {
   "cell_type": "code",
   "execution_count": 117,
   "metadata": {},
   "outputs": [
    {
     "data": {
      "text/html": [
       "<div>\n",
       "<style scoped>\n",
       "    .dataframe tbody tr th:only-of-type {\n",
       "        vertical-align: middle;\n",
       "    }\n",
       "\n",
       "    .dataframe tbody tr th {\n",
       "        vertical-align: top;\n",
       "    }\n",
       "\n",
       "    .dataframe thead th {\n",
       "        text-align: right;\n",
       "    }\n",
       "</style>\n",
       "<table border=\"1\" class=\"dataframe\">\n",
       "  <thead>\n",
       "    <tr style=\"text-align: right;\">\n",
       "      <th></th>\n",
       "      <th>level_0</th>\n",
       "      <th>level_1</th>\n",
       "    </tr>\n",
       "    <tr>\n",
       "      <th>0</th>\n",
       "      <th></th>\n",
       "      <th></th>\n",
       "    </tr>\n",
       "  </thead>\n",
       "  <tbody>\n",
       "    <tr>\n",
       "      <th>CHANGE</th>\n",
       "      <td>3241661</td>\n",
       "      <td>0</td>\n",
       "    </tr>\n",
       "    <tr>\n",
       "      <th>DELETE</th>\n",
       "      <td>3247426</td>\n",
       "      <td>2545</td>\n",
       "    </tr>\n",
       "    <tr>\n",
       "      <th>DELETE_FROM</th>\n",
       "      <td>2683071</td>\n",
       "      <td>4140</td>\n",
       "    </tr>\n",
       "    <tr>\n",
       "      <th>INSERT</th>\n",
       "      <td>3247426</td>\n",
       "      <td>7166</td>\n",
       "    </tr>\n",
       "  </tbody>\n",
       "</table>\n",
       "</div>"
      ],
      "text/plain": [
       "             level_0  level_1\n",
       "0                            \n",
       "CHANGE       3241661        0\n",
       "DELETE       3247426     2545\n",
       "DELETE_FROM  2683071     4140\n",
       "INSERT       3247426     7166"
      ]
     },
     "execution_count": 117,
     "metadata": {},
     "output_type": "execute_result"
    }
   ],
   "source": [
    "pd.concat(dict_).reset_index().groupby(0).sum()"
   ]
  },
  {
   "cell_type": "code",
   "execution_count": 123,
   "metadata": {},
   "outputs": [
    {
     "data": {
      "text/html": [
       "<div>\n",
       "<style scoped>\n",
       "    .dataframe tbody tr th:only-of-type {\n",
       "        vertical-align: middle;\n",
       "    }\n",
       "\n",
       "    .dataframe tbody tr th {\n",
       "        vertical-align: top;\n",
       "    }\n",
       "\n",
       "    .dataframe thead th {\n",
       "        text-align: right;\n",
       "    }\n",
       "</style>\n",
       "<table border=\"1\" class=\"dataframe\">\n",
       "  <thead>\n",
       "    <tr style=\"text-align: right;\">\n",
       "      <th></th>\n",
       "      <th>1</th>\n",
       "    </tr>\n",
       "    <tr>\n",
       "      <th>0</th>\n",
       "      <th></th>\n",
       "    </tr>\n",
       "  </thead>\n",
       "  <tbody>\n",
       "    <tr>\n",
       "      <th>CHANGE</th>\n",
       "      <td>135183</td>\n",
       "    </tr>\n",
       "    <tr>\n",
       "      <th>DELETE</th>\n",
       "      <td>307098</td>\n",
       "    </tr>\n",
       "    <tr>\n",
       "      <th>DELETE_FROM</th>\n",
       "      <td>12569</td>\n",
       "    </tr>\n",
       "    <tr>\n",
       "      <th>INSERT</th>\n",
       "      <td>336175</td>\n",
       "    </tr>\n",
       "  </tbody>\n",
       "</table>\n",
       "</div>"
      ],
      "text/plain": [
       "                  1\n",
       "0                  \n",
       "CHANGE       135183\n",
       "DELETE       307098\n",
       "DELETE_FROM   12569\n",
       "INSERT       336175"
      ]
     },
     "execution_count": 123,
     "metadata": {},
     "output_type": "execute_result"
    }
   ],
   "source": [
    "pd.concat(dict_).groupby(0).sum()"
   ]
  },
  {
   "cell_type": "code",
   "execution_count": 121,
   "metadata": {},
   "outputs": [
    {
     "data": {
      "text/html": [
       "<div>\n",
       "<style scoped>\n",
       "    .dataframe tbody tr th:only-of-type {\n",
       "        vertical-align: middle;\n",
       "    }\n",
       "\n",
       "    .dataframe tbody tr th {\n",
       "        vertical-align: top;\n",
       "    }\n",
       "\n",
       "    .dataframe thead th {\n",
       "        text-align: right;\n",
       "    }\n",
       "</style>\n",
       "<table border=\"1\" class=\"dataframe\">\n",
       "  <thead>\n",
       "    <tr style=\"text-align: right;\">\n",
       "      <th></th>\n",
       "      <th>1</th>\n",
       "    </tr>\n",
       "    <tr>\n",
       "      <th>0</th>\n",
       "      <th></th>\n",
       "    </tr>\n",
       "  </thead>\n",
       "  <tbody>\n",
       "    <tr>\n",
       "      <th>CHANGE</th>\n",
       "      <td>95554</td>\n",
       "    </tr>\n",
       "    <tr>\n",
       "      <th>DELETE</th>\n",
       "      <td>181376</td>\n",
       "    </tr>\n",
       "    <tr>\n",
       "      <th>DELETE_FROM</th>\n",
       "      <td>6299</td>\n",
       "    </tr>\n",
       "    <tr>\n",
       "      <th>INSERT</th>\n",
       "      <td>207306</td>\n",
       "    </tr>\n",
       "  </tbody>\n",
       "</table>\n",
       "</div>"
      ],
      "text/plain": [
       "                  1\n",
       "0                  \n",
       "CHANGE        95554\n",
       "DELETE       181376\n",
       "DELETE_FROM    6299\n",
       "INSERT       207306"
      ]
     },
     "execution_count": 121,
     "metadata": {},
     "output_type": "execute_result"
    }
   ],
   "source": [
    "pd.concat(dict_).groupby(0).sum()"
   ]
  },
  {
   "cell_type": "markdown",
   "metadata": {},
   "source": [
    "# Random Forests"
   ]
  },
  {
   "cell_type": "code",
   "execution_count": null,
   "metadata": {},
   "outputs": [],
   "source": [
    "# dh['predic'] = [1 if x in (Msg_T) else 0 for x in dh['msg_seq_num']]\n",
    "# dl['msg_seq_num'].apply(lambda x: 1 if x in (Msg_T) else 0)"
   ]
  },
  {
   "cell_type": "code",
   "execution_count": 18,
   "metadata": {},
   "outputs": [],
   "source": [
    "dh['predic'] = 0"
   ]
  },
  {
   "cell_type": "code",
   "execution_count": 19,
   "metadata": {},
   "outputs": [],
   "source": [
    "dh.loc[dh['msg_seq_num'].isin(Previ), 'predic'] = 1"
   ]
  },
  {
   "cell_type": "code",
   "execution_count": 20,
   "metadata": {},
   "outputs": [],
   "source": [
    "dh.drop(['index'], axis =1, inplace = True)\n",
    "dh.reset_index(inplace=True)"
   ]
  },
  {
   "cell_type": "code",
   "execution_count": 21,
   "metadata": {},
   "outputs": [],
   "source": [
    "dh.dropna(inplace = True)"
   ]
  },
  {
   "cell_type": "code",
   "execution_count": 22,
   "metadata": {},
   "outputs": [],
   "source": [
    "everything = pd.get_dummies(dh[['symbol', 'side', 'event_type', 'quantity', 'price', 'predic']])"
   ]
  },
  {
   "cell_type": "code",
   "execution_count": 62,
   "metadata": {},
   "outputs": [
    {
     "data": {
      "text/html": [
       "<div>\n",
       "<style scoped>\n",
       "    .dataframe tbody tr th:only-of-type {\n",
       "        vertical-align: middle;\n",
       "    }\n",
       "\n",
       "    .dataframe tbody tr th {\n",
       "        vertical-align: top;\n",
       "    }\n",
       "\n",
       "    .dataframe thead th {\n",
       "        text-align: right;\n",
       "    }\n",
       "</style>\n",
       "<table border=\"1\" class=\"dataframe\">\n",
       "  <thead>\n",
       "    <tr style=\"text-align: right;\">\n",
       "      <th></th>\n",
       "      <th>quantity</th>\n",
       "      <th>price</th>\n",
       "      <th>predic</th>\n",
       "      <th>symbol_DOLG20</th>\n",
       "      <th>symbol_WDOG20</th>\n",
       "      <th>side_A</th>\n",
       "      <th>side_B</th>\n",
       "      <th>event_type_CHANGE</th>\n",
       "      <th>event_type_INSERT</th>\n",
       "    </tr>\n",
       "  </thead>\n",
       "  <tbody>\n",
       "    <tr>\n",
       "      <th>0</th>\n",
       "      <td>27.0</td>\n",
       "      <td>4020.0</td>\n",
       "      <td>0</td>\n",
       "      <td>0</td>\n",
       "      <td>1</td>\n",
       "      <td>1</td>\n",
       "      <td>0</td>\n",
       "      <td>0</td>\n",
       "      <td>1</td>\n",
       "    </tr>\n",
       "    <tr>\n",
       "      <th>1</th>\n",
       "      <td>5.0</td>\n",
       "      <td>4063.5</td>\n",
       "      <td>0</td>\n",
       "      <td>1</td>\n",
       "      <td>0</td>\n",
       "      <td>1</td>\n",
       "      <td>0</td>\n",
       "      <td>0</td>\n",
       "      <td>1</td>\n",
       "    </tr>\n",
       "    <tr>\n",
       "      <th>2</th>\n",
       "      <td>20.0</td>\n",
       "      <td>4027.0</td>\n",
       "      <td>0</td>\n",
       "      <td>1</td>\n",
       "      <td>0</td>\n",
       "      <td>0</td>\n",
       "      <td>1</td>\n",
       "      <td>0</td>\n",
       "      <td>1</td>\n",
       "    </tr>\n",
       "    <tr>\n",
       "      <th>3</th>\n",
       "      <td>1.0</td>\n",
       "      <td>4052.0</td>\n",
       "      <td>0</td>\n",
       "      <td>0</td>\n",
       "      <td>1</td>\n",
       "      <td>0</td>\n",
       "      <td>1</td>\n",
       "      <td>0</td>\n",
       "      <td>1</td>\n",
       "    </tr>\n",
       "    <tr>\n",
       "      <th>4</th>\n",
       "      <td>1.0</td>\n",
       "      <td>4050.5</td>\n",
       "      <td>0</td>\n",
       "      <td>0</td>\n",
       "      <td>1</td>\n",
       "      <td>0</td>\n",
       "      <td>1</td>\n",
       "      <td>0</td>\n",
       "      <td>1</td>\n",
       "    </tr>\n",
       "    <tr>\n",
       "      <th>...</th>\n",
       "      <td>...</td>\n",
       "      <td>...</td>\n",
       "      <td>...</td>\n",
       "      <td>...</td>\n",
       "      <td>...</td>\n",
       "      <td>...</td>\n",
       "      <td>...</td>\n",
       "      <td>...</td>\n",
       "      <td>...</td>\n",
       "    </tr>\n",
       "    <tr>\n",
       "      <th>2221381</th>\n",
       "      <td>5.0</td>\n",
       "      <td>4067.0</td>\n",
       "      <td>0</td>\n",
       "      <td>0</td>\n",
       "      <td>1</td>\n",
       "      <td>0</td>\n",
       "      <td>1</td>\n",
       "      <td>0</td>\n",
       "      <td>1</td>\n",
       "    </tr>\n",
       "    <tr>\n",
       "      <th>2221382</th>\n",
       "      <td>5.0</td>\n",
       "      <td>4067.0</td>\n",
       "      <td>0</td>\n",
       "      <td>0</td>\n",
       "      <td>1</td>\n",
       "      <td>0</td>\n",
       "      <td>1</td>\n",
       "      <td>0</td>\n",
       "      <td>1</td>\n",
       "    </tr>\n",
       "    <tr>\n",
       "      <th>2221383</th>\n",
       "      <td>4.0</td>\n",
       "      <td>4067.5</td>\n",
       "      <td>0</td>\n",
       "      <td>0</td>\n",
       "      <td>1</td>\n",
       "      <td>1</td>\n",
       "      <td>0</td>\n",
       "      <td>0</td>\n",
       "      <td>1</td>\n",
       "    </tr>\n",
       "    <tr>\n",
       "      <th>2221384</th>\n",
       "      <td>4.0</td>\n",
       "      <td>4063.0</td>\n",
       "      <td>0</td>\n",
       "      <td>0</td>\n",
       "      <td>1</td>\n",
       "      <td>0</td>\n",
       "      <td>1</td>\n",
       "      <td>1</td>\n",
       "      <td>0</td>\n",
       "    </tr>\n",
       "    <tr>\n",
       "      <th>2221385</th>\n",
       "      <td>50.0</td>\n",
       "      <td>4074.5</td>\n",
       "      <td>0</td>\n",
       "      <td>1</td>\n",
       "      <td>0</td>\n",
       "      <td>1</td>\n",
       "      <td>0</td>\n",
       "      <td>0</td>\n",
       "      <td>1</td>\n",
       "    </tr>\n",
       "  </tbody>\n",
       "</table>\n",
       "<p>2221386 rows × 9 columns</p>\n",
       "</div>"
      ],
      "text/plain": [
       "         quantity   price  predic  symbol_DOLG20  symbol_WDOG20  side_A  \\\n",
       "0            27.0  4020.0       0              0              1       1   \n",
       "1             5.0  4063.5       0              1              0       1   \n",
       "2            20.0  4027.0       0              1              0       0   \n",
       "3             1.0  4052.0       0              0              1       0   \n",
       "4             1.0  4050.5       0              0              1       0   \n",
       "...           ...     ...     ...            ...            ...     ...   \n",
       "2221381       5.0  4067.0       0              0              1       0   \n",
       "2221382       5.0  4067.0       0              0              1       0   \n",
       "2221383       4.0  4067.5       0              0              1       1   \n",
       "2221384       4.0  4063.0       0              0              1       0   \n",
       "2221385      50.0  4074.5       0              1              0       1   \n",
       "\n",
       "         side_B  event_type_CHANGE  event_type_INSERT  \n",
       "0             0                  0                  1  \n",
       "1             0                  0                  1  \n",
       "2             1                  0                  1  \n",
       "3             1                  0                  1  \n",
       "4             1                  0                  1  \n",
       "...         ...                ...                ...  \n",
       "2221381       1                  0                  1  \n",
       "2221382       1                  0                  1  \n",
       "2221383       0                  0                  1  \n",
       "2221384       1                  1                  0  \n",
       "2221385       0                  0                  1  \n",
       "\n",
       "[2221386 rows x 9 columns]"
      ]
     },
     "execution_count": 62,
     "metadata": {},
     "output_type": "execute_result"
    }
   ],
   "source": [
    "everything"
   ]
  },
  {
   "cell_type": "code",
   "execution_count": 49,
   "metadata": {},
   "outputs": [],
   "source": [
    "everything = everything.reset_index().drop({'level_0', 'index'}, axis =1)"
   ]
  },
  {
   "cell_type": "code",
   "execution_count": 50,
   "metadata": {},
   "outputs": [],
   "source": [
    "X = everything[['symbol_DOLG20', 'symbol_WDOG20','side_A', 'side_B', 'event_type_CHANGE', 'event_type_INSERT',  'quantity', 'price']]\n",
    "y = everything[['predic']]"
   ]
  },
  {
   "cell_type": "code",
   "execution_count": 53,
   "metadata": {},
   "outputs": [],
   "source": [
    "from sklearn.model_selection import train_test_split\n",
    "X_train, X_test, y_train, y_test = train_test_split(X, y , test_size=0.50, random_state=42, stratify=y)\n"
   ]
  },
  {
   "cell_type": "code",
   "execution_count": 57,
   "metadata": {},
   "outputs": [],
   "source": [
    "from sklearn.preprocessing import StandardScaler\n",
    "\n",
    "sc = StandardScaler()\n",
    "X_train = sc.fit_transform(X_train)\n",
    "X_test = sc.transform(X_test)\n"
   ]
  },
  {
   "cell_type": "code",
   "execution_count": 86,
   "metadata": {},
   "outputs": [
    {
     "name": "stderr",
     "output_type": "stream",
     "text": [
      "/home/asimovws/.local/lib/python3.6/site-packages/ipykernel_launcher.py:6: DataConversionWarning: A column-vector y was passed when a 1d array was expected. Please change the shape of y to (n_samples,), for example using ravel().\n",
      "  \n"
     ]
    }
   ],
   "source": [
    "from sklearn.ensemble import RandomForestClassifier\n",
    "from sklearn.ensemble import GradientBoostingClassifier\n",
    "\n",
    "\n",
    "clf = RandomForestClassifier(n_estimators = 200, random_state=0, class_weight='balanced')\n",
    "clf.fit(X_train, y_train)\n",
    "y_pred = clf.predict(X_test)\n"
   ]
  },
  {
   "cell_type": "code",
   "execution_count": 89,
   "metadata": {},
   "outputs": [
    {
     "name": "stdout",
     "output_type": "stream",
     "text": [
      "[[915270   1961]\n",
      " [191494   1968]]\n",
      "              precision    recall  f1-score   support\n",
      "\n",
      "           0       1.00      0.83      0.90   1106764\n",
      "           1       0.01      0.50      0.02      3929\n",
      "\n",
      "    accuracy                           0.83   1110693\n",
      "   macro avg       0.50      0.66      0.46   1110693\n",
      "weighted avg       0.99      0.83      0.90   1110693\n",
      "\n",
      "0.8258249579316697\n"
     ]
    }
   ],
   "source": [
    "from sklearn.metrics import classification_report, confusion_matrix, accuracy_score\n",
    "\n",
    "print(confusion_matrix(y_pred,y_test))\n",
    "print(classification_report(y_test,y_pred))\n",
    "print(accuracy_score(y_test, y_pred))"
   ]
  },
  {
   "cell_type": "code",
   "execution_count": 88,
   "metadata": {},
   "outputs": [
    {
     "name": "stdout",
     "output_type": "stream",
     "text": [
      "Accuracy: 0.8258249579316697\n"
     ]
    }
   ],
   "source": [
    "from sklearn import metrics\n",
    "\n",
    "\n",
    "print(\"Accuracy:\",metrics.accuracy_score(y_test, y_pred))\n",
    "\n"
   ]
  },
  {
   "cell_type": "code",
   "execution_count": 84,
   "metadata": {},
   "outputs": [
    {
     "data": {
      "text/plain": [
       "price                0.436431\n",
       "quantity             0.410972\n",
       "symbol_WDOG20        0.039976\n",
       "event_type_INSERT    0.028792\n",
       "event_type_CHANGE    0.027397\n",
       "symbol_DOLG20        0.026928\n",
       "side_A               0.015072\n",
       "side_B               0.014431\n",
       "dtype: float64"
      ]
     },
     "execution_count": 84,
     "metadata": {},
     "output_type": "execute_result"
    }
   ],
   "source": [
    "feature_imp = pd.Series(clf.feature_importances_,index=X.columns).sort_values(ascending=False)\n",
    "feature_imp\n",
    "\n"
   ]
  },
  {
   "cell_type": "markdown",
   "metadata": {},
   "source": [
    "# Gradient Boosting\n"
   ]
  },
  {
   "cell_type": "code",
   "execution_count": 80,
   "metadata": {},
   "outputs": [
    {
     "ename": "TypeError",
     "evalue": "__init__() got an unexpected keyword argument 'class_weight'",
     "output_type": "error",
     "traceback": [
      "\u001b[0;31m---------------------------------------------------------------------------\u001b[0m",
      "\u001b[0;31mTypeError\u001b[0m                                 Traceback (most recent call last)",
      "\u001b[0;32m<ipython-input-80-8f0908e1f9a2>\u001b[0m in \u001b[0;36m<module>\u001b[0;34m\u001b[0m\n\u001b[0;32m----> 1\u001b[0;31m \u001b[0mgb_clf\u001b[0m \u001b[0;34m=\u001b[0m \u001b[0mGradientBoostingClassifier\u001b[0m\u001b[0;34m(\u001b[0m\u001b[0mn_estimators\u001b[0m\u001b[0;34m=\u001b[0m\u001b[0;36m20\u001b[0m\u001b[0;34m,\u001b[0m \u001b[0mlearning_rate\u001b[0m\u001b[0;34m=\u001b[0m\u001b[0;36m0.05\u001b[0m\u001b[0;34m,\u001b[0m \u001b[0mmax_features\u001b[0m\u001b[0;34m=\u001b[0m\u001b[0;36m2\u001b[0m\u001b[0;34m,\u001b[0m \u001b[0mmax_depth\u001b[0m\u001b[0;34m=\u001b[0m\u001b[0;36m2\u001b[0m\u001b[0;34m,\u001b[0m \u001b[0mrandom_state\u001b[0m\u001b[0;34m=\u001b[0m\u001b[0;36m0\u001b[0m\u001b[0;34m,\u001b[0m \u001b[0mclass_weight\u001b[0m\u001b[0;34m=\u001b[0m\u001b[0;34m'balanced'\u001b[0m\u001b[0;34m)\u001b[0m\u001b[0;34m\u001b[0m\u001b[0;34m\u001b[0m\u001b[0m\n\u001b[0m\u001b[1;32m      2\u001b[0m \u001b[0mgb_clf\u001b[0m\u001b[0;34m.\u001b[0m\u001b[0mfit\u001b[0m\u001b[0;34m(\u001b[0m\u001b[0mX_train\u001b[0m\u001b[0;34m,\u001b[0m \u001b[0my_train\u001b[0m\u001b[0;34m)\u001b[0m\u001b[0;34m\u001b[0m\u001b[0;34m\u001b[0m\u001b[0m\n\u001b[1;32m      3\u001b[0m \u001b[0;34m\u001b[0m\u001b[0m\n\u001b[1;32m      4\u001b[0m \u001b[0mfeature_imp\u001b[0m \u001b[0;34m=\u001b[0m \u001b[0mpd\u001b[0m\u001b[0;34m.\u001b[0m\u001b[0mSeries\u001b[0m\u001b[0;34m(\u001b[0m\u001b[0mgb_clf\u001b[0m\u001b[0;34m.\u001b[0m\u001b[0mfeature_importances_\u001b[0m\u001b[0;34m,\u001b[0m\u001b[0mindex\u001b[0m\u001b[0;34m=\u001b[0m\u001b[0mX\u001b[0m\u001b[0;34m.\u001b[0m\u001b[0mcolumns\u001b[0m\u001b[0;34m)\u001b[0m\u001b[0;34m.\u001b[0m\u001b[0msort_values\u001b[0m\u001b[0;34m(\u001b[0m\u001b[0mascending\u001b[0m\u001b[0;34m=\u001b[0m\u001b[0;32mFalse\u001b[0m\u001b[0;34m)\u001b[0m\u001b[0;34m\u001b[0m\u001b[0;34m\u001b[0m\u001b[0m\n\u001b[1;32m      5\u001b[0m \u001b[0mfeature_imp\u001b[0m\u001b[0;34m\u001b[0m\u001b[0;34m\u001b[0m\u001b[0m\n",
      "\u001b[0;31mTypeError\u001b[0m: __init__() got an unexpected keyword argument 'class_weight'"
     ]
    }
   ],
   "source": [
    "gb_clf = GradientBoostingClassifier(n_estimators=20, learning_rate=0.05, max_features=2, max_depth=2, random_state=0, class_weight='balanced')\n",
    "gb_clf.fit(X_train, y_train)\n",
    "\n",
    "feature_imp = pd.Series(gb_clf.feature_importances_,index=X.columns).sort_values(ascending=False)\n",
    "feature_imp\n"
   ]
  },
  {
   "cell_type": "code",
   "execution_count": 68,
   "metadata": {},
   "outputs": [
    {
     "ename": "ModuleNotFoundError",
     "evalue": "No module named 'xgboost'",
     "output_type": "error",
     "traceback": [
      "\u001b[0;31m---------------------------------------------------------------------------\u001b[0m",
      "\u001b[0;31mModuleNotFoundError\u001b[0m                       Traceback (most recent call last)",
      "\u001b[0;32m<ipython-input-68-3e42f3bd111a>\u001b[0m in \u001b[0;36m<module>\u001b[0;34m\u001b[0m\n\u001b[0;32m----> 1\u001b[0;31m \u001b[0;32mfrom\u001b[0m \u001b[0mxgboost\u001b[0m \u001b[0;32mimport\u001b[0m \u001b[0mXGBClassifier\u001b[0m\u001b[0;34m\u001b[0m\u001b[0;34m\u001b[0m\u001b[0m\n\u001b[0m\u001b[1;32m      2\u001b[0m \u001b[0;34m\u001b[0m\u001b[0m\n\u001b[1;32m      3\u001b[0m \u001b[0mxgb_clf\u001b[0m \u001b[0;34m=\u001b[0m \u001b[0mXGBClassifier\u001b[0m\u001b[0;34m(\u001b[0m\u001b[0;34m)\u001b[0m\u001b[0;34m\u001b[0m\u001b[0;34m\u001b[0m\u001b[0m\n\u001b[1;32m      4\u001b[0m \u001b[0mxgb_clf\u001b[0m\u001b[0;34m.\u001b[0m\u001b[0mfit\u001b[0m\u001b[0;34m(\u001b[0m\u001b[0mX_train\u001b[0m\u001b[0;34m,\u001b[0m \u001b[0my_train\u001b[0m\u001b[0;34m)\u001b[0m\u001b[0;34m\u001b[0m\u001b[0;34m\u001b[0m\u001b[0m\n\u001b[1;32m      5\u001b[0m \u001b[0;34m\u001b[0m\u001b[0m\n",
      "\u001b[0;31mModuleNotFoundError\u001b[0m: No module named 'xgboost'"
     ]
    }
   ],
   "source": [
    "from xgboost import XGBClassifier\n",
    "\n",
    "xgb_clf = XGBClassifier()\n",
    "xgb_clf.fit(X_train, y_train)\n",
    "\n",
    "score = xgb_clf.score(X_val, y_val)\n",
    "print(score)\n"
   ]
  },
  {
   "cell_type": "code",
   "execution_count": null,
   "metadata": {},
   "outputs": [],
   "source": []
  }
 ],
 "metadata": {
  "kernelspec": {
   "display_name": "Python 3",
   "language": "python",
   "name": "python3"
  },
  "language_info": {
   "codemirror_mode": {
    "name": "ipython",
    "version": 3
   },
   "file_extension": ".py",
   "mimetype": "text/x-python",
   "name": "python",
   "nbconvert_exporter": "python",
   "pygments_lexer": "ipython3",
   "version": "3.6.8"
  }
 },
 "nbformat": 4,
 "nbformat_minor": 4
}
