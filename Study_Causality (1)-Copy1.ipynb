{
 "cells": [
  {
   "cell_type": "code",
   "execution_count": 1,
   "metadata": {},
   "outputs": [],
   "source": [
    "import asimov_database as ad\n",
    "import numpy as np\n",
    "\n",
    "pr = ad.ParquetReader()\n",
    "level_data = pr.get_parquet(\"DOLZ19\", \"2019-11-11\", \"level-book\")\n",
    "events = pr.get_parquet(\"DOLZ19\", \"2019-11-11\", \"events\")[\"incremental\"].read().to_pandas()\n",
    "snap = pr.get_parquet(\"DOLZ19\", \"2019-11-11\", \"events\")[\"snapshot\"].read().to_pandas()"
   ]
  },
  {
   "cell_type": "code",
   "execution_count": 2,
   "metadata": {},
   "outputs": [],
   "source": [
    "level_data_wdo = pr.get_parquet(\"WDOZ19\", \"2019-11-11\", \"level-book\")\n",
    "events_wdo = pr.get_parquet(\"WDOZ19\", \"2019-11-11\", \"events\")[\"incremental\"].read().to_pandas()\n",
    "snap_wdo = pr.get_parquet(\"WDOZ19\", \"2019-11-11\", \"events\")[\"snapshot\"].read().to_pandas()"
   ]
  },
  {
   "cell_type": "code",
   "execution_count": 3,
   "metadata": {},
   "outputs": [],
   "source": [
    "bid_price = level_data[\"bid_price\"].read().to_pandas()\n",
    "bid_quantity = level_data[\"bid_quantity\"].read().to_pandas()\n",
    "bid_inc_code = level_data[\"bid_inc_code\"].read().to_pandas()\n",
    "\n",
    "ask_price = level_data[\"ask_price\"].read().to_pandas()\n",
    "ask_quantity = level_data[\"ask_quantity\"].read().to_pandas()\n",
    "ask_inc_code = level_data[\"ask_inc_code\"].read().to_pandas()"
   ]
  },
  {
   "cell_type": "code",
   "execution_count": 4,
   "metadata": {},
   "outputs": [],
   "source": [
    "bid_price_wdo= level_data_wdo[\"bid_price\"].read().to_pandas()\n",
    "bid_quantity_wdo = level_data_wdo[\"bid_quantity\"].read().to_pandas()\n",
    "bid_inc_code_wdo = level_data_wdo[\"bid_inc_code\"].read().to_pandas()\n",
    "\n",
    "ask_price_wdo = level_data_wdo[\"ask_price\"].read().to_pandas()\n",
    "ask_quantity_wdo = level_data_wdo[\"ask_quantity\"].read().to_pandas()\n",
    "ask_inc_code_wdo = level_data_wdo[\"ask_inc_code\"].read().to_pandas()"
   ]
  },
  {
   "cell_type": "code",
   "execution_count": 5,
   "metadata": {},
   "outputs": [],
   "source": [
    "bid_wdo = bid_price_wdo[[\"bid_0\"]].copy()\n",
    "bid_quantity_wdo.columns = [\"bid_quantity_wdo_{}\".format(i) for i in range(bid_quantity_wdo.shape[1])]\n",
    "bid_wdo[\"bid_quantity_wdo_0\"] = bid_quantity_wdo[\"bid_quantity_wdo_0\"]\n",
    "bid_wdo[\"i_bid_wdo\"] = bid_inc_code_wdo[0]#.apply(lambda x: \"B_\" + str(x))\n",
    "bid_wdo.rename({'bid_0' : 'bid_wdo_0'}, axis = 1, inplace = True )"
   ]
  },
  {
   "cell_type": "code",
   "execution_count": 6,
   "metadata": {},
   "outputs": [
    {
     "data": {
      "text/html": [
       "<div>\n",
       "<style scoped>\n",
       "    .dataframe tbody tr th:only-of-type {\n",
       "        vertical-align: middle;\n",
       "    }\n",
       "\n",
       "    .dataframe tbody tr th {\n",
       "        vertical-align: top;\n",
       "    }\n",
       "\n",
       "    .dataframe thead th {\n",
       "        text-align: right;\n",
       "    }\n",
       "</style>\n",
       "<table border=\"1\" class=\"dataframe\">\n",
       "  <thead>\n",
       "    <tr style=\"text-align: right;\">\n",
       "      <th></th>\n",
       "      <th>bid_wdo_0</th>\n",
       "      <th>bid_quantity_wdo_0</th>\n",
       "      <th>i_bid_wdo</th>\n",
       "    </tr>\n",
       "  </thead>\n",
       "  <tbody>\n",
       "    <tr>\n",
       "      <th>2019-11-11 10:30:18.079000+00:00</th>\n",
       "      <td>0.0</td>\n",
       "      <td>0.0</td>\n",
       "      <td>0</td>\n",
       "    </tr>\n",
       "    <tr>\n",
       "      <th>2019-11-11 10:30:18.079000+00:00</th>\n",
       "      <td>0.0</td>\n",
       "      <td>0.0</td>\n",
       "      <td>1</td>\n",
       "    </tr>\n",
       "    <tr>\n",
       "      <th>2019-11-11 11:18:30.414000+00:00</th>\n",
       "      <td>0.0</td>\n",
       "      <td>0.0</td>\n",
       "      <td>2</td>\n",
       "    </tr>\n",
       "    <tr>\n",
       "      <th>2019-11-11 11:18:30.414000+00:00</th>\n",
       "      <td>0.0</td>\n",
       "      <td>0.0</td>\n",
       "      <td>3</td>\n",
       "    </tr>\n",
       "    <tr>\n",
       "      <th>2019-11-11 11:55:00.015000+00:00</th>\n",
       "      <td>0.0</td>\n",
       "      <td>0.0</td>\n",
       "      <td>4</td>\n",
       "    </tr>\n",
       "  </tbody>\n",
       "</table>\n",
       "</div>"
      ],
      "text/plain": [
       "                                  bid_wdo_0  bid_quantity_wdo_0  i_bid_wdo\n",
       "2019-11-11 10:30:18.079000+00:00        0.0                 0.0          0\n",
       "2019-11-11 10:30:18.079000+00:00        0.0                 0.0          1\n",
       "2019-11-11 11:18:30.414000+00:00        0.0                 0.0          2\n",
       "2019-11-11 11:18:30.414000+00:00        0.0                 0.0          3\n",
       "2019-11-11 11:55:00.015000+00:00        0.0                 0.0          4"
      ]
     },
     "execution_count": 6,
     "metadata": {},
     "output_type": "execute_result"
    }
   ],
   "source": [
    "bid_wdo.head()"
   ]
  },
  {
   "cell_type": "code",
   "execution_count": 7,
   "metadata": {},
   "outputs": [
    {
     "data": {
      "text/html": [
       "<div>\n",
       "<style scoped>\n",
       "    .dataframe tbody tr th:only-of-type {\n",
       "        vertical-align: middle;\n",
       "    }\n",
       "\n",
       "    .dataframe tbody tr th {\n",
       "        vertical-align: top;\n",
       "    }\n",
       "\n",
       "    .dataframe thead th {\n",
       "        text-align: right;\n",
       "    }\n",
       "</style>\n",
       "<table border=\"1\" class=\"dataframe\">\n",
       "  <thead>\n",
       "    <tr style=\"text-align: right;\">\n",
       "      <th></th>\n",
       "      <th>bid_0</th>\n",
       "      <th>bid_quantity_0</th>\n",
       "      <th>i_bid</th>\n",
       "    </tr>\n",
       "  </thead>\n",
       "  <tbody>\n",
       "    <tr>\n",
       "      <th>2019-11-11 10:30:18.079000+00:00</th>\n",
       "      <td>0.0</td>\n",
       "      <td>0.0</td>\n",
       "      <td>0</td>\n",
       "    </tr>\n",
       "    <tr>\n",
       "      <th>2019-11-11 10:30:18.079000+00:00</th>\n",
       "      <td>0.0</td>\n",
       "      <td>0.0</td>\n",
       "      <td>1</td>\n",
       "    </tr>\n",
       "    <tr>\n",
       "      <th>2019-11-11 11:18:30.414000+00:00</th>\n",
       "      <td>0.0</td>\n",
       "      <td>0.0</td>\n",
       "      <td>2</td>\n",
       "    </tr>\n",
       "    <tr>\n",
       "      <th>2019-11-11 11:18:30.414000+00:00</th>\n",
       "      <td>0.0</td>\n",
       "      <td>0.0</td>\n",
       "      <td>3</td>\n",
       "    </tr>\n",
       "    <tr>\n",
       "      <th>2019-11-11 11:55:00.014000+00:00</th>\n",
       "      <td>0.0</td>\n",
       "      <td>0.0</td>\n",
       "      <td>4</td>\n",
       "    </tr>\n",
       "  </tbody>\n",
       "</table>\n",
       "</div>"
      ],
      "text/plain": [
       "                                  bid_0  bid_quantity_0  i_bid\n",
       "2019-11-11 10:30:18.079000+00:00    0.0             0.0      0\n",
       "2019-11-11 10:30:18.079000+00:00    0.0             0.0      1\n",
       "2019-11-11 11:18:30.414000+00:00    0.0             0.0      2\n",
       "2019-11-11 11:18:30.414000+00:00    0.0             0.0      3\n",
       "2019-11-11 11:55:00.014000+00:00    0.0             0.0      4"
      ]
     },
     "execution_count": 7,
     "metadata": {},
     "output_type": "execute_result"
    }
   ],
   "source": [
    "bid = bid_price[[\"bid_0\"]].copy()\n",
    "bid_quantity.columns = [\"bid_quantity_{}\".format(i) for i in range(bid_quantity.shape[1])]\n",
    "bid[\"bid_quantity_0\"] = bid_quantity[\"bid_quantity_0\"]\n",
    "bid[\"i_bid\"] = bid_inc_code[0]#.apply(lambda x: \"B_\" + str(x))\n",
    "bid.head()"
   ]
  },
  {
   "cell_type": "code",
   "execution_count": 8,
   "metadata": {},
   "outputs": [
    {
     "data": {
      "text/html": [
       "<div>\n",
       "<style scoped>\n",
       "    .dataframe tbody tr th:only-of-type {\n",
       "        vertical-align: middle;\n",
       "    }\n",
       "\n",
       "    .dataframe tbody tr th {\n",
       "        vertical-align: top;\n",
       "    }\n",
       "\n",
       "    .dataframe thead th {\n",
       "        text-align: right;\n",
       "    }\n",
       "</style>\n",
       "<table border=\"1\" class=\"dataframe\">\n",
       "  <thead>\n",
       "    <tr style=\"text-align: right;\">\n",
       "      <th></th>\n",
       "      <th>ask_0</th>\n",
       "      <th>ask_quantity_0</th>\n",
       "      <th>i_ask</th>\n",
       "    </tr>\n",
       "  </thead>\n",
       "  <tbody>\n",
       "    <tr>\n",
       "      <th>2019-11-11 10:30:18.079000+00:00</th>\n",
       "      <td>0.0</td>\n",
       "      <td>0.0</td>\n",
       "      <td>0</td>\n",
       "    </tr>\n",
       "    <tr>\n",
       "      <th>2019-11-11 10:30:18.079000+00:00</th>\n",
       "      <td>0.0</td>\n",
       "      <td>0.0</td>\n",
       "      <td>1</td>\n",
       "    </tr>\n",
       "    <tr>\n",
       "      <th>2019-11-11 11:18:30.414000+00:00</th>\n",
       "      <td>0.0</td>\n",
       "      <td>0.0</td>\n",
       "      <td>2</td>\n",
       "    </tr>\n",
       "  </tbody>\n",
       "</table>\n",
       "</div>"
      ],
      "text/plain": [
       "                                  ask_0  ask_quantity_0  i_ask\n",
       "2019-11-11 10:30:18.079000+00:00    0.0             0.0      0\n",
       "2019-11-11 10:30:18.079000+00:00    0.0             0.0      1\n",
       "2019-11-11 11:18:30.414000+00:00    0.0             0.0      2"
      ]
     },
     "execution_count": 8,
     "metadata": {},
     "output_type": "execute_result"
    }
   ],
   "source": [
    "ask = ask_price[[\"ask_0\"]].copy()\n",
    "ask_quantity.columns = [\"ask_quantity_{}\".format(i) for i in range(ask_quantity.shape[1])]\n",
    "ask[\"ask_quantity_0\"] = ask_quantity[\"ask_quantity_0\"]\n",
    "ask[\"i_ask\"] =ask_inc_code[0]#.apply(lambda x: \"A_\" + str(x))\n",
    "ask.head(3)"
   ]
  },
  {
   "cell_type": "code",
   "execution_count": 9,
   "metadata": {},
   "outputs": [
    {
     "data": {
      "text/html": [
       "<div>\n",
       "<style scoped>\n",
       "    .dataframe tbody tr th:only-of-type {\n",
       "        vertical-align: middle;\n",
       "    }\n",
       "\n",
       "    .dataframe tbody tr th {\n",
       "        vertical-align: top;\n",
       "    }\n",
       "\n",
       "    .dataframe thead th {\n",
       "        text-align: right;\n",
       "    }\n",
       "</style>\n",
       "<table border=\"1\" class=\"dataframe\">\n",
       "  <thead>\n",
       "    <tr style=\"text-align: right;\">\n",
       "      <th></th>\n",
       "      <th>ask_wdo_0</th>\n",
       "      <th>ask_quantity_wdo_0</th>\n",
       "      <th>i_ask_wdo</th>\n",
       "    </tr>\n",
       "  </thead>\n",
       "  <tbody>\n",
       "    <tr>\n",
       "      <th>2019-11-11 10:30:18.079000+00:00</th>\n",
       "      <td>0.0</td>\n",
       "      <td>0.0</td>\n",
       "      <td>0</td>\n",
       "    </tr>\n",
       "    <tr>\n",
       "      <th>2019-11-11 10:30:18.079000+00:00</th>\n",
       "      <td>0.0</td>\n",
       "      <td>0.0</td>\n",
       "      <td>1</td>\n",
       "    </tr>\n",
       "    <tr>\n",
       "      <th>2019-11-11 11:18:30.414000+00:00</th>\n",
       "      <td>0.0</td>\n",
       "      <td>0.0</td>\n",
       "      <td>2</td>\n",
       "    </tr>\n",
       "  </tbody>\n",
       "</table>\n",
       "</div>"
      ],
      "text/plain": [
       "                                  ask_wdo_0  ask_quantity_wdo_0  i_ask_wdo\n",
       "2019-11-11 10:30:18.079000+00:00        0.0                 0.0          0\n",
       "2019-11-11 10:30:18.079000+00:00        0.0                 0.0          1\n",
       "2019-11-11 11:18:30.414000+00:00        0.0                 0.0          2"
      ]
     },
     "execution_count": 9,
     "metadata": {},
     "output_type": "execute_result"
    }
   ],
   "source": [
    "ask_wdo = ask_price_wdo[[\"ask_0\"]].copy()\n",
    "\n",
    "ask_wdo.rename({'ask_0':'ask_wdo_0'}, axis = 1, inplace= True)\n",
    "\n",
    "ask_quantity_wdo.columns = [\"ask_quantity_wdo_{}\".format(i) for i in range(ask_quantity_wdo.shape[1])]\n",
    "ask_wdo[\"ask_quantity_wdo_0\"] = ask_quantity_wdo[\"ask_quantity_wdo_0\"]\n",
    "ask_wdo[\"i_ask_wdo\"] =ask_inc_code_wdo[0]#.apply(lambda x: \"A_\" + str(x))\n",
    "ask_wdo.head(3)"
   ]
  },
  {
   "cell_type": "code",
   "execution_count": 10,
   "metadata": {},
   "outputs": [],
   "source": [
    "# events[\"i_bid\"] = \"B_\" + events[\"i\"].astype(str)\n",
    "# events[\"i_ask\"] = \"A_\" + events[\"i\"].astype(str)"
   ]
  },
  {
   "cell_type": "code",
   "execution_count": 11,
   "metadata": {},
   "outputs": [],
   "source": [
    "events.reset_index(inplace=True)\n",
    "events_wdo.reset_index(inplace=True)"
   ]
  },
  {
   "cell_type": "code",
   "execution_count": 12,
   "metadata": {},
   "outputs": [],
   "source": [
    "# events[events['i'] == 485885]#.head()"
   ]
  },
  {
   "cell_type": "code",
   "execution_count": 13,
   "metadata": {},
   "outputs": [
    {
     "data": {
      "text/plain": [
       "array([    16,     19,     20, ..., 541402, 541403, 541404])"
      ]
     },
     "execution_count": 13,
     "metadata": {},
     "output_type": "execute_result"
    }
   ],
   "source": [
    "valor_dol = np.setdiff1d(events['i'].values, bid_inc_code[0].values)\n",
    "valor_dol    "
   ]
  },
  {
   "cell_type": "code",
   "execution_count": 14,
   "metadata": {},
   "outputs": [
    {
     "data": {
      "text/plain": [
       "array([], dtype=int64)"
      ]
     },
     "execution_count": 14,
     "metadata": {},
     "output_type": "execute_result"
    }
   ],
   "source": [
    "retira_dol = np.setdiff1d(valor_dol,ask_inc_code[0].values)\n",
    "retira_dol"
   ]
  },
  {
   "cell_type": "code",
   "execution_count": 15,
   "metadata": {},
   "outputs": [
    {
     "data": {
      "text/plain": [
       "array([      6,       7,       9, ..., 1565016, 1565017, 1565018])"
      ]
     },
     "execution_count": 15,
     "metadata": {},
     "output_type": "execute_result"
    }
   ],
   "source": [
    "valor_wdo_ask = np.setdiff1d(events_wdo['i'].values, bid_inc_code_wdo[0].values)\n",
    "valor_wdo_ask"
   ]
  },
  {
   "cell_type": "code",
   "execution_count": 16,
   "metadata": {},
   "outputs": [
    {
     "data": {
      "text/plain": [
       "array([], dtype=int64)"
      ]
     },
     "execution_count": 16,
     "metadata": {},
     "output_type": "execute_result"
    }
   ],
   "source": [
    "retira_wdo_ask = np.setdiff1d(valor_wdo_ask,ask_inc_code_wdo[0].values)\n",
    "retira_wdo_ask"
   ]
  },
  {
   "cell_type": "code",
   "execution_count": 17,
   "metadata": {},
   "outputs": [
    {
     "data": {
      "text/plain": [
       "array([      5,       8,      11, ..., 1565012, 1565013, 1565015])"
      ]
     },
     "execution_count": 17,
     "metadata": {},
     "output_type": "execute_result"
    }
   ],
   "source": [
    "valor_wdo_bid = np.setdiff1d(events_wdo['i'].values, ask_inc_code_wdo[0].values)\n",
    "valor_wdo_bid"
   ]
  },
  {
   "cell_type": "code",
   "execution_count": 18,
   "metadata": {},
   "outputs": [
    {
     "data": {
      "text/plain": [
       "array([], dtype=int64)"
      ]
     },
     "execution_count": 18,
     "metadata": {},
     "output_type": "execute_result"
    }
   ],
   "source": [
    "retira_wdo_bid = np.setdiff1d(valor_wdo_bid, bid_inc_code_wdo[0].values)\n",
    "retira_wdo_bid"
   ]
  },
  {
   "cell_type": "code",
   "execution_count": 19,
   "metadata": {},
   "outputs": [],
   "source": [
    "events2 = events[events['i'] != 485881 ]\n",
    "events_wdo_3 = events_wdo[ (events_wdo['i'] != 5) & (events_wdo['i'] != 1839051) & (events_wdo['i'] != 2015673) ]\n",
    "\n"
   ]
  },
  {
   "cell_type": "code",
   "execution_count": 20,
   "metadata": {},
   "outputs": [],
   "source": [
    "bid[\"msg_seq_num\"] = events[events[\"side\"] != \"A\"][\"msg_seq_num\"].values\n",
    "ask[\"msg_seq_num\"] = events[events[\"side\"] != \"B\"][\"msg_seq_num\"].values\n",
    "bid_wdo[\"msg_seq_num\"] = events_wdo[events_wdo[\"side\"] != \"A\"][\"msg_seq_num\"].values\n",
    "ask_wdo[\"msg_seq_num\"] = events_wdo[events_wdo[\"side\"] != \"B\"][\"msg_seq_num\"].values"
   ]
  },
  {
   "cell_type": "code",
   "execution_count": 21,
   "metadata": {},
   "outputs": [
    {
     "name": "stderr",
     "output_type": "stream",
     "text": [
      "/home/asimovws/.local/lib/python3.6/site-packages/ipykernel_launcher.py:2: FutureWarning: Sorting because non-concatenation axis is not aligned. A future version\n",
      "of pandas will change to not sort by default.\n",
      "\n",
      "To accept the future behavior, pass 'sort=False'.\n",
      "\n",
      "To retain the current behavior and silence the warning, pass 'sort=True'.\n",
      "\n",
      "  \n",
      "/home/asimovws/.local/lib/python3.6/site-packages/ipykernel_launcher.py:3: FutureWarning: Sorting because non-concatenation axis is not aligned. A future version\n",
      "of pandas will change to not sort by default.\n",
      "\n",
      "To accept the future behavior, pass 'sort=False'.\n",
      "\n",
      "To retain the current behavior and silence the warning, pass 'sort=True'.\n",
      "\n",
      "  This is separate from the ipykernel package so we can avoid doing imports until\n"
     ]
    }
   ],
   "source": [
    "import pandas as pd\n",
    "df = pd.concat([ask, bid]).sort_values(by='msg_seq_num', kind = 'mergesort').reset_index()\n",
    "dl = pd.concat([ask_wdo, bid_wdo]).sort_values(by='msg_seq_num', kind = 'mergesort').reset_index()\n",
    "\n"
   ]
  },
  {
   "cell_type": "code",
   "execution_count": 22,
   "metadata": {},
   "outputs": [],
   "source": [
    "df['symbol'] = 'DOL'\n",
    "dl['symbol'] = 'WDO'"
   ]
  },
  {
   "cell_type": "code",
   "execution_count": 23,
   "metadata": {},
   "outputs": [],
   "source": [
    "df.ffill(inplace=True)\n",
    "df.dropna(inplace=True)\n",
    "dl.ffill(inplace=True)\n",
    "dl.dropna(inplace=True)"
   ]
  },
  {
   "cell_type": "code",
   "execution_count": 24,
   "metadata": {},
   "outputs": [
    {
     "name": "stderr",
     "output_type": "stream",
     "text": [
      "/home/asimovws/.local/lib/python3.6/site-packages/ipykernel_launcher.py:1: FutureWarning: Sorting because non-concatenation axis is not aligned. A future version\n",
      "of pandas will change to not sort by default.\n",
      "\n",
      "To accept the future behavior, pass 'sort=False'.\n",
      "\n",
      "To retain the current behavior and silence the warning, pass 'sort=True'.\n",
      "\n",
      "  \"\"\"Entry point for launching an IPython kernel.\n"
     ]
    }
   ],
   "source": [
    "total = pd.concat([df, dl]).sort_values(by='msg_seq_num', kind = 'mergesort').reset_index()"
   ]
  },
  {
   "cell_type": "code",
   "execution_count": 25,
   "metadata": {},
   "outputs": [],
   "source": [
    "total.ffill(inplace=True)\n",
    "total.dropna(inplace=True)"
   ]
  },
  {
   "cell_type": "code",
   "execution_count": 26,
   "metadata": {},
   "outputs": [],
   "source": [
    "total_ = total[['index', 'ask_0', 'ask_quantity_0', 'bid_0', 'bid_quantity_0', 'ask_wdo_0', 'ask_quantity_wdo_0', 'bid_wdo_0', 'bid_quantity_wdo_0']][total['ask_0'] != 0]"
   ]
  },
  {
   "cell_type": "code",
   "execution_count": 27,
   "metadata": {},
   "outputs": [],
   "source": [
    "total_['spread_dol'] = total['ask_0'] - total['bid_0']\n",
    "total_['spread_wdo'] = total['ask_wdo_0'] - total['bid_wdo_0']"
   ]
  },
  {
   "cell_type": "markdown",
   "metadata": {},
   "source": [
    "# Analisar ponto de corte"
   ]
  },
  {
   "cell_type": "code",
   "execution_count": 28,
   "metadata": {},
   "outputs": [
    {
     "data": {
      "text/plain": [
       "10249"
      ]
     },
     "execution_count": 28,
     "metadata": {},
     "output_type": "execute_result"
    }
   ],
   "source": [
    "np.where(total_['spread_wdo'] == 0.5)[0][0]"
   ]
  },
  {
   "cell_type": "code",
   "execution_count": 30,
   "metadata": {},
   "outputs": [
    {
     "data": {
      "text/html": [
       "<div>\n",
       "<style scoped>\n",
       "    .dataframe tbody tr th:only-of-type {\n",
       "        vertical-align: middle;\n",
       "    }\n",
       "\n",
       "    .dataframe tbody tr th {\n",
       "        vertical-align: top;\n",
       "    }\n",
       "\n",
       "    .dataframe thead th {\n",
       "        text-align: right;\n",
       "    }\n",
       "</style>\n",
       "<table border=\"1\" class=\"dataframe\">\n",
       "  <thead>\n",
       "    <tr style=\"text-align: right;\">\n",
       "      <th></th>\n",
       "      <th>index</th>\n",
       "      <th>ask_0</th>\n",
       "      <th>ask_quantity_0</th>\n",
       "      <th>bid_0</th>\n",
       "      <th>bid_quantity_0</th>\n",
       "      <th>ask_wdo_0</th>\n",
       "      <th>ask_quantity_wdo_0</th>\n",
       "      <th>bid_wdo_0</th>\n",
       "      <th>bid_quantity_wdo_0</th>\n",
       "      <th>spread_dol</th>\n",
       "      <th>spread_wdo</th>\n",
       "    </tr>\n",
       "  </thead>\n",
       "  <tbody>\n",
       "    <tr>\n",
       "      <th>10549</th>\n",
       "      <td>2019-11-11 12:03:33.057000+00:00</td>\n",
       "      <td>4165.5</td>\n",
       "      <td>65.0</td>\n",
       "      <td>4165.0</td>\n",
       "      <td>15.0</td>\n",
       "      <td>4165.0</td>\n",
       "      <td>233.0</td>\n",
       "      <td>4164.5</td>\n",
       "      <td>57.0</td>\n",
       "      <td>0.5</td>\n",
       "      <td>0.5</td>\n",
       "    </tr>\n",
       "    <tr>\n",
       "      <th>10550</th>\n",
       "      <td>2019-11-11 12:03:33.058000+00:00</td>\n",
       "      <td>4165.5</td>\n",
       "      <td>65.0</td>\n",
       "      <td>4165.0</td>\n",
       "      <td>15.0</td>\n",
       "      <td>4165.0</td>\n",
       "      <td>233.0</td>\n",
       "      <td>4164.5</td>\n",
       "      <td>57.0</td>\n",
       "      <td>0.5</td>\n",
       "      <td>0.5</td>\n",
       "    </tr>\n",
       "    <tr>\n",
       "      <th>10551</th>\n",
       "      <td>2019-11-11 12:03:33.058000+00:00</td>\n",
       "      <td>4165.5</td>\n",
       "      <td>65.0</td>\n",
       "      <td>4165.0</td>\n",
       "      <td>15.0</td>\n",
       "      <td>4165.0</td>\n",
       "      <td>233.0</td>\n",
       "      <td>4164.5</td>\n",
       "      <td>57.0</td>\n",
       "      <td>0.5</td>\n",
       "      <td>0.5</td>\n",
       "    </tr>\n",
       "    <tr>\n",
       "      <th>10552</th>\n",
       "      <td>2019-11-11 12:03:33.058000+00:00</td>\n",
       "      <td>4165.5</td>\n",
       "      <td>65.0</td>\n",
       "      <td>4165.0</td>\n",
       "      <td>15.0</td>\n",
       "      <td>4165.0</td>\n",
       "      <td>233.0</td>\n",
       "      <td>4164.5</td>\n",
       "      <td>57.0</td>\n",
       "      <td>0.5</td>\n",
       "      <td>0.5</td>\n",
       "    </tr>\n",
       "    <tr>\n",
       "      <th>10553</th>\n",
       "      <td>2019-11-11 12:03:33.058000+00:00</td>\n",
       "      <td>4165.5</td>\n",
       "      <td>65.0</td>\n",
       "      <td>4165.0</td>\n",
       "      <td>15.0</td>\n",
       "      <td>4165.0</td>\n",
       "      <td>233.0</td>\n",
       "      <td>4164.5</td>\n",
       "      <td>57.0</td>\n",
       "      <td>0.5</td>\n",
       "      <td>0.5</td>\n",
       "    </tr>\n",
       "    <tr>\n",
       "      <th>10554</th>\n",
       "      <td>2019-11-11 12:03:33.058000+00:00</td>\n",
       "      <td>4165.5</td>\n",
       "      <td>65.0</td>\n",
       "      <td>4165.0</td>\n",
       "      <td>15.0</td>\n",
       "      <td>4165.0</td>\n",
       "      <td>233.0</td>\n",
       "      <td>4164.5</td>\n",
       "      <td>57.0</td>\n",
       "      <td>0.5</td>\n",
       "      <td>0.5</td>\n",
       "    </tr>\n",
       "    <tr>\n",
       "      <th>10555</th>\n",
       "      <td>2019-11-11 12:03:33.058000+00:00</td>\n",
       "      <td>4165.5</td>\n",
       "      <td>65.0</td>\n",
       "      <td>4165.0</td>\n",
       "      <td>15.0</td>\n",
       "      <td>4165.0</td>\n",
       "      <td>233.0</td>\n",
       "      <td>4164.5</td>\n",
       "      <td>57.0</td>\n",
       "      <td>0.5</td>\n",
       "      <td>0.5</td>\n",
       "    </tr>\n",
       "    <tr>\n",
       "      <th>10556</th>\n",
       "      <td>2019-11-11 12:03:33.058000+00:00</td>\n",
       "      <td>4165.5</td>\n",
       "      <td>65.0</td>\n",
       "      <td>4165.0</td>\n",
       "      <td>15.0</td>\n",
       "      <td>4165.0</td>\n",
       "      <td>233.0</td>\n",
       "      <td>4164.5</td>\n",
       "      <td>57.0</td>\n",
       "      <td>0.5</td>\n",
       "      <td>0.5</td>\n",
       "    </tr>\n",
       "    <tr>\n",
       "      <th>10557</th>\n",
       "      <td>2019-11-11 12:03:33.058000+00:00</td>\n",
       "      <td>4165.5</td>\n",
       "      <td>65.0</td>\n",
       "      <td>4165.0</td>\n",
       "      <td>15.0</td>\n",
       "      <td>4165.0</td>\n",
       "      <td>233.0</td>\n",
       "      <td>4164.5</td>\n",
       "      <td>57.0</td>\n",
       "      <td>0.5</td>\n",
       "      <td>0.5</td>\n",
       "    </tr>\n",
       "    <tr>\n",
       "      <th>10558</th>\n",
       "      <td>2019-11-11 12:03:33.058000+00:00</td>\n",
       "      <td>4165.5</td>\n",
       "      <td>65.0</td>\n",
       "      <td>4165.0</td>\n",
       "      <td>15.0</td>\n",
       "      <td>4165.0</td>\n",
       "      <td>233.0</td>\n",
       "      <td>4164.5</td>\n",
       "      <td>57.0</td>\n",
       "      <td>0.5</td>\n",
       "      <td>0.5</td>\n",
       "    </tr>\n",
       "    <tr>\n",
       "      <th>10559</th>\n",
       "      <td>2019-11-11 12:03:33.058000+00:00</td>\n",
       "      <td>4165.5</td>\n",
       "      <td>65.0</td>\n",
       "      <td>4165.0</td>\n",
       "      <td>15.0</td>\n",
       "      <td>4165.0</td>\n",
       "      <td>233.0</td>\n",
       "      <td>4164.5</td>\n",
       "      <td>57.0</td>\n",
       "      <td>0.5</td>\n",
       "      <td>0.5</td>\n",
       "    </tr>\n",
       "    <tr>\n",
       "      <th>10560</th>\n",
       "      <td>2019-11-11 12:03:33.058000+00:00</td>\n",
       "      <td>4165.5</td>\n",
       "      <td>65.0</td>\n",
       "      <td>4165.0</td>\n",
       "      <td>15.0</td>\n",
       "      <td>4165.0</td>\n",
       "      <td>233.0</td>\n",
       "      <td>4164.5</td>\n",
       "      <td>57.0</td>\n",
       "      <td>0.5</td>\n",
       "      <td>0.5</td>\n",
       "    </tr>\n",
       "    <tr>\n",
       "      <th>10561</th>\n",
       "      <td>2019-11-11 12:03:33.058000+00:00</td>\n",
       "      <td>4165.5</td>\n",
       "      <td>65.0</td>\n",
       "      <td>4165.0</td>\n",
       "      <td>15.0</td>\n",
       "      <td>4165.0</td>\n",
       "      <td>233.0</td>\n",
       "      <td>4164.5</td>\n",
       "      <td>57.0</td>\n",
       "      <td>0.5</td>\n",
       "      <td>0.5</td>\n",
       "    </tr>\n",
       "    <tr>\n",
       "      <th>10562</th>\n",
       "      <td>2019-11-11 12:03:33.058000+00:00</td>\n",
       "      <td>4165.5</td>\n",
       "      <td>65.0</td>\n",
       "      <td>4165.0</td>\n",
       "      <td>15.0</td>\n",
       "      <td>4165.0</td>\n",
       "      <td>233.0</td>\n",
       "      <td>4164.5</td>\n",
       "      <td>57.0</td>\n",
       "      <td>0.5</td>\n",
       "      <td>0.5</td>\n",
       "    </tr>\n",
       "    <tr>\n",
       "      <th>10563</th>\n",
       "      <td>2019-11-11 12:03:33.058000+00:00</td>\n",
       "      <td>4165.5</td>\n",
       "      <td>65.0</td>\n",
       "      <td>4165.0</td>\n",
       "      <td>15.0</td>\n",
       "      <td>4165.0</td>\n",
       "      <td>233.0</td>\n",
       "      <td>4164.5</td>\n",
       "      <td>57.0</td>\n",
       "      <td>0.5</td>\n",
       "      <td>0.5</td>\n",
       "    </tr>\n",
       "    <tr>\n",
       "      <th>10564</th>\n",
       "      <td>2019-11-11 12:03:33.058000+00:00</td>\n",
       "      <td>4165.5</td>\n",
       "      <td>65.0</td>\n",
       "      <td>4165.0</td>\n",
       "      <td>15.0</td>\n",
       "      <td>4165.0</td>\n",
       "      <td>233.0</td>\n",
       "      <td>4164.5</td>\n",
       "      <td>57.0</td>\n",
       "      <td>0.5</td>\n",
       "      <td>0.5</td>\n",
       "    </tr>\n",
       "    <tr>\n",
       "      <th>10565</th>\n",
       "      <td>2019-11-11 12:03:33.058000+00:00</td>\n",
       "      <td>4165.5</td>\n",
       "      <td>65.0</td>\n",
       "      <td>4165.0</td>\n",
       "      <td>15.0</td>\n",
       "      <td>4165.0</td>\n",
       "      <td>233.0</td>\n",
       "      <td>4164.5</td>\n",
       "      <td>57.0</td>\n",
       "      <td>0.5</td>\n",
       "      <td>0.5</td>\n",
       "    </tr>\n",
       "    <tr>\n",
       "      <th>10566</th>\n",
       "      <td>2019-11-11 12:03:33.058000+00:00</td>\n",
       "      <td>4165.5</td>\n",
       "      <td>65.0</td>\n",
       "      <td>4165.0</td>\n",
       "      <td>15.0</td>\n",
       "      <td>4165.0</td>\n",
       "      <td>233.0</td>\n",
       "      <td>4164.5</td>\n",
       "      <td>57.0</td>\n",
       "      <td>0.5</td>\n",
       "      <td>0.5</td>\n",
       "    </tr>\n",
       "    <tr>\n",
       "      <th>10567</th>\n",
       "      <td>2019-11-11 12:03:33.058000+00:00</td>\n",
       "      <td>4165.5</td>\n",
       "      <td>65.0</td>\n",
       "      <td>4165.0</td>\n",
       "      <td>15.0</td>\n",
       "      <td>4165.0</td>\n",
       "      <td>233.0</td>\n",
       "      <td>4164.5</td>\n",
       "      <td>57.0</td>\n",
       "      <td>0.5</td>\n",
       "      <td>0.5</td>\n",
       "    </tr>\n",
       "    <tr>\n",
       "      <th>10568</th>\n",
       "      <td>2019-11-11 12:03:33.058000+00:00</td>\n",
       "      <td>4165.5</td>\n",
       "      <td>65.0</td>\n",
       "      <td>4165.0</td>\n",
       "      <td>15.0</td>\n",
       "      <td>4165.0</td>\n",
       "      <td>233.0</td>\n",
       "      <td>4164.5</td>\n",
       "      <td>57.0</td>\n",
       "      <td>0.5</td>\n",
       "      <td>0.5</td>\n",
       "    </tr>\n",
       "  </tbody>\n",
       "</table>\n",
       "</div>"
      ],
      "text/plain": [
       "                                 index   ask_0  ask_quantity_0   bid_0  \\\n",
       "10549 2019-11-11 12:03:33.057000+00:00  4165.5            65.0  4165.0   \n",
       "10550 2019-11-11 12:03:33.058000+00:00  4165.5            65.0  4165.0   \n",
       "10551 2019-11-11 12:03:33.058000+00:00  4165.5            65.0  4165.0   \n",
       "10552 2019-11-11 12:03:33.058000+00:00  4165.5            65.0  4165.0   \n",
       "10553 2019-11-11 12:03:33.058000+00:00  4165.5            65.0  4165.0   \n",
       "10554 2019-11-11 12:03:33.058000+00:00  4165.5            65.0  4165.0   \n",
       "10555 2019-11-11 12:03:33.058000+00:00  4165.5            65.0  4165.0   \n",
       "10556 2019-11-11 12:03:33.058000+00:00  4165.5            65.0  4165.0   \n",
       "10557 2019-11-11 12:03:33.058000+00:00  4165.5            65.0  4165.0   \n",
       "10558 2019-11-11 12:03:33.058000+00:00  4165.5            65.0  4165.0   \n",
       "10559 2019-11-11 12:03:33.058000+00:00  4165.5            65.0  4165.0   \n",
       "10560 2019-11-11 12:03:33.058000+00:00  4165.5            65.0  4165.0   \n",
       "10561 2019-11-11 12:03:33.058000+00:00  4165.5            65.0  4165.0   \n",
       "10562 2019-11-11 12:03:33.058000+00:00  4165.5            65.0  4165.0   \n",
       "10563 2019-11-11 12:03:33.058000+00:00  4165.5            65.0  4165.0   \n",
       "10564 2019-11-11 12:03:33.058000+00:00  4165.5            65.0  4165.0   \n",
       "10565 2019-11-11 12:03:33.058000+00:00  4165.5            65.0  4165.0   \n",
       "10566 2019-11-11 12:03:33.058000+00:00  4165.5            65.0  4165.0   \n",
       "10567 2019-11-11 12:03:33.058000+00:00  4165.5            65.0  4165.0   \n",
       "10568 2019-11-11 12:03:33.058000+00:00  4165.5            65.0  4165.0   \n",
       "\n",
       "       bid_quantity_0  ask_wdo_0  ask_quantity_wdo_0  bid_wdo_0  \\\n",
       "10549            15.0     4165.0               233.0     4164.5   \n",
       "10550            15.0     4165.0               233.0     4164.5   \n",
       "10551            15.0     4165.0               233.0     4164.5   \n",
       "10552            15.0     4165.0               233.0     4164.5   \n",
       "10553            15.0     4165.0               233.0     4164.5   \n",
       "10554            15.0     4165.0               233.0     4164.5   \n",
       "10555            15.0     4165.0               233.0     4164.5   \n",
       "10556            15.0     4165.0               233.0     4164.5   \n",
       "10557            15.0     4165.0               233.0     4164.5   \n",
       "10558            15.0     4165.0               233.0     4164.5   \n",
       "10559            15.0     4165.0               233.0     4164.5   \n",
       "10560            15.0     4165.0               233.0     4164.5   \n",
       "10561            15.0     4165.0               233.0     4164.5   \n",
       "10562            15.0     4165.0               233.0     4164.5   \n",
       "10563            15.0     4165.0               233.0     4164.5   \n",
       "10564            15.0     4165.0               233.0     4164.5   \n",
       "10565            15.0     4165.0               233.0     4164.5   \n",
       "10566            15.0     4165.0               233.0     4164.5   \n",
       "10567            15.0     4165.0               233.0     4164.5   \n",
       "10568            15.0     4165.0               233.0     4164.5   \n",
       "\n",
       "       bid_quantity_wdo_0  spread_dol  spread_wdo  \n",
       "10549                57.0         0.5         0.5  \n",
       "10550                57.0         0.5         0.5  \n",
       "10551                57.0         0.5         0.5  \n",
       "10552                57.0         0.5         0.5  \n",
       "10553                57.0         0.5         0.5  \n",
       "10554                57.0         0.5         0.5  \n",
       "10555                57.0         0.5         0.5  \n",
       "10556                57.0         0.5         0.5  \n",
       "10557                57.0         0.5         0.5  \n",
       "10558                57.0         0.5         0.5  \n",
       "10559                57.0         0.5         0.5  \n",
       "10560                57.0         0.5         0.5  \n",
       "10561                57.0         0.5         0.5  \n",
       "10562                57.0         0.5         0.5  \n",
       "10563                57.0         0.5         0.5  \n",
       "10564                57.0         0.5         0.5  \n",
       "10565                57.0         0.5         0.5  \n",
       "10566                57.0         0.5         0.5  \n",
       "10567                57.0         0.5         0.5  \n",
       "10568                57.0         0.5         0.5  "
      ]
     },
     "execution_count": 30,
     "metadata": {},
     "output_type": "execute_result"
    }
   ],
   "source": [
    "total_.loc[10549:].head(20)"
   ]
  },
  {
   "cell_type": "code",
   "execution_count": 31,
   "metadata": {},
   "outputs": [],
   "source": [
    "total_.rename({'index' : 'timestamp'}, axis = 1, inplace = True)"
   ]
  },
  {
   "cell_type": "code",
   "execution_count": 32,
   "metadata": {},
   "outputs": [],
   "source": [
    "slice_ = total_.loc[10549:]"
   ]
  },
  {
   "cell_type": "code",
   "execution_count": 33,
   "metadata": {},
   "outputs": [
    {
     "name": "stderr",
     "output_type": "stream",
     "text": [
      "/home/asimovws/.local/lib/python3.6/site-packages/ipykernel_launcher.py:1: SettingWithCopyWarning: \n",
      "A value is trying to be set on a copy of a slice from a DataFrame.\n",
      "Try using .loc[row_indexer,col_indexer] = value instead\n",
      "\n",
      "See the caveats in the documentation: http://pandas.pydata.org/pandas-docs/stable/user_guide/indexing.html#returning-a-view-versus-a-copy\n",
      "  \"\"\"Entry point for launching an IPython kernel.\n",
      "/home/asimovws/.local/lib/python3.6/site-packages/ipykernel_launcher.py:2: SettingWithCopyWarning: \n",
      "A value is trying to be set on a copy of a slice from a DataFrame.\n",
      "Try using .loc[row_indexer,col_indexer] = value instead\n",
      "\n",
      "See the caveats in the documentation: http://pandas.pydata.org/pandas-docs/stable/user_guide/indexing.html#returning-a-view-versus-a-copy\n",
      "  \n"
     ]
    }
   ],
   "source": [
    "slice_['mid_price'] = (slice_['ask_0'] + slice_['bid_0'])/2.0\n",
    "slice_['mid_price_wdo'] = (slice_['ask_wdo_0'] + slice_['bid_wdo_0'])/2.0"
   ]
  },
  {
   "cell_type": "code",
   "execution_count": 34,
   "metadata": {},
   "outputs": [],
   "source": [
    "slice_.reset_index(inplace=True)"
   ]
  },
  {
   "cell_type": "markdown",
   "metadata": {},
   "source": [
    "# Teste para avaliar de perturbação no mercado"
   ]
  },
  {
   "cell_type": "code",
   "execution_count": 36,
   "metadata": {},
   "outputs": [
    {
     "data": {
      "text/html": [
       "<div>\n",
       "<style scoped>\n",
       "    .dataframe tbody tr th:only-of-type {\n",
       "        vertical-align: middle;\n",
       "    }\n",
       "\n",
       "    .dataframe tbody tr th {\n",
       "        vertical-align: top;\n",
       "    }\n",
       "\n",
       "    .dataframe thead th {\n",
       "        text-align: right;\n",
       "    }\n",
       "</style>\n",
       "<table border=\"1\" class=\"dataframe\">\n",
       "  <thead>\n",
       "    <tr style=\"text-align: right;\">\n",
       "      <th></th>\n",
       "      <th>index</th>\n",
       "      <th>timestamp</th>\n",
       "      <th>ask_0</th>\n",
       "      <th>ask_quantity_0</th>\n",
       "      <th>bid_0</th>\n",
       "      <th>bid_quantity_0</th>\n",
       "      <th>ask_wdo_0</th>\n",
       "      <th>ask_quantity_wdo_0</th>\n",
       "      <th>bid_wdo_0</th>\n",
       "      <th>bid_quantity_wdo_0</th>\n",
       "      <th>spread_dol</th>\n",
       "      <th>spread_wdo</th>\n",
       "      <th>mid_price</th>\n",
       "      <th>mid_price_wdo</th>\n",
       "    </tr>\n",
       "  </thead>\n",
       "  <tbody>\n",
       "    <tr>\n",
       "      <th>0</th>\n",
       "      <td>10549</td>\n",
       "      <td>2019-11-11 12:03:33.057000+00:00</td>\n",
       "      <td>4165.5</td>\n",
       "      <td>65.0</td>\n",
       "      <td>4165.0</td>\n",
       "      <td>15.0</td>\n",
       "      <td>4165.0</td>\n",
       "      <td>233.0</td>\n",
       "      <td>4164.5</td>\n",
       "      <td>57.0</td>\n",
       "      <td>0.5</td>\n",
       "      <td>0.5</td>\n",
       "      <td>4165.25</td>\n",
       "      <td>4164.75</td>\n",
       "    </tr>\n",
       "    <tr>\n",
       "      <th>1</th>\n",
       "      <td>10550</td>\n",
       "      <td>2019-11-11 12:03:33.058000+00:00</td>\n",
       "      <td>4165.5</td>\n",
       "      <td>65.0</td>\n",
       "      <td>4165.0</td>\n",
       "      <td>15.0</td>\n",
       "      <td>4165.0</td>\n",
       "      <td>233.0</td>\n",
       "      <td>4164.5</td>\n",
       "      <td>57.0</td>\n",
       "      <td>0.5</td>\n",
       "      <td>0.5</td>\n",
       "      <td>4165.25</td>\n",
       "      <td>4164.75</td>\n",
       "    </tr>\n",
       "    <tr>\n",
       "      <th>2</th>\n",
       "      <td>10551</td>\n",
       "      <td>2019-11-11 12:03:33.058000+00:00</td>\n",
       "      <td>4165.5</td>\n",
       "      <td>65.0</td>\n",
       "      <td>4165.0</td>\n",
       "      <td>15.0</td>\n",
       "      <td>4165.0</td>\n",
       "      <td>233.0</td>\n",
       "      <td>4164.5</td>\n",
       "      <td>57.0</td>\n",
       "      <td>0.5</td>\n",
       "      <td>0.5</td>\n",
       "      <td>4165.25</td>\n",
       "      <td>4164.75</td>\n",
       "    </tr>\n",
       "    <tr>\n",
       "      <th>3</th>\n",
       "      <td>10552</td>\n",
       "      <td>2019-11-11 12:03:33.058000+00:00</td>\n",
       "      <td>4165.5</td>\n",
       "      <td>65.0</td>\n",
       "      <td>4165.0</td>\n",
       "      <td>15.0</td>\n",
       "      <td>4165.0</td>\n",
       "      <td>233.0</td>\n",
       "      <td>4164.5</td>\n",
       "      <td>57.0</td>\n",
       "      <td>0.5</td>\n",
       "      <td>0.5</td>\n",
       "      <td>4165.25</td>\n",
       "      <td>4164.75</td>\n",
       "    </tr>\n",
       "    <tr>\n",
       "      <th>4</th>\n",
       "      <td>10553</td>\n",
       "      <td>2019-11-11 12:03:33.058000+00:00</td>\n",
       "      <td>4165.5</td>\n",
       "      <td>65.0</td>\n",
       "      <td>4165.0</td>\n",
       "      <td>15.0</td>\n",
       "      <td>4165.0</td>\n",
       "      <td>233.0</td>\n",
       "      <td>4164.5</td>\n",
       "      <td>57.0</td>\n",
       "      <td>0.5</td>\n",
       "      <td>0.5</td>\n",
       "      <td>4165.25</td>\n",
       "      <td>4164.75</td>\n",
       "    </tr>\n",
       "    <tr>\n",
       "      <th>5</th>\n",
       "      <td>10554</td>\n",
       "      <td>2019-11-11 12:03:33.058000+00:00</td>\n",
       "      <td>4165.5</td>\n",
       "      <td>65.0</td>\n",
       "      <td>4165.0</td>\n",
       "      <td>15.0</td>\n",
       "      <td>4165.0</td>\n",
       "      <td>233.0</td>\n",
       "      <td>4164.5</td>\n",
       "      <td>57.0</td>\n",
       "      <td>0.5</td>\n",
       "      <td>0.5</td>\n",
       "      <td>4165.25</td>\n",
       "      <td>4164.75</td>\n",
       "    </tr>\n",
       "    <tr>\n",
       "      <th>6</th>\n",
       "      <td>10555</td>\n",
       "      <td>2019-11-11 12:03:33.058000+00:00</td>\n",
       "      <td>4165.5</td>\n",
       "      <td>65.0</td>\n",
       "      <td>4165.0</td>\n",
       "      <td>15.0</td>\n",
       "      <td>4165.0</td>\n",
       "      <td>233.0</td>\n",
       "      <td>4164.5</td>\n",
       "      <td>57.0</td>\n",
       "      <td>0.5</td>\n",
       "      <td>0.5</td>\n",
       "      <td>4165.25</td>\n",
       "      <td>4164.75</td>\n",
       "    </tr>\n",
       "    <tr>\n",
       "      <th>7</th>\n",
       "      <td>10556</td>\n",
       "      <td>2019-11-11 12:03:33.058000+00:00</td>\n",
       "      <td>4165.5</td>\n",
       "      <td>65.0</td>\n",
       "      <td>4165.0</td>\n",
       "      <td>15.0</td>\n",
       "      <td>4165.0</td>\n",
       "      <td>233.0</td>\n",
       "      <td>4164.5</td>\n",
       "      <td>57.0</td>\n",
       "      <td>0.5</td>\n",
       "      <td>0.5</td>\n",
       "      <td>4165.25</td>\n",
       "      <td>4164.75</td>\n",
       "    </tr>\n",
       "    <tr>\n",
       "      <th>8</th>\n",
       "      <td>10557</td>\n",
       "      <td>2019-11-11 12:03:33.058000+00:00</td>\n",
       "      <td>4165.5</td>\n",
       "      <td>65.0</td>\n",
       "      <td>4165.0</td>\n",
       "      <td>15.0</td>\n",
       "      <td>4165.0</td>\n",
       "      <td>233.0</td>\n",
       "      <td>4164.5</td>\n",
       "      <td>57.0</td>\n",
       "      <td>0.5</td>\n",
       "      <td>0.5</td>\n",
       "      <td>4165.25</td>\n",
       "      <td>4164.75</td>\n",
       "    </tr>\n",
       "    <tr>\n",
       "      <th>9</th>\n",
       "      <td>10558</td>\n",
       "      <td>2019-11-11 12:03:33.058000+00:00</td>\n",
       "      <td>4165.5</td>\n",
       "      <td>65.0</td>\n",
       "      <td>4165.0</td>\n",
       "      <td>15.0</td>\n",
       "      <td>4165.0</td>\n",
       "      <td>233.0</td>\n",
       "      <td>4164.5</td>\n",
       "      <td>57.0</td>\n",
       "      <td>0.5</td>\n",
       "      <td>0.5</td>\n",
       "      <td>4165.25</td>\n",
       "      <td>4164.75</td>\n",
       "    </tr>\n",
       "  </tbody>\n",
       "</table>\n",
       "</div>"
      ],
      "text/plain": [
       "   index                        timestamp   ask_0  ask_quantity_0   bid_0  \\\n",
       "0  10549 2019-11-11 12:03:33.057000+00:00  4165.5            65.0  4165.0   \n",
       "1  10550 2019-11-11 12:03:33.058000+00:00  4165.5            65.0  4165.0   \n",
       "2  10551 2019-11-11 12:03:33.058000+00:00  4165.5            65.0  4165.0   \n",
       "3  10552 2019-11-11 12:03:33.058000+00:00  4165.5            65.0  4165.0   \n",
       "4  10553 2019-11-11 12:03:33.058000+00:00  4165.5            65.0  4165.0   \n",
       "5  10554 2019-11-11 12:03:33.058000+00:00  4165.5            65.0  4165.0   \n",
       "6  10555 2019-11-11 12:03:33.058000+00:00  4165.5            65.0  4165.0   \n",
       "7  10556 2019-11-11 12:03:33.058000+00:00  4165.5            65.0  4165.0   \n",
       "8  10557 2019-11-11 12:03:33.058000+00:00  4165.5            65.0  4165.0   \n",
       "9  10558 2019-11-11 12:03:33.058000+00:00  4165.5            65.0  4165.0   \n",
       "\n",
       "   bid_quantity_0  ask_wdo_0  ask_quantity_wdo_0  bid_wdo_0  \\\n",
       "0            15.0     4165.0               233.0     4164.5   \n",
       "1            15.0     4165.0               233.0     4164.5   \n",
       "2            15.0     4165.0               233.0     4164.5   \n",
       "3            15.0     4165.0               233.0     4164.5   \n",
       "4            15.0     4165.0               233.0     4164.5   \n",
       "5            15.0     4165.0               233.0     4164.5   \n",
       "6            15.0     4165.0               233.0     4164.5   \n",
       "7            15.0     4165.0               233.0     4164.5   \n",
       "8            15.0     4165.0               233.0     4164.5   \n",
       "9            15.0     4165.0               233.0     4164.5   \n",
       "\n",
       "   bid_quantity_wdo_0  spread_dol  spread_wdo  mid_price  mid_price_wdo  \n",
       "0                57.0         0.5         0.5    4165.25        4164.75  \n",
       "1                57.0         0.5         0.5    4165.25        4164.75  \n",
       "2                57.0         0.5         0.5    4165.25        4164.75  \n",
       "3                57.0         0.5         0.5    4165.25        4164.75  \n",
       "4                57.0         0.5         0.5    4165.25        4164.75  \n",
       "5                57.0         0.5         0.5    4165.25        4164.75  \n",
       "6                57.0         0.5         0.5    4165.25        4164.75  \n",
       "7                57.0         0.5         0.5    4165.25        4164.75  \n",
       "8                57.0         0.5         0.5    4165.25        4164.75  \n",
       "9                57.0         0.5         0.5    4165.25        4164.75  "
      ]
     },
     "execution_count": 36,
     "metadata": {},
     "output_type": "execute_result"
    }
   ],
   "source": [
    "slice_.head(10)"
   ]
  },
  {
   "cell_type": "code",
   "execution_count": 42,
   "metadata": {},
   "outputs": [
    {
     "data": {
      "text/plain": [
       "array([    128,     130,     131, ..., 2095888, 2095889, 2095890])"
      ]
     },
     "execution_count": 42,
     "metadata": {},
     "output_type": "execute_result"
    }
   ],
   "source": [
    "index_ = np.where( (slice_['spread_dol'] != 0.5) | (slice_['spread_wdo'] != 0.5) )[0]\n",
    "index_"
   ]
  },
  {
   "cell_type": "code",
   "execution_count": 44,
   "metadata": {},
   "outputs": [
    {
     "data": {
      "text/plain": [
       "array([     1,     75,     78, ..., 524466, 524486, 524644])"
      ]
     },
     "execution_count": 44,
     "metadata": {},
     "output_type": "execute_result"
    }
   ],
   "source": [
    "position = np.where(np.diff(np.where( (slice_['spread_dol'] != 0.5) | (slice_['spread_wdo'] != 0.5) )) != 1)[1] +1\n",
    "position"
   ]
  },
  {
   "cell_type": "code",
   "execution_count": 45,
   "metadata": {},
   "outputs": [],
   "source": [
    "A = []\n",
    "for i in position:\n",
    "    A.append(index_[i])"
   ]
  },
  {
   "cell_type": "code",
   "execution_count": 47,
   "metadata": {},
   "outputs": [],
   "source": [
    "frame = pd.DataFrame()\n",
    "dict_ = {}\n",
    "j=0\n",
    "for i in A:\n",
    "    dict_[j] = frame.append(slice_.loc[i-1:i])\n",
    "    j+=1"
   ]
  },
  {
   "cell_type": "code",
   "execution_count": 48,
   "metadata": {},
   "outputs": [],
   "source": [
    "for i in dict_.keys():\n",
    "    dict_[i] = dict_[i].diff()"
   ]
  },
  {
   "cell_type": "code",
   "execution_count": 49,
   "metadata": {},
   "outputs": [
    {
     "data": {
      "text/html": [
       "<div>\n",
       "<style scoped>\n",
       "    .dataframe tbody tr th:only-of-type {\n",
       "        vertical-align: middle;\n",
       "    }\n",
       "\n",
       "    .dataframe tbody tr th {\n",
       "        vertical-align: top;\n",
       "    }\n",
       "\n",
       "    .dataframe thead th {\n",
       "        text-align: right;\n",
       "    }\n",
       "</style>\n",
       "<table border=\"1\" class=\"dataframe\">\n",
       "  <thead>\n",
       "    <tr style=\"text-align: right;\">\n",
       "      <th></th>\n",
       "      <th>index</th>\n",
       "      <th>timestamp</th>\n",
       "      <th>ask_0</th>\n",
       "      <th>ask_quantity_0</th>\n",
       "      <th>bid_0</th>\n",
       "      <th>bid_quantity_0</th>\n",
       "      <th>ask_wdo_0</th>\n",
       "      <th>ask_quantity_wdo_0</th>\n",
       "      <th>bid_wdo_0</th>\n",
       "      <th>bid_quantity_wdo_0</th>\n",
       "      <th>spread_dol</th>\n",
       "      <th>spread_wdo</th>\n",
       "      <th>mid_price</th>\n",
       "      <th>mid_price_wdo</th>\n",
       "    </tr>\n",
       "  </thead>\n",
       "  <tbody>\n",
       "    <tr>\n",
       "      <th>129</th>\n",
       "      <td>NaN</td>\n",
       "      <td>NaT</td>\n",
       "      <td>NaN</td>\n",
       "      <td>NaN</td>\n",
       "      <td>NaN</td>\n",
       "      <td>NaN</td>\n",
       "      <td>NaN</td>\n",
       "      <td>NaN</td>\n",
       "      <td>NaN</td>\n",
       "      <td>NaN</td>\n",
       "      <td>NaN</td>\n",
       "      <td>NaN</td>\n",
       "      <td>NaN</td>\n",
       "      <td>NaN</td>\n",
       "    </tr>\n",
       "    <tr>\n",
       "      <th>130</th>\n",
       "      <td>1.0</td>\n",
       "      <td>0 days</td>\n",
       "      <td>0.0</td>\n",
       "      <td>0.0</td>\n",
       "      <td>-0.5</td>\n",
       "      <td>25.0</td>\n",
       "      <td>0.0</td>\n",
       "      <td>0.0</td>\n",
       "      <td>0.0</td>\n",
       "      <td>0.0</td>\n",
       "      <td>0.5</td>\n",
       "      <td>0.0</td>\n",
       "      <td>-0.25</td>\n",
       "      <td>0.0</td>\n",
       "    </tr>\n",
       "  </tbody>\n",
       "</table>\n",
       "</div>"
      ],
      "text/plain": [
       "     index timestamp  ask_0  ask_quantity_0  bid_0  bid_quantity_0  ask_wdo_0  \\\n",
       "129    NaN       NaT    NaN             NaN    NaN             NaN        NaN   \n",
       "130    1.0    0 days    0.0             0.0   -0.5            25.0        0.0   \n",
       "\n",
       "     ask_quantity_wdo_0  bid_wdo_0  bid_quantity_wdo_0  spread_dol  \\\n",
       "129                 NaN        NaN                 NaN         NaN   \n",
       "130                 0.0        0.0                 0.0         0.5   \n",
       "\n",
       "     spread_wdo  mid_price  mid_price_wdo  \n",
       "129         NaN        NaN            NaN  \n",
       "130         0.0      -0.25            0.0  "
      ]
     },
     "execution_count": 49,
     "metadata": {},
     "output_type": "execute_result"
    }
   ],
   "source": [
    "dict_[0]"
   ]
  },
  {
   "cell_type": "code",
   "execution_count": 50,
   "metadata": {},
   "outputs": [],
   "source": [
    "distortion = pd.concat(dict_).reset_index()"
   ]
  },
  {
   "cell_type": "code",
   "execution_count": 51,
   "metadata": {},
   "outputs": [
    {
     "data": {
      "text/html": [
       "<div>\n",
       "<style scoped>\n",
       "    .dataframe tbody tr th:only-of-type {\n",
       "        vertical-align: middle;\n",
       "    }\n",
       "\n",
       "    .dataframe tbody tr th {\n",
       "        vertical-align: top;\n",
       "    }\n",
       "\n",
       "    .dataframe thead th {\n",
       "        text-align: right;\n",
       "    }\n",
       "</style>\n",
       "<table border=\"1\" class=\"dataframe\">\n",
       "  <thead>\n",
       "    <tr style=\"text-align: right;\">\n",
       "      <th></th>\n",
       "      <th>level_0</th>\n",
       "      <th>level_1</th>\n",
       "      <th>index</th>\n",
       "      <th>timestamp</th>\n",
       "      <th>ask_0</th>\n",
       "      <th>ask_quantity_0</th>\n",
       "      <th>bid_0</th>\n",
       "      <th>bid_quantity_0</th>\n",
       "      <th>ask_wdo_0</th>\n",
       "      <th>ask_quantity_wdo_0</th>\n",
       "      <th>bid_wdo_0</th>\n",
       "      <th>bid_quantity_wdo_0</th>\n",
       "      <th>spread_dol</th>\n",
       "      <th>spread_wdo</th>\n",
       "      <th>mid_price</th>\n",
       "      <th>mid_price_wdo</th>\n",
       "    </tr>\n",
       "  </thead>\n",
       "  <tbody>\n",
       "    <tr>\n",
       "      <th>0</th>\n",
       "      <td>0</td>\n",
       "      <td>129</td>\n",
       "      <td>NaN</td>\n",
       "      <td>NaT</td>\n",
       "      <td>NaN</td>\n",
       "      <td>NaN</td>\n",
       "      <td>NaN</td>\n",
       "      <td>NaN</td>\n",
       "      <td>NaN</td>\n",
       "      <td>NaN</td>\n",
       "      <td>NaN</td>\n",
       "      <td>NaN</td>\n",
       "      <td>NaN</td>\n",
       "      <td>NaN</td>\n",
       "      <td>NaN</td>\n",
       "      <td>NaN</td>\n",
       "    </tr>\n",
       "    <tr>\n",
       "      <th>1</th>\n",
       "      <td>0</td>\n",
       "      <td>130</td>\n",
       "      <td>1.0</td>\n",
       "      <td>0 days</td>\n",
       "      <td>0.0</td>\n",
       "      <td>0.0</td>\n",
       "      <td>-0.5</td>\n",
       "      <td>25.0</td>\n",
       "      <td>0.0</td>\n",
       "      <td>0.0</td>\n",
       "      <td>0.0</td>\n",
       "      <td>0.0</td>\n",
       "      <td>0.5</td>\n",
       "      <td>0.0</td>\n",
       "      <td>-0.25</td>\n",
       "      <td>0.0</td>\n",
       "    </tr>\n",
       "    <tr>\n",
       "      <th>2</th>\n",
       "      <td>1</td>\n",
       "      <td>208</td>\n",
       "      <td>NaN</td>\n",
       "      <td>NaT</td>\n",
       "      <td>NaN</td>\n",
       "      <td>NaN</td>\n",
       "      <td>NaN</td>\n",
       "      <td>NaN</td>\n",
       "      <td>NaN</td>\n",
       "      <td>NaN</td>\n",
       "      <td>NaN</td>\n",
       "      <td>NaN</td>\n",
       "      <td>NaN</td>\n",
       "      <td>NaN</td>\n",
       "      <td>NaN</td>\n",
       "      <td>NaN</td>\n",
       "    </tr>\n",
       "    <tr>\n",
       "      <th>3</th>\n",
       "      <td>1</td>\n",
       "      <td>209</td>\n",
       "      <td>1.0</td>\n",
       "      <td>0 days</td>\n",
       "      <td>0.0</td>\n",
       "      <td>0.0</td>\n",
       "      <td>-0.5</td>\n",
       "      <td>40.0</td>\n",
       "      <td>0.0</td>\n",
       "      <td>0.0</td>\n",
       "      <td>0.0</td>\n",
       "      <td>0.0</td>\n",
       "      <td>0.5</td>\n",
       "      <td>0.0</td>\n",
       "      <td>-0.25</td>\n",
       "      <td>0.0</td>\n",
       "    </tr>\n",
       "    <tr>\n",
       "      <th>4</th>\n",
       "      <td>2</td>\n",
       "      <td>214</td>\n",
       "      <td>NaN</td>\n",
       "      <td>NaT</td>\n",
       "      <td>NaN</td>\n",
       "      <td>NaN</td>\n",
       "      <td>NaN</td>\n",
       "      <td>NaN</td>\n",
       "      <td>NaN</td>\n",
       "      <td>NaN</td>\n",
       "      <td>NaN</td>\n",
       "      <td>NaN</td>\n",
       "      <td>NaN</td>\n",
       "      <td>NaN</td>\n",
       "      <td>NaN</td>\n",
       "      <td>NaN</td>\n",
       "    </tr>\n",
       "  </tbody>\n",
       "</table>\n",
       "</div>"
      ],
      "text/plain": [
       "   level_0  level_1  index timestamp  ask_0  ask_quantity_0  bid_0  \\\n",
       "0        0      129    NaN       NaT    NaN             NaN    NaN   \n",
       "1        0      130    1.0    0 days    0.0             0.0   -0.5   \n",
       "2        1      208    NaN       NaT    NaN             NaN    NaN   \n",
       "3        1      209    1.0    0 days    0.0             0.0   -0.5   \n",
       "4        2      214    NaN       NaT    NaN             NaN    NaN   \n",
       "\n",
       "   bid_quantity_0  ask_wdo_0  ask_quantity_wdo_0  bid_wdo_0  \\\n",
       "0             NaN        NaN                 NaN        NaN   \n",
       "1            25.0        0.0                 0.0        0.0   \n",
       "2             NaN        NaN                 NaN        NaN   \n",
       "3            40.0        0.0                 0.0        0.0   \n",
       "4             NaN        NaN                 NaN        NaN   \n",
       "\n",
       "   bid_quantity_wdo_0  spread_dol  spread_wdo  mid_price  mid_price_wdo  \n",
       "0                 NaN         NaN         NaN        NaN            NaN  \n",
       "1                 0.0         0.5         0.0      -0.25            0.0  \n",
       "2                 NaN         NaN         NaN        NaN            NaN  \n",
       "3                 0.0         0.5         0.0      -0.25            0.0  \n",
       "4                 NaN         NaN         NaN        NaN            NaN  "
      ]
     },
     "execution_count": 51,
     "metadata": {},
     "output_type": "execute_result"
    }
   ],
   "source": [
    "distortion.head()"
   ]
  },
  {
   "cell_type": "code",
   "execution_count": 52,
   "metadata": {},
   "outputs": [],
   "source": [
    "mover = distortion.dropna()[['ask_0', 'bid_0', 'ask_wdo_0', 'bid_wdo_0' ]]"
   ]
  },
  {
   "cell_type": "code",
   "execution_count": 53,
   "metadata": {},
   "outputs": [
    {
     "data": {
      "text/plain": [
       "ask_0        3593\n",
       "bid_0        3593\n",
       "ask_wdo_0    3593\n",
       "bid_wdo_0    3593\n",
       "dtype: int64"
      ]
     },
     "execution_count": 53,
     "metadata": {},
     "output_type": "execute_result"
    }
   ],
   "source": [
    "mover[mover['ask_0'] != 0].count()"
   ]
  },
  {
   "cell_type": "code",
   "execution_count": 54,
   "metadata": {},
   "outputs": [
    {
     "data": {
      "text/plain": [
       "ask_0        2659\n",
       "bid_0        2659\n",
       "ask_wdo_0    2659\n",
       "bid_wdo_0    2659\n",
       "dtype: int64"
      ]
     },
     "execution_count": 54,
     "metadata": {},
     "output_type": "execute_result"
    }
   ],
   "source": [
    "mover[mover['bid_0'] != 0].count()"
   ]
  },
  {
   "cell_type": "code",
   "execution_count": 55,
   "metadata": {},
   "outputs": [
    {
     "data": {
      "text/plain": [
       "ask_0        5828\n",
       "bid_0        5828\n",
       "ask_wdo_0    5828\n",
       "bid_wdo_0    5828\n",
       "dtype: int64"
      ]
     },
     "execution_count": 55,
     "metadata": {},
     "output_type": "execute_result"
    }
   ],
   "source": [
    "mover[mover['ask_wdo_0'] != 0].count()"
   ]
  },
  {
   "cell_type": "code",
   "execution_count": 56,
   "metadata": {},
   "outputs": [
    {
     "data": {
      "text/plain": [
       "ask_0        3981\n",
       "bid_0        3981\n",
       "ask_wdo_0    3981\n",
       "bid_wdo_0    3981\n",
       "dtype: int64"
      ]
     },
     "execution_count": 56,
     "metadata": {},
     "output_type": "execute_result"
    }
   ],
   "source": [
    "mover[mover['bid_wdo_0'] != 0].count()"
   ]
  },
  {
   "cell_type": "code",
   "execution_count": 57,
   "metadata": {},
   "outputs": [],
   "source": [
    "frame_next = pd.DataFrame()\n",
    "dict_next = {}\n",
    "j=0\n",
    "for i in A:\n",
    "    dict_next[j] = frame_next.append(slice_.loc[i-1:i+300])\n",
    "    j+=1"
   ]
  },
  {
   "cell_type": "code",
   "execution_count": 58,
   "metadata": {},
   "outputs": [
    {
     "data": {
      "text/html": [
       "<div>\n",
       "<style scoped>\n",
       "    .dataframe tbody tr th:only-of-type {\n",
       "        vertical-align: middle;\n",
       "    }\n",
       "\n",
       "    .dataframe tbody tr th {\n",
       "        vertical-align: top;\n",
       "    }\n",
       "\n",
       "    .dataframe thead th {\n",
       "        text-align: right;\n",
       "    }\n",
       "</style>\n",
       "<table border=\"1\" class=\"dataframe\">\n",
       "  <thead>\n",
       "    <tr style=\"text-align: right;\">\n",
       "      <th></th>\n",
       "      <th>index</th>\n",
       "      <th>timestamp</th>\n",
       "      <th>ask_0</th>\n",
       "      <th>ask_quantity_0</th>\n",
       "      <th>bid_0</th>\n",
       "      <th>bid_quantity_0</th>\n",
       "      <th>ask_wdo_0</th>\n",
       "      <th>ask_quantity_wdo_0</th>\n",
       "      <th>bid_wdo_0</th>\n",
       "      <th>bid_quantity_wdo_0</th>\n",
       "      <th>spread_dol</th>\n",
       "      <th>spread_wdo</th>\n",
       "      <th>mid_price</th>\n",
       "      <th>mid_price_wdo</th>\n",
       "    </tr>\n",
       "  </thead>\n",
       "  <tbody>\n",
       "    <tr>\n",
       "      <th>129</th>\n",
       "      <td>10678</td>\n",
       "      <td>2019-11-11 12:03:33.061000+00:00</td>\n",
       "      <td>4165.5</td>\n",
       "      <td>70.0</td>\n",
       "      <td>4165.0</td>\n",
       "      <td>5.0</td>\n",
       "      <td>4165.0</td>\n",
       "      <td>232.0</td>\n",
       "      <td>4164.5</td>\n",
       "      <td>42.0</td>\n",
       "      <td>0.5</td>\n",
       "      <td>0.5</td>\n",
       "      <td>4165.25</td>\n",
       "      <td>4164.75</td>\n",
       "    </tr>\n",
       "    <tr>\n",
       "      <th>130</th>\n",
       "      <td>10679</td>\n",
       "      <td>2019-11-11 12:03:33.061000+00:00</td>\n",
       "      <td>4165.5</td>\n",
       "      <td>70.0</td>\n",
       "      <td>4164.5</td>\n",
       "      <td>30.0</td>\n",
       "      <td>4165.0</td>\n",
       "      <td>232.0</td>\n",
       "      <td>4164.5</td>\n",
       "      <td>42.0</td>\n",
       "      <td>1.0</td>\n",
       "      <td>0.5</td>\n",
       "      <td>4165.00</td>\n",
       "      <td>4164.75</td>\n",
       "    </tr>\n",
       "    <tr>\n",
       "      <th>131</th>\n",
       "      <td>10680</td>\n",
       "      <td>2019-11-11 12:03:33.061000+00:00</td>\n",
       "      <td>4165.5</td>\n",
       "      <td>70.0</td>\n",
       "      <td>4164.5</td>\n",
       "      <td>30.0</td>\n",
       "      <td>4165.0</td>\n",
       "      <td>232.0</td>\n",
       "      <td>4164.5</td>\n",
       "      <td>45.0</td>\n",
       "      <td>1.0</td>\n",
       "      <td>0.5</td>\n",
       "      <td>4165.00</td>\n",
       "      <td>4164.75</td>\n",
       "    </tr>\n",
       "    <tr>\n",
       "      <th>132</th>\n",
       "      <td>10681</td>\n",
       "      <td>2019-11-11 12:03:33.061000+00:00</td>\n",
       "      <td>4165.5</td>\n",
       "      <td>70.0</td>\n",
       "      <td>4164.5</td>\n",
       "      <td>30.0</td>\n",
       "      <td>4165.0</td>\n",
       "      <td>232.0</td>\n",
       "      <td>4164.5</td>\n",
       "      <td>45.0</td>\n",
       "      <td>1.0</td>\n",
       "      <td>0.5</td>\n",
       "      <td>4165.00</td>\n",
       "      <td>4164.75</td>\n",
       "    </tr>\n",
       "    <tr>\n",
       "      <th>133</th>\n",
       "      <td>10682</td>\n",
       "      <td>2019-11-11 12:03:33.061000+00:00</td>\n",
       "      <td>4165.5</td>\n",
       "      <td>70.0</td>\n",
       "      <td>4164.5</td>\n",
       "      <td>30.0</td>\n",
       "      <td>4165.0</td>\n",
       "      <td>232.0</td>\n",
       "      <td>4164.5</td>\n",
       "      <td>45.0</td>\n",
       "      <td>1.0</td>\n",
       "      <td>0.5</td>\n",
       "      <td>4165.00</td>\n",
       "      <td>4164.75</td>\n",
       "    </tr>\n",
       "  </tbody>\n",
       "</table>\n",
       "</div>"
      ],
      "text/plain": [
       "     index                        timestamp   ask_0  ask_quantity_0   bid_0  \\\n",
       "129  10678 2019-11-11 12:03:33.061000+00:00  4165.5            70.0  4165.0   \n",
       "130  10679 2019-11-11 12:03:33.061000+00:00  4165.5            70.0  4164.5   \n",
       "131  10680 2019-11-11 12:03:33.061000+00:00  4165.5            70.0  4164.5   \n",
       "132  10681 2019-11-11 12:03:33.061000+00:00  4165.5            70.0  4164.5   \n",
       "133  10682 2019-11-11 12:03:33.061000+00:00  4165.5            70.0  4164.5   \n",
       "\n",
       "     bid_quantity_0  ask_wdo_0  ask_quantity_wdo_0  bid_wdo_0  \\\n",
       "129             5.0     4165.0               232.0     4164.5   \n",
       "130            30.0     4165.0               232.0     4164.5   \n",
       "131            30.0     4165.0               232.0     4164.5   \n",
       "132            30.0     4165.0               232.0     4164.5   \n",
       "133            30.0     4165.0               232.0     4164.5   \n",
       "\n",
       "     bid_quantity_wdo_0  spread_dol  spread_wdo  mid_price  mid_price_wdo  \n",
       "129                42.0         0.5         0.5    4165.25        4164.75  \n",
       "130                42.0         1.0         0.5    4165.00        4164.75  \n",
       "131                45.0         1.0         0.5    4165.00        4164.75  \n",
       "132                45.0         1.0         0.5    4165.00        4164.75  \n",
       "133                45.0         1.0         0.5    4165.00        4164.75  "
      ]
     },
     "execution_count": 58,
     "metadata": {},
     "output_type": "execute_result"
    }
   ],
   "source": [
    "dict_next[0].head()"
   ]
  },
  {
   "cell_type": "code",
   "execution_count": 59,
   "metadata": {},
   "outputs": [],
   "source": [
    "dict_next_aux = {}\n",
    "for i in dict_next.keys():\n",
    "    dict_next_aux[i] = dict_next[i].diff()"
   ]
  },
  {
   "cell_type": "code",
   "execution_count": 60,
   "metadata": {},
   "outputs": [],
   "source": [
    "for i in dict_next.keys():\n",
    "    dict_next_aux[i]['spread_dol'] = dict_next[i]['spread_dol']\n",
    "    dict_next_aux[i]['spread_wdo'] = dict_next[i]['spread_wdo']   "
   ]
  },
  {
   "cell_type": "code",
   "execution_count": 62,
   "metadata": {},
   "outputs": [
    {
     "data": {
      "text/html": [
       "<div>\n",
       "<style scoped>\n",
       "    .dataframe tbody tr th:only-of-type {\n",
       "        vertical-align: middle;\n",
       "    }\n",
       "\n",
       "    .dataframe tbody tr th {\n",
       "        vertical-align: top;\n",
       "    }\n",
       "\n",
       "    .dataframe thead th {\n",
       "        text-align: right;\n",
       "    }\n",
       "</style>\n",
       "<table border=\"1\" class=\"dataframe\">\n",
       "  <thead>\n",
       "    <tr style=\"text-align: right;\">\n",
       "      <th></th>\n",
       "      <th>index</th>\n",
       "      <th>timestamp</th>\n",
       "      <th>ask_0</th>\n",
       "      <th>ask_quantity_0</th>\n",
       "      <th>bid_0</th>\n",
       "      <th>bid_quantity_0</th>\n",
       "      <th>ask_wdo_0</th>\n",
       "      <th>ask_quantity_wdo_0</th>\n",
       "      <th>bid_wdo_0</th>\n",
       "      <th>bid_quantity_wdo_0</th>\n",
       "      <th>spread_dol</th>\n",
       "      <th>spread_wdo</th>\n",
       "      <th>mid_price</th>\n",
       "      <th>mid_price_wdo</th>\n",
       "    </tr>\n",
       "  </thead>\n",
       "  <tbody>\n",
       "    <tr>\n",
       "      <th>129</th>\n",
       "      <td>10678</td>\n",
       "      <td>2019-11-11 12:03:33.061000+00:00</td>\n",
       "      <td>4165.5</td>\n",
       "      <td>70.0</td>\n",
       "      <td>4165.0</td>\n",
       "      <td>5.0</td>\n",
       "      <td>4165.0</td>\n",
       "      <td>232.0</td>\n",
       "      <td>4164.5</td>\n",
       "      <td>42.0</td>\n",
       "      <td>0.5</td>\n",
       "      <td>0.5</td>\n",
       "      <td>4165.25</td>\n",
       "      <td>4164.75</td>\n",
       "    </tr>\n",
       "    <tr>\n",
       "      <th>130</th>\n",
       "      <td>10679</td>\n",
       "      <td>2019-11-11 12:03:33.061000+00:00</td>\n",
       "      <td>4165.5</td>\n",
       "      <td>70.0</td>\n",
       "      <td>4164.5</td>\n",
       "      <td>30.0</td>\n",
       "      <td>4165.0</td>\n",
       "      <td>232.0</td>\n",
       "      <td>4164.5</td>\n",
       "      <td>42.0</td>\n",
       "      <td>1.0</td>\n",
       "      <td>0.5</td>\n",
       "      <td>4165.00</td>\n",
       "      <td>4164.75</td>\n",
       "    </tr>\n",
       "    <tr>\n",
       "      <th>131</th>\n",
       "      <td>10680</td>\n",
       "      <td>2019-11-11 12:03:33.061000+00:00</td>\n",
       "      <td>4165.5</td>\n",
       "      <td>70.0</td>\n",
       "      <td>4164.5</td>\n",
       "      <td>30.0</td>\n",
       "      <td>4165.0</td>\n",
       "      <td>232.0</td>\n",
       "      <td>4164.5</td>\n",
       "      <td>45.0</td>\n",
       "      <td>1.0</td>\n",
       "      <td>0.5</td>\n",
       "      <td>4165.00</td>\n",
       "      <td>4164.75</td>\n",
       "    </tr>\n",
       "    <tr>\n",
       "      <th>132</th>\n",
       "      <td>10681</td>\n",
       "      <td>2019-11-11 12:03:33.061000+00:00</td>\n",
       "      <td>4165.5</td>\n",
       "      <td>70.0</td>\n",
       "      <td>4164.5</td>\n",
       "      <td>30.0</td>\n",
       "      <td>4165.0</td>\n",
       "      <td>232.0</td>\n",
       "      <td>4164.5</td>\n",
       "      <td>45.0</td>\n",
       "      <td>1.0</td>\n",
       "      <td>0.5</td>\n",
       "      <td>4165.00</td>\n",
       "      <td>4164.75</td>\n",
       "    </tr>\n",
       "    <tr>\n",
       "      <th>133</th>\n",
       "      <td>10682</td>\n",
       "      <td>2019-11-11 12:03:33.061000+00:00</td>\n",
       "      <td>4165.5</td>\n",
       "      <td>70.0</td>\n",
       "      <td>4164.5</td>\n",
       "      <td>30.0</td>\n",
       "      <td>4165.0</td>\n",
       "      <td>232.0</td>\n",
       "      <td>4164.5</td>\n",
       "      <td>45.0</td>\n",
       "      <td>1.0</td>\n",
       "      <td>0.5</td>\n",
       "      <td>4165.00</td>\n",
       "      <td>4164.75</td>\n",
       "    </tr>\n",
       "  </tbody>\n",
       "</table>\n",
       "</div>"
      ],
      "text/plain": [
       "     index                        timestamp   ask_0  ask_quantity_0   bid_0  \\\n",
       "129  10678 2019-11-11 12:03:33.061000+00:00  4165.5            70.0  4165.0   \n",
       "130  10679 2019-11-11 12:03:33.061000+00:00  4165.5            70.0  4164.5   \n",
       "131  10680 2019-11-11 12:03:33.061000+00:00  4165.5            70.0  4164.5   \n",
       "132  10681 2019-11-11 12:03:33.061000+00:00  4165.5            70.0  4164.5   \n",
       "133  10682 2019-11-11 12:03:33.061000+00:00  4165.5            70.0  4164.5   \n",
       "\n",
       "     bid_quantity_0  ask_wdo_0  ask_quantity_wdo_0  bid_wdo_0  \\\n",
       "129             5.0     4165.0               232.0     4164.5   \n",
       "130            30.0     4165.0               232.0     4164.5   \n",
       "131            30.0     4165.0               232.0     4164.5   \n",
       "132            30.0     4165.0               232.0     4164.5   \n",
       "133            30.0     4165.0               232.0     4164.5   \n",
       "\n",
       "     bid_quantity_wdo_0  spread_dol  spread_wdo  mid_price  mid_price_wdo  \n",
       "129                42.0         0.5         0.5    4165.25        4164.75  \n",
       "130                42.0         1.0         0.5    4165.00        4164.75  \n",
       "131                45.0         1.0         0.5    4165.00        4164.75  \n",
       "132                45.0         1.0         0.5    4165.00        4164.75  \n",
       "133                45.0         1.0         0.5    4165.00        4164.75  "
      ]
     },
     "execution_count": 62,
     "metadata": {},
     "output_type": "execute_result"
    }
   ],
   "source": [
    "dict_next[0].head()"
   ]
  },
  {
   "cell_type": "code",
   "execution_count": 63,
   "metadata": {},
   "outputs": [
    {
     "data": {
      "text/html": [
       "<div>\n",
       "<style scoped>\n",
       "    .dataframe tbody tr th:only-of-type {\n",
       "        vertical-align: middle;\n",
       "    }\n",
       "\n",
       "    .dataframe tbody tr th {\n",
       "        vertical-align: top;\n",
       "    }\n",
       "\n",
       "    .dataframe thead th {\n",
       "        text-align: right;\n",
       "    }\n",
       "</style>\n",
       "<table border=\"1\" class=\"dataframe\">\n",
       "  <thead>\n",
       "    <tr style=\"text-align: right;\">\n",
       "      <th></th>\n",
       "      <th>index</th>\n",
       "      <th>timestamp</th>\n",
       "      <th>ask_0</th>\n",
       "      <th>ask_quantity_0</th>\n",
       "      <th>bid_0</th>\n",
       "      <th>bid_quantity_0</th>\n",
       "      <th>ask_wdo_0</th>\n",
       "      <th>ask_quantity_wdo_0</th>\n",
       "      <th>bid_wdo_0</th>\n",
       "      <th>bid_quantity_wdo_0</th>\n",
       "      <th>spread_dol</th>\n",
       "      <th>spread_wdo</th>\n",
       "      <th>mid_price</th>\n",
       "      <th>mid_price_wdo</th>\n",
       "    </tr>\n",
       "  </thead>\n",
       "  <tbody>\n",
       "    <tr>\n",
       "      <th>129</th>\n",
       "      <td>NaN</td>\n",
       "      <td>NaT</td>\n",
       "      <td>NaN</td>\n",
       "      <td>NaN</td>\n",
       "      <td>NaN</td>\n",
       "      <td>NaN</td>\n",
       "      <td>NaN</td>\n",
       "      <td>NaN</td>\n",
       "      <td>NaN</td>\n",
       "      <td>NaN</td>\n",
       "      <td>0.5</td>\n",
       "      <td>0.5</td>\n",
       "      <td>NaN</td>\n",
       "      <td>NaN</td>\n",
       "    </tr>\n",
       "    <tr>\n",
       "      <th>130</th>\n",
       "      <td>1.0</td>\n",
       "      <td>0 days</td>\n",
       "      <td>0.0</td>\n",
       "      <td>0.0</td>\n",
       "      <td>-0.5</td>\n",
       "      <td>25.0</td>\n",
       "      <td>0.0</td>\n",
       "      <td>0.0</td>\n",
       "      <td>0.0</td>\n",
       "      <td>0.0</td>\n",
       "      <td>1.0</td>\n",
       "      <td>0.5</td>\n",
       "      <td>-0.25</td>\n",
       "      <td>0.0</td>\n",
       "    </tr>\n",
       "    <tr>\n",
       "      <th>131</th>\n",
       "      <td>1.0</td>\n",
       "      <td>0 days</td>\n",
       "      <td>0.0</td>\n",
       "      <td>0.0</td>\n",
       "      <td>0.0</td>\n",
       "      <td>0.0</td>\n",
       "      <td>0.0</td>\n",
       "      <td>0.0</td>\n",
       "      <td>0.0</td>\n",
       "      <td>3.0</td>\n",
       "      <td>1.0</td>\n",
       "      <td>0.5</td>\n",
       "      <td>0.00</td>\n",
       "      <td>0.0</td>\n",
       "    </tr>\n",
       "    <tr>\n",
       "      <th>132</th>\n",
       "      <td>1.0</td>\n",
       "      <td>0 days</td>\n",
       "      <td>0.0</td>\n",
       "      <td>0.0</td>\n",
       "      <td>0.0</td>\n",
       "      <td>0.0</td>\n",
       "      <td>0.0</td>\n",
       "      <td>0.0</td>\n",
       "      <td>0.0</td>\n",
       "      <td>0.0</td>\n",
       "      <td>1.0</td>\n",
       "      <td>0.5</td>\n",
       "      <td>0.00</td>\n",
       "      <td>0.0</td>\n",
       "    </tr>\n",
       "    <tr>\n",
       "      <th>133</th>\n",
       "      <td>1.0</td>\n",
       "      <td>0 days</td>\n",
       "      <td>0.0</td>\n",
       "      <td>0.0</td>\n",
       "      <td>0.0</td>\n",
       "      <td>0.0</td>\n",
       "      <td>0.0</td>\n",
       "      <td>0.0</td>\n",
       "      <td>0.0</td>\n",
       "      <td>0.0</td>\n",
       "      <td>1.0</td>\n",
       "      <td>0.5</td>\n",
       "      <td>0.00</td>\n",
       "      <td>0.0</td>\n",
       "    </tr>\n",
       "  </tbody>\n",
       "</table>\n",
       "</div>"
      ],
      "text/plain": [
       "     index timestamp  ask_0  ask_quantity_0  bid_0  bid_quantity_0  ask_wdo_0  \\\n",
       "129    NaN       NaT    NaN             NaN    NaN             NaN        NaN   \n",
       "130    1.0    0 days    0.0             0.0   -0.5            25.0        0.0   \n",
       "131    1.0    0 days    0.0             0.0    0.0             0.0        0.0   \n",
       "132    1.0    0 days    0.0             0.0    0.0             0.0        0.0   \n",
       "133    1.0    0 days    0.0             0.0    0.0             0.0        0.0   \n",
       "\n",
       "     ask_quantity_wdo_0  bid_wdo_0  bid_quantity_wdo_0  spread_dol  \\\n",
       "129                 NaN        NaN                 NaN         0.5   \n",
       "130                 0.0        0.0                 0.0         1.0   \n",
       "131                 0.0        0.0                 3.0         1.0   \n",
       "132                 0.0        0.0                 0.0         1.0   \n",
       "133                 0.0        0.0                 0.0         1.0   \n",
       "\n",
       "     spread_wdo  mid_price  mid_price_wdo  \n",
       "129         0.5        NaN            NaN  \n",
       "130         0.5      -0.25            0.0  \n",
       "131         0.5       0.00            0.0  \n",
       "132         0.5       0.00            0.0  \n",
       "133         0.5       0.00            0.0  "
      ]
     },
     "execution_count": 63,
     "metadata": {},
     "output_type": "execute_result"
    }
   ],
   "source": [
    "dict_next_aux[0].head()"
   ]
  },
  {
   "cell_type": "code",
   "execution_count": 64,
   "metadata": {},
   "outputs": [],
   "source": [
    "distortion_next = pd.concat(dict_next_aux).reset_index()"
   ]
  },
  {
   "cell_type": "code",
   "execution_count": 65,
   "metadata": {},
   "outputs": [
    {
     "data": {
      "text/html": [
       "<div>\n",
       "<style scoped>\n",
       "    .dataframe tbody tr th:only-of-type {\n",
       "        vertical-align: middle;\n",
       "    }\n",
       "\n",
       "    .dataframe tbody tr th {\n",
       "        vertical-align: top;\n",
       "    }\n",
       "\n",
       "    .dataframe thead th {\n",
       "        text-align: right;\n",
       "    }\n",
       "</style>\n",
       "<table border=\"1\" class=\"dataframe\">\n",
       "  <thead>\n",
       "    <tr style=\"text-align: right;\">\n",
       "      <th></th>\n",
       "      <th>level_0</th>\n",
       "      <th>level_1</th>\n",
       "      <th>index</th>\n",
       "      <th>timestamp</th>\n",
       "      <th>ask_0</th>\n",
       "      <th>ask_quantity_0</th>\n",
       "      <th>bid_0</th>\n",
       "      <th>bid_quantity_0</th>\n",
       "      <th>ask_wdo_0</th>\n",
       "      <th>ask_quantity_wdo_0</th>\n",
       "      <th>bid_wdo_0</th>\n",
       "      <th>bid_quantity_wdo_0</th>\n",
       "      <th>spread_dol</th>\n",
       "      <th>spread_wdo</th>\n",
       "      <th>mid_price</th>\n",
       "      <th>mid_price_wdo</th>\n",
       "    </tr>\n",
       "  </thead>\n",
       "  <tbody>\n",
       "    <tr>\n",
       "      <th>1</th>\n",
       "      <td>0</td>\n",
       "      <td>130</td>\n",
       "      <td>1.0</td>\n",
       "      <td>0 days</td>\n",
       "      <td>0.0</td>\n",
       "      <td>0.0</td>\n",
       "      <td>-0.5</td>\n",
       "      <td>25.0</td>\n",
       "      <td>0.0</td>\n",
       "      <td>0.0</td>\n",
       "      <td>0.0</td>\n",
       "      <td>0.0</td>\n",
       "      <td>1.0</td>\n",
       "      <td>0.5</td>\n",
       "      <td>-0.25</td>\n",
       "      <td>0.0</td>\n",
       "    </tr>\n",
       "    <tr>\n",
       "      <th>2</th>\n",
       "      <td>0</td>\n",
       "      <td>131</td>\n",
       "      <td>1.0</td>\n",
       "      <td>0 days</td>\n",
       "      <td>0.0</td>\n",
       "      <td>0.0</td>\n",
       "      <td>0.0</td>\n",
       "      <td>0.0</td>\n",
       "      <td>0.0</td>\n",
       "      <td>0.0</td>\n",
       "      <td>0.0</td>\n",
       "      <td>3.0</td>\n",
       "      <td>1.0</td>\n",
       "      <td>0.5</td>\n",
       "      <td>0.00</td>\n",
       "      <td>0.0</td>\n",
       "    </tr>\n",
       "    <tr>\n",
       "      <th>3</th>\n",
       "      <td>0</td>\n",
       "      <td>132</td>\n",
       "      <td>1.0</td>\n",
       "      <td>0 days</td>\n",
       "      <td>0.0</td>\n",
       "      <td>0.0</td>\n",
       "      <td>0.0</td>\n",
       "      <td>0.0</td>\n",
       "      <td>0.0</td>\n",
       "      <td>0.0</td>\n",
       "      <td>0.0</td>\n",
       "      <td>0.0</td>\n",
       "      <td>1.0</td>\n",
       "      <td>0.5</td>\n",
       "      <td>0.00</td>\n",
       "      <td>0.0</td>\n",
       "    </tr>\n",
       "    <tr>\n",
       "      <th>4</th>\n",
       "      <td>0</td>\n",
       "      <td>133</td>\n",
       "      <td>1.0</td>\n",
       "      <td>0 days</td>\n",
       "      <td>0.0</td>\n",
       "      <td>0.0</td>\n",
       "      <td>0.0</td>\n",
       "      <td>0.0</td>\n",
       "      <td>0.0</td>\n",
       "      <td>0.0</td>\n",
       "      <td>0.0</td>\n",
       "      <td>0.0</td>\n",
       "      <td>1.0</td>\n",
       "      <td>0.5</td>\n",
       "      <td>0.00</td>\n",
       "      <td>0.0</td>\n",
       "    </tr>\n",
       "    <tr>\n",
       "      <th>5</th>\n",
       "      <td>0</td>\n",
       "      <td>134</td>\n",
       "      <td>1.0</td>\n",
       "      <td>0 days</td>\n",
       "      <td>0.0</td>\n",
       "      <td>0.0</td>\n",
       "      <td>0.0</td>\n",
       "      <td>0.0</td>\n",
       "      <td>0.0</td>\n",
       "      <td>0.0</td>\n",
       "      <td>0.0</td>\n",
       "      <td>0.0</td>\n",
       "      <td>1.0</td>\n",
       "      <td>0.5</td>\n",
       "      <td>0.00</td>\n",
       "      <td>0.0</td>\n",
       "    </tr>\n",
       "    <tr>\n",
       "      <th>6</th>\n",
       "      <td>0</td>\n",
       "      <td>135</td>\n",
       "      <td>1.0</td>\n",
       "      <td>0 days</td>\n",
       "      <td>0.0</td>\n",
       "      <td>0.0</td>\n",
       "      <td>0.0</td>\n",
       "      <td>0.0</td>\n",
       "      <td>0.0</td>\n",
       "      <td>0.0</td>\n",
       "      <td>0.0</td>\n",
       "      <td>0.0</td>\n",
       "      <td>1.0</td>\n",
       "      <td>0.5</td>\n",
       "      <td>0.00</td>\n",
       "      <td>0.0</td>\n",
       "    </tr>\n",
       "    <tr>\n",
       "      <th>7</th>\n",
       "      <td>0</td>\n",
       "      <td>136</td>\n",
       "      <td>1.0</td>\n",
       "      <td>0 days</td>\n",
       "      <td>0.0</td>\n",
       "      <td>0.0</td>\n",
       "      <td>0.0</td>\n",
       "      <td>0.0</td>\n",
       "      <td>0.0</td>\n",
       "      <td>0.0</td>\n",
       "      <td>0.0</td>\n",
       "      <td>0.0</td>\n",
       "      <td>1.0</td>\n",
       "      <td>0.5</td>\n",
       "      <td>0.00</td>\n",
       "      <td>0.0</td>\n",
       "    </tr>\n",
       "    <tr>\n",
       "      <th>8</th>\n",
       "      <td>0</td>\n",
       "      <td>137</td>\n",
       "      <td>1.0</td>\n",
       "      <td>0 days</td>\n",
       "      <td>0.0</td>\n",
       "      <td>0.0</td>\n",
       "      <td>0.0</td>\n",
       "      <td>0.0</td>\n",
       "      <td>0.0</td>\n",
       "      <td>0.0</td>\n",
       "      <td>0.0</td>\n",
       "      <td>0.0</td>\n",
       "      <td>1.0</td>\n",
       "      <td>0.5</td>\n",
       "      <td>0.00</td>\n",
       "      <td>0.0</td>\n",
       "    </tr>\n",
       "    <tr>\n",
       "      <th>9</th>\n",
       "      <td>0</td>\n",
       "      <td>138</td>\n",
       "      <td>1.0</td>\n",
       "      <td>0 days</td>\n",
       "      <td>0.0</td>\n",
       "      <td>0.0</td>\n",
       "      <td>0.0</td>\n",
       "      <td>0.0</td>\n",
       "      <td>0.0</td>\n",
       "      <td>0.0</td>\n",
       "      <td>0.0</td>\n",
       "      <td>0.0</td>\n",
       "      <td>1.0</td>\n",
       "      <td>0.5</td>\n",
       "      <td>0.00</td>\n",
       "      <td>0.0</td>\n",
       "    </tr>\n",
       "    <tr>\n",
       "      <th>10</th>\n",
       "      <td>0</td>\n",
       "      <td>139</td>\n",
       "      <td>1.0</td>\n",
       "      <td>0 days</td>\n",
       "      <td>0.0</td>\n",
       "      <td>0.0</td>\n",
       "      <td>0.0</td>\n",
       "      <td>0.0</td>\n",
       "      <td>0.0</td>\n",
       "      <td>0.0</td>\n",
       "      <td>0.0</td>\n",
       "      <td>0.0</td>\n",
       "      <td>1.0</td>\n",
       "      <td>0.5</td>\n",
       "      <td>0.00</td>\n",
       "      <td>0.0</td>\n",
       "    </tr>\n",
       "  </tbody>\n",
       "</table>\n",
       "</div>"
      ],
      "text/plain": [
       "    level_0  level_1  index timestamp  ask_0  ask_quantity_0  bid_0  \\\n",
       "1         0      130    1.0    0 days    0.0             0.0   -0.5   \n",
       "2         0      131    1.0    0 days    0.0             0.0    0.0   \n",
       "3         0      132    1.0    0 days    0.0             0.0    0.0   \n",
       "4         0      133    1.0    0 days    0.0             0.0    0.0   \n",
       "5         0      134    1.0    0 days    0.0             0.0    0.0   \n",
       "6         0      135    1.0    0 days    0.0             0.0    0.0   \n",
       "7         0      136    1.0    0 days    0.0             0.0    0.0   \n",
       "8         0      137    1.0    0 days    0.0             0.0    0.0   \n",
       "9         0      138    1.0    0 days    0.0             0.0    0.0   \n",
       "10        0      139    1.0    0 days    0.0             0.0    0.0   \n",
       "\n",
       "    bid_quantity_0  ask_wdo_0  ask_quantity_wdo_0  bid_wdo_0  \\\n",
       "1             25.0        0.0                 0.0        0.0   \n",
       "2              0.0        0.0                 0.0        0.0   \n",
       "3              0.0        0.0                 0.0        0.0   \n",
       "4              0.0        0.0                 0.0        0.0   \n",
       "5              0.0        0.0                 0.0        0.0   \n",
       "6              0.0        0.0                 0.0        0.0   \n",
       "7              0.0        0.0                 0.0        0.0   \n",
       "8              0.0        0.0                 0.0        0.0   \n",
       "9              0.0        0.0                 0.0        0.0   \n",
       "10             0.0        0.0                 0.0        0.0   \n",
       "\n",
       "    bid_quantity_wdo_0  spread_dol  spread_wdo  mid_price  mid_price_wdo  \n",
       "1                  0.0         1.0         0.5      -0.25            0.0  \n",
       "2                  3.0         1.0         0.5       0.00            0.0  \n",
       "3                  0.0         1.0         0.5       0.00            0.0  \n",
       "4                  0.0         1.0         0.5       0.00            0.0  \n",
       "5                  0.0         1.0         0.5       0.00            0.0  \n",
       "6                  0.0         1.0         0.5       0.00            0.0  \n",
       "7                  0.0         1.0         0.5       0.00            0.0  \n",
       "8                  0.0         1.0         0.5       0.00            0.0  \n",
       "9                  0.0         1.0         0.5       0.00            0.0  \n",
       "10                 0.0         1.0         0.5       0.00            0.0  "
      ]
     },
     "execution_count": 65,
     "metadata": {},
     "output_type": "execute_result"
    }
   ],
   "source": [
    "distortion_next.dropna().head(10)"
   ]
  },
  {
   "cell_type": "code",
   "execution_count": 66,
   "metadata": {},
   "outputs": [],
   "source": [
    "mover_next = distortion_next[['level_0', 'ask_0', 'bid_0', 'ask_wdo_0', 'bid_wdo_0']]"
   ]
  },
  {
   "cell_type": "code",
   "execution_count": 67,
   "metadata": {},
   "outputs": [
    {
     "data": {
      "text/plain": [
       "<matplotlib.axes._subplots.AxesSubplot at 0x7f66c41a3dd8>"
      ]
     },
     "execution_count": 67,
     "metadata": {},
     "output_type": "execute_result"
    },
    {
     "data": {
      "image/png": "[encoded data removed]",
      "text/plain": [
       "<Figure size 432x288 with 1 Axes>"
      ]
     },
     "metadata": {
      "needs_background": "light"
     },
     "output_type": "display_data"
    }
   ],
   "source": [
    "distortion_next[['spread_dol', 'spread_wdo']][distortion_next['level_0'] == 0].plot()"
   ]
  },
  {
   "cell_type": "code",
   "execution_count": 68,
   "metadata": {},
   "outputs": [
    {
     "data": {
      "text/plain": [
       "<matplotlib.axes._subplots.AxesSubplot at 0x7f66c3ce00f0>"
      ]
     },
     "execution_count": 68,
     "metadata": {},
     "output_type": "execute_result"
    },
    {
     "data": {
      "image/png": "[encoded data removed]",
      "text/plain": [
       "<Figure size 1080x576 with 1 Axes>"
      ]
     },
     "metadata": {
      "needs_background": "light"
     },
     "output_type": "display_data"
    }
   ],
   "source": [
    "#dict_next[0][['mid_price', 'mid_price']].diff().plot(figsize=(15,8))\n",
    "distortion_next[['mid_price', 'mid_price_wdo']][distortion_next['level_0'] == 0].plot(figsize=(15,8))\n"
   ]
  },
  {
   "cell_type": "code",
   "execution_count": 69,
   "metadata": {},
   "outputs": [],
   "source": [
    "# def func(dataframe):\n",
    "#     if dataframe['mid_price'] < 0:\n",
    "#         val = 'Down'\n",
    "#     elif dataframe['mid_price'] == 0:\n",
    "#         val = 'Hold'\n",
    "#     else:\n",
    "#         val = 'Up'\n",
    "#     return val"
   ]
  },
  {
   "cell_type": "code",
   "execution_count": 70,
   "metadata": {},
   "outputs": [],
   "source": [
    "def func(dataframe):\n",
    "    dataframe.loc[dataframe['mid_price'] < 0, 'movement_dol'] = -1\n",
    "    dataframe.loc[dataframe['mid_price']  == 0, 'movement_dol'] = 0\n",
    "    dataframe.loc[dataframe['mid_price']  > 0, 'movement_dol'] = 1\n",
    "    dataframe.loc[dataframe['mid_price_wdo'] < 0, 'movement_wdo'] = -1\n",
    "    dataframe.loc[dataframe['mid_price_wdo']  == 0, 'movement_wdo'] = 0\n",
    "    dataframe.loc[dataframe['mid_price_wdo']  > 0, 'movement_wdo'] = 1\n",
    "    return dataframe \n",
    "\n",
    "# for i in dict_next_aux.keys():\n",
    "#     func(dict_next_aux[i])[['movement_dol', 'movement_wdo']].dropna(inplace = True)"
   ]
  },
  {
   "cell_type": "code",
   "execution_count": 71,
   "metadata": {},
   "outputs": [],
   "source": [
    "# for i in dict_next_aux.keys():\n",
    "#     dict_next_aux[i].loc[dict_next_aux[i]['mid_price'] < 0, 'movement_dol'] = -1\n",
    "#     dict_next_aux[i].loc[dict_next_aux[i]['mid_price']  == 0, 'movement_dol'] = 0\n",
    "#     dict_next_aux[i].loc[dict_next_aux[i]['mid_price']  > 0, 'movement_dol'] = 1\n",
    "#     dict_next_aux[i].loc[dict_next_aux[i]['mid_price_wdo'] < 0, 'movement_wdo'] = -1\n",
    "#     dict_next_aux[i].loc[dict_next_aux[i]['mid_price_wdo']  == 0, 'movement_wdo'] = 0\n",
    "#     dict_next_aux[i].loc[dict_next_aux[i]['mid_price_wdo']  > 0, 'movement_wdo'] = 1"
   ]
  },
  {
   "cell_type": "code",
   "execution_count": 72,
   "metadata": {},
   "outputs": [],
   "source": [
    "# func(distortion_next)\n",
    "# distortion_next[['level_0', 'movement_dol', 'movement_wdo']].dropna().head()"
   ]
  },
  {
   "cell_type": "code",
   "execution_count": 73,
   "metadata": {},
   "outputs": [],
   "source": [
    "# for i in dict_next_aux.keys():\n",
    "#     func(dict_next_aux[i])[['movement_dol', 'movement_wdo']].dropna(inplace = True)"
   ]
  },
  {
   "cell_type": "code",
   "execution_count": 74,
   "metadata": {},
   "outputs": [],
   "source": [
    "# dict_next_aux[0].head(10)"
   ]
  },
  {
   "cell_type": "code",
   "execution_count": null,
   "metadata": {},
   "outputs": [],
   "source": [
    "# print(np.where(dict_next_aux[0]['movement_wdo'] == 1)[0][0], \n",
    "# np.where(dict_next_aux[0]['movement_wdo'] == -1)[0][0], np.where(dict_next_aux[0]['movement_dol'] == 1)[0][0], np.where(dict_next_aux[0]['movement_dol'] == -1)[0][0])\n"
   ]
  },
  {
   "cell_type": "code",
   "execution_count": 77,
   "metadata": {},
   "outputs": [],
   "source": [
    "df = {}\n",
    "for i in dict_next_aux.keys():\n",
    "    df[i] = func(dict_next_aux[i])[['movement_dol', 'movement_wdo',  'mid_price', 'mid_price_wdo']]"
   ]
  },
  {
   "cell_type": "code",
   "execution_count": 78,
   "metadata": {},
   "outputs": [
    {
     "name": "stderr",
     "output_type": "stream",
     "text": [
      "/home/asimovws/.local/lib/python3.6/site-packages/ipykernel_launcher.py:2: SettingWithCopyWarning: \n",
      "A value is trying to be set on a copy of a slice from a DataFrame\n",
      "\n",
      "See the caveats in the documentation: http://pandas.pydata.org/pandas-docs/stable/user_guide/indexing.html#returning-a-view-versus-a-copy\n",
      "  \n"
     ]
    }
   ],
   "source": [
    "for i in dict_next_aux.keys():\n",
    "    df[i].dropna(inplace = True)"
   ]
  },
  {
   "cell_type": "code",
   "execution_count": 79,
   "metadata": {},
   "outputs": [
    {
     "data": {
      "text/html": [
       "<div>\n",
       "<style scoped>\n",
       "    .dataframe tbody tr th:only-of-type {\n",
       "        vertical-align: middle;\n",
       "    }\n",
       "\n",
       "    .dataframe tbody tr th {\n",
       "        vertical-align: top;\n",
       "    }\n",
       "\n",
       "    .dataframe thead th {\n",
       "        text-align: right;\n",
       "    }\n",
       "</style>\n",
       "<table border=\"1\" class=\"dataframe\">\n",
       "  <thead>\n",
       "    <tr style=\"text-align: right;\">\n",
       "      <th></th>\n",
       "      <th>index</th>\n",
       "      <th>timestamp</th>\n",
       "      <th>ask_0</th>\n",
       "      <th>ask_quantity_0</th>\n",
       "      <th>bid_0</th>\n",
       "      <th>bid_quantity_0</th>\n",
       "      <th>ask_wdo_0</th>\n",
       "      <th>ask_quantity_wdo_0</th>\n",
       "      <th>bid_wdo_0</th>\n",
       "      <th>bid_quantity_wdo_0</th>\n",
       "      <th>spread_dol</th>\n",
       "      <th>spread_wdo</th>\n",
       "      <th>mid_price</th>\n",
       "      <th>mid_price_wdo</th>\n",
       "      <th>movement_dol</th>\n",
       "      <th>movement_wdo</th>\n",
       "    </tr>\n",
       "  </thead>\n",
       "  <tbody>\n",
       "    <tr>\n",
       "      <th>129</th>\n",
       "      <td>NaN</td>\n",
       "      <td>NaT</td>\n",
       "      <td>NaN</td>\n",
       "      <td>NaN</td>\n",
       "      <td>NaN</td>\n",
       "      <td>NaN</td>\n",
       "      <td>NaN</td>\n",
       "      <td>NaN</td>\n",
       "      <td>NaN</td>\n",
       "      <td>NaN</td>\n",
       "      <td>0.5</td>\n",
       "      <td>0.5</td>\n",
       "      <td>NaN</td>\n",
       "      <td>NaN</td>\n",
       "      <td>NaN</td>\n",
       "      <td>NaN</td>\n",
       "    </tr>\n",
       "    <tr>\n",
       "      <th>130</th>\n",
       "      <td>1.0</td>\n",
       "      <td>0 days</td>\n",
       "      <td>0.0</td>\n",
       "      <td>0.0</td>\n",
       "      <td>-0.5</td>\n",
       "      <td>25.0</td>\n",
       "      <td>0.0</td>\n",
       "      <td>0.0</td>\n",
       "      <td>0.0</td>\n",
       "      <td>0.0</td>\n",
       "      <td>1.0</td>\n",
       "      <td>0.5</td>\n",
       "      <td>-0.25</td>\n",
       "      <td>0.0</td>\n",
       "      <td>-1.0</td>\n",
       "      <td>0.0</td>\n",
       "    </tr>\n",
       "    <tr>\n",
       "      <th>131</th>\n",
       "      <td>1.0</td>\n",
       "      <td>0 days</td>\n",
       "      <td>0.0</td>\n",
       "      <td>0.0</td>\n",
       "      <td>0.0</td>\n",
       "      <td>0.0</td>\n",
       "      <td>0.0</td>\n",
       "      <td>0.0</td>\n",
       "      <td>0.0</td>\n",
       "      <td>3.0</td>\n",
       "      <td>1.0</td>\n",
       "      <td>0.5</td>\n",
       "      <td>0.00</td>\n",
       "      <td>0.0</td>\n",
       "      <td>0.0</td>\n",
       "      <td>0.0</td>\n",
       "    </tr>\n",
       "    <tr>\n",
       "      <th>132</th>\n",
       "      <td>1.0</td>\n",
       "      <td>0 days</td>\n",
       "      <td>0.0</td>\n",
       "      <td>0.0</td>\n",
       "      <td>0.0</td>\n",
       "      <td>0.0</td>\n",
       "      <td>0.0</td>\n",
       "      <td>0.0</td>\n",
       "      <td>0.0</td>\n",
       "      <td>0.0</td>\n",
       "      <td>1.0</td>\n",
       "      <td>0.5</td>\n",
       "      <td>0.00</td>\n",
       "      <td>0.0</td>\n",
       "      <td>0.0</td>\n",
       "      <td>0.0</td>\n",
       "    </tr>\n",
       "    <tr>\n",
       "      <th>133</th>\n",
       "      <td>1.0</td>\n",
       "      <td>0 days</td>\n",
       "      <td>0.0</td>\n",
       "      <td>0.0</td>\n",
       "      <td>0.0</td>\n",
       "      <td>0.0</td>\n",
       "      <td>0.0</td>\n",
       "      <td>0.0</td>\n",
       "      <td>0.0</td>\n",
       "      <td>0.0</td>\n",
       "      <td>1.0</td>\n",
       "      <td>0.5</td>\n",
       "      <td>0.00</td>\n",
       "      <td>0.0</td>\n",
       "      <td>0.0</td>\n",
       "      <td>0.0</td>\n",
       "    </tr>\n",
       "    <tr>\n",
       "      <th>134</th>\n",
       "      <td>1.0</td>\n",
       "      <td>0 days</td>\n",
       "      <td>0.0</td>\n",
       "      <td>0.0</td>\n",
       "      <td>0.0</td>\n",
       "      <td>0.0</td>\n",
       "      <td>0.0</td>\n",
       "      <td>0.0</td>\n",
       "      <td>0.0</td>\n",
       "      <td>0.0</td>\n",
       "      <td>1.0</td>\n",
       "      <td>0.5</td>\n",
       "      <td>0.00</td>\n",
       "      <td>0.0</td>\n",
       "      <td>0.0</td>\n",
       "      <td>0.0</td>\n",
       "    </tr>\n",
       "    <tr>\n",
       "      <th>135</th>\n",
       "      <td>1.0</td>\n",
       "      <td>0 days</td>\n",
       "      <td>0.0</td>\n",
       "      <td>0.0</td>\n",
       "      <td>0.0</td>\n",
       "      <td>0.0</td>\n",
       "      <td>0.0</td>\n",
       "      <td>0.0</td>\n",
       "      <td>0.0</td>\n",
       "      <td>0.0</td>\n",
       "      <td>1.0</td>\n",
       "      <td>0.5</td>\n",
       "      <td>0.00</td>\n",
       "      <td>0.0</td>\n",
       "      <td>0.0</td>\n",
       "      <td>0.0</td>\n",
       "    </tr>\n",
       "    <tr>\n",
       "      <th>136</th>\n",
       "      <td>1.0</td>\n",
       "      <td>0 days</td>\n",
       "      <td>0.0</td>\n",
       "      <td>0.0</td>\n",
       "      <td>0.0</td>\n",
       "      <td>0.0</td>\n",
       "      <td>0.0</td>\n",
       "      <td>0.0</td>\n",
       "      <td>0.0</td>\n",
       "      <td>0.0</td>\n",
       "      <td>1.0</td>\n",
       "      <td>0.5</td>\n",
       "      <td>0.00</td>\n",
       "      <td>0.0</td>\n",
       "      <td>0.0</td>\n",
       "      <td>0.0</td>\n",
       "    </tr>\n",
       "    <tr>\n",
       "      <th>137</th>\n",
       "      <td>1.0</td>\n",
       "      <td>0 days</td>\n",
       "      <td>0.0</td>\n",
       "      <td>0.0</td>\n",
       "      <td>0.0</td>\n",
       "      <td>0.0</td>\n",
       "      <td>0.0</td>\n",
       "      <td>0.0</td>\n",
       "      <td>0.0</td>\n",
       "      <td>0.0</td>\n",
       "      <td>1.0</td>\n",
       "      <td>0.5</td>\n",
       "      <td>0.00</td>\n",
       "      <td>0.0</td>\n",
       "      <td>0.0</td>\n",
       "      <td>0.0</td>\n",
       "    </tr>\n",
       "    <tr>\n",
       "      <th>138</th>\n",
       "      <td>1.0</td>\n",
       "      <td>0 days</td>\n",
       "      <td>0.0</td>\n",
       "      <td>0.0</td>\n",
       "      <td>0.0</td>\n",
       "      <td>0.0</td>\n",
       "      <td>0.0</td>\n",
       "      <td>0.0</td>\n",
       "      <td>0.0</td>\n",
       "      <td>0.0</td>\n",
       "      <td>1.0</td>\n",
       "      <td>0.5</td>\n",
       "      <td>0.00</td>\n",
       "      <td>0.0</td>\n",
       "      <td>0.0</td>\n",
       "      <td>0.0</td>\n",
       "    </tr>\n",
       "  </tbody>\n",
       "</table>\n",
       "</div>"
      ],
      "text/plain": [
       "     index timestamp  ask_0  ask_quantity_0  bid_0  bid_quantity_0  ask_wdo_0  \\\n",
       "129    NaN       NaT    NaN             NaN    NaN             NaN        NaN   \n",
       "130    1.0    0 days    0.0             0.0   -0.5            25.0        0.0   \n",
       "131    1.0    0 days    0.0             0.0    0.0             0.0        0.0   \n",
       "132    1.0    0 days    0.0             0.0    0.0             0.0        0.0   \n",
       "133    1.0    0 days    0.0             0.0    0.0             0.0        0.0   \n",
       "134    1.0    0 days    0.0             0.0    0.0             0.0        0.0   \n",
       "135    1.0    0 days    0.0             0.0    0.0             0.0        0.0   \n",
       "136    1.0    0 days    0.0             0.0    0.0             0.0        0.0   \n",
       "137    1.0    0 days    0.0             0.0    0.0             0.0        0.0   \n",
       "138    1.0    0 days    0.0             0.0    0.0             0.0        0.0   \n",
       "\n",
       "     ask_quantity_wdo_0  bid_wdo_0  bid_quantity_wdo_0  spread_dol  \\\n",
       "129                 NaN        NaN                 NaN         0.5   \n",
       "130                 0.0        0.0                 0.0         1.0   \n",
       "131                 0.0        0.0                 3.0         1.0   \n",
       "132                 0.0        0.0                 0.0         1.0   \n",
       "133                 0.0        0.0                 0.0         1.0   \n",
       "134                 0.0        0.0                 0.0         1.0   \n",
       "135                 0.0        0.0                 0.0         1.0   \n",
       "136                 0.0        0.0                 0.0         1.0   \n",
       "137                 0.0        0.0                 0.0         1.0   \n",
       "138                 0.0        0.0                 0.0         1.0   \n",
       "\n",
       "     spread_wdo  mid_price  mid_price_wdo  movement_dol  movement_wdo  \n",
       "129         0.5        NaN            NaN           NaN           NaN  \n",
       "130         0.5      -0.25            0.0          -1.0           0.0  \n",
       "131         0.5       0.00            0.0           0.0           0.0  \n",
       "132         0.5       0.00            0.0           0.0           0.0  \n",
       "133         0.5       0.00            0.0           0.0           0.0  \n",
       "134         0.5       0.00            0.0           0.0           0.0  \n",
       "135         0.5       0.00            0.0           0.0           0.0  \n",
       "136         0.5       0.00            0.0           0.0           0.0  \n",
       "137         0.5       0.00            0.0           0.0           0.0  \n",
       "138         0.5       0.00            0.0           0.0           0.0  "
      ]
     },
     "execution_count": 79,
     "metadata": {},
     "output_type": "execute_result"
    }
   ],
   "source": [
    "dict_next_aux[0].head(10)"
   ]
  },
  {
   "cell_type": "code",
   "execution_count": 80,
   "metadata": {},
   "outputs": [
    {
     "data": {
      "text/html": [
       "<div>\n",
       "<style scoped>\n",
       "    .dataframe tbody tr th:only-of-type {\n",
       "        vertical-align: middle;\n",
       "    }\n",
       "\n",
       "    .dataframe tbody tr th {\n",
       "        vertical-align: top;\n",
       "    }\n",
       "\n",
       "    .dataframe thead th {\n",
       "        text-align: right;\n",
       "    }\n",
       "</style>\n",
       "<table border=\"1\" class=\"dataframe\">\n",
       "  <thead>\n",
       "    <tr style=\"text-align: right;\">\n",
       "      <th></th>\n",
       "      <th>movement_dol</th>\n",
       "      <th>movement_wdo</th>\n",
       "      <th>mid_price</th>\n",
       "      <th>mid_price_wdo</th>\n",
       "    </tr>\n",
       "  </thead>\n",
       "  <tbody>\n",
       "    <tr>\n",
       "      <th>130</th>\n",
       "      <td>-1.0</td>\n",
       "      <td>0.0</td>\n",
       "      <td>-0.25</td>\n",
       "      <td>0.0</td>\n",
       "    </tr>\n",
       "    <tr>\n",
       "      <th>131</th>\n",
       "      <td>0.0</td>\n",
       "      <td>0.0</td>\n",
       "      <td>0.00</td>\n",
       "      <td>0.0</td>\n",
       "    </tr>\n",
       "    <tr>\n",
       "      <th>132</th>\n",
       "      <td>0.0</td>\n",
       "      <td>0.0</td>\n",
       "      <td>0.00</td>\n",
       "      <td>0.0</td>\n",
       "    </tr>\n",
       "    <tr>\n",
       "      <th>133</th>\n",
       "      <td>0.0</td>\n",
       "      <td>0.0</td>\n",
       "      <td>0.00</td>\n",
       "      <td>0.0</td>\n",
       "    </tr>\n",
       "    <tr>\n",
       "      <th>134</th>\n",
       "      <td>0.0</td>\n",
       "      <td>0.0</td>\n",
       "      <td>0.00</td>\n",
       "      <td>0.0</td>\n",
       "    </tr>\n",
       "  </tbody>\n",
       "</table>\n",
       "</div>"
      ],
      "text/plain": [
       "     movement_dol  movement_wdo  mid_price  mid_price_wdo\n",
       "130          -1.0           0.0      -0.25            0.0\n",
       "131           0.0           0.0       0.00            0.0\n",
       "132           0.0           0.0       0.00            0.0\n",
       "133           0.0           0.0       0.00            0.0\n",
       "134           0.0           0.0       0.00            0.0"
      ]
     },
     "execution_count": 80,
     "metadata": {},
     "output_type": "execute_result"
    }
   ],
   "source": [
    "df[0].head()"
   ]
  },
  {
   "cell_type": "code",
   "execution_count": null,
   "metadata": {},
   "outputs": [],
   "source": []
  },
  {
   "cell_type": "code",
   "execution_count": null,
   "metadata": {},
   "outputs": [],
   "source": [
    "df = {}\n",
    "for i in dict_next_aux.keys():\n",
    "    df[i] = dict_next_aux[i][['movement_dol', 'movement_wdo', 'mid_price', 'mid_price_wdo']]"
   ]
  },
  {
   "cell_type": "code",
   "execution_count": 81,
   "metadata": {},
   "outputs": [],
   "source": [
    "aux_dol = 0\n",
    "aux_wdo = 0\n",
    "follow_up  = 0\n",
    "not_follow_up = 0\n",
    "follow_down = 0\n",
    "not_follow_down = 0\n",
    "follow_up_wdo  = 0\n",
    "not_follow_up_wdo = 0\n",
    "follow_down_wdo = 0\n",
    "not_follow_down_wdo = 0\n",
    "\n",
    "for i in range(50,max(df.keys())):\n",
    "    df[i].reset_index(inplace=True)\n",
    "    for j in range(max(len(np.where(df[i]['movement_wdo'] == 1)[0]), len(np.where(df[i]['movement_wdo'] == -1)[0]), len(np.where(df[i]['movement_dol'] == 1)[0]), len(np.where(df[i]['movement_dol'] == -1)[0]))):\n",
    "        if (len(np.where(df[i]['movement_wdo'] == 1)[0]) != 0)  and (len(np.where(df[i]['movement_wdo'] == -1)[0]) != 0) and (len(np.where(df[i]['movement_dol'] == 1)[0]) != 0) and (len(np.where(df[i]['movement_dol'] == -1)[0]) != 0):\n",
    "\n",
    "            if min(np.where(df[i]['movement_wdo'] == 1)[0][0], np.where(df[i]['movement_wdo'] == -1)[0][0]) <  min(np.where(df[i]['movement_dol'] == 1)[0][0], np.where(df[i]['movement_dol'] == -1)[0][0]):\n",
    "                aux_wdo+=1\n",
    "                if np.where(df[i]['movement_wdo'] == 1)[0][0] < np.where(df[i]['movement_wdo'] == -1)[0][0]:\n",
    "                    steps = np.where(df[i]['movement_wdo'] == -1)[0][0]\n",
    "                    if np.where(df[i]['movement_dol'] == 1)[0][0] < steps:\n",
    "                        follow_up_wdo +=1\n",
    "                    else:\n",
    "                        not_follow_up_wdo +=1  \n",
    "                else:\n",
    "                    steps = np.where(df[i]['movement_wdo'] == 1)[0][0]\n",
    "                    if np.where(df[i]['movement_dol'] == -1)[0][0] < steps:\n",
    "                        follow_down_wdo +=1\n",
    "                    else:\n",
    "                        not_follow_down_wdo +=1\n",
    "\n",
    "            else:\n",
    "                aux_dol+=1\n",
    "                if np.where(df[i]['movement_dol'] == 1)[0][0] < np.where(df[i]['movement_dol'] == -1)[0][0]:\n",
    "                    steps = np.where(df[i]['movement_dol'] == -1)[0][0]\n",
    "                    if np.where(df[i]['movement_wdo'] == 1)[0][0] < steps:\n",
    "                         follow_up +=1\n",
    "                    else:\n",
    "                        not_follow_up +=1\n",
    "                else:\n",
    "                    steps = np.where(df[i]['movement_dol'] == 1)[0][0]\n",
    "                    if np.where(df[i]['movement_wdo'] == -1)[0][0] < steps:\n",
    "                        follow_down +=1\n",
    "                    else:\n",
    "                        not_follow_down +=1\n",
    "\n",
    "\n",
    "        df[i] = df[i].loc[steps:]\n",
    "    #         df[i]['movement_dol'] = df[i]['movement_dol'].loc[steps:]\n",
    "        df[i].dropna(inplace = True)\n",
    "#     df[i].reset_index(inplace=True)"
   ]
  },
  {
   "cell_type": "markdown",
   "metadata": {},
   "source": [
    "# TESTEEEE"
   ]
  },
  {
   "cell_type": "code",
   "execution_count": 135,
   "metadata": {},
   "outputs": [],
   "source": [
    "aux_dol = 0\n",
    "aux_wdo = 0\n",
    "follow_up  = 0\n",
    "not_follow_up = 0\n",
    "follow_down = 0\n",
    "not_follow_down = 0\n",
    "follow_up_wdo  = 0\n",
    "not_follow_up_wdo = 0\n",
    "follow_down_wdo = 0\n",
    "not_follow_down_wdo = 0\n",
    "cum_sum_wdo_WDO = {}\n",
    "cum_sum_dol_WDO = {}\n",
    "cum_sum_wdo_DOL = {}\n",
    "cum_sum_dol_DOL = {}\n",
    "\n",
    "for i in range(50,max(df.keys())):\n",
    "    cum_sum_wdo_WDO[i] = {}\n",
    "    cum_sum_dol_WDO[i] = {}\n",
    "    cum_sum_wdo_DOL[i] = {}\n",
    "    cum_sum_dol_DOL[i] = {}\n",
    "    df[i].reset_index(inplace=True)\n",
    "    for j in range(max(len(np.where(df[i]['movement_wdo'] == 1)[0]), len(np.where(df[i]['movement_wdo'] == -1)[0]), len(np.where(df[i]['movement_dol'] == 1)[0]), len(np.where(df[i]['movement_dol'] == -1)[0]))):\n",
    "        if (len(np.where(df[i]['movement_wdo'] == 1)[0]) != 0)  and (len(np.where(df[i]['movement_wdo'] == -1)[0]) != 0) and (len(np.where(df[i]['movement_dol'] == 1)[0]) != 0) and (len(np.where(df[i]['movement_dol'] == -1)[0]) != 0):\n",
    "\n",
    "            if min(np.where(df[i]['movement_wdo'] == 1)[0][0], np.where(df[i]['movement_wdo'] == -1)[0][0]) <  min(np.where(df[i]['movement_dol'] == 1)[0][0], np.where(df[i]['movement_dol'] == -1)[0][0]):\n",
    "                aux_wdo+=1\n",
    "                if np.where(df[i]['movement_wdo'] == 1)[0][0] < np.where(df[i]['movement_wdo'] == -1)[0][0]:\n",
    "                    steps = np.where(df[i]['movement_wdo'] == -1)[0][0]\n",
    "                    if np.where(df[i]['movement_dol'] == 1)[0][0] < steps:\n",
    "                        follow_up_wdo +=1\n",
    "                        cum_sum_wdo_WDO[i][j] = df[i]['mid_price_wdo'].loc[np.where(df[i]['movement_wdo'] == 1)[0][0]:steps-1].sum()\n",
    "                        cum_sum_dol_WDO[i][j] = df[i]['mid_price'].loc[np.where(df[i]['movement_dol'] == 1)[0][0]:steps-1].sum()\n",
    "                    else:\n",
    "                        not_follow_up_wdo +=1  \n",
    "                else:\n",
    "                    steps = np.where(df[i]['movement_wdo'] == 1)[0][0]\n",
    "                    if np.where(df[i]['movement_dol'] == -1)[0][0] < steps:\n",
    "                        follow_down_wdo +=1\n",
    "                        cum_sum_wdo_WDO[i][j] = df[i]['mid_price_wdo'].loc[np.where(df[i]['movement_wdo'] == -1)[0][0]:steps-1].sum()\n",
    "                        cum_sum_dol_WDO[i][j] = df[i]['mid_price'].loc[np.where(df[i]['movement_dol'] == -1)[0][0]:steps-1].sum()\n",
    "                    else:\n",
    "                        not_follow_down_wdo +=1\n",
    "\n",
    "            else:\n",
    "                aux_dol+=1\n",
    "                if np.where(df[i]['movement_dol'] == 1)[0][0] < np.where(df[i]['movement_dol'] == -1)[0][0]:\n",
    "                    steps = np.where(df[i]['movement_dol'] == -1)[0][0]\n",
    "                    if np.where(df[i]['movement_wdo'] == 1)[0][0] < steps:\n",
    "                        follow_up +=1\n",
    "                        cum_sum_wdo_DOL[i][j] = df[i]['mid_price_wdo'].loc[np.where(df[i]['movement_wdo'] == 1)[0][0]:steps-1].sum()\n",
    "                        cum_sum_dol_DOL[i][j] = df[i]['mid_price'].loc[np.where(df[i]['movement_dol'] == 1)[0][0]:steps-1].sum()\n",
    "                    else:\n",
    "                        not_follow_up +=1\n",
    "                else:\n",
    "                    steps = np.where(df[i]['movement_dol'] == 1)[0][0]\n",
    "                    if np.where(df[i]['movement_wdo'] == -1)[0][0] < steps:\n",
    "                        follow_down +=1\n",
    "                        cum_sum_wdo_DOL[i][j] = df[i]['mid_price_wdo'].loc[np.where(df[i]['movement_wdo'] == -1)[0][0]:steps-1].sum()\n",
    "                        cum_sum_dol_DOL[i][j] = df[i]['mid_price'].loc[np.where(df[i]['movement_dol'] == -1)[0][0]:steps-1].sum()\n",
    "                    else:\n",
    "                        not_follow_down +=1\n",
    "\n",
    "        df[i] = df[i].loc[steps:]\n",
    "        df[i].dropna(inplace = True)\n",
    "   # df[i].reset_index(inplace=True)"
   ]
  },
  {
   "cell_type": "markdown",
   "metadata": {},
   "source": [
    "# Testesss"
   ]
  },
  {
   "cell_type": "code",
   "execution_count": 84,
   "metadata": {},
   "outputs": [],
   "source": [
    "print(\"Dia 14/11 - follow_up_wdo: {}, not_follow_up_wdo: {} , follow_down_wdo: {}, not_follow_down_wdo: {}, follow_up: {} , not_follow_up: {},              follow_down: {}, not_follow_down: {}, aux_wdo: {} , aux_dol: {}\".format(follow_up_wdo, not_follow_up_wdo, follow_down_wdo, not_follow_down_wdo, follow_up, not_follow_up, follow_down, not_follow_down, aux_wdo, aux_dol))"
   ]
  },
  {
   "cell_type": "code",
   "execution_count": 85,
   "metadata": {},
   "outputs": [],
   "source": [
    "print('Dia 14/11 - Porcetagem DOL seguiu WDO em up : {}, Porcetagem DOL seguiu WDO em down: {},                                         Porcetagem WDO seguiu DOL em up: {}, Porcetagem WDO seguiu DOL em down: {}'.format(follow_up_wdo/not_follow_up_wdo, follow_down_wdo/not_follow_down_wdo, follow_up/not_follow_up, follow_down/not_follow_down))"
   ]
  },
  {
   "cell_type": "code",
   "execution_count": 86,
   "metadata": {},
   "outputs": [],
   "source": [
    "print(\"Dia 13/11 - follow_up_wdo: {}, not_follow_up_wdo: {} , follow_down_wdo: {}, not_follow_down_wdo: {}, follow_up: {} , not_follow_up: {},              follow_down: {}, not_follow_down: {}, aux_wdo: {}, aux_dol: {}\".format(3629, 12214, 3566, 13114, 7570, 5146, 7881, 4995, 32523, 25592))"
   ]
  },
  {
   "cell_type": "code",
   "execution_count": 87,
   "metadata": {},
   "outputs": [],
   "source": [
    "print('Dia 13/11 - Porcetagem DOL seguiu WDO em up : {}, Porcetagem DOL seguiu WDO em down: {},                                         Porcetagem WDO seguiu DOL em up: {}, Porcetagem WDO seguiu DOL em down: {}'.format(3629/12214, 3566/13114, 7570/5146, 7881/4995))"
   ]
  },
  {
   "cell_type": "code",
   "execution_count": 89,
   "metadata": {},
   "outputs": [
    {
     "name": "stdout",
     "output_type": "stream",
     "text": [
      "Dia 11/11 - follow_up_wdo: 1275, not_follow_up_wdo: 7613 , follow_down_wdo: 1129, not_follow_down_wdo: 7944, follow_up: 2320 , not_follow_up: 2655,            \t\t  follow_down: 2469, not_follow_down: 2345, aux_wdo: 17961 , aux_dol: 9789\n"
     ]
    }
   ],
   "source": [
    "print(\"Dia 11/11 - follow_up_wdo: {}, not_follow_up_wdo: {} , follow_down_wdo: {}, not_follow_down_wdo: {}, follow_up: {} , not_follow_up: {},            \\t\\t  follow_down: {}, not_follow_down: {}, aux_wdo: {} , aux_dol: {}\".format(follow_up_wdo, not_follow_up_wdo, follow_down_wdo, not_follow_down_wdo, follow_up, not_follow_up, follow_down, not_follow_down, aux_wdo, aux_dol))"
   ]
  },
  {
   "cell_type": "code",
   "execution_count": 90,
   "metadata": {},
   "outputs": [
    {
     "name": "stdout",
     "output_type": "stream",
     "text": [
      "Dia 11/11 - Porcetagem DOL seguiu WDO em up : 0.16747668461841586, Porcetagem DOL seguiu WDO em down: 0.14211983887210472,                            \t\t             Porcetagem WDO seguiu DOL em up: 0.8738229755178908, Porcetagem WDO seguiu DOL em down: 1.0528784648187632\n"
     ]
    }
   ],
   "source": [
    "print('Dia 11/11 - Porcetagem DOL seguiu WDO em up : {}, Porcetagem DOL seguiu WDO em down: {},                            \\t\\t             Porcetagem WDO seguiu DOL em up: {}, Porcetagem WDO seguiu DOL em down: {}'.format(follow_up_wdo/not_follow_up_wdo, follow_down_wdo/not_follow_down_wdo, follow_up/not_follow_up, follow_down/not_follow_down))"
   ]
  },
  {
   "cell_type": "code",
   "execution_count": 211,
   "metadata": {},
   "outputs": [
    {
     "data": {
      "text/plain": [
       "<matplotlib.axes._subplots.AxesSubplot at 0x7f8ad3064f60>"
      ]
     },
     "execution_count": 211,
     "metadata": {},
     "output_type": "execute_result"
    },
    {
     "data": {
      "image/png": "[encoded data removed]",
      "text/plain": [
       "<Figure size 1152x720 with 1 Axes>"
      ]
     },
     "metadata": {
      "needs_background": "light"
     },
     "output_type": "display_data"
    }
   ],
   "source": [
    "mover_next.dropna().loc[1000:1100].plot(figsize=(16,10))"
   ]
  },
  {
   "cell_type": "code",
   "execution_count": 217,
   "metadata": {},
   "outputs": [
    {
     "data": {
      "text/html": [
       "<div>\n",
       "<style scoped>\n",
       "    .dataframe tbody tr th:only-of-type {\n",
       "        vertical-align: middle;\n",
       "    }\n",
       "\n",
       "    .dataframe tbody tr th {\n",
       "        vertical-align: top;\n",
       "    }\n",
       "\n",
       "    .dataframe thead th {\n",
       "        text-align: right;\n",
       "    }\n",
       "</style>\n",
       "<table border=\"1\" class=\"dataframe\">\n",
       "  <thead>\n",
       "    <tr style=\"text-align: right;\">\n",
       "      <th></th>\n",
       "      <th>level_0</th>\n",
       "      <th>ask_0</th>\n",
       "      <th>bid_0</th>\n",
       "      <th>ask_wdo_0</th>\n",
       "      <th>bid_wdo_0</th>\n",
       "    </tr>\n",
       "  </thead>\n",
       "  <tbody>\n",
       "    <tr>\n",
       "      <th>1</th>\n",
       "      <td>0</td>\n",
       "      <td>0.0</td>\n",
       "      <td>0.0</td>\n",
       "      <td>-0.5</td>\n",
       "      <td>0.0</td>\n",
       "    </tr>\n",
       "    <tr>\n",
       "      <th>2</th>\n",
       "      <td>0</td>\n",
       "      <td>0.0</td>\n",
       "      <td>0.0</td>\n",
       "      <td>0.0</td>\n",
       "      <td>-0.5</td>\n",
       "    </tr>\n",
       "    <tr>\n",
       "      <th>3</th>\n",
       "      <td>0</td>\n",
       "      <td>0.0</td>\n",
       "      <td>0.0</td>\n",
       "      <td>0.0</td>\n",
       "      <td>0.0</td>\n",
       "    </tr>\n",
       "    <tr>\n",
       "      <th>4</th>\n",
       "      <td>0</td>\n",
       "      <td>0.0</td>\n",
       "      <td>0.0</td>\n",
       "      <td>0.0</td>\n",
       "      <td>0.0</td>\n",
       "    </tr>\n",
       "    <tr>\n",
       "      <th>5</th>\n",
       "      <td>0</td>\n",
       "      <td>0.0</td>\n",
       "      <td>0.0</td>\n",
       "      <td>0.0</td>\n",
       "      <td>0.0</td>\n",
       "    </tr>\n",
       "    <tr>\n",
       "      <th>6</th>\n",
       "      <td>0</td>\n",
       "      <td>0.0</td>\n",
       "      <td>0.0</td>\n",
       "      <td>0.0</td>\n",
       "      <td>0.0</td>\n",
       "    </tr>\n",
       "    <tr>\n",
       "      <th>7</th>\n",
       "      <td>0</td>\n",
       "      <td>0.0</td>\n",
       "      <td>0.0</td>\n",
       "      <td>0.0</td>\n",
       "      <td>0.0</td>\n",
       "    </tr>\n",
       "    <tr>\n",
       "      <th>8</th>\n",
       "      <td>0</td>\n",
       "      <td>0.0</td>\n",
       "      <td>0.0</td>\n",
       "      <td>0.0</td>\n",
       "      <td>0.0</td>\n",
       "    </tr>\n",
       "    <tr>\n",
       "      <th>9</th>\n",
       "      <td>0</td>\n",
       "      <td>0.0</td>\n",
       "      <td>0.0</td>\n",
       "      <td>0.0</td>\n",
       "      <td>0.0</td>\n",
       "    </tr>\n",
       "    <tr>\n",
       "      <th>10</th>\n",
       "      <td>0</td>\n",
       "      <td>0.0</td>\n",
       "      <td>0.0</td>\n",
       "      <td>0.0</td>\n",
       "      <td>0.0</td>\n",
       "    </tr>\n",
       "    <tr>\n",
       "      <th>11</th>\n",
       "      <td>0</td>\n",
       "      <td>0.0</td>\n",
       "      <td>0.0</td>\n",
       "      <td>0.0</td>\n",
       "      <td>0.0</td>\n",
       "    </tr>\n",
       "    <tr>\n",
       "      <th>13</th>\n",
       "      <td>1</td>\n",
       "      <td>0.0</td>\n",
       "      <td>0.0</td>\n",
       "      <td>0.0</td>\n",
       "      <td>-0.5</td>\n",
       "    </tr>\n",
       "    <tr>\n",
       "      <th>14</th>\n",
       "      <td>1</td>\n",
       "      <td>0.0</td>\n",
       "      <td>0.0</td>\n",
       "      <td>0.0</td>\n",
       "      <td>0.0</td>\n",
       "    </tr>\n",
       "    <tr>\n",
       "      <th>15</th>\n",
       "      <td>1</td>\n",
       "      <td>0.0</td>\n",
       "      <td>-1.5</td>\n",
       "      <td>0.0</td>\n",
       "      <td>0.0</td>\n",
       "    </tr>\n",
       "    <tr>\n",
       "      <th>16</th>\n",
       "      <td>1</td>\n",
       "      <td>0.0</td>\n",
       "      <td>0.0</td>\n",
       "      <td>0.0</td>\n",
       "      <td>0.0</td>\n",
       "    </tr>\n",
       "    <tr>\n",
       "      <th>17</th>\n",
       "      <td>1</td>\n",
       "      <td>0.0</td>\n",
       "      <td>0.0</td>\n",
       "      <td>0.0</td>\n",
       "      <td>0.0</td>\n",
       "    </tr>\n",
       "    <tr>\n",
       "      <th>18</th>\n",
       "      <td>1</td>\n",
       "      <td>0.0</td>\n",
       "      <td>0.0</td>\n",
       "      <td>0.0</td>\n",
       "      <td>0.0</td>\n",
       "    </tr>\n",
       "    <tr>\n",
       "      <th>19</th>\n",
       "      <td>1</td>\n",
       "      <td>0.0</td>\n",
       "      <td>0.0</td>\n",
       "      <td>0.0</td>\n",
       "      <td>0.0</td>\n",
       "    </tr>\n",
       "    <tr>\n",
       "      <th>20</th>\n",
       "      <td>1</td>\n",
       "      <td>0.0</td>\n",
       "      <td>0.0</td>\n",
       "      <td>0.0</td>\n",
       "      <td>0.0</td>\n",
       "    </tr>\n",
       "    <tr>\n",
       "      <th>21</th>\n",
       "      <td>1</td>\n",
       "      <td>0.0</td>\n",
       "      <td>0.0</td>\n",
       "      <td>0.0</td>\n",
       "      <td>0.0</td>\n",
       "    </tr>\n",
       "    <tr>\n",
       "      <th>22</th>\n",
       "      <td>1</td>\n",
       "      <td>0.0</td>\n",
       "      <td>0.0</td>\n",
       "      <td>0.0</td>\n",
       "      <td>0.0</td>\n",
       "    </tr>\n",
       "    <tr>\n",
       "      <th>23</th>\n",
       "      <td>1</td>\n",
       "      <td>0.0</td>\n",
       "      <td>0.0</td>\n",
       "      <td>0.0</td>\n",
       "      <td>0.0</td>\n",
       "    </tr>\n",
       "    <tr>\n",
       "      <th>25</th>\n",
       "      <td>2</td>\n",
       "      <td>0.0</td>\n",
       "      <td>0.0</td>\n",
       "      <td>0.0</td>\n",
       "      <td>-0.5</td>\n",
       "    </tr>\n",
       "    <tr>\n",
       "      <th>26</th>\n",
       "      <td>2</td>\n",
       "      <td>0.0</td>\n",
       "      <td>0.0</td>\n",
       "      <td>0.0</td>\n",
       "      <td>0.0</td>\n",
       "    </tr>\n",
       "    <tr>\n",
       "      <th>27</th>\n",
       "      <td>2</td>\n",
       "      <td>0.0</td>\n",
       "      <td>0.0</td>\n",
       "      <td>0.0</td>\n",
       "      <td>0.0</td>\n",
       "    </tr>\n",
       "    <tr>\n",
       "      <th>28</th>\n",
       "      <td>2</td>\n",
       "      <td>0.0</td>\n",
       "      <td>0.0</td>\n",
       "      <td>0.0</td>\n",
       "      <td>0.0</td>\n",
       "    </tr>\n",
       "    <tr>\n",
       "      <th>29</th>\n",
       "      <td>2</td>\n",
       "      <td>0.0</td>\n",
       "      <td>0.0</td>\n",
       "      <td>0.0</td>\n",
       "      <td>0.0</td>\n",
       "    </tr>\n",
       "    <tr>\n",
       "      <th>30</th>\n",
       "      <td>2</td>\n",
       "      <td>0.0</td>\n",
       "      <td>0.0</td>\n",
       "      <td>0.0</td>\n",
       "      <td>0.5</td>\n",
       "    </tr>\n",
       "    <tr>\n",
       "      <th>31</th>\n",
       "      <td>2</td>\n",
       "      <td>0.0</td>\n",
       "      <td>0.0</td>\n",
       "      <td>0.0</td>\n",
       "      <td>0.0</td>\n",
       "    </tr>\n",
       "    <tr>\n",
       "      <th>32</th>\n",
       "      <td>2</td>\n",
       "      <td>0.0</td>\n",
       "      <td>0.0</td>\n",
       "      <td>0.0</td>\n",
       "      <td>-0.5</td>\n",
       "    </tr>\n",
       "  </tbody>\n",
       "</table>\n",
       "</div>"
      ],
      "text/plain": [
       "    level_0  ask_0  bid_0  ask_wdo_0  bid_wdo_0\n",
       "1         0    0.0    0.0       -0.5        0.0\n",
       "2         0    0.0    0.0        0.0       -0.5\n",
       "3         0    0.0    0.0        0.0        0.0\n",
       "4         0    0.0    0.0        0.0        0.0\n",
       "5         0    0.0    0.0        0.0        0.0\n",
       "6         0    0.0    0.0        0.0        0.0\n",
       "7         0    0.0    0.0        0.0        0.0\n",
       "8         0    0.0    0.0        0.0        0.0\n",
       "9         0    0.0    0.0        0.0        0.0\n",
       "10        0    0.0    0.0        0.0        0.0\n",
       "11        0    0.0    0.0        0.0        0.0\n",
       "13        1    0.0    0.0        0.0       -0.5\n",
       "14        1    0.0    0.0        0.0        0.0\n",
       "15        1    0.0   -1.5        0.0        0.0\n",
       "16        1    0.0    0.0        0.0        0.0\n",
       "17        1    0.0    0.0        0.0        0.0\n",
       "18        1    0.0    0.0        0.0        0.0\n",
       "19        1    0.0    0.0        0.0        0.0\n",
       "20        1    0.0    0.0        0.0        0.0\n",
       "21        1    0.0    0.0        0.0        0.0\n",
       "22        1    0.0    0.0        0.0        0.0\n",
       "23        1    0.0    0.0        0.0        0.0\n",
       "25        2    0.0    0.0        0.0       -0.5\n",
       "26        2    0.0    0.0        0.0        0.0\n",
       "27        2    0.0    0.0        0.0        0.0\n",
       "28        2    0.0    0.0        0.0        0.0\n",
       "29        2    0.0    0.0        0.0        0.0\n",
       "30        2    0.0    0.0        0.0        0.5\n",
       "31        2    0.0    0.0        0.0        0.0\n",
       "32        2    0.0    0.0        0.0       -0.5"
      ]
     },
     "execution_count": 217,
     "metadata": {},
     "output_type": "execute_result"
    }
   ],
   "source": [
    "mover_next.dropna().head(30)"
   ]
  },
  {
   "cell_type": "code",
   "execution_count": 139,
   "metadata": {},
   "outputs": [
    {
     "data": {
      "text/plain": [
       "<matplotlib.axes._subplots.AxesSubplot at 0x7f8acd42feb8>"
      ]
     },
     "execution_count": 139,
     "metadata": {},
     "output_type": "execute_result"
    },
    {
     "data": {
      "image/png": "[encoded data removed]",
      "text/plain": [
       "<Figure size 1152x720 with 1 Axes>"
      ]
     },
     "metadata": {
      "needs_background": "light"
     },
     "output_type": "display_data"
    }
   ],
   "source": [
    "mover_next[mover_next.events == 0].plot(figsize=(16,10))"
   ]
  },
  {
   "cell_type": "code",
   "execution_count": null,
   "metadata": {},
   "outputs": [],
   "source": []
  },
  {
   "cell_type": "code",
   "execution_count": null,
   "metadata": {},
   "outputs": [],
   "source": []
  },
  {
   "cell_type": "code",
   "execution_count": null,
   "metadata": {},
   "outputs": [],
   "source": []
  },
  {
   "cell_type": "markdown",
   "metadata": {},
   "source": [
    "# Teste Estatisticos para ver phase shift"
   ]
  },
  {
   "cell_type": "code",
   "execution_count": 64,
   "metadata": {},
   "outputs": [],
   "source": [
    "from scipy import signal\n",
    "\n",
    "\n",
    "sig = slice_['mid_price']\n",
    "sig_noise = slice_['mid_price_wdo']\n",
    "corr = signal.correlate(sig, sig_noise, mode='same')"
   ]
  },
  {
   "cell_type": "code",
   "execution_count": 68,
   "metadata": {},
   "outputs": [
    {
     "data": {
      "text/plain": [
       "<matplotlib.axes._subplots.AxesSubplot at 0x7f64ba232048>"
      ]
     },
     "execution_count": 68,
     "metadata": {},
     "output_type": "execute_result"
    },
    {
     "data": {
      "image/png": "[encoded data removed]",
      "text/plain": [
       "<Figure size 432x288 with 1 Axes>"
      ]
     },
     "metadata": {
      "needs_background": "light"
     },
     "output_type": "display_data"
    }
   ],
   "source": [
    "# sig.plot()\n",
    "sig_noise.plot()"
   ]
  },
  {
   "cell_type": "code",
   "execution_count": 83,
   "metadata": {},
   "outputs": [
    {
     "data": {
      "text/plain": [
       "(array([1332467]),)"
      ]
     },
     "execution_count": 83,
     "metadata": {},
     "output_type": "execute_result"
    },
    {
     "data": {
      "image/png": "[encoded data removed]",
      "text/plain": [
       "<Figure size 432x288 with 1 Axes>"
      ]
     },
     "metadata": {
      "needs_background": "light"
     },
     "output_type": "display_data"
    }
   ],
   "source": [
    "plt.plot(corr/17040064041)#.plot()\n",
    "plt.plot(sig)\n",
    "plt.plot(sig_noise)\n"
   ]
  },
  {
   "cell_type": "code",
   "execution_count": 91,
   "metadata": {},
   "outputs": [
    {
     "data": {
      "text/plain": [
       "1332467    4189.75\n",
       "1332468    4189.75\n",
       "1332469    4189.75\n",
       "1332470    4189.75\n",
       "1332471    4189.75\n",
       "            ...   \n",
       "2664930    4199.50\n",
       "2664931    4199.50\n",
       "2664932    4199.50\n",
       "2664933    4199.50\n",
       "2664934    4199.50\n",
       "Name: mid_price, Length: 1332468, dtype: float64"
      ]
     },
     "execution_count": 91,
     "metadata": {},
     "output_type": "execute_result"
    }
   ],
   "source": [
    "sig.loc[1332467:]\n",
    "# sig_noise.loc[1332467:]\n"
   ]
  },
  {
   "cell_type": "code",
   "execution_count": 39,
   "metadata": {},
   "outputs": [
    {
     "data": {
      "text/plain": [
       "array([4.67509748e+13])"
      ]
     },
     "execution_count": 39,
     "metadata": {},
     "output_type": "execute_result"
    }
   ],
   "source": [
    "np.correlate(sig, sig_noise)"
   ]
  },
  {
   "cell_type": "code",
   "execution_count": 73,
   "metadata": {},
   "outputs": [],
   "source": [
    "def autocorr(x, y, t=1):\n",
    "    return np.corrcoef(np.array([x[:-t], y[t:]]))\n"
   ]
  },
  {
   "cell_type": "code",
   "execution_count": 75,
   "metadata": {},
   "outputs": [
    {
     "data": {
      "text/plain": [
       "array([[1.       , 0.9997213],\n",
       "       [0.9997213, 1.       ]])"
      ]
     },
     "execution_count": 75,
     "metadata": {},
     "output_type": "execute_result"
    }
   ],
   "source": [
    "autocorr(sig_noise, sig)"
   ]
  },
  {
   "cell_type": "code",
   "execution_count": 42,
   "metadata": {},
   "outputs": [
    {
     "data": {
      "text/plain": [
       "[<matplotlib.lines.Line2D at 0x7f64baf5d518>]"
      ]
     },
     "execution_count": 42,
     "metadata": {},
     "output_type": "execute_result"
    },
    {
     "data": {
      "image/png": "[encoded data removed]",
      "text/plain": [
       "<Figure size 432x288 with 1 Axes>"
      ]
     },
     "metadata": {
      "needs_background": "light"
     },
     "output_type": "display_data"
    }
   ],
   "source": [
    "plt.plot(signal.convolve(sig, sig_noise))"
   ]
  },
  {
   "cell_type": "markdown",
   "metadata": {},
   "source": [
    "# Teste que comprova linearidade entre as series"
   ]
  },
  {
   "cell_type": "code",
   "execution_count": 47,
   "metadata": {},
   "outputs": [
    {
     "data": {
      "text/plain": [
       "array([[1.        , 0.99972254],\n",
       "       [0.99972254, 1.        ]])"
      ]
     },
     "execution_count": 47,
     "metadata": {},
     "output_type": "execute_result"
    }
   ],
   "source": [
    "(np.corrcoef(sig, sig_noise))"
   ]
  },
  {
   "cell_type": "code",
   "execution_count": 49,
   "metadata": {},
   "outputs": [
    {
     "data": {
      "text/plain": [
       "<matplotlib.axes._subplots.AxesSubplot at 0x7f64ba7adeb8>"
      ]
     },
     "execution_count": 49,
     "metadata": {},
     "output_type": "execute_result"
    },
    {
     "data": {
      "image/png": "[encoded data removed]",
      "text/plain": [
       "<Figure size 720x432 with 1 Axes>"
      ]
     },
     "metadata": {
      "needs_background": "light"
     },
     "output_type": "display_data"
    }
   ],
   "source": [
    "slice_[['mid_price', 'mid_price_wdo']].plot(figsize=(10,6))"
   ]
  },
  {
   "cell_type": "code",
   "execution_count": 50,
   "metadata": {},
   "outputs": [
    {
     "name": "stderr",
     "output_type": "stream",
     "text": [
      "/home/asimovws/.local/lib/python3.6/site-packages/ipykernel_launcher.py:1: SettingWithCopyWarning:\n",
      "\n",
      "\n",
      "A value is trying to be set on a copy of a slice from a DataFrame.\n",
      "Try using .loc[row_indexer,col_indexer] = value instead\n",
      "\n",
      "See the caveats in the documentation: http://pandas.pydata.org/pandas-docs/stable/user_guide/indexing.html#returning-a-view-versus-a-copy\n",
      "\n",
      "/home/asimovws/.local/lib/python3.6/site-packages/ipykernel_launcher.py:2: SettingWithCopyWarning:\n",
      "\n",
      "\n",
      "A value is trying to be set on a copy of a slice from a DataFrame.\n",
      "Try using .loc[row_indexer,col_indexer] = value instead\n",
      "\n",
      "See the caveats in the documentation: http://pandas.pydata.org/pandas-docs/stable/user_guide/indexing.html#returning-a-view-versus-a-copy\n",
      "\n"
     ]
    }
   ],
   "source": []
  },
  {
   "cell_type": "code",
   "execution_count": null,
   "metadata": {},
   "outputs": [],
   "source": []
  },
  {
   "cell_type": "code",
   "execution_count": 52,
   "metadata": {},
   "outputs": [
    {
     "data": {
      "text/plain": [
       "<matplotlib.axes._subplots.AxesSubplot at 0x7efbcacbf4e0>"
      ]
     },
     "execution_count": 52,
     "metadata": {},
     "output_type": "execute_result"
    },
    {
     "data": {
      "image/png": "[encoded data removed]",
      "text/plain": [
       "<Figure size 720x432 with 1 Axes>"
      ]
     },
     "metadata": {
      "needs_background": "light"
     },
     "output_type": "display_data"
    }
   ],
   "source": [
    "slice_[['middle_price', 'middle_price_wdo']].plot(figsize=(10,6))"
   ]
  },
  {
   "cell_type": "code",
   "execution_count": 236,
   "metadata": {},
   "outputs": [
    {
     "name": "stderr",
     "output_type": "stream",
     "text": [
      "/home/luiz/.local/lib/python3.6/site-packages/pandas/core/series.py:856: RuntimeWarning:\n",
      "\n",
      "divide by zero encountered in log\n",
      "\n"
     ]
    }
   ],
   "source": [
    "df['relative_spread_dol'] = np.log(df['ask_0']) - np.log(df['bid_0'])"
   ]
  },
  {
   "cell_type": "code",
   "execution_count": 239,
   "metadata": {},
   "outputs": [
    {
     "name": "stderr",
     "output_type": "stream",
     "text": [
      "/home/luiz/.local/lib/python3.6/site-packages/pandas/core/series.py:856: RuntimeWarning:\n",
      "\n",
      "invalid value encountered in log\n",
      "\n"
     ]
    }
   ],
   "source": [
    "df['log_spread_dol'] = np.log(np.log(df['ask_0']) - np.log(df['bid_0']))"
   ]
  },
  {
   "cell_type": "code",
   "execution_count": 258,
   "metadata": {},
   "outputs": [
    {
     "data": {
      "text/html": [
       "<div>\n",
       "<style scoped>\n",
       "    .dataframe tbody tr th:only-of-type {\n",
       "        vertical-align: middle;\n",
       "    }\n",
       "\n",
       "    .dataframe tbody tr th {\n",
       "        vertical-align: top;\n",
       "    }\n",
       "\n",
       "    .dataframe thead th {\n",
       "        text-align: right;\n",
       "    }\n",
       "</style>\n",
       "<table border=\"1\" class=\"dataframe\">\n",
       "  <thead>\n",
       "    <tr style=\"text-align: right;\">\n",
       "      <th></th>\n",
       "      <th>index</th>\n",
       "      <th>ask_0</th>\n",
       "      <th>ask_quantity_0</th>\n",
       "      <th>bid_0</th>\n",
       "      <th>bid_quantity_0</th>\n",
       "      <th>i_ask</th>\n",
       "      <th>i_bid</th>\n",
       "      <th>msg_seq_num</th>\n",
       "      <th>spread_dol</th>\n",
       "      <th>relative_spread_dol</th>\n",
       "      <th>log_spread_dol</th>\n",
       "      <th>middle_price</th>\n",
       "    </tr>\n",
       "  </thead>\n",
       "  <tbody>\n",
       "    <tr>\n",
       "      <th>166</th>\n",
       "      <td>2019-11-14 11:57:26.026000+00:00</td>\n",
       "      <td>4184.0</td>\n",
       "      <td>5.0</td>\n",
       "      <td>4184.5</td>\n",
       "      <td>5.0</td>\n",
       "      <td>159.0</td>\n",
       "      <td>161.0</td>\n",
       "      <td>7657109</td>\n",
       "      <td>-0.5</td>\n",
       "      <td>-0.000119</td>\n",
       "      <td>NaN</td>\n",
       "      <td>4184.25</td>\n",
       "    </tr>\n",
       "    <tr>\n",
       "      <th>168</th>\n",
       "      <td>2019-11-14 11:57:26.215000+00:00</td>\n",
       "      <td>4184.0</td>\n",
       "      <td>5.0</td>\n",
       "      <td>4185.0</td>\n",
       "      <td>5.0</td>\n",
       "      <td>159.0</td>\n",
       "      <td>163.0</td>\n",
       "      <td>7657112</td>\n",
       "      <td>-1.0</td>\n",
       "      <td>-0.000239</td>\n",
       "      <td>NaN</td>\n",
       "      <td>4184.50</td>\n",
       "    </tr>\n",
       "    <tr>\n",
       "      <th>170</th>\n",
       "      <td>2019-11-14 11:57:26.373000+00:00</td>\n",
       "      <td>4184.0</td>\n",
       "      <td>5.0</td>\n",
       "      <td>4185.5</td>\n",
       "      <td>5.0</td>\n",
       "      <td>159.0</td>\n",
       "      <td>165.0</td>\n",
       "      <td>7657115</td>\n",
       "      <td>-1.5</td>\n",
       "      <td>-0.000358</td>\n",
       "      <td>NaN</td>\n",
       "      <td>4184.75</td>\n",
       "    </tr>\n",
       "    <tr>\n",
       "      <th>172</th>\n",
       "      <td>2019-11-14 11:57:26.541000+00:00</td>\n",
       "      <td>4184.0</td>\n",
       "      <td>5.0</td>\n",
       "      <td>4186.0</td>\n",
       "      <td>5.0</td>\n",
       "      <td>159.0</td>\n",
       "      <td>167.0</td>\n",
       "      <td>7657116</td>\n",
       "      <td>-2.0</td>\n",
       "      <td>-0.000478</td>\n",
       "      <td>NaN</td>\n",
       "      <td>4185.00</td>\n",
       "    </tr>\n",
       "    <tr>\n",
       "      <th>174</th>\n",
       "      <td>2019-11-14 11:57:26.686000+00:00</td>\n",
       "      <td>4184.0</td>\n",
       "      <td>5.0</td>\n",
       "      <td>4186.5</td>\n",
       "      <td>5.0</td>\n",
       "      <td>159.0</td>\n",
       "      <td>169.0</td>\n",
       "      <td>7657117</td>\n",
       "      <td>-2.5</td>\n",
       "      <td>-0.000597</td>\n",
       "      <td>NaN</td>\n",
       "      <td>4185.25</td>\n",
       "    </tr>\n",
       "  </tbody>\n",
       "</table>\n",
       "</div>"
      ],
      "text/plain": [
       "                               index   ask_0  ask_quantity_0   bid_0  \\\n",
       "166 2019-11-14 11:57:26.026000+00:00  4184.0             5.0  4184.5   \n",
       "168 2019-11-14 11:57:26.215000+00:00  4184.0             5.0  4185.0   \n",
       "170 2019-11-14 11:57:26.373000+00:00  4184.0             5.0  4185.5   \n",
       "172 2019-11-14 11:57:26.541000+00:00  4184.0             5.0  4186.0   \n",
       "174 2019-11-14 11:57:26.686000+00:00  4184.0             5.0  4186.5   \n",
       "\n",
       "     bid_quantity_0  i_ask  i_bid  msg_seq_num  spread_dol  \\\n",
       "166             5.0  159.0  161.0      7657109        -0.5   \n",
       "168             5.0  159.0  163.0      7657112        -1.0   \n",
       "170             5.0  159.0  165.0      7657115        -1.5   \n",
       "172             5.0  159.0  167.0      7657116        -2.0   \n",
       "174             5.0  159.0  169.0      7657117        -2.5   \n",
       "\n",
       "     relative_spread_dol  log_spread_dol  middle_price  \n",
       "166            -0.000119             NaN       4184.25  \n",
       "168            -0.000239             NaN       4184.50  \n",
       "170            -0.000358             NaN       4184.75  \n",
       "172            -0.000478             NaN       4185.00  \n",
       "174            -0.000597             NaN       4185.25  "
      ]
     },
     "execution_count": 258,
     "metadata": {},
     "output_type": "execute_result"
    }
   ],
   "source": [
    "df[df.spread_dol < 0].head()"
   ]
  },
  {
   "cell_type": "code",
   "execution_count": 41,
   "metadata": {},
   "outputs": [],
   "source": [
    "import matplotlib.pyplot as plt\n",
    "\n",
    "# fig, axes = plt.subplots( dpi=120, figsize=(6,3))\n",
    "\n",
    "# # plt.legend(('ask_0', 'bid_0'),loc='upper left')\n",
    "\n",
    "# plt.plot(df.loc[573+7:710][['spread_dol', 'relative_spread_dol', 'log_spread_dol']])#.plot()#\n",
    "\n",
    "# plt.show()\n",
    "\n"
   ]
  },
  {
   "cell_type": "code",
   "execution_count": null,
   "metadata": {},
   "outputs": [],
   "source": []
  },
  {
   "cell_type": "code",
   "execution_count": 256,
   "metadata": {},
   "outputs": [
    {
     "data": {
      "text/plain": [
       "<matplotlib.axes._subplots.AxesSubplot at 0x7f9f7999eeb8>"
      ]
     },
     "execution_count": 256,
     "metadata": {},
     "output_type": "execute_result"
    },
    {
     "data": {
      "image/png": "[encoded data removed]",
      "text/plain": [
       "<Figure size 432x288 with 1 Axes>"
      ]
     },
     "metadata": {
      "needs_background": "light"
     },
     "output_type": "display_data"
    }
   ],
   "source": [
    "df.loc[573+7:710][['spread_dol', 'relative_spread_dol', 'log_spread_dol']].plot()"
   ]
  },
  {
   "cell_type": "code",
   "execution_count": 264,
   "metadata": {},
   "outputs": [
    {
     "data": {
      "text/plain": [
       "<matplotlib.axes._subplots.AxesSubplot at 0x7f9f796b6630>"
      ]
     },
     "execution_count": 264,
     "metadata": {},
     "output_type": "execute_result"
    },
    {
     "data": {
      "image/png": "[encoded data removed]",
      "text/plain": [
       "<Figure size 432x288 with 1 Axes>"
      ]
     },
     "metadata": {
      "needs_background": "light"
     },
     "output_type": "display_data"
    }
   ],
   "source": [
    "df.loc[579+7:790][['spread_dol']].plot()"
   ]
  },
  {
   "cell_type": "code",
   "execution_count": 246,
   "metadata": {},
   "outputs": [
    {
     "data": {
      "text/plain": [
       "[<matplotlib.lines.Line2D at 0x7f9f79aa0470>]"
      ]
     },
     "execution_count": 246,
     "metadata": {},
     "output_type": "execute_result"
    },
    {
     "data": {
      "image/png": "[encoded data removed]",
      "text/plain": [
       "<Figure size 1200x720 with 1 Axes>"
      ]
     },
     "metadata": {
      "needs_background": "light"
     },
     "output_type": "display_data"
    }
   ],
   "source": [
    "import matplotlib.pyplot as plt\n",
    "fig, axes = plt.subplots( dpi=120, figsize=(10,6))\n",
    "\n",
    "plt.plot(df['relative_spread_dol'].loc[500:])#.plot()#head(30)\n",
    "#plt.plot(df['log_spread_dol'].loc[500:], linewidth=.5)#.plot()#head(30)\n",
    "# plt.plot(df['spread_dol'].loc[500:], linewidth=.5)#.plot()#head(30)\n",
    "\n"
   ]
  },
  {
   "cell_type": "code",
   "execution_count": 241,
   "metadata": {},
   "outputs": [
    {
     "data": {
      "text/plain": [
       "[<matplotlib.lines.Line2D at 0x7f9f77753780>]"
      ]
     },
     "execution_count": 241,
     "metadata": {},
     "output_type": "execute_result"
    },
    {
     "data": {
      "image/png": "[encoded data removed]",
      "text/plain": [
       "<Figure size 1200x720 with 1 Axes>"
      ]
     },
     "metadata": {
      "needs_background": "light"
     },
     "output_type": "display_data"
    }
   ],
   "source": [
    "import matplotlib.pyplot as plt\n",
    "fig, axes = plt.subplots( dpi=120, figsize=(10,6))\n",
    "\n",
    "plt.plot(df['bid_0'].loc[500:])#.plot()#head(30)\n",
    "plt.plot(df['ask_0'].loc[500:], linewidth=.5)#.plot()#head(30)\n",
    "\n"
   ]
  },
  {
   "cell_type": "code",
   "execution_count": 85,
   "metadata": {},
   "outputs": [],
   "source": [
    "dl = df[['ask_0','ask_quantity_0','bid_0','bid_quantity_0']]"
   ]
  },
  {
   "cell_type": "code",
   "execution_count": 86,
   "metadata": {},
   "outputs": [
    {
     "data": {
      "text/plain": [
       "574"
      ]
     },
     "execution_count": 86,
     "metadata": {},
     "output_type": "execute_result"
    }
   ],
   "source": [
    "np.where(df['spread_dol'] == 0.5)[0][0]"
   ]
  },
  {
   "cell_type": "code",
   "execution_count": 91,
   "metadata": {},
   "outputs": [
    {
     "name": "stderr",
     "output_type": "stream",
     "text": [
      "/home/luiz/.local/lib/python3.6/site-packages/pandas/core/frame.py:4238: SettingWithCopyWarning:\n",
      "\n",
      "\n",
      "A value is trying to be set on a copy of a slice from a DataFrame\n",
      "\n",
      "See the caveats in the documentation: http://pandas.pydata.org/pandas-docs/stable/user_guide/indexing.html#returning-a-view-versus-a-copy\n",
      "\n"
     ]
    }
   ],
   "source": [
    "df.rename({'index' : 'timestamp'}, axis = 1, inplace = True)"
   ]
  },
  {
   "cell_type": "code",
   "execution_count": 93,
   "metadata": {},
   "outputs": [],
   "source": [
    "df.reset_index(inplace=True)"
   ]
  },
  {
   "cell_type": "code",
   "execution_count": 95,
   "metadata": {},
   "outputs": [
    {
     "data": {
      "text/plain": [
       "7"
      ]
     },
     "execution_count": 95,
     "metadata": {},
     "output_type": "execute_result"
    }
   ],
   "source": [
    "np.where(df.loc[574::]['spread_dol'] != 0.5)[0][0]"
   ]
  },
  {
   "cell_type": "code",
   "execution_count": 127,
   "metadata": {},
   "outputs": [
    {
     "data": {
      "text/html": [
       "<div>\n",
       "<style scoped>\n",
       "    .dataframe tbody tr th:only-of-type {\n",
       "        vertical-align: middle;\n",
       "    }\n",
       "\n",
       "    .dataframe tbody tr th {\n",
       "        vertical-align: top;\n",
       "    }\n",
       "\n",
       "    .dataframe thead th {\n",
       "        text-align: right;\n",
       "    }\n",
       "</style>\n",
       "<table border=\"1\" class=\"dataframe\">\n",
       "  <thead>\n",
       "    <tr style=\"text-align: right;\">\n",
       "      <th></th>\n",
       "      <th>index</th>\n",
       "      <th>timestamp</th>\n",
       "      <th>ask_0</th>\n",
       "      <th>ask_quantity_0</th>\n",
       "      <th>bid_0</th>\n",
       "      <th>bid_quantity_0</th>\n",
       "      <th>i_ask</th>\n",
       "      <th>i_bid</th>\n",
       "      <th>msg_seq_num</th>\n",
       "      <th>spread_dol</th>\n",
       "    </tr>\n",
       "  </thead>\n",
       "  <tbody>\n",
       "    <tr>\n",
       "      <th>574</th>\n",
       "      <td>585</td>\n",
       "      <td>2019-11-14 12:00:45.722000+00:00</td>\n",
       "      <td>4181.0</td>\n",
       "      <td>535.0</td>\n",
       "      <td>4180.5</td>\n",
       "      <td>15.0</td>\n",
       "      <td>579.0</td>\n",
       "      <td>578.0</td>\n",
       "      <td>7658707</td>\n",
       "      <td>0.5</td>\n",
       "    </tr>\n",
       "    <tr>\n",
       "      <th>575</th>\n",
       "      <td>586</td>\n",
       "      <td>2019-11-14 12:00:45.723000+00:00</td>\n",
       "      <td>4181.0</td>\n",
       "      <td>535.0</td>\n",
       "      <td>4180.5</td>\n",
       "      <td>15.0</td>\n",
       "      <td>579.0</td>\n",
       "      <td>580.0</td>\n",
       "      <td>7658709</td>\n",
       "      <td>0.5</td>\n",
       "    </tr>\n",
       "    <tr>\n",
       "      <th>576</th>\n",
       "      <td>587</td>\n",
       "      <td>2019-11-14 12:00:45.723000+00:00</td>\n",
       "      <td>4181.0</td>\n",
       "      <td>535.0</td>\n",
       "      <td>4180.5</td>\n",
       "      <td>15.0</td>\n",
       "      <td>579.0</td>\n",
       "      <td>581.0</td>\n",
       "      <td>7658710</td>\n",
       "      <td>0.5</td>\n",
       "    </tr>\n",
       "    <tr>\n",
       "      <th>577</th>\n",
       "      <td>588</td>\n",
       "      <td>2019-11-14 12:00:45.723000+00:00</td>\n",
       "      <td>4181.0</td>\n",
       "      <td>535.0</td>\n",
       "      <td>4180.5</td>\n",
       "      <td>10.0</td>\n",
       "      <td>579.0</td>\n",
       "      <td>582.0</td>\n",
       "      <td>7658711</td>\n",
       "      <td>0.5</td>\n",
       "    </tr>\n",
       "    <tr>\n",
       "      <th>578</th>\n",
       "      <td>589</td>\n",
       "      <td>2019-11-14 12:00:45.723000+00:00</td>\n",
       "      <td>4181.0</td>\n",
       "      <td>535.0</td>\n",
       "      <td>4180.5</td>\n",
       "      <td>10.0</td>\n",
       "      <td>583.0</td>\n",
       "      <td>582.0</td>\n",
       "      <td>7658712</td>\n",
       "      <td>0.5</td>\n",
       "    </tr>\n",
       "  </tbody>\n",
       "</table>\n",
       "</div>"
      ],
      "text/plain": [
       "     index                        timestamp   ask_0  ask_quantity_0   bid_0  \\\n",
       "574    585 2019-11-14 12:00:45.722000+00:00  4181.0           535.0  4180.5   \n",
       "575    586 2019-11-14 12:00:45.723000+00:00  4181.0           535.0  4180.5   \n",
       "576    587 2019-11-14 12:00:45.723000+00:00  4181.0           535.0  4180.5   \n",
       "577    588 2019-11-14 12:00:45.723000+00:00  4181.0           535.0  4180.5   \n",
       "578    589 2019-11-14 12:00:45.723000+00:00  4181.0           535.0  4180.5   \n",
       "\n",
       "     bid_quantity_0  i_ask  i_bid  msg_seq_num  spread_dol  \n",
       "574            15.0  579.0  578.0      7658707         0.5  \n",
       "575            15.0  579.0  580.0      7658709         0.5  \n",
       "576            15.0  579.0  581.0      7658710         0.5  \n",
       "577            10.0  579.0  582.0      7658711         0.5  \n",
       "578            10.0  583.0  582.0      7658712         0.5  "
      ]
     },
     "execution_count": 127,
     "metadata": {},
     "output_type": "execute_result"
    }
   ],
   "source": [
    "df.loc[574::].head()"
   ]
  },
  {
   "cell_type": "code",
   "execution_count": 123,
   "metadata": {},
   "outputs": [
    {
     "data": {
      "image/png": "[encoded data removed]",
      "text/plain": [
       "<Figure size 720x360 with 1 Axes>"
      ]
     },
     "metadata": {
      "needs_background": "light"
     },
     "output_type": "display_data"
    }
   ],
   "source": [
    "import matplotlib.pyplot as plt\n",
    "\n",
    "fig, axes = plt.subplots( dpi=120, figsize=(6,3))\n",
    "\n",
    "# plt.legend(('ask_0', 'bid_0'),loc='upper left')\n",
    "\n",
    "plt.plot(df.loc[573+7:710][['ask_0', 'bid_0']])#.plot()#\n",
    "\n",
    "plt.show()\n",
    "\n"
   ]
  },
  {
   "cell_type": "code",
   "execution_count": 124,
   "metadata": {},
   "outputs": [
    {
     "data": {
      "text/plain": [
       "<matplotlib.legend.Legend at 0x7fa0f3b46ac8>"
      ]
     },
     "execution_count": 124,
     "metadata": {},
     "output_type": "execute_result"
    },
    {
     "data": {
      "image/png": "[encoded data removed]",
      "text/plain": [
       "<Figure size 720x360 with 1 Axes>"
      ]
     },
     "metadata": {
      "needs_background": "light"
     },
     "output_type": "display_data"
    }
   ],
   "source": [
    "fig, axes = plt.subplots( dpi=120, figsize=(6,3))\n",
    "\n",
    "plt.plot(df.loc[573+7:710][['spread_dol']])#.plot()#\n",
    "plt.legend(('spread_dol'),loc='upper left')\n"
   ]
  },
  {
   "cell_type": "code",
   "execution_count": 128,
   "metadata": {},
   "outputs": [
    {
     "data": {
      "text/plain": [
       "64"
      ]
     },
     "execution_count": 128,
     "metadata": {},
     "output_type": "execute_result"
    }
   ],
   "source": [
    "np.where(df.loc[700:]['spread_dol'] != 0.5)[0][0]"
   ]
  },
  {
   "cell_type": "code",
   "execution_count": 139,
   "metadata": {},
   "outputs": [
    {
     "data": {
      "image/png": "[encoded data removed]",
      "text/plain": [
       "<Figure size 720x360 with 1 Axes>"
      ]
     },
     "metadata": {
      "needs_background": "light"
     },
     "output_type": "display_data"
    }
   ],
   "source": [
    "fig, axes = plt.subplots( dpi=120, figsize=(6,3))\n",
    "\n",
    "# plt.legend(('ask_0', 'bid_0'),loc='upper left')\n",
    "\n",
    "plt.plot(df.loc[763:810][['ask_0', 'bid_0']])#.plot()#\n",
    "\n",
    "plt.show()\n"
   ]
  },
  {
   "cell_type": "code",
   "execution_count": 133,
   "metadata": {},
   "outputs": [
    {
     "data": {
      "text/plain": [
       "104"
      ]
     },
     "execution_count": 133,
     "metadata": {},
     "output_type": "execute_result"
    }
   ],
   "source": [
    "np.where(df.loc[800:]['spread_dol'] != 0.5)[0][0]"
   ]
  },
  {
   "cell_type": "code",
   "execution_count": 146,
   "metadata": {},
   "outputs": [
    {
     "data": {
      "image/png": "[encoded data removed]",
      "text/plain": [
       "<Figure size 720x360 with 1 Axes>"
      ]
     },
     "metadata": {
      "needs_background": "light"
     },
     "output_type": "display_data"
    }
   ],
   "source": [
    "fig, axes = plt.subplots( dpi=120, figsize=(6,3))\n",
    "\n",
    "# plt.legend(('ask_0', 'bid_0'),loc='upper left')\n",
    "\n",
    "plt.plot(df.loc[964:1070][['ask_0', 'bid_0']])#.plot()#\n",
    "\n",
    "plt.show()"
   ]
  },
  {
   "cell_type": "code",
   "execution_count": 149,
   "metadata": {},
   "outputs": [
    {
     "data": {
      "text/plain": [
       "0.7952566261587244"
      ]
     },
     "execution_count": 149,
     "metadata": {},
     "output_type": "execute_result"
    }
   ],
   "source": [
    "df[df.spread_dol == 0.5].shape[0] / df.shape[0]"
   ]
  },
  {
   "cell_type": "code",
   "execution_count": 126,
   "metadata": {},
   "outputs": [
    {
     "data": {
      "text/plain": [
       "<matplotlib.axes._subplots.AxesSubplot at 0x7fa0f3af0438>"
      ]
     },
     "execution_count": 126,
     "metadata": {},
     "output_type": "execute_result"
    },
    {
     "data": {
      "image/png": "[encoded data removed]",
      "text/plain": [
       "<Figure size 720x432 with 1 Axes>"
      ]
     },
     "metadata": {
      "needs_background": "light"
     },
     "output_type": "display_data"
    }
   ],
   "source": [
    "df.loc[480+37:525+135][['ask_0', 'bid_0']].plot(figsize=(10,6) )#"
   ]
  },
  {
   "cell_type": "code",
   "execution_count": null,
   "metadata": {},
   "outputs": [],
   "source": []
  },
  {
   "cell_type": "code",
   "execution_count": null,
   "metadata": {},
   "outputs": [],
   "source": []
  },
  {
   "cell_type": "code",
   "execution_count": 116,
   "metadata": {},
   "outputs": [],
   "source": [
    "from statsmodels.tsa.stattools import grangercausalitytests\n",
    "maxlag=12\n",
    "test = 'ssr_chi2test'\n",
    "def grangers_causation_matrix(data, variables, test='ssr_chi2test', verbose=False):    \n",
    "    \"\"\"Check Granger Causality of all possible combinations of the Time series.\n",
    "    The rows are the response variable, columns are predictors. The values in the table \n",
    "    are the P-Values. P-Values lesser than the significance level (0.05), implies \n",
    "    the Null Hypothesis that the coefficients of the corresponding past values is \n",
    "    zero, that is, the X does not cause Y can be rejected.\n",
    "\n",
    "    data      : pandas dataframe containing the time series variables\n",
    "    variables : list containing names of the time series variables.\n",
    "    \"\"\"\n",
    "    df = pd.DataFrame(np.zeros((len(variables), len(variables))), columns=variables, index=variables)\n",
    "    for c in df.columns:\n",
    "        for r in df.index:\n",
    "            test_result = grangercausalitytests(data[[r, c]], maxlag=maxlag, verbose=False)\n",
    "            p_values = [round(test_result[i+1][0][test][1],4) for i in range(maxlag)]\n",
    "            if verbose: print(f'Y = {r}, X = {c}, P Values = {p_values}')\n",
    "            min_p_value = np.min(p_values)\n",
    "            df.loc[r, c] = min_p_value\n",
    "    df.columns = [var + '_x' for var in variables]\n",
    "    df.index = [var + '_y' for var in variables]\n",
    "    return df\n"
   ]
  },
  {
   "cell_type": "code",
   "execution_count": 118,
   "metadata": {},
   "outputs": [
    {
     "data": {
      "text/html": [
       "<div>\n",
       "<style scoped>\n",
       "    .dataframe tbody tr th:only-of-type {\n",
       "        vertical-align: middle;\n",
       "    }\n",
       "\n",
       "    .dataframe tbody tr th {\n",
       "        vertical-align: top;\n",
       "    }\n",
       "\n",
       "    .dataframe thead th {\n",
       "        text-align: right;\n",
       "    }\n",
       "</style>\n",
       "<table border=\"1\" class=\"dataframe\">\n",
       "  <thead>\n",
       "    <tr style=\"text-align: right;\">\n",
       "      <th></th>\n",
       "      <th>ask_0_x</th>\n",
       "      <th>ask_quantity_0_x</th>\n",
       "      <th>bid_0_x</th>\n",
       "      <th>bid_quantity_0_x</th>\n",
       "    </tr>\n",
       "  </thead>\n",
       "  <tbody>\n",
       "    <tr>\n",
       "      <th>ask_0_y</th>\n",
       "      <td>1.0</td>\n",
       "      <td>0.0</td>\n",
       "      <td>0.0</td>\n",
       "      <td>0.0</td>\n",
       "    </tr>\n",
       "    <tr>\n",
       "      <th>ask_quantity_0_y</th>\n",
       "      <td>0.0</td>\n",
       "      <td>1.0</td>\n",
       "      <td>0.0</td>\n",
       "      <td>0.0</td>\n",
       "    </tr>\n",
       "    <tr>\n",
       "      <th>bid_0_y</th>\n",
       "      <td>0.0</td>\n",
       "      <td>0.0</td>\n",
       "      <td>1.0</td>\n",
       "      <td>0.0</td>\n",
       "    </tr>\n",
       "    <tr>\n",
       "      <th>bid_quantity_0_y</th>\n",
       "      <td>0.0</td>\n",
       "      <td>0.0</td>\n",
       "      <td>0.0</td>\n",
       "      <td>1.0</td>\n",
       "    </tr>\n",
       "  </tbody>\n",
       "</table>\n",
       "</div>"
      ],
      "text/plain": [
       "                  ask_0_x  ask_quantity_0_x  bid_0_x  bid_quantity_0_x\n",
       "ask_0_y               1.0               0.0      0.0               0.0\n",
       "ask_quantity_0_y      0.0               1.0      0.0               0.0\n",
       "bid_0_y               0.0               0.0      1.0               0.0\n",
       "bid_quantity_0_y      0.0               0.0      0.0               1.0"
      ]
     },
     "execution_count": 118,
     "metadata": {},
     "output_type": "execute_result"
    }
   ],
   "source": [
    "grangers_causation_matrix(df, variables = dl.columns)"
   ]
  },
  {
   "cell_type": "code",
   "execution_count": 60,
   "metadata": {},
   "outputs": [
    {
     "name": "stdout",
     "output_type": "stream",
     "text": [
      "                                   bid_0  bid_quantity_0   i_bid  msg_seq_num\n",
      "2019-11-13 11:55:00.073000+00:00  4160.0             5.0       5      4862919\n",
      "2019-11-13 11:55:00.132000+00:00  4160.0             5.0      13      4862928\n",
      "2019-11-13 11:55:00.907000+00:00  4200.0             5.0      14      4862934\n",
      "2019-11-13 11:55:05.977000+00:00  4200.0             5.0      15      4863029\n",
      "2019-11-13 11:55:07.753000+00:00  4200.0             5.0      16      4863240\n",
      "...                                  ...             ...     ...          ...\n",
      "2019-11-13 21:14:59.232000+00:00  4174.5            15.0  595112      7646431\n",
      "2019-11-13 21:14:59.335000+00:00  4174.5            15.0  595119      7646447\n",
      "2019-11-13 21:14:59.335000+00:00  4174.5            20.0  595120      7646448\n",
      "2019-11-13 21:14:59.666000+00:00  4174.5            15.0  595149      7646505\n",
      "2019-11-13 21:15:00.004000+00:00  4174.5            15.0  595153      7646526\n",
      "\n",
      "[286707 rows x 4 columns] 286697\n"
     ]
    }
   ],
   "source": [
    "print(bid[bid['bid_0'] != 0] , len(events[ (events[\"side\"] != \"A\") & (events[\"side\"] != \"None\")][\"msg_seq_num\"].values))\n"
   ]
  },
  {
   "cell_type": "code",
   "execution_count": 40,
   "metadata": {},
   "outputs": [
    {
     "name": "stdout",
     "output_type": "stream",
     "text": [
      "Name   ::  Test Stat > C(95%)    =>   Signif  \n",
      " ----------------------------------------\n",
      "ask_0  ::  18120.64  > 40.1749   =>   True\n",
      "ask_quantity_0 ::  8785.19   > 24.2761   =>   True\n",
      "bid_0  ::  2200.28   > 12.3212   =>   True\n",
      "bid_quantity_0 ::  0.0       > 4.1296    =>   False\n"
     ]
    }
   ],
   "source": [
    "from statsmodels.tsa.vector_ar.vecm import coint_johansen\n",
    "\n",
    "def cointegration_test(df, alpha=0.05): \n",
    "    \"\"\"Perform Johanson's Cointegration Test and Report Summary\"\"\"\n",
    "    out = coint_johansen(df,-1,5)\n",
    "    d = {'0.90':0, '0.95':1, '0.99':2}\n",
    "    traces = out.lr1\n",
    "    cvts = out.cvt[:, d[str(1-alpha)]]\n",
    "    def adjust(val, length= 6): return str(val).ljust(length)\n",
    "\n",
    "    # Summary\n",
    "    print('Name   ::  Test Stat > C(95%)    =>   Signif  \\n', '--'*20)\n",
    "    for col, trace, cvt in zip(df.columns, traces, cvts):\n",
    "        print(adjust(col), ':: ', adjust(round(trace,2), 9), \">\", adjust(cvt, 8), ' =>  ' , trace > cvt)\n",
    "\n",
    "cointegration_test(dl)"
   ]
  },
  {
   "cell_type": "code",
   "execution_count": 42,
   "metadata": {},
   "outputs": [
    {
     "name": "stdout",
     "output_type": "stream",
     "text": [
      "(495166, 4)\n",
      "(100000, 4)\n"
     ]
    }
   ],
   "source": [
    "nobs = 100000\n",
    "dl_train, dl_test = dl[0:-nobs], dl[-nobs:]\n",
    "\n",
    "# Check size\n",
    "print(dl_train.shape)  # (119, 8)\n",
    "print(dl_test.shape)  # (4, 8"
   ]
  },
  {
   "cell_type": "code",
   "execution_count": 54,
   "metadata": {},
   "outputs": [
    {
     "data": {
      "text/plain": [
       "595139"
      ]
     },
     "execution_count": 54,
     "metadata": {},
     "output_type": "execute_result"
    }
   ],
   "source": [
    "308442+286697"
   ]
  },
  {
   "cell_type": "code",
   "execution_count": 49,
   "metadata": {},
   "outputs": [],
   "source": [
    "def adfuller_test(series, signif=0.05, name='', verbose=False):\n",
    "    \"\"\"Perform ADFuller to test for Stationarity of given series and print report\"\"\"\n",
    "    r = adfuller(series, autolag='AIC')\n",
    "    output = {'test_statistic':round(r[0], 4), 'pvalue':round(r[1], 4), 'n_lags':round(r[2], 4), 'n_obs':r[3]}\n",
    "    p_value = output['pvalue'] \n",
    "    def adjust(val, length= 6): return str(val).ljust(length)\n",
    "\n",
    "    # Print Summary\n",
    "    print(f'    Augmented Dickey-Fuller Test on \"{name}\"', \"\\n   \", '-'*47)\n",
    "    print(f' Null Hypothesis: Data has unit root. Non-Stationary.')\n",
    "    print(f' Significance Level    = {signif}')\n",
    "    print(f' Test Statistic        = {output[\"test_statistic\"]}')\n",
    "    print(f' No. Lags Chosen       = {output[\"n_lags\"]}')\n",
    "\n",
    "    for key,val in r[4].items():\n",
    "        print(f' Critical value {adjust(key)} = {round(val, 3)}')\n",
    "\n",
    "    if p_value <= signif:\n",
    "        print(f\" => P-Value = {p_value}. Rejecting Null Hypothesis.\")\n",
    "        print(f\" => Series is Stationary.\")\n",
    "    else:\n",
    "        print(f\" => P-Value = {p_value}. Weak evidence to reject the Null Hypothesis.\")\n",
    "        print(f\" => Series is Non-Stationary.\")   "
   ]
  },
  {
   "cell_type": "code",
   "execution_count": 50,
   "metadata": {},
   "outputs": [
    {
     "ename": "NameError",
     "evalue": "name 'adfuller' is not defined",
     "output_type": "error",
     "traceback": [
      "\u001b[0;31m---------------------------------------------------------------------------\u001b[0m",
      "\u001b[0;31mNameError\u001b[0m                                 Traceback (most recent call last)",
      "\u001b[0;32m<ipython-input-50-a88d041a8c53>\u001b[0m in \u001b[0;36m<module>\u001b[0;34m\u001b[0m\n\u001b[1;32m      1\u001b[0m \u001b[0;31m# ADF Test on each column\u001b[0m\u001b[0;34m\u001b[0m\u001b[0;34m\u001b[0m\u001b[0;34m\u001b[0m\u001b[0m\n\u001b[1;32m      2\u001b[0m \u001b[0;32mfor\u001b[0m \u001b[0mname\u001b[0m\u001b[0;34m,\u001b[0m \u001b[0mcolumn\u001b[0m \u001b[0;32min\u001b[0m \u001b[0mdl_train\u001b[0m\u001b[0;34m.\u001b[0m\u001b[0miteritems\u001b[0m\u001b[0;34m(\u001b[0m\u001b[0;34m)\u001b[0m\u001b[0;34m:\u001b[0m\u001b[0;34m\u001b[0m\u001b[0;34m\u001b[0m\u001b[0m\n\u001b[0;32m----> 3\u001b[0;31m     \u001b[0madfuller_test\u001b[0m\u001b[0;34m(\u001b[0m\u001b[0mcolumn\u001b[0m\u001b[0;34m,\u001b[0m \u001b[0mname\u001b[0m\u001b[0;34m=\u001b[0m\u001b[0mcolumn\u001b[0m\u001b[0;34m.\u001b[0m\u001b[0mname\u001b[0m\u001b[0;34m)\u001b[0m\u001b[0;34m\u001b[0m\u001b[0;34m\u001b[0m\u001b[0m\n\u001b[0m\u001b[1;32m      4\u001b[0m     \u001b[0mprint\u001b[0m\u001b[0;34m(\u001b[0m\u001b[0;34m'\\n'\u001b[0m\u001b[0;34m)\u001b[0m\u001b[0;34m\u001b[0m\u001b[0;34m\u001b[0m\u001b[0m\n",
      "\u001b[0;32m<ipython-input-49-425df574bd3d>\u001b[0m in \u001b[0;36madfuller_test\u001b[0;34m(series, signif, name, verbose)\u001b[0m\n\u001b[1;32m      1\u001b[0m \u001b[0;32mdef\u001b[0m \u001b[0madfuller_test\u001b[0m\u001b[0;34m(\u001b[0m\u001b[0mseries\u001b[0m\u001b[0;34m,\u001b[0m \u001b[0msignif\u001b[0m\u001b[0;34m=\u001b[0m\u001b[0;36m0.05\u001b[0m\u001b[0;34m,\u001b[0m \u001b[0mname\u001b[0m\u001b[0;34m=\u001b[0m\u001b[0;34m''\u001b[0m\u001b[0;34m,\u001b[0m \u001b[0mverbose\u001b[0m\u001b[0;34m=\u001b[0m\u001b[0;32mFalse\u001b[0m\u001b[0;34m)\u001b[0m\u001b[0;34m:\u001b[0m\u001b[0;34m\u001b[0m\u001b[0;34m\u001b[0m\u001b[0m\n\u001b[1;32m      2\u001b[0m     \u001b[0;34m\"\"\"Perform ADFuller to test for Stationarity of given series and print report\"\"\"\u001b[0m\u001b[0;34m\u001b[0m\u001b[0;34m\u001b[0m\u001b[0m\n\u001b[0;32m----> 3\u001b[0;31m     \u001b[0mr\u001b[0m \u001b[0;34m=\u001b[0m \u001b[0madfuller\u001b[0m\u001b[0;34m(\u001b[0m\u001b[0mseries\u001b[0m\u001b[0;34m,\u001b[0m \u001b[0mautolag\u001b[0m\u001b[0;34m=\u001b[0m\u001b[0;34m'AIC'\u001b[0m\u001b[0;34m)\u001b[0m\u001b[0;34m\u001b[0m\u001b[0;34m\u001b[0m\u001b[0m\n\u001b[0m\u001b[1;32m      4\u001b[0m     \u001b[0moutput\u001b[0m \u001b[0;34m=\u001b[0m \u001b[0;34m{\u001b[0m\u001b[0;34m'test_statistic'\u001b[0m\u001b[0;34m:\u001b[0m\u001b[0mround\u001b[0m\u001b[0;34m(\u001b[0m\u001b[0mr\u001b[0m\u001b[0;34m[\u001b[0m\u001b[0;36m0\u001b[0m\u001b[0;34m]\u001b[0m\u001b[0;34m,\u001b[0m \u001b[0;36m4\u001b[0m\u001b[0;34m)\u001b[0m\u001b[0;34m,\u001b[0m \u001b[0;34m'pvalue'\u001b[0m\u001b[0;34m:\u001b[0m\u001b[0mround\u001b[0m\u001b[0;34m(\u001b[0m\u001b[0mr\u001b[0m\u001b[0;34m[\u001b[0m\u001b[0;36m1\u001b[0m\u001b[0;34m]\u001b[0m\u001b[0;34m,\u001b[0m \u001b[0;36m4\u001b[0m\u001b[0;34m)\u001b[0m\u001b[0;34m,\u001b[0m \u001b[0;34m'n_lags'\u001b[0m\u001b[0;34m:\u001b[0m\u001b[0mround\u001b[0m\u001b[0;34m(\u001b[0m\u001b[0mr\u001b[0m\u001b[0;34m[\u001b[0m\u001b[0;36m2\u001b[0m\u001b[0;34m]\u001b[0m\u001b[0;34m,\u001b[0m \u001b[0;36m4\u001b[0m\u001b[0;34m)\u001b[0m\u001b[0;34m,\u001b[0m \u001b[0;34m'n_obs'\u001b[0m\u001b[0;34m:\u001b[0m\u001b[0mr\u001b[0m\u001b[0;34m[\u001b[0m\u001b[0;36m3\u001b[0m\u001b[0;34m]\u001b[0m\u001b[0;34m}\u001b[0m\u001b[0;34m\u001b[0m\u001b[0;34m\u001b[0m\u001b[0m\n\u001b[1;32m      5\u001b[0m     \u001b[0mp_value\u001b[0m \u001b[0;34m=\u001b[0m \u001b[0moutput\u001b[0m\u001b[0;34m[\u001b[0m\u001b[0;34m'pvalue'\u001b[0m\u001b[0;34m]\u001b[0m\u001b[0;34m\u001b[0m\u001b[0;34m\u001b[0m\u001b[0m\n",
      "\u001b[0;31mNameError\u001b[0m: name 'adfuller' is not defined"
     ]
    }
   ],
   "source": [
    "# ADF Test on each column\n",
    "for name, column in dl_train.iteritems():\n",
    "    adfuller_test(column, name=column.name)\n",
    "    print('\\n')"
   ]
  },
  {
   "cell_type": "code",
   "execution_count": null,
   "metadata": {},
   "outputs": [],
   "source": []
  }
 ],
 "metadata": {
  "kernelspec": {
   "display_name": "Python 3",
   "language": "python",
   "name": "python3"
  },
  "language_info": {
   "codemirror_mode": {
    "name": "ipython",
    "version": 3
   },
   "file_extension": ".py",
   "mimetype": "text/x-python",
   "name": "python",
   "nbconvert_exporter": "python",
   "pygments_lexer": "ipython3",
   "version": "3.6.8"
  }
 },
 "nbformat": 4,
 "nbformat_minor": 4
}
