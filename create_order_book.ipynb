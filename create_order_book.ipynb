{
 "cells": [
  {
   "cell_type": "code",
   "execution_count": 22,
   "metadata": {},
   "outputs": [],
   "source": [
    "import asimov_database as ad\n",
    "import numpy as np\n",
    "import pandas as pd"
   ]
  },
  {
   "cell_type": "code",
   "execution_count": 23,
   "metadata": {},
   "outputs": [],
   "source": [
    "creator = ad.ParquetCreator()\n",
    "reader = ad.ParquetReader()"
   ]
  },
  {
   "cell_type": "code",
   "execution_count": 5,
   "metadata": {},
   "outputs": [
    {
     "name": "stdout",
     "output_type": "stream",
     "text": [
      "[ PARQUET ] Fetching incremental data for WDOG20 2020-01-21\n",
      "[ PARQUET ] Fetching snapshot data for WDOG20 2020-01-21\n",
      "[ PARQUET ] Fetching trades data for DOLG20 2020-01-21\n",
      "[ PARQUET ] Fetching trades data for WDOG20 2020-01-21\n"
     ]
    }
   ],
   "source": [
    "# Geração manual de dados do dia\n",
    "creator.create_book_events(\"DOLG20\", \"2020-01-21\", \"md_rt\")\n",
    "creator.create_book_events(\"WDOG20\", \"2020-01-21\", \"md_rt\")\n",
    "creator.create_trades_files(\"DOLG20\", \"2020-01-21\", \"md_rt\")\n",
    "creator.create_trades_files(\"WDOG20\", \"2020-01-21\", \"md_rt\")"
   ]
  },
  {
   "cell_type": "code",
   "execution_count": 5,
   "metadata": {},
   "outputs": [],
   "source": [
    "creator.create_order_book_files(symbol='WDOG20', date='2020-01-06',  db='md_rt')"
   ]
  },
  {
   "cell_type": "code",
   "execution_count": 6,
   "metadata": {},
   "outputs": [
    {
     "name": "stdout",
     "output_type": "stream",
     "text": [
      "Working bid side of WDOG20 level book\n",
      "Working ask side of WDOG20 level book\n"
     ]
    }
   ],
   "source": [
    "creator.create_level_book_files(symbol='WDOG20', date='2020-01-06', max_levels=100)"
   ]
  },
  {
   "cell_type": "code",
   "execution_count": null,
   "metadata": {},
   "outputs": [],
   "source": [
    "DATE_NOV = ['2019-11-01',\n",
    " '2019-11-04',\n",
    " '2019-11-05',\n",
    " '2019-11-06',\n",
    " '2019-11-07',\n",
    " '2019-11-08',\n",
    " '2019-11-11',\n",
    " '2019-11-12',\n",
    " '2019-11-13',\n",
    " '2019-11-14',\n",
    " '2019-11-15',\n",
    " '2019-11-18',\n",
    " '2019-11-19',\n",
    " '2019-11-20',\n",
    " '2019-11-21',\n",
    " '2019-11-22',\n",
    " '2019-11-25',\n",
    " '2019-11-26',\n",
    " '2019-11-27', \n",
    " '2019-11-28',\n",
    " '2019-11-29']"
   ]
  },
  {
   "cell_type": "code",
   "execution_count": null,
   "metadata": {},
   "outputs": [],
   "source": [
    "DATE_DEZ = ['2019-12-02',\n",
    " '2019-12-03',\n",
    " '2019-12-04',\n",
    " '2019-12-05',\n",
    " '2019-12-06',\n",
    " '2019-12-09',\n",
    " '2019-12-10',\n",
    " '2019-12-11',\n",
    " '2019-12-12',\n",
    " '2019-12-13',\n",
    " '2019-12-16',\n",
    " '2019-12-17',\n",
    " '2019-12-18',\n",
    " '2019-12-19',\n",
    " '2019-12-20',\n",
    " '2019-12-23',\n",
    " '2019-12-26',\n",
    " '2019-12-27', \n",
    " '2019-12-30']"
   ]
  },
  {
   "cell_type": "code",
   "execution_count": null,
   "metadata": {},
   "outputs": [],
   "source": [
    "for i in DATE_DEZ:\n",
    "    creator.create_order_book_files(symbol='WDOF20', date=i,  db='md_rt')\n",
    "    creator.create_level_book_files(symbol='WDOF20', date=i, max_levels=100)\n",
    "    creator.create_order_book_files(symbol='DOLF20', date=i,  db='md_rt')\n",
    "    creator.create_level_book_files(symbol='DOLF20', date=i, max_levels=100)\n",
    "    "
   ]
  },
  {
   "cell_type": "code",
   "execution_count": 24,
   "metadata": {},
   "outputs": [],
   "source": [
    "i = '2019-06-12'"
   ]
  },
  {
   "cell_type": "code",
   "execution_count": null,
   "metadata": {},
   "outputs": [
    {
     "name": "stdout",
     "output_type": "stream",
     "text": [
      "Working bid side of WDON19 level book\n"
     ]
    }
   ],
   "source": [
    "creator.create_order_book_files(symbol='WDON19', date='2019-06-12',  db='md')\n",
    "creator.create_level_book_files(symbol='WDON19', date='2019-06-12', max_levels=100)\n",
    "creator.create_order_book_files(symbol='DOLN19', date='2019-06-12',  db='md')\n",
    "creator.create_level_book_files(symbol='DOLN19', date='2019-06-12', max_levels=100)"
   ]
  },
  {
   "cell_type": "code",
   "execution_count": 20,
   "metadata": {},
   "outputs": [
    {
     "name": "stdout",
     "output_type": "stream",
     "text": [
      "Working on bid WDON19 data\n",
      "Working on ask WDON19 data\n"
     ]
    }
   ],
   "source": [
    "creator.create_order_book_files(symbol='WDON19', date='2019-06-12',  db='md')\n"
   ]
  },
  {
   "cell_type": "code",
   "execution_count": 13,
   "metadata": {},
   "outputs": [],
   "source": [
    "creator.create_order_book_files(symbol='WDON19', date=i,  db='md_rt')\n"
   ]
  },
  {
   "cell_type": "code",
   "execution_count": 7,
   "metadata": {},
   "outputs": [],
   "source": [
    "DATE_JAN = [\n",
    "\n",
    " '2020-01-14',\n",
    " '2020-01-15',\n",
    " '2020-01-17',\n",
    " '2020-01-20',\n",
    " '2020-01-21',\n",
    " '2020-01-22', \n",
    " '2020-01-23',\n",
    " '2020-01-24']\n",
    "\n"
   ]
  },
  {
   "cell_type": "code",
   "execution_count": null,
   "metadata": {},
   "outputs": [
    {
     "name": "stderr",
     "output_type": "stream",
     "text": [
      "/home/asimovws/.local/lib/python3.6/site-packages/asimov_database/database/parquet_creator.py:202: SettingWithCopyWarning: \n",
      "A value is trying to be set on a copy of a slice from a DataFrame\n",
      "\n",
      "See the caveats in the documentation: http://pandas.pydata.org/pandas-docs/stable/user_guide/indexing.html#returning-a-view-versus-a-copy\n",
      "  md_incremental['acum'][md_incremental['event_type'] == 'INSERT'] = 1\n",
      "/home/asimovws/.local/lib/python3.6/site-packages/asimov_database/database/parquet_creator.py:203: SettingWithCopyWarning: \n",
      "A value is trying to be set on a copy of a slice from a DataFrame\n",
      "\n",
      "See the caveats in the documentation: http://pandas.pydata.org/pandas-docs/stable/user_guide/indexing.html#returning-a-view-versus-a-copy\n",
      "  md_incremental['acum'][md_incremental['event_type']== 'DELETE'] = -1\n",
      "/home/asimovws/.local/lib/python3.6/site-packages/asimov_database/database/parquet_creator.py:204: SettingWithCopyWarning: \n",
      "A value is trying to be set on a copy of a slice from a DataFrame\n",
      "\n",
      "See the caveats in the documentation: http://pandas.pydata.org/pandas-docs/stable/user_guide/indexing.html#returning-a-view-versus-a-copy\n",
      "  md_incremental['acum'][md_incremental['event_type'] == 'DELETE_FROM'] = -md_incremental['position'][md_incremental['event_type'] == 'DELETE_FROM']\n"
     ]
    },
    {
     "name": "stdout",
     "output_type": "stream",
     "text": [
      "Working on bid WDOG20 data\n",
      "Working on snapshot data\n",
      "msn_to_ignore: 116347 - Snap shape: 4004\n",
      "Working on snapshot data\n",
      "msn_to_ignore: 2833909 - Snap shape: 7187\n",
      "Working on snapshot data\n",
      "msn_to_ignore: 3742664 - Snap shape: 4697\n",
      "Working on ask WDOG20 data\n",
      "Working on snapshot data\n",
      "msn_to_ignore: 116347 - Snap shape: 2739\n",
      "Working on snapshot data\n",
      "msn_to_ignore: 2833909 - Snap shape: 5066\n",
      "Working on snapshot data\n",
      "msn_to_ignore: 3742664 - Snap shape: 1720\n",
      "Working bid side of WDOG20 level book\n",
      "Working ask side of WDOG20 level book\n",
      "Working on bid DOLG20 data\n",
      "Working on snapshot data\n",
      "msn_to_ignore: 116347 - Snap shape: 1000\n",
      "Working on snapshot data\n",
      "msn_to_ignore: 2833909 - Snap shape: 1182\n",
      "Working on snapshot data\n",
      "msn_to_ignore: 3742664 - Snap shape: 1203\n",
      "Working on ask DOLG20 data\n",
      "Working on snapshot data\n",
      "msn_to_ignore: 116347 - Snap shape: 745\n",
      "Working on snapshot data\n",
      "msn_to_ignore: 2833909 - Snap shape: 1078\n",
      "Working on snapshot data\n",
      "msn_to_ignore: 3742664 - Snap shape: 692\n",
      "Working bid side of DOLG20 level book\n",
      "Working ask side of DOLG20 level book\n",
      "Working on bid WDOG20 data\n"
     ]
    }
   ],
   "source": [
    "for i in DATE_JAN:\n",
    "    creator.create_order_book_files(symbol='WDOG20', date=i,  db='md_rt')\n",
    "    creator.create_level_book_files(symbol='WDOG20', date=i, max_levels=100)\n",
    "    creator.create_order_book_files(symbol='DOLG20', date=i,  db='md_rt')\n",
    "    creator.create_level_book_files(symbol='DOLG20', date=i, max_levels=100)\n",
    "    "
   ]
  },
  {
   "cell_type": "code",
   "execution_count": null,
   "metadata": {},
   "outputs": [],
   "source": []
  }
 ],
 "metadata": {
  "kernelspec": {
   "display_name": "Python 3",
   "language": "python",
   "name": "python3"
  },
  "language_info": {
   "codemirror_mode": {
    "name": "ipython",
    "version": 3
   },
   "file_extension": ".py",
   "mimetype": "text/x-python",
   "name": "python",
   "nbconvert_exporter": "python",
   "pygments_lexer": "ipython3",
   "version": "3.6.8"
  }
 },
 "nbformat": 4,
 "nbformat_minor": 4
}
