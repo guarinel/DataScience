{
 "cells": [
  {
   "cell_type": "code",
   "execution_count": 1,
   "metadata": {},
   "outputs": [],
   "source": [
    "import asimov_database as ad\n",
    "import pandas as pd"
   ]
  },
  {
   "cell_type": "code",
   "execution_count": 2,
   "metadata": {},
   "outputs": [],
   "source": [
    "parquet = ad.ParquetCreator()"
   ]
  },
  {
   "cell_type": "code",
   "execution_count": 3,
   "metadata": {},
   "outputs": [
    {
     "name": "stdout",
     "output_type": "stream",
     "text": [
      "[ PARQUET ] Fetching trades data for DOLH20 2020-02-06\n",
      "[ PARQUET ] Fetching trades data for WDOH20 2020-02-06\n"
     ]
    }
   ],
   "source": [
    "parquet.create_trades_files(\"DOLH20\", \"2020-02-06\")\n",
    "parquet.create_trades_files(\"WDOH20\", \"2020-02-06\")\n",
    "\n",
    "parquet.create_book_events(\"DOLH20\", \"2020-02-06\")\n",
    "parquet.create_book_events(\"WDOH20\", \"2020-02-06\")"
   ]
  },
  {
   "cell_type": "code",
   "execution_count": 4,
   "metadata": {},
   "outputs": [
    {
     "name": "stdout",
     "output_type": "stream",
     "text": [
      "[ PARQUET ] Fetching incremental data for DOLH20 2020-02-06\n",
      "[ PARQUET ] Fetching snapshot data for DOLH20 2020-02-06\n",
      "[ PARQUET ] Fetching incremental data for WDOH20 2020-02-06\n",
      "[ PARQUET ] Fetching snapshot data for WDOH20 2020-02-06\n"
     ]
    }
   ],
   "source": []
  },
  {
   "cell_type": "code",
   "execution_count": 4,
   "metadata": {},
   "outputs": [
    {
     "name": "stdout",
     "output_type": "stream",
     "text": [
      "[ PARQUET ] Fetching incremental data for DOLD 2020-01-31\n",
      "[ PARQUET ] Fetching snapshot data for DOLD 2020-01-31\n",
      "[ PARQUET ] Fetching incremental data for DOLD 2020-01-30\n",
      "[ PARQUET ] Fetching snapshot data for DOLD 2020-01-30\n",
      "[ PARQUET ] Fetching incremental data for DOLF21 2020-01-31\n",
      "[ PARQUET ] Fetching snapshot data for DOLF21 2020-01-31\n",
      "[ PARQUET ] Fetching incremental data for DOLF21 2020-01-30\n",
      "[ PARQUET ] Fetching snapshot data for DOLF21 2020-01-30\n",
      "[ PARQUET ] Fetching incremental data for DOLF22 2020-01-31\n",
      "[ PARQUET ] Fetching snapshot data for DOLF22 2020-01-31\n",
      "[ PARQUET ] Fetching incremental data for DOLF22 2020-01-30\n",
      "[ PARQUET ] Fetching snapshot data for DOLF22 2020-01-30\n",
      "[ PARQUET ] Fetching incremental data for DOLF25 2020-01-31\n",
      "[ PARQUET ] Fetching snapshot data for DOLF25 2020-01-31\n",
      "[ PARQUET ] Fetching incremental data for DOLF25 2020-01-30\n",
      "[ PARQUET ] Fetching snapshot data for DOLF25 2020-01-30\n",
      "[ PARQUET ] Fetching incremental data for DOLG20 2020-01-31\n",
      "[ PARQUET ] Fetching snapshot data for DOLG20 2020-01-31\n",
      "[ PARQUET ] Fetching incremental data for DOLH20 2020-01-31\n",
      "[ PARQUET ] Fetching snapshot data for DOLH20 2020-01-31\n",
      "[ PARQUET ] Fetching incremental data for DOLH20 2020-01-30\n",
      "[ PARQUET ] Fetching snapshot data for DOLH20 2020-01-30\n",
      "[ PARQUET ] Fetching incremental data for DOLJ20 2020-01-31\n",
      "[ PARQUET ] Fetching snapshot data for DOLJ20 2020-01-31\n",
      "[ PARQUET ] Fetching incremental data for DOLJ20 2020-01-30\n",
      "[ PARQUET ] Fetching snapshot data for DOLJ20 2020-01-30\n",
      "[ PARQUET ] Fetching incremental data for DOLJ21 2020-01-31\n",
      "[ PARQUET ] Fetching snapshot data for DOLJ21 2020-01-31\n",
      "[ PARQUET ] Fetching incremental data for DOLJ21 2020-01-30\n",
      "[ PARQUET ] Fetching snapshot data for DOLJ21 2020-01-30\n",
      "[ PARQUET ] Fetching incremental data for DOLJ22 2020-01-31\n",
      "[ PARQUET ] Fetching snapshot data for DOLJ22 2020-01-31\n",
      "[ PARQUET ] Fetching incremental data for DOLJ22 2020-01-30\n",
      "[ PARQUET ] Fetching snapshot data for DOLJ22 2020-01-30\n",
      "[ PARQUET ] Fetching incremental data for DOLJ23 2020-01-31\n",
      "[ PARQUET ] Fetching snapshot data for DOLJ23 2020-01-31\n",
      "[ PARQUET ] Fetching incremental data for DOLJ23 2020-01-30\n",
      "[ PARQUET ] Fetching snapshot data for DOLJ23 2020-01-30\n",
      "[ PARQUET ] Fetching incremental data for DOLK20 2020-01-31\n",
      "[ PARQUET ] Fetching snapshot data for DOLK20 2020-01-31\n",
      "[ PARQUET ] Fetching incremental data for DOLK20 2020-01-30\n",
      "[ PARQUET ] Fetching snapshot data for DOLK20 2020-01-30\n",
      "[ PARQUET ] Fetching incremental data for DOLM20 2020-01-31\n",
      "[ PARQUET ] Fetching snapshot data for DOLM20 2020-01-31\n",
      "[ PARQUET ] Fetching incremental data for DOLM20 2020-01-30\n",
      "[ PARQUET ] Fetching snapshot data for DOLM20 2020-01-30\n",
      "[ PARQUET ] Fetching incremental data for DOLN20 2020-01-31\n",
      "[ PARQUET ] Fetching snapshot data for DOLN20 2020-01-31\n",
      "[ PARQUET ] Fetching incremental data for DOLN20 2020-01-30\n",
      "[ PARQUET ] Fetching snapshot data for DOLN20 2020-01-30\n",
      "[ PARQUET ] Fetching incremental data for DOLN21 2020-01-31\n",
      "[ PARQUET ] Fetching snapshot data for DOLN21 2020-01-31\n",
      "[ PARQUET ] Fetching incremental data for DOLN21 2020-01-30\n",
      "[ PARQUET ] Fetching snapshot data for DOLN21 2020-01-30\n",
      "[ PARQUET ] Fetching incremental data for DOLN22 2020-01-31\n",
      "[ PARQUET ] Fetching snapshot data for DOLN22 2020-01-31\n",
      "[ PARQUET ] Fetching incremental data for DOLN22 2020-01-30\n",
      "[ PARQUET ] Fetching snapshot data for DOLN22 2020-01-30\n",
      "[ PARQUET ] Fetching incremental data for DOLN23 2020-01-31\n",
      "[ PARQUET ] Fetching snapshot data for DOLN23 2020-01-31\n",
      "[ PARQUET ] Fetching incremental data for DOLN23 2020-01-30\n",
      "[ PARQUET ] Fetching snapshot data for DOLN23 2020-01-30\n",
      "[ PARQUET ] Fetching incremental data for DOLN24 2020-01-31\n",
      "[ PARQUET ] Fetching snapshot data for DOLN24 2020-01-31\n",
      "[ PARQUET ] Fetching incremental data for DOLN24 2020-01-30\n",
      "[ PARQUET ] Fetching snapshot data for DOLN24 2020-01-30\n",
      "[ PARQUET ] Fetching incremental data for DOLQ20 2020-01-31\n",
      "[ PARQUET ] Fetching snapshot data for DOLQ20 2020-01-31\n",
      "[ PARQUET ] Fetching incremental data for DOLQ20 2020-01-30\n",
      "[ PARQUET ] Fetching snapshot data for DOLQ20 2020-01-30\n",
      "[ PARQUET ] Fetching incremental data for DOLU20 2020-01-31\n",
      "[ PARQUET ] Fetching snapshot data for DOLU20 2020-01-31\n",
      "[ PARQUET ] Fetching incremental data for DOLU20 2020-01-30\n",
      "[ PARQUET ] Fetching snapshot data for DOLU20 2020-01-30\n",
      "[ PARQUET ] Fetching incremental data for DOLV20 2020-01-31\n",
      "[ PARQUET ] Fetching snapshot data for DOLV20 2020-01-31\n",
      "[ PARQUET ] Fetching incremental data for DOLV20 2020-01-30\n",
      "[ PARQUET ] Fetching snapshot data for DOLV20 2020-01-30\n",
      "[ PARQUET ] Fetching incremental data for DOLV21 2020-01-31\n",
      "[ PARQUET ] Fetching snapshot data for DOLV21 2020-01-31\n",
      "[ PARQUET ] Fetching incremental data for DOLV21 2020-01-30\n",
      "[ PARQUET ] Fetching snapshot data for DOLV21 2020-01-30\n",
      "[ PARQUET ] Fetching incremental data for DOLV22 2020-01-31\n",
      "[ PARQUET ] Fetching snapshot data for DOLV22 2020-01-31\n",
      "[ PARQUET ] Fetching incremental data for DOLV22 2020-01-30\n",
      "[ PARQUET ] Fetching snapshot data for DOLV22 2020-01-30\n",
      "[ PARQUET ] Fetching incremental data for DOLX20 2020-01-31\n",
      "[ PARQUET ] Fetching snapshot data for DOLX20 2020-01-31\n",
      "[ PARQUET ] Fetching incremental data for DOLX20 2020-01-30\n",
      "[ PARQUET ] Fetching snapshot data for DOLX20 2020-01-30\n",
      "[ PARQUET ] Fetching incremental data for DOLZ20 2020-01-31\n",
      "[ PARQUET ] Fetching snapshot data for DOLZ20 2020-01-31\n",
      "[ PARQUET ] Fetching incremental data for DOLZ20 2020-01-30\n",
      "[ PARQUET ] Fetching snapshot data for DOLZ20 2020-01-30\n",
      "[ PARQUET ] Fetching incremental data for RTDOLD1 2020-01-31\n",
      "[ PARQUET ] Fetching snapshot data for RTDOLD1 2020-01-31\n",
      "[ PARQUET ] Fetching incremental data for RTDOLD1 2020-01-30\n",
      "[ PARQUET ] Fetching snapshot data for RTDOLD1 2020-01-30\n",
      "[ PARQUET ] Fetching incremental data for RTDOLT1 2020-01-31\n",
      "[ PARQUET ] Fetching snapshot data for RTDOLT1 2020-01-31\n",
      "[ PARQUET ] Fetching incremental data for RTDOLT1 2020-01-30\n",
      "[ PARQUET ] Fetching snapshot data for RTDOLT1 2020-01-30\n",
      "[ PARQUET ] Fetching incremental data for TXDIDOLAR 2020-01-31\n",
      "[ PARQUET ] Fetching snapshot data for TXDIDOLAR 2020-01-31\n",
      "[ PARQUET ] Fetching incremental data for TXDIDOLAR 2020-01-30\n",
      "[ PARQUET ] Fetching snapshot data for TXDIDOLAR 2020-01-30\n",
      "[ PARQUET ] Fetching incremental data for TXSELICDOLAR 2020-01-31\n",
      "[ PARQUET ] Fetching snapshot data for TXSELICDOLAR 2020-01-31\n",
      "[ PARQUET ] Fetching incremental data for TXSELICDOLAR 2020-01-30\n",
      "[ PARQUET ] Fetching snapshot data for TXSELICDOLAR 2020-01-30\n",
      "[ PARQUET ] Fetching incremental data for DOLF23 2020-01-31\n",
      "[ PARQUET ] Fetching snapshot data for DOLF23 2020-01-31\n",
      "[ PARQUET ] Fetching incremental data for DOLF23 2020-01-30\n",
      "[ PARQUET ] Fetching snapshot data for DOLF23 2020-01-30\n",
      "[ PARQUET ] Fetching incremental data for WDOF21 2020-01-31\n",
      "[ PARQUET ] Fetching snapshot data for WDOF21 2020-01-31\n",
      "[ PARQUET ] Fetching incremental data for WDOF21 2020-01-30\n",
      "[ PARQUET ] Fetching snapshot data for WDOF21 2020-01-30\n",
      "[ PARQUET ] Fetching incremental data for WDOF25 2020-01-31\n",
      "[ PARQUET ] Fetching snapshot data for WDOF25 2020-01-31\n",
      "[ PARQUET ] Fetching incremental data for WDOF25 2020-01-30\n",
      "[ PARQUET ] Fetching snapshot data for WDOF25 2020-01-30\n",
      "[ PARQUET ] Fetching incremental data for WDOG20 2020-01-31\n",
      "[ PARQUET ] Fetching snapshot data for WDOG20 2020-01-31\n",
      "[ PARQUET ] Fetching incremental data for WDOH20 2020-01-31\n",
      "[ PARQUET ] Fetching snapshot data for WDOH20 2020-01-31\n",
      "[ PARQUET ] Fetching incremental data for WDOH20 2020-01-30\n",
      "[ PARQUET ] Fetching snapshot data for WDOH20 2020-01-30\n",
      "[ PARQUET ] Fetching incremental data for WDOJ20 2020-01-31\n",
      "[ PARQUET ] Fetching snapshot data for WDOJ20 2020-01-31\n",
      "[ PARQUET ] Fetching incremental data for WDOJ20 2020-01-30\n",
      "[ PARQUET ] Fetching snapshot data for WDOJ20 2020-01-30\n",
      "[ PARQUET ] Fetching incremental data for WDOJ22 2020-01-31\n",
      "[ PARQUET ] Fetching snapshot data for WDOJ22 2020-01-31\n",
      "[ PARQUET ] Fetching incremental data for WDOJ22 2020-01-30\n",
      "[ PARQUET ] Fetching snapshot data for WDOJ22 2020-01-30\n",
      "[ PARQUET ] Fetching incremental data for WDOK20 2020-01-31\n",
      "[ PARQUET ] Fetching snapshot data for WDOK20 2020-01-31\n",
      "[ PARQUET ] Fetching incremental data for WDOK20 2020-01-30\n",
      "[ PARQUET ] Fetching snapshot data for WDOK20 2020-01-30\n",
      "[ PARQUET ] Fetching incremental data for WDOM20 2020-01-31\n",
      "[ PARQUET ] Fetching snapshot data for WDOM20 2020-01-31\n",
      "[ PARQUET ] Fetching incremental data for WDOM20 2020-01-30\n",
      "[ PARQUET ] Fetching snapshot data for WDOM20 2020-01-30\n",
      "[ PARQUET ] Fetching incremental data for WDON20 2020-01-31\n",
      "[ PARQUET ] Fetching snapshot data for WDON20 2020-01-31\n",
      "[ PARQUET ] Fetching incremental data for WDON20 2020-01-30\n",
      "[ PARQUET ] Fetching snapshot data for WDON20 2020-01-30\n",
      "[ PARQUET ] Fetching incremental data for WDON21 2020-01-31\n",
      "[ PARQUET ] Fetching snapshot data for WDON21 2020-01-31\n",
      "[ PARQUET ] Fetching incremental data for WDON21 2020-01-30\n",
      "[ PARQUET ] Fetching snapshot data for WDON21 2020-01-30\n",
      "[ PARQUET ] Fetching incremental data for WDON22 2020-01-31\n",
      "[ PARQUET ] Fetching snapshot data for WDON22 2020-01-31\n",
      "[ PARQUET ] Fetching incremental data for WDON22 2020-01-30\n",
      "[ PARQUET ] Fetching snapshot data for WDON22 2020-01-30\n",
      "[ PARQUET ] Fetching incremental data for WDOV20 2020-01-31\n",
      "[ PARQUET ] Fetching snapshot data for WDOV20 2020-01-31\n",
      "[ PARQUET ] Fetching incremental data for WDOV20 2020-01-30\n",
      "[ PARQUET ] Fetching snapshot data for WDOV20 2020-01-30\n"
     ]
    }
   ],
   "source": [
    "#Cria os arquivos que não estão na base de dados (tipo events) \n",
    "#Paramentros sao: Data Inicial, Data Final, Simbolo do ativo, Tipo (inc ou snap)\n",
    "# Ex: symbol = 'DOL'\n",
    "#     type_ = 'incremental'\n",
    "#     initial_date = '2019-07-15'\n",
    "#     final_date = '2019-11-18'\n",
    "#Se vazio retorna todos arquivos\n",
    "\n",
    "\n",
    "parquet.create_missing_inc(symbol= ['DOL', 'WDO'], initial_date='2019-12-13', db ='md_rt')"
   ]
  },
  {
   "cell_type": "code",
   "execution_count": 5,
   "metadata": {},
   "outputs": [
    {
     "name": "stdout",
     "output_type": "stream",
     "text": [
      "[ PARQUET ] Fetching trades data for DOLG20 2020-01-31\n",
      "[ PARQUET ] Fetching trades data for DOLV20 2020-01-30\n",
      "[ PARQUET ] Fetching trades data for DOLJ20 2020-01-30\n",
      "[ PARQUET ] Fetching trades data for DOLH20 2020-01-31\n",
      "[ PARQUET ] Fetching trades data for DOLH20 2020-01-30\n",
      "[ PARQUET ] Fetching trades data for DOLK20 2020-01-30\n",
      "[ PARQUET ] Fetching trades data for WDOG20 2020-01-31\n",
      "[ PARQUET ] Fetching trades data for WDOM20 2020-01-30\n",
      "[ PARQUET ] Fetching trades data for WDOV20 2020-01-30\n",
      "[ PARQUET ] Fetching trades data for WDOH20 2020-01-31\n",
      "[ PARQUET ] Fetching trades data for WDOH20 2020-01-30\n"
     ]
    }
   ],
   "source": [
    "#Cria os arquivos que não estão na base de dados (tipo trade) \n",
    "\n",
    "#Paramentros sao: Data Inicial, Data Final, Simbolo do ativo\n",
    "# Ex: symbol = 'DOL'     \n",
    "#     initial_date = '2019-07-15'\n",
    "#     final_date = '2019-11-18'\n",
    "#Se vazio retorna todos arquivos\n",
    "\n",
    "parquet.create_missing_trade(symbol= ['DOL', 'WDO'], initial_date='2019-12-14', db ='md_rt')"
   ]
  },
  {
   "cell_type": "code",
   "execution_count": 6,
   "metadata": {},
   "outputs": [],
   "source": [
    "parquet.create_missing_mirror(db = 'asimov_mirror',  initial_date='2019-12-14')"
   ]
  },
  {
   "cell_type": "code",
   "execution_count": 13,
   "metadata": {},
   "outputs": [
    {
     "name": "stdout",
     "output_type": "stream",
     "text": [
      "[ PARQUET ] Fetching incremental data for WDOG20 2020-01-16\n",
      "[ PARQUET ] Fetching snapshot data for WDOG20 2020-01-16\n"
     ]
    }
   ],
   "source": [
    "# parquet.create_book_events(\"DOLG20\", \"2020-01-16\", \"md_rt\")\n",
    "# parquet.create_book_events(\"WDOG20\", \"2020-01-16\", \"md_rt\")\n",
    "# \n",
    "# parquet.create_trades_files(\"DOLG20\", \"2020-01-16\", \"md_rt\")\n",
    "# parquet.create_trades_files(\"WDOG20\", \"2020-01-16\", \"md_rt\")"
   ]
  },
  {
   "cell_type": "code",
   "execution_count": null,
   "metadata": {},
   "outputs": [],
   "source": []
  }
 ],
 "metadata": {
  "kernelspec": {
   "display_name": "Python 3",
   "language": "python",
   "name": "python3"
  },
  "language_info": {
   "codemirror_mode": {
    "name": "ipython",
    "version": 3
   },
   "file_extension": ".py",
   "mimetype": "text/x-python",
   "name": "python",
   "nbconvert_exporter": "python",
   "pygments_lexer": "ipython3",
   "version": "3.6.8"
  }
 },
 "nbformat": 4,
 "nbformat_minor": 4
}
