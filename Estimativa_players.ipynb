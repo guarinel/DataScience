{
 "cells": [
  {
   "cell_type": "code",
   "execution_count": 1,
   "metadata": {},
   "outputs": [],
   "source": [
    "import asimov_database as ad\n",
    "import numpy as np\n",
    "import pandas as pd\n",
    "import os\n",
    "import matplotlib.pyplot as plt\n"
   ]
  },
  {
   "cell_type": "code",
   "execution_count": 2,
   "metadata": {},
   "outputs": [],
   "source": [
    "import seaborn as sns"
   ]
  },
  {
   "cell_type": "code",
   "execution_count": 4,
   "metadata": {},
   "outputs": [],
   "source": [
    "pd.set_option('display.max_rows', 500)\n",
    "pd.set_option('display.max_columns', 500)\n",
    "pd.set_option('display.width', 1000)\n",
    "pd.set_option('float_format', '{:f}'.format)"
   ]
  },
  {
   "cell_type": "code",
   "execution_count": 5,
   "metadata": {},
   "outputs": [],
   "source": [
    "reader = ad.ParquetReader()"
   ]
  },
  {
   "cell_type": "code",
   "execution_count": 6,
   "metadata": {},
   "outputs": [],
   "source": [
    "data_from_postgres = reader.get_marketdata_from_postgres(\"incremental\", \"DOLF20\", \"2019-12-05\", db=\"md_rt\")"
   ]
  },
  {
   "cell_type": "code",
   "execution_count": 8,
   "metadata": {},
   "outputs": [],
   "source": [
    "md = reader.get_account_data_from_parquet('2019-12-05')"
   ]
  },
  {
   "cell_type": "code",
   "execution_count": 9,
   "metadata": {},
   "outputs": [],
   "source": [
    "md = md.read().to_pandas()"
   ]
  },
  {
   "cell_type": "code",
   "execution_count": 10,
   "metadata": {},
   "outputs": [],
   "source": [
    "md = md[[\"ts\", \"sender_comp_id\", \"target_comp_id\", \"symbol\", \"state\", \"secondary_order_id\", \"client_order_id\", \"order_qty\", \"side\", \"price\", \"time_in_force\", \"request_ts\", \"response_ts\"]]"
   ]
  },
  {
   "cell_type": "code",
   "execution_count": 11,
   "metadata": {},
   "outputs": [
    {
     "data": {
      "text/html": [
       "<div>\n",
       "<style scoped>\n",
       "    .dataframe tbody tr th:only-of-type {\n",
       "        vertical-align: middle;\n",
       "    }\n",
       "\n",
       "    .dataframe tbody tr th {\n",
       "        vertical-align: top;\n",
       "    }\n",
       "\n",
       "    .dataframe thead th {\n",
       "        text-align: right;\n",
       "    }\n",
       "</style>\n",
       "<table border=\"1\" class=\"dataframe\">\n",
       "  <thead>\n",
       "    <tr style=\"text-align: right;\">\n",
       "      <th></th>\n",
       "      <th>ts</th>\n",
       "      <th>sender_comp_id</th>\n",
       "      <th>target_comp_id</th>\n",
       "      <th>symbol</th>\n",
       "      <th>state</th>\n",
       "      <th>secondary_order_id</th>\n",
       "      <th>client_order_id</th>\n",
       "      <th>order_qty</th>\n",
       "      <th>side</th>\n",
       "      <th>price</th>\n",
       "      <th>time_in_force</th>\n",
       "      <th>request_ts</th>\n",
       "      <th>response_ts</th>\n",
       "    </tr>\n",
       "  </thead>\n",
       "  <tbody>\n",
       "    <tr>\n",
       "      <th>0</th>\n",
       "      <td>1575568723341202380</td>\n",
       "      <td>XBTG0317</td>\n",
       "      <td>OE168</td>\n",
       "      <td>TF3Z99</td>\n",
       "      <td>WAITING_ACCEPT</td>\n",
       "      <td>None</td>\n",
       "      <td>223849</td>\n",
       "      <td>1</td>\n",
       "      <td>BUY</td>\n",
       "      <td>100.000000</td>\n",
       "      <td>DAY</td>\n",
       "      <td>1575568723341202380</td>\n",
       "      <td>0</td>\n",
       "    </tr>\n",
       "    <tr>\n",
       "      <th>1</th>\n",
       "      <td>1575568723343035103</td>\n",
       "      <td>XBTG0317</td>\n",
       "      <td>OE168</td>\n",
       "      <td>TF3Z99</td>\n",
       "      <td>REJECTED</td>\n",
       "      <td>None</td>\n",
       "      <td>223849</td>\n",
       "      <td>1</td>\n",
       "      <td>BUY</td>\n",
       "      <td>100.000000</td>\n",
       "      <td>DAY</td>\n",
       "      <td>1575568723341202380</td>\n",
       "      <td>1575568723343035103</td>\n",
       "    </tr>\n",
       "    <tr>\n",
       "      <th>2</th>\n",
       "      <td>1575569008026939598</td>\n",
       "      <td>XBTG0322</td>\n",
       "      <td>OE196</td>\n",
       "      <td>WDOF20</td>\n",
       "      <td>WAITING_ACCEPT</td>\n",
       "      <td>None</td>\n",
       "      <td>WA0000000000000000000000ABd6RvAAAAAAAC</td>\n",
       "      <td>1</td>\n",
       "      <td>BUY</td>\n",
       "      <td>4171.000000</td>\n",
       "      <td>IMMEDIATE_OR_CANCEL</td>\n",
       "      <td>1575569008026939598</td>\n",
       "      <td>0</td>\n",
       "    </tr>\n",
       "    <tr>\n",
       "      <th>3</th>\n",
       "      <td>1575569008028410721</td>\n",
       "      <td>XBTG0322</td>\n",
       "      <td>OE196</td>\n",
       "      <td>WDOF20</td>\n",
       "      <td>ACCEPTED</td>\n",
       "      <td>744113538363</td>\n",
       "      <td>WA0000000000000000000000ABd6RvAAAAAAAC</td>\n",
       "      <td>1</td>\n",
       "      <td>BUY</td>\n",
       "      <td>4171.000000</td>\n",
       "      <td>IMMEDIATE_OR_CANCEL</td>\n",
       "      <td>1575569008026939598</td>\n",
       "      <td>1575569008028410721</td>\n",
       "    </tr>\n",
       "    <tr>\n",
       "      <th>4</th>\n",
       "      <td>1575569008028577786</td>\n",
       "      <td>XBTG0322</td>\n",
       "      <td>OE196</td>\n",
       "      <td>WDOF20</td>\n",
       "      <td>CANCELED</td>\n",
       "      <td>744113538363</td>\n",
       "      <td>WA0000000000000000000000ABd6RvAAAAAAAC</td>\n",
       "      <td>1</td>\n",
       "      <td>BUY</td>\n",
       "      <td>4171.000000</td>\n",
       "      <td>IMMEDIATE_OR_CANCEL</td>\n",
       "      <td>1575569008026939598</td>\n",
       "      <td>1575569008028410721</td>\n",
       "    </tr>\n",
       "    <tr>\n",
       "      <th>...</th>\n",
       "      <td>...</td>\n",
       "      <td>...</td>\n",
       "      <td>...</td>\n",
       "      <td>...</td>\n",
       "      <td>...</td>\n",
       "      <td>...</td>\n",
       "      <td>...</td>\n",
       "      <td>...</td>\n",
       "      <td>...</td>\n",
       "      <td>...</td>\n",
       "      <td>...</td>\n",
       "      <td>...</td>\n",
       "      <td>...</td>\n",
       "    </tr>\n",
       "    <tr>\n",
       "      <th>81972</th>\n",
       "      <td>1575578244747103089</td>\n",
       "      <td>XBTG0337</td>\n",
       "      <td>OE209</td>\n",
       "      <td>WDOF20</td>\n",
       "      <td>ACCEPTED</td>\n",
       "      <td>744120146066</td>\n",
       "      <td>UP0000000000000000000000ABd6T/AAAACAAB</td>\n",
       "      <td>1</td>\n",
       "      <td>SELL</td>\n",
       "      <td>4194.500000</td>\n",
       "      <td>IMMEDIATE_OR_CANCEL</td>\n",
       "      <td>1575578244745820523</td>\n",
       "      <td>1575578244747103089</td>\n",
       "    </tr>\n",
       "    <tr>\n",
       "      <th>81973</th>\n",
       "      <td>1575578244747275275</td>\n",
       "      <td>XBTG0337</td>\n",
       "      <td>OE209</td>\n",
       "      <td>WDOF20</td>\n",
       "      <td>FILLED</td>\n",
       "      <td>744120146066</td>\n",
       "      <td>UP0000000000000000000000ABd6T/AAAACAAB</td>\n",
       "      <td>1</td>\n",
       "      <td>SELL</td>\n",
       "      <td>4194.500000</td>\n",
       "      <td>IMMEDIATE_OR_CANCEL</td>\n",
       "      <td>1575578244745820523</td>\n",
       "      <td>1575578244747103089</td>\n",
       "    </tr>\n",
       "    <tr>\n",
       "      <th>81974</th>\n",
       "      <td>1575578327133295006</td>\n",
       "      <td>XBTG0317</td>\n",
       "      <td>OE168</td>\n",
       "      <td>WDOF20</td>\n",
       "      <td>WAITING_ACCEPT</td>\n",
       "      <td>None</td>\n",
       "      <td>533506</td>\n",
       "      <td>1</td>\n",
       "      <td>BUY</td>\n",
       "      <td>4200.000000</td>\n",
       "      <td>DAY</td>\n",
       "      <td>1575578327133295006</td>\n",
       "      <td>0</td>\n",
       "    </tr>\n",
       "    <tr>\n",
       "      <th>81975</th>\n",
       "      <td>1575578327134940741</td>\n",
       "      <td>XBTG0317</td>\n",
       "      <td>OE168</td>\n",
       "      <td>WDOF20</td>\n",
       "      <td>ACCEPTED</td>\n",
       "      <td>744120206985</td>\n",
       "      <td>533506</td>\n",
       "      <td>1</td>\n",
       "      <td>BUY</td>\n",
       "      <td>4200.000000</td>\n",
       "      <td>DAY</td>\n",
       "      <td>1575578327133295006</td>\n",
       "      <td>1575578327134940741</td>\n",
       "    </tr>\n",
       "    <tr>\n",
       "      <th>81976</th>\n",
       "      <td>1575578327135109291</td>\n",
       "      <td>XBTG0317</td>\n",
       "      <td>OE168</td>\n",
       "      <td>WDOF20</td>\n",
       "      <td>FILLED</td>\n",
       "      <td>744120206985</td>\n",
       "      <td>533506</td>\n",
       "      <td>1</td>\n",
       "      <td>BUY</td>\n",
       "      <td>4200.000000</td>\n",
       "      <td>DAY</td>\n",
       "      <td>1575578327133295006</td>\n",
       "      <td>1575578327134940741</td>\n",
       "    </tr>\n",
       "  </tbody>\n",
       "</table>\n",
       "<p>81977 rows × 13 columns</p>\n",
       "</div>"
      ],
      "text/plain": [
       "                        ts sender_comp_id target_comp_id  symbol           state secondary_order_id                         client_order_id  order_qty  side       price        time_in_force           request_ts          response_ts\n",
       "0      1575568723341202380       XBTG0317          OE168  TF3Z99  WAITING_ACCEPT               None                                  223849          1   BUY  100.000000                  DAY  1575568723341202380                    0\n",
       "1      1575568723343035103       XBTG0317          OE168  TF3Z99        REJECTED               None                                  223849          1   BUY  100.000000                  DAY  1575568723341202380  1575568723343035103\n",
       "2      1575569008026939598       XBTG0322          OE196  WDOF20  WAITING_ACCEPT               None  WA0000000000000000000000ABd6RvAAAAAAAC          1   BUY 4171.000000  IMMEDIATE_OR_CANCEL  1575569008026939598                    0\n",
       "3      1575569008028410721       XBTG0322          OE196  WDOF20        ACCEPTED       744113538363  WA0000000000000000000000ABd6RvAAAAAAAC          1   BUY 4171.000000  IMMEDIATE_OR_CANCEL  1575569008026939598  1575569008028410721\n",
       "4      1575569008028577786       XBTG0322          OE196  WDOF20        CANCELED       744113538363  WA0000000000000000000000ABd6RvAAAAAAAC          1   BUY 4171.000000  IMMEDIATE_OR_CANCEL  1575569008026939598  1575569008028410721\n",
       "...                    ...            ...            ...     ...             ...                ...                                     ...        ...   ...         ...                  ...                  ...                  ...\n",
       "81972  1575578244747103089       XBTG0337          OE209  WDOF20        ACCEPTED       744120146066  UP0000000000000000000000ABd6T/AAAACAAB          1  SELL 4194.500000  IMMEDIATE_OR_CANCEL  1575578244745820523  1575578244747103089\n",
       "81973  1575578244747275275       XBTG0337          OE209  WDOF20          FILLED       744120146066  UP0000000000000000000000ABd6T/AAAACAAB          1  SELL 4194.500000  IMMEDIATE_OR_CANCEL  1575578244745820523  1575578244747103089\n",
       "81974  1575578327133295006       XBTG0317          OE168  WDOF20  WAITING_ACCEPT               None                                  533506          1   BUY 4200.000000                  DAY  1575578327133295006                    0\n",
       "81975  1575578327134940741       XBTG0317          OE168  WDOF20        ACCEPTED       744120206985                                  533506          1   BUY 4200.000000                  DAY  1575578327133295006  1575578327134940741\n",
       "81976  1575578327135109291       XBTG0317          OE168  WDOF20          FILLED       744120206985                                  533506          1   BUY 4200.000000                  DAY  1575578327133295006  1575578327134940741\n",
       "\n",
       "[81977 rows x 13 columns]"
      ]
     },
     "execution_count": 11,
     "metadata": {},
     "output_type": "execute_result"
    }
   ],
   "source": [
    "md"
   ]
  },
  {
   "cell_type": "code",
   "execution_count": 12,
   "metadata": {},
   "outputs": [],
   "source": [
    "trades = reader.get_parquet(symbol='WDOF20',\n",
    "                            date='2019-12-05',\n",
    "                            type_='trades')\n",
    "md_trades = trades.read().to_pandas()"
   ]
  },
  {
   "cell_type": "code",
   "execution_count": 13,
   "metadata": {},
   "outputs": [],
   "source": [
    "md_trades = md_trades.reset_index()"
   ]
  },
  {
   "cell_type": "code",
   "execution_count": 85,
   "metadata": {},
   "outputs": [],
   "source": [
    "md_incremental = reader.get_parquet(symbol='WDOF20',date='2019-12-06',type_='events')"
   ]
  },
  {
   "cell_type": "code",
   "execution_count": 86,
   "metadata": {},
   "outputs": [],
   "source": [
    "mini_dol = md_incremental['incremental'].read().to_pandas()"
   ]
  },
  {
   "cell_type": "code",
   "execution_count": 87,
   "metadata": {},
   "outputs": [],
   "source": [
    "mini_dol= mini_dol.dropna()"
   ]
  },
  {
   "cell_type": "code",
   "execution_count": 88,
   "metadata": {},
   "outputs": [],
   "source": [
    "mini_dol = mini_dol.reset_index()"
   ]
  },
  {
   "cell_type": "code",
   "execution_count": 89,
   "metadata": {},
   "outputs": [],
   "source": [
    "mini_dol['type'] = 'mini_inc'"
   ]
  },
  {
   "cell_type": "code",
   "execution_count": 90,
   "metadata": {},
   "outputs": [
    {
     "data": {
      "text/html": [
       "<div>\n",
       "<style scoped>\n",
       "    .dataframe tbody tr th:only-of-type {\n",
       "        vertical-align: middle;\n",
       "    }\n",
       "\n",
       "    .dataframe tbody tr th {\n",
       "        vertical-align: top;\n",
       "    }\n",
       "\n",
       "    .dataframe thead th {\n",
       "        text-align: right;\n",
       "    }\n",
       "</style>\n",
       "<table border=\"1\" class=\"dataframe\">\n",
       "  <thead>\n",
       "    <tr style=\"text-align: right;\">\n",
       "      <th></th>\n",
       "      <th>ts</th>\n",
       "      <th>id</th>\n",
       "      <th>msg_seq_num</th>\n",
       "      <th>symbol</th>\n",
       "      <th>event_type</th>\n",
       "      <th>side</th>\n",
       "      <th>position</th>\n",
       "      <th>order_id</th>\n",
       "      <th>broker</th>\n",
       "      <th>order_ts</th>\n",
       "      <th>price</th>\n",
       "      <th>quantity</th>\n",
       "      <th>status</th>\n",
       "      <th>i</th>\n",
       "      <th>type</th>\n",
       "    </tr>\n",
       "  </thead>\n",
       "  <tbody>\n",
       "    <tr>\n",
       "      <th>0</th>\n",
       "      <td>2019-12-06 11:55:01.234000+00:00</td>\n",
       "      <td>67327084</td>\n",
       "      <td>12896079</td>\n",
       "      <td>WDOF20</td>\n",
       "      <td>INSERT</td>\n",
       "      <td>B</td>\n",
       "      <td>1.000000</td>\n",
       "      <td>744121280689.000000</td>\n",
       "      <td>88.000000</td>\n",
       "      <td>11:55:01.234000</td>\n",
       "      <td>4150.000000</td>\n",
       "      <td>5.000000</td>\n",
       "      <td>None</td>\n",
       "      <td>5</td>\n",
       "      <td>mini_inc</td>\n",
       "    </tr>\n",
       "    <tr>\n",
       "      <th>1</th>\n",
       "      <td>2019-12-06 11:55:01.608000+00:00</td>\n",
       "      <td>67327085</td>\n",
       "      <td>12896080</td>\n",
       "      <td>WDOF20</td>\n",
       "      <td>INSERT</td>\n",
       "      <td>B</td>\n",
       "      <td>1.000000</td>\n",
       "      <td>744121280690.000000</td>\n",
       "      <td>88.000000</td>\n",
       "      <td>11:55:01.608000</td>\n",
       "      <td>4177.000000</td>\n",
       "      <td>2.000000</td>\n",
       "      <td>None</td>\n",
       "      <td>6</td>\n",
       "      <td>mini_inc</td>\n",
       "    </tr>\n",
       "    <tr>\n",
       "      <th>2</th>\n",
       "      <td>2019-12-06 11:55:02.454000+00:00</td>\n",
       "      <td>67327087</td>\n",
       "      <td>12896082</td>\n",
       "      <td>WDOF20</td>\n",
       "      <td>INSERT</td>\n",
       "      <td>B</td>\n",
       "      <td>3.000000</td>\n",
       "      <td>744121280692.000000</td>\n",
       "      <td>88.000000</td>\n",
       "      <td>11:55:02.453000</td>\n",
       "      <td>4133.000000</td>\n",
       "      <td>2.000000</td>\n",
       "      <td>None</td>\n",
       "      <td>7</td>\n",
       "      <td>mini_inc</td>\n",
       "    </tr>\n",
       "    <tr>\n",
       "      <th>3</th>\n",
       "      <td>2019-12-06 11:55:03.858000+00:00</td>\n",
       "      <td>67327088</td>\n",
       "      <td>12896083</td>\n",
       "      <td>WDOF20</td>\n",
       "      <td>INSERT</td>\n",
       "      <td>A</td>\n",
       "      <td>1.000000</td>\n",
       "      <td>744121280693.000000</td>\n",
       "      <td>386.000000</td>\n",
       "      <td>11:55:03.857000</td>\n",
       "      <td>4220.000000</td>\n",
       "      <td>1.000000</td>\n",
       "      <td>None</td>\n",
       "      <td>8</td>\n",
       "      <td>mini_inc</td>\n",
       "    </tr>\n",
       "    <tr>\n",
       "      <th>4</th>\n",
       "      <td>2019-12-06 11:55:05.795000+00:00</td>\n",
       "      <td>67327090</td>\n",
       "      <td>12896085</td>\n",
       "      <td>WDOF20</td>\n",
       "      <td>INSERT</td>\n",
       "      <td>B</td>\n",
       "      <td>1.000000</td>\n",
       "      <td>744121280694.000000</td>\n",
       "      <td>3.000000</td>\n",
       "      <td>11:55:05.795000</td>\n",
       "      <td>4178.000000</td>\n",
       "      <td>40.000000</td>\n",
       "      <td>None</td>\n",
       "      <td>9</td>\n",
       "      <td>mini_inc</td>\n",
       "    </tr>\n",
       "  </tbody>\n",
       "</table>\n",
       "</div>"
      ],
      "text/plain": [
       "                                ts        id  msg_seq_num  symbol event_type side  position            order_id     broker         order_ts       price  quantity status  i      type\n",
       "0 2019-12-06 11:55:01.234000+00:00  67327084     12896079  WDOF20     INSERT    B  1.000000 744121280689.000000  88.000000  11:55:01.234000 4150.000000  5.000000   None  5  mini_inc\n",
       "1 2019-12-06 11:55:01.608000+00:00  67327085     12896080  WDOF20     INSERT    B  1.000000 744121280690.000000  88.000000  11:55:01.608000 4177.000000  2.000000   None  6  mini_inc\n",
       "2 2019-12-06 11:55:02.454000+00:00  67327087     12896082  WDOF20     INSERT    B  3.000000 744121280692.000000  88.000000  11:55:02.453000 4133.000000  2.000000   None  7  mini_inc\n",
       "3 2019-12-06 11:55:03.858000+00:00  67327088     12896083  WDOF20     INSERT    A  1.000000 744121280693.000000 386.000000  11:55:03.857000 4220.000000  1.000000   None  8  mini_inc\n",
       "4 2019-12-06 11:55:05.795000+00:00  67327090     12896085  WDOF20     INSERT    B  1.000000 744121280694.000000   3.000000  11:55:05.795000 4178.000000 40.000000   None  9  mini_inc"
      ]
     },
     "execution_count": 90,
     "metadata": {},
     "output_type": "execute_result"
    }
   ],
   "source": [
    "mini_dol.head()"
   ]
  },
  {
   "cell_type": "code",
   "execution_count": 91,
   "metadata": {},
   "outputs": [],
   "source": [
    "mini_dol_snap = md_incremental['snapshot'].read().to_pandas()\n"
   ]
  },
  {
   "cell_type": "code",
   "execution_count": 92,
   "metadata": {},
   "outputs": [],
   "source": [
    "mini_dol_snap = mini_dol_snap.reset_index()"
   ]
  },
  {
   "cell_type": "code",
   "execution_count": 93,
   "metadata": {},
   "outputs": [],
   "source": [
    "mini_dol_snap['type'] = 'mini_snap'\n"
   ]
  },
  {
   "cell_type": "code",
   "execution_count": 94,
   "metadata": {},
   "outputs": [
    {
     "data": {
      "text/html": [
       "<div>\n",
       "<style scoped>\n",
       "    .dataframe tbody tr th:only-of-type {\n",
       "        vertical-align: middle;\n",
       "    }\n",
       "\n",
       "    .dataframe tbody tr th {\n",
       "        vertical-align: top;\n",
       "    }\n",
       "\n",
       "    .dataframe thead th {\n",
       "        text-align: right;\n",
       "    }\n",
       "</style>\n",
       "<table border=\"1\" class=\"dataframe\">\n",
       "  <thead>\n",
       "    <tr style=\"text-align: right;\">\n",
       "      <th></th>\n",
       "      <th>index</th>\n",
       "      <th>ts</th>\n",
       "      <th>msg_seq_num</th>\n",
       "      <th>symbol</th>\n",
       "      <th>side</th>\n",
       "      <th>position</th>\n",
       "      <th>order_id</th>\n",
       "      <th>broker</th>\n",
       "      <th>order_ts</th>\n",
       "      <th>price</th>\n",
       "      <th>quantity</th>\n",
       "      <th>type</th>\n",
       "    </tr>\n",
       "  </thead>\n",
       "  <tbody>\n",
       "  </tbody>\n",
       "</table>\n",
       "</div>"
      ],
      "text/plain": [
       "Empty DataFrame\n",
       "Columns: [index, ts, msg_seq_num, symbol, side, position, order_id, broker, order_ts, price, quantity, type]\n",
       "Index: []"
      ]
     },
     "execution_count": 94,
     "metadata": {},
     "output_type": "execute_result"
    }
   ],
   "source": [
    "mini_dol_snap.head()\n"
   ]
  },
  {
   "cell_type": "code",
   "execution_count": 95,
   "metadata": {},
   "outputs": [
    {
     "data": {
      "text/html": [
       "<div>\n",
       "<style scoped>\n",
       "    .dataframe tbody tr th:only-of-type {\n",
       "        vertical-align: middle;\n",
       "    }\n",
       "\n",
       "    .dataframe tbody tr th {\n",
       "        vertical-align: top;\n",
       "    }\n",
       "\n",
       "    .dataframe thead th {\n",
       "        text-align: right;\n",
       "    }\n",
       "</style>\n",
       "<table border=\"1\" class=\"dataframe\">\n",
       "  <thead>\n",
       "    <tr style=\"text-align: right;\">\n",
       "      <th></th>\n",
       "      <th>index</th>\n",
       "      <th>ts</th>\n",
       "      <th>msg_seq_num</th>\n",
       "      <th>symbol</th>\n",
       "      <th>side</th>\n",
       "      <th>position</th>\n",
       "      <th>order_id</th>\n",
       "      <th>broker</th>\n",
       "      <th>order_ts</th>\n",
       "      <th>price</th>\n",
       "      <th>quantity</th>\n",
       "      <th>type</th>\n",
       "    </tr>\n",
       "  </thead>\n",
       "  <tbody>\n",
       "  </tbody>\n",
       "</table>\n",
       "</div>"
      ],
      "text/plain": [
       "Empty DataFrame\n",
       "Columns: [index, ts, msg_seq_num, symbol, side, position, order_id, broker, order_ts, price, quantity, type]\n",
       "Index: []"
      ]
     },
     "execution_count": 95,
     "metadata": {},
     "output_type": "execute_result"
    }
   ],
   "source": [
    "mini_dol_snap.sort_values(by='order_ts', kind = 'mergesort').head()#['order_id']#.unique()#['order_id'].plot(style='-', figsize=(15,6))"
   ]
  },
  {
   "cell_type": "code",
   "execution_count": 96,
   "metadata": {},
   "outputs": [],
   "source": [
    "md_dol = reader.get_parquet(symbol='DOLF20',date='2019-12-06',type_='events')\n"
   ]
  },
  {
   "cell_type": "code",
   "execution_count": 97,
   "metadata": {},
   "outputs": [],
   "source": [
    "dol = md_dol['incremental'].read().to_pandas()"
   ]
  },
  {
   "cell_type": "code",
   "execution_count": 98,
   "metadata": {},
   "outputs": [],
   "source": [
    "dol = dol.dropna()"
   ]
  },
  {
   "cell_type": "code",
   "execution_count": 99,
   "metadata": {},
   "outputs": [],
   "source": [
    "dol = dol.reset_index()"
   ]
  },
  {
   "cell_type": "code",
   "execution_count": 100,
   "metadata": {},
   "outputs": [],
   "source": [
    "dol['type'] = 'dol'"
   ]
  },
  {
   "cell_type": "code",
   "execution_count": 101,
   "metadata": {},
   "outputs": [
    {
     "data": {
      "text/html": [
       "<div>\n",
       "<style scoped>\n",
       "    .dataframe tbody tr th:only-of-type {\n",
       "        vertical-align: middle;\n",
       "    }\n",
       "\n",
       "    .dataframe tbody tr th {\n",
       "        vertical-align: top;\n",
       "    }\n",
       "\n",
       "    .dataframe thead th {\n",
       "        text-align: right;\n",
       "    }\n",
       "</style>\n",
       "<table border=\"1\" class=\"dataframe\">\n",
       "  <thead>\n",
       "    <tr style=\"text-align: right;\">\n",
       "      <th></th>\n",
       "      <th>ts</th>\n",
       "      <th>id</th>\n",
       "      <th>msg_seq_num</th>\n",
       "      <th>symbol</th>\n",
       "      <th>event_type</th>\n",
       "      <th>side</th>\n",
       "      <th>position</th>\n",
       "      <th>order_id</th>\n",
       "      <th>broker</th>\n",
       "      <th>order_ts</th>\n",
       "      <th>price</th>\n",
       "      <th>quantity</th>\n",
       "      <th>status</th>\n",
       "      <th>i</th>\n",
       "      <th>type</th>\n",
       "    </tr>\n",
       "  </thead>\n",
       "  <tbody>\n",
       "    <tr>\n",
       "      <th>0</th>\n",
       "      <td>2019-12-06 11:55:00.153000+00:00</td>\n",
       "      <td>67327077</td>\n",
       "      <td>12896072</td>\n",
       "      <td>DOLF20</td>\n",
       "      <td>INSERT</td>\n",
       "      <td>A</td>\n",
       "      <td>1.000000</td>\n",
       "      <td>744121280681.000000</td>\n",
       "      <td>3.000000</td>\n",
       "      <td>11:55:00.153000</td>\n",
       "      <td>4200.000000</td>\n",
       "      <td>5.000000</td>\n",
       "      <td>None</td>\n",
       "      <td>4</td>\n",
       "      <td>dol</td>\n",
       "    </tr>\n",
       "    <tr>\n",
       "      <th>1</th>\n",
       "      <td>2019-12-06 11:55:00.226000+00:00</td>\n",
       "      <td>67327078</td>\n",
       "      <td>12896073</td>\n",
       "      <td>DOLF20</td>\n",
       "      <td>INSERT</td>\n",
       "      <td>A</td>\n",
       "      <td>2.000000</td>\n",
       "      <td>744121280682.000000</td>\n",
       "      <td>3.000000</td>\n",
       "      <td>11:55:00.225000</td>\n",
       "      <td>4203.000000</td>\n",
       "      <td>5.000000</td>\n",
       "      <td>None</td>\n",
       "      <td>5</td>\n",
       "      <td>dol</td>\n",
       "    </tr>\n",
       "    <tr>\n",
       "      <th>2</th>\n",
       "      <td>2019-12-06 11:55:00.245000+00:00</td>\n",
       "      <td>67327079</td>\n",
       "      <td>12896074</td>\n",
       "      <td>DOLF20</td>\n",
       "      <td>INSERT</td>\n",
       "      <td>A</td>\n",
       "      <td>3.000000</td>\n",
       "      <td>744121280683.000000</td>\n",
       "      <td>3.000000</td>\n",
       "      <td>11:55:00.244000</td>\n",
       "      <td>4205.000000</td>\n",
       "      <td>5.000000</td>\n",
       "      <td>None</td>\n",
       "      <td>6</td>\n",
       "      <td>dol</td>\n",
       "    </tr>\n",
       "    <tr>\n",
       "      <th>3</th>\n",
       "      <td>2019-12-06 11:55:00.272000+00:00</td>\n",
       "      <td>67327080</td>\n",
       "      <td>12896075</td>\n",
       "      <td>DOLF20</td>\n",
       "      <td>INSERT</td>\n",
       "      <td>A</td>\n",
       "      <td>1.000000</td>\n",
       "      <td>744121280684.000000</td>\n",
       "      <td>3.000000</td>\n",
       "      <td>11:55:00.272000</td>\n",
       "      <td>4175.000000</td>\n",
       "      <td>5.000000</td>\n",
       "      <td>None</td>\n",
       "      <td>7</td>\n",
       "      <td>dol</td>\n",
       "    </tr>\n",
       "    <tr>\n",
       "      <th>4</th>\n",
       "      <td>2019-12-06 11:55:00.282000+00:00</td>\n",
       "      <td>67327081</td>\n",
       "      <td>12896076</td>\n",
       "      <td>DOLF20</td>\n",
       "      <td>INSERT</td>\n",
       "      <td>B</td>\n",
       "      <td>1.000000</td>\n",
       "      <td>744121280685.000000</td>\n",
       "      <td>3.000000</td>\n",
       "      <td>11:55:00.282000</td>\n",
       "      <td>4170.000000</td>\n",
       "      <td>10.000000</td>\n",
       "      <td>None</td>\n",
       "      <td>8</td>\n",
       "      <td>dol</td>\n",
       "    </tr>\n",
       "  </tbody>\n",
       "</table>\n",
       "</div>"
      ],
      "text/plain": [
       "                                ts        id  msg_seq_num  symbol event_type side  position            order_id   broker         order_ts       price  quantity status  i type\n",
       "0 2019-12-06 11:55:00.153000+00:00  67327077     12896072  DOLF20     INSERT    A  1.000000 744121280681.000000 3.000000  11:55:00.153000 4200.000000  5.000000   None  4  dol\n",
       "1 2019-12-06 11:55:00.226000+00:00  67327078     12896073  DOLF20     INSERT    A  2.000000 744121280682.000000 3.000000  11:55:00.225000 4203.000000  5.000000   None  5  dol\n",
       "2 2019-12-06 11:55:00.245000+00:00  67327079     12896074  DOLF20     INSERT    A  3.000000 744121280683.000000 3.000000  11:55:00.244000 4205.000000  5.000000   None  6  dol\n",
       "3 2019-12-06 11:55:00.272000+00:00  67327080     12896075  DOLF20     INSERT    A  1.000000 744121280684.000000 3.000000  11:55:00.272000 4175.000000  5.000000   None  7  dol\n",
       "4 2019-12-06 11:55:00.282000+00:00  67327081     12896076  DOLF20     INSERT    B  1.000000 744121280685.000000 3.000000  11:55:00.282000 4170.000000 10.000000   None  8  dol"
      ]
     },
     "execution_count": 101,
     "metadata": {},
     "output_type": "execute_result"
    }
   ],
   "source": [
    "dol.head()"
   ]
  },
  {
   "cell_type": "code",
   "execution_count": 102,
   "metadata": {},
   "outputs": [
    {
     "data": {
      "text/html": [
       "<div>\n",
       "<style scoped>\n",
       "    .dataframe tbody tr th:only-of-type {\n",
       "        vertical-align: middle;\n",
       "    }\n",
       "\n",
       "    .dataframe tbody tr th {\n",
       "        vertical-align: top;\n",
       "    }\n",
       "\n",
       "    .dataframe thead th {\n",
       "        text-align: right;\n",
       "    }\n",
       "</style>\n",
       "<table border=\"1\" class=\"dataframe\">\n",
       "  <thead>\n",
       "    <tr style=\"text-align: right;\">\n",
       "      <th></th>\n",
       "      <th>ts_x</th>\n",
       "      <th>id_x</th>\n",
       "      <th>msg_seq_num_x</th>\n",
       "      <th>symbol_x</th>\n",
       "      <th>event_type_x</th>\n",
       "      <th>side_x</th>\n",
       "      <th>position_x</th>\n",
       "      <th>order_id</th>\n",
       "      <th>broker_x</th>\n",
       "      <th>order_ts_x</th>\n",
       "      <th>price_x</th>\n",
       "      <th>quantity_x</th>\n",
       "      <th>status_x</th>\n",
       "      <th>i_x</th>\n",
       "      <th>type_x</th>\n",
       "      <th>ts_y</th>\n",
       "      <th>id_y</th>\n",
       "      <th>msg_seq_num_y</th>\n",
       "      <th>symbol_y</th>\n",
       "      <th>event_type_y</th>\n",
       "      <th>side_y</th>\n",
       "      <th>position_y</th>\n",
       "      <th>broker_y</th>\n",
       "      <th>order_ts_y</th>\n",
       "      <th>price_y</th>\n",
       "      <th>quantity_y</th>\n",
       "      <th>status_y</th>\n",
       "      <th>i_y</th>\n",
       "      <th>type_y</th>\n",
       "    </tr>\n",
       "  </thead>\n",
       "  <tbody>\n",
       "  </tbody>\n",
       "</table>\n",
       "</div>"
      ],
      "text/plain": [
       "Empty DataFrame\n",
       "Columns: [ts_x, id_x, msg_seq_num_x, symbol_x, event_type_x, side_x, position_x, order_id, broker_x, order_ts_x, price_x, quantity_x, status_x, i_x, type_x, ts_y, id_y, msg_seq_num_y, symbol_y, event_type_y, side_y, position_y, broker_y, order_ts_y, price_y, quantity_y, status_y, i_y, type_y]\n",
       "Index: []"
      ]
     },
     "execution_count": 102,
     "metadata": {},
     "output_type": "execute_result"
    }
   ],
   "source": [
    "dol.merge(mini_dol, on ='order_id', how = 'inner')"
   ]
  },
  {
   "cell_type": "code",
   "execution_count": 34,
   "metadata": {},
   "outputs": [
    {
     "data": {
      "text/plain": [
       "<matplotlib.axes._subplots.AxesSubplot at 0x7f8b44951978>"
      ]
     },
     "execution_count": 34,
     "metadata": {},
     "output_type": "execute_result"
    },
    {
     "data": {
      "image/png": "[encoded data removed]",
      "text/plain": [
       "<Figure size 432x288 with 1 Axes>"
      ]
     },
     "metadata": {
      "needs_background": "light"
     },
     "output_type": "display_data"
    }
   ],
   "source": [
    "dol['order_id'].plot(style='.-')"
   ]
  },
  {
   "cell_type": "code",
   "execution_count": 103,
   "metadata": {},
   "outputs": [],
   "source": [
    "all_ = pd.concat([dol, mini_dol])"
   ]
  },
  {
   "cell_type": "code",
   "execution_count": 104,
   "metadata": {},
   "outputs": [],
   "source": [
    "sorted_ = all_.sort_values(by='msg_seq_num', kind = 'mergesort').reset_index()"
   ]
  },
  {
   "cell_type": "code",
   "execution_count": 105,
   "metadata": {},
   "outputs": [],
   "source": [
    "sorted_ = sorted_.drop(['index'], axis =1)"
   ]
  },
  {
   "cell_type": "code",
   "execution_count": 283,
   "metadata": {},
   "outputs": [
    {
     "data": {
      "text/plain": [
       "<matplotlib.axes._subplots.AxesSubplot at 0x7f54361fb550>"
      ]
     },
     "execution_count": 283,
     "metadata": {},
     "output_type": "execute_result"
    },
    {
     "data": {
      "image/png": "[encoded data removed]",
      "text/plain": [
       "<Figure size 432x288 with 1 Axes>"
      ]
     },
     "metadata": {
      "needs_background": "light"
     },
     "output_type": "display_data"
    }
   ],
   "source": [
    "sorted_['order_id'].plot(style='.-')"
   ]
  },
  {
   "cell_type": "code",
   "execution_count": 66,
   "metadata": {},
   "outputs": [
    {
     "data": {
      "text/plain": [
       "array(['INSERT', 'CHANGE'], dtype=object)"
      ]
     },
     "execution_count": 66,
     "metadata": {},
     "output_type": "execute_result"
    }
   ],
   "source": [
    "sorted_.event_type.unique()"
   ]
  },
  {
   "cell_type": "code",
   "execution_count": 39,
   "metadata": {},
   "outputs": [
    {
     "data": {
      "text/plain": [
       "CHANGE    1160860\n",
       "INSERT    1089495\n",
       "Name: event_type, dtype: int64"
      ]
     },
     "execution_count": 39,
     "metadata": {},
     "output_type": "execute_result"
    }
   ],
   "source": [
    "sorted_.event_type.value_counts() "
   ]
  },
  {
   "cell_type": "code",
   "execution_count": 106,
   "metadata": {},
   "outputs": [],
   "source": [
    "sorted2_ = sorted_ [sorted_['event_type'] != 'CHANGE'].reset_index()\n"
   ]
  },
  {
   "cell_type": "code",
   "execution_count": 107,
   "metadata": {},
   "outputs": [],
   "source": [
    "sorted2_['gap'] = sorted2_['order_id'] - sorted2_['order_id'].shift(1)"
   ]
  },
  {
   "cell_type": "code",
   "execution_count": 143,
   "metadata": {},
   "outputs": [
    {
     "data": {
      "text/html": [
       "<div>\n",
       "<style scoped>\n",
       "    .dataframe tbody tr th:only-of-type {\n",
       "        vertical-align: middle;\n",
       "    }\n",
       "\n",
       "    .dataframe tbody tr th {\n",
       "        vertical-align: top;\n",
       "    }\n",
       "\n",
       "    .dataframe thead th {\n",
       "        text-align: right;\n",
       "    }\n",
       "</style>\n",
       "<table border=\"1\" class=\"dataframe\">\n",
       "  <thead>\n",
       "    <tr style=\"text-align: right;\">\n",
       "      <th></th>\n",
       "      <th>index</th>\n",
       "      <th>ts</th>\n",
       "      <th>id</th>\n",
       "      <th>msg_seq_num</th>\n",
       "      <th>symbol</th>\n",
       "      <th>event_type</th>\n",
       "      <th>side</th>\n",
       "      <th>position</th>\n",
       "      <th>order_id</th>\n",
       "      <th>broker</th>\n",
       "      <th>order_ts</th>\n",
       "      <th>price</th>\n",
       "      <th>quantity</th>\n",
       "      <th>status</th>\n",
       "      <th>i</th>\n",
       "      <th>type</th>\n",
       "      <th>gap</th>\n",
       "    </tr>\n",
       "  </thead>\n",
       "  <tbody>\n",
       "    <tr>\n",
       "      <th>0</th>\n",
       "      <td>0</td>\n",
       "      <td>2019-12-06 11:55:00.153000+00:00</td>\n",
       "      <td>67327077</td>\n",
       "      <td>12896072</td>\n",
       "      <td>DOLF20</td>\n",
       "      <td>INSERT</td>\n",
       "      <td>A</td>\n",
       "      <td>1.000000</td>\n",
       "      <td>744121280681.000000</td>\n",
       "      <td>3.000000</td>\n",
       "      <td>11:55:00.153000</td>\n",
       "      <td>4200.000000</td>\n",
       "      <td>5.000000</td>\n",
       "      <td>None</td>\n",
       "      <td>4</td>\n",
       "      <td>dol</td>\n",
       "      <td>nan</td>\n",
       "    </tr>\n",
       "    <tr>\n",
       "      <th>1</th>\n",
       "      <td>1</td>\n",
       "      <td>2019-12-06 11:55:00.226000+00:00</td>\n",
       "      <td>67327078</td>\n",
       "      <td>12896073</td>\n",
       "      <td>DOLF20</td>\n",
       "      <td>INSERT</td>\n",
       "      <td>A</td>\n",
       "      <td>2.000000</td>\n",
       "      <td>744121280682.000000</td>\n",
       "      <td>3.000000</td>\n",
       "      <td>11:55:00.225000</td>\n",
       "      <td>4203.000000</td>\n",
       "      <td>5.000000</td>\n",
       "      <td>None</td>\n",
       "      <td>5</td>\n",
       "      <td>dol</td>\n",
       "      <td>1.000000</td>\n",
       "    </tr>\n",
       "    <tr>\n",
       "      <th>2</th>\n",
       "      <td>2</td>\n",
       "      <td>2019-12-06 11:55:00.245000+00:00</td>\n",
       "      <td>67327079</td>\n",
       "      <td>12896074</td>\n",
       "      <td>DOLF20</td>\n",
       "      <td>INSERT</td>\n",
       "      <td>A</td>\n",
       "      <td>3.000000</td>\n",
       "      <td>744121280683.000000</td>\n",
       "      <td>3.000000</td>\n",
       "      <td>11:55:00.244000</td>\n",
       "      <td>4205.000000</td>\n",
       "      <td>5.000000</td>\n",
       "      <td>None</td>\n",
       "      <td>6</td>\n",
       "      <td>dol</td>\n",
       "      <td>1.000000</td>\n",
       "    </tr>\n",
       "    <tr>\n",
       "      <th>3</th>\n",
       "      <td>3</td>\n",
       "      <td>2019-12-06 11:55:00.272000+00:00</td>\n",
       "      <td>67327080</td>\n",
       "      <td>12896075</td>\n",
       "      <td>DOLF20</td>\n",
       "      <td>INSERT</td>\n",
       "      <td>A</td>\n",
       "      <td>1.000000</td>\n",
       "      <td>744121280684.000000</td>\n",
       "      <td>3.000000</td>\n",
       "      <td>11:55:00.272000</td>\n",
       "      <td>4175.000000</td>\n",
       "      <td>5.000000</td>\n",
       "      <td>None</td>\n",
       "      <td>7</td>\n",
       "      <td>dol</td>\n",
       "      <td>1.000000</td>\n",
       "    </tr>\n",
       "    <tr>\n",
       "      <th>4</th>\n",
       "      <td>4</td>\n",
       "      <td>2019-12-06 11:55:00.282000+00:00</td>\n",
       "      <td>67327081</td>\n",
       "      <td>12896076</td>\n",
       "      <td>DOLF20</td>\n",
       "      <td>INSERT</td>\n",
       "      <td>B</td>\n",
       "      <td>1.000000</td>\n",
       "      <td>744121280685.000000</td>\n",
       "      <td>3.000000</td>\n",
       "      <td>11:55:00.282000</td>\n",
       "      <td>4170.000000</td>\n",
       "      <td>10.000000</td>\n",
       "      <td>None</td>\n",
       "      <td>8</td>\n",
       "      <td>dol</td>\n",
       "      <td>1.000000</td>\n",
       "    </tr>\n",
       "  </tbody>\n",
       "</table>\n",
       "</div>"
      ],
      "text/plain": [
       "   index                               ts        id  msg_seq_num  symbol event_type side  position            order_id   broker         order_ts       price  quantity status  i type      gap\n",
       "0      0 2019-12-06 11:55:00.153000+00:00  67327077     12896072  DOLF20     INSERT    A  1.000000 744121280681.000000 3.000000  11:55:00.153000 4200.000000  5.000000   None  4  dol      nan\n",
       "1      1 2019-12-06 11:55:00.226000+00:00  67327078     12896073  DOLF20     INSERT    A  2.000000 744121280682.000000 3.000000  11:55:00.225000 4203.000000  5.000000   None  5  dol 1.000000\n",
       "2      2 2019-12-06 11:55:00.245000+00:00  67327079     12896074  DOLF20     INSERT    A  3.000000 744121280683.000000 3.000000  11:55:00.244000 4205.000000  5.000000   None  6  dol 1.000000\n",
       "3      3 2019-12-06 11:55:00.272000+00:00  67327080     12896075  DOLF20     INSERT    A  1.000000 744121280684.000000 3.000000  11:55:00.272000 4175.000000  5.000000   None  7  dol 1.000000\n",
       "4      4 2019-12-06 11:55:00.282000+00:00  67327081     12896076  DOLF20     INSERT    B  1.000000 744121280685.000000 3.000000  11:55:00.282000 4170.000000 10.000000   None  8  dol 1.000000"
      ]
     },
     "execution_count": 143,
     "metadata": {},
     "output_type": "execute_result"
    }
   ],
   "source": [
    "sorted2_.head()"
   ]
  },
  {
   "cell_type": "code",
   "execution_count": 43,
   "metadata": {},
   "outputs": [],
   "source": [
    "df = sorted2_[sorted2_['gap'] < 0].reset_index()"
   ]
  },
  {
   "cell_type": "code",
   "execution_count": 44,
   "metadata": {},
   "outputs": [
    {
     "data": {
      "text/plain": [
       "(24, 17)"
      ]
     },
     "execution_count": 44,
     "metadata": {},
     "output_type": "execute_result"
    }
   ],
   "source": [
    "sorted2_[sorted2_['gap'] < 0].shape"
   ]
  },
  {
   "cell_type": "code",
   "execution_count": 57,
   "metadata": {},
   "outputs": [],
   "source": [
    "A=[]\n",
    "for i in range(0, 1100000, 10000):\n",
    "    A.append(i)"
   ]
  },
  {
   "cell_type": "code",
   "execution_count": 58,
   "metadata": {},
   "outputs": [
    {
     "ename": "KeyError",
     "evalue": "1090000",
     "output_type": "error",
     "traceback": [
      "\u001b[0;31m---------------------------------------------------------------------------\u001b[0m",
      "\u001b[0;31mValueError\u001b[0m                                Traceback (most recent call last)",
      "\u001b[0;32m~/.local/lib/python3.6/site-packages/pandas/core/indexes/range.py\u001b[0m in \u001b[0;36mget_loc\u001b[0;34m(self, key, method, tolerance)\u001b[0m\n\u001b[1;32m    375\u001b[0m             \u001b[0;32mtry\u001b[0m\u001b[0;34m:\u001b[0m\u001b[0;34m\u001b[0m\u001b[0;34m\u001b[0m\u001b[0m\n\u001b[0;32m--> 376\u001b[0;31m                 \u001b[0;32mreturn\u001b[0m \u001b[0mself\u001b[0m\u001b[0;34m.\u001b[0m\u001b[0m_range\u001b[0m\u001b[0;34m.\u001b[0m\u001b[0mindex\u001b[0m\u001b[0;34m(\u001b[0m\u001b[0mnew_key\u001b[0m\u001b[0;34m)\u001b[0m\u001b[0;34m\u001b[0m\u001b[0;34m\u001b[0m\u001b[0m\n\u001b[0m\u001b[1;32m    377\u001b[0m             \u001b[0;32mexcept\u001b[0m \u001b[0mValueError\u001b[0m\u001b[0;34m:\u001b[0m\u001b[0;34m\u001b[0m\u001b[0;34m\u001b[0m\u001b[0m\n",
      "\u001b[0;31mValueError\u001b[0m: 1090000 is not in range",
      "\nDuring handling of the above exception, another exception occurred:\n",
      "\u001b[0;31mKeyError\u001b[0m                                  Traceback (most recent call last)",
      "\u001b[0;32m<ipython-input-58-9b85e5266a90>\u001b[0m in \u001b[0;36m<module>\u001b[0;34m\u001b[0m\n\u001b[1;32m      2\u001b[0m \u001b[0;32mfor\u001b[0m \u001b[0mi\u001b[0m \u001b[0;32min\u001b[0m \u001b[0mrange\u001b[0m\u001b[0;34m(\u001b[0m\u001b[0mlen\u001b[0m\u001b[0;34m(\u001b[0m\u001b[0mA\u001b[0m\u001b[0;34m)\u001b[0m\u001b[0;34m)\u001b[0m\u001b[0;34m:\u001b[0m\u001b[0;34m\u001b[0m\u001b[0;34m\u001b[0m\u001b[0m\n\u001b[1;32m      3\u001b[0m     \u001b[0ma\u001b[0m\u001b[0;34m=\u001b[0m \u001b[0msorted2_\u001b[0m \u001b[0;34m[\u001b[0m\u001b[0msorted2_\u001b[0m\u001b[0;34m.\u001b[0m\u001b[0mgap\u001b[0m \u001b[0;34m==\u001b[0m\u001b[0;36m1\u001b[0m\u001b[0;34m]\u001b[0m\u001b[0;34m.\u001b[0m\u001b[0mloc\u001b[0m\u001b[0;34m[\u001b[0m\u001b[0mA\u001b[0m\u001b[0;34m[\u001b[0m\u001b[0mi\u001b[0m\u001b[0;34m]\u001b[0m\u001b[0;34m:\u001b[0m\u001b[0mA\u001b[0m\u001b[0;34m[\u001b[0m\u001b[0;36m1\u001b[0m\u001b[0;34m+\u001b[0m\u001b[0mi\u001b[0m\u001b[0;34m]\u001b[0m\u001b[0;34m]\u001b[0m\u001b[0;34m.\u001b[0m\u001b[0mshape\u001b[0m\u001b[0;34m[\u001b[0m\u001b[0;36m0\u001b[0m\u001b[0;34m]\u001b[0m\u001b[0;34m\u001b[0m\u001b[0;34m\u001b[0m\u001b[0m\n\u001b[0;32m----> 4\u001b[0;31m     \u001b[0mb\u001b[0m \u001b[0;34m=\u001b[0m \u001b[0;34m(\u001b[0m\u001b[0msorted2_\u001b[0m\u001b[0;34m.\u001b[0m\u001b[0mts\u001b[0m\u001b[0;34m[\u001b[0m\u001b[0mA\u001b[0m\u001b[0;34m[\u001b[0m\u001b[0;36m1\u001b[0m\u001b[0;34m+\u001b[0m\u001b[0mi\u001b[0m\u001b[0;34m]\u001b[0m\u001b[0;34m]\u001b[0m \u001b[0;34m-\u001b[0m \u001b[0msorted2_\u001b[0m\u001b[0;34m.\u001b[0m\u001b[0mts\u001b[0m\u001b[0;34m[\u001b[0m\u001b[0mA\u001b[0m\u001b[0;34m[\u001b[0m\u001b[0mi\u001b[0m\u001b[0;34m]\u001b[0m\u001b[0;34m]\u001b[0m\u001b[0;34m)\u001b[0m\u001b[0;34m.\u001b[0m\u001b[0mseconds\u001b[0m \u001b[0;34m+\u001b[0m \u001b[0;34m(\u001b[0m\u001b[0;34m(\u001b[0m\u001b[0msorted2_\u001b[0m\u001b[0;34m.\u001b[0m\u001b[0mts\u001b[0m\u001b[0;34m[\u001b[0m\u001b[0mA\u001b[0m\u001b[0;34m[\u001b[0m\u001b[0;36m1\u001b[0m\u001b[0;34m+\u001b[0m\u001b[0mi\u001b[0m\u001b[0;34m]\u001b[0m\u001b[0;34m]\u001b[0m \u001b[0;34m-\u001b[0m \u001b[0msorted2_\u001b[0m\u001b[0;34m.\u001b[0m\u001b[0mts\u001b[0m\u001b[0;34m[\u001b[0m\u001b[0mA\u001b[0m\u001b[0;34m[\u001b[0m\u001b[0mi\u001b[0m\u001b[0;34m]\u001b[0m\u001b[0;34m]\u001b[0m\u001b[0;34m)\u001b[0m\u001b[0;34m.\u001b[0m\u001b[0mmicroseconds\u001b[0m\u001b[0;34m)\u001b[0m\u001b[0;34m/\u001b[0m \u001b[0;34m(\u001b[0m\u001b[0;36m10\u001b[0m\u001b[0;34m**\u001b[0m\u001b[0;36m6\u001b[0m\u001b[0;34m)\u001b[0m\u001b[0;34m\u001b[0m\u001b[0;34m\u001b[0m\u001b[0m\n\u001b[0m\u001b[1;32m      5\u001b[0m     \u001b[0mc\u001b[0m\u001b[0;34m=\u001b[0m \u001b[0msorted2_\u001b[0m\u001b[0;34m.\u001b[0m\u001b[0morder_id\u001b[0m\u001b[0;34m[\u001b[0m\u001b[0mA\u001b[0m\u001b[0;34m[\u001b[0m\u001b[0;36m1\u001b[0m\u001b[0;34m+\u001b[0m\u001b[0mi\u001b[0m\u001b[0;34m]\u001b[0m\u001b[0;34m]\u001b[0m \u001b[0;34m-\u001b[0m \u001b[0msorted2_\u001b[0m\u001b[0;34m.\u001b[0m\u001b[0morder_id\u001b[0m\u001b[0;34m[\u001b[0m\u001b[0mA\u001b[0m\u001b[0;34m[\u001b[0m\u001b[0mi\u001b[0m\u001b[0;34m]\u001b[0m\u001b[0;34m]\u001b[0m\u001b[0;34m\u001b[0m\u001b[0;34m\u001b[0m\u001b[0m\n\u001b[1;32m      6\u001b[0m     \u001b[0mB\u001b[0m\u001b[0;34m.\u001b[0m\u001b[0mappend\u001b[0m\u001b[0;34m(\u001b[0m\u001b[0;34m(\u001b[0m\u001b[0mc\u001b[0m\u001b[0;34m-\u001b[0m\u001b[0ma\u001b[0m\u001b[0;34m)\u001b[0m\u001b[0;34m/\u001b[0m\u001b[0mb\u001b[0m\u001b[0;34m)\u001b[0m\u001b[0;34m\u001b[0m\u001b[0;34m\u001b[0m\u001b[0m\n",
      "\u001b[0;32m~/.local/lib/python3.6/site-packages/pandas/core/series.py\u001b[0m in \u001b[0;36m__getitem__\u001b[0;34m(self, key)\u001b[0m\n\u001b[1;32m   1069\u001b[0m         \u001b[0mkey\u001b[0m \u001b[0;34m=\u001b[0m \u001b[0mcom\u001b[0m\u001b[0;34m.\u001b[0m\u001b[0mapply_if_callable\u001b[0m\u001b[0;34m(\u001b[0m\u001b[0mkey\u001b[0m\u001b[0;34m,\u001b[0m \u001b[0mself\u001b[0m\u001b[0;34m)\u001b[0m\u001b[0;34m\u001b[0m\u001b[0;34m\u001b[0m\u001b[0m\n\u001b[1;32m   1070\u001b[0m         \u001b[0;32mtry\u001b[0m\u001b[0;34m:\u001b[0m\u001b[0;34m\u001b[0m\u001b[0;34m\u001b[0m\u001b[0m\n\u001b[0;32m-> 1071\u001b[0;31m             \u001b[0mresult\u001b[0m \u001b[0;34m=\u001b[0m \u001b[0mself\u001b[0m\u001b[0;34m.\u001b[0m\u001b[0mindex\u001b[0m\u001b[0;34m.\u001b[0m\u001b[0mget_value\u001b[0m\u001b[0;34m(\u001b[0m\u001b[0mself\u001b[0m\u001b[0;34m,\u001b[0m \u001b[0mkey\u001b[0m\u001b[0;34m)\u001b[0m\u001b[0;34m\u001b[0m\u001b[0;34m\u001b[0m\u001b[0m\n\u001b[0m\u001b[1;32m   1072\u001b[0m \u001b[0;34m\u001b[0m\u001b[0m\n\u001b[1;32m   1073\u001b[0m             \u001b[0;32mif\u001b[0m \u001b[0;32mnot\u001b[0m \u001b[0mis_scalar\u001b[0m\u001b[0;34m(\u001b[0m\u001b[0mresult\u001b[0m\u001b[0;34m)\u001b[0m\u001b[0;34m:\u001b[0m\u001b[0;34m\u001b[0m\u001b[0;34m\u001b[0m\u001b[0m\n",
      "\u001b[0;32m~/.local/lib/python3.6/site-packages/pandas/core/indexes/base.py\u001b[0m in \u001b[0;36mget_value\u001b[0;34m(self, series, key)\u001b[0m\n\u001b[1;32m   4715\u001b[0m             \u001b[0;31m# try that\u001b[0m\u001b[0;34m\u001b[0m\u001b[0;34m\u001b[0m\u001b[0;34m\u001b[0m\u001b[0m\n\u001b[1;32m   4716\u001b[0m             \u001b[0;32mtry\u001b[0m\u001b[0;34m:\u001b[0m\u001b[0;34m\u001b[0m\u001b[0;34m\u001b[0m\u001b[0m\n\u001b[0;32m-> 4717\u001b[0;31m                 \u001b[0miloc\u001b[0m \u001b[0;34m=\u001b[0m \u001b[0mself\u001b[0m\u001b[0;34m.\u001b[0m\u001b[0mget_loc\u001b[0m\u001b[0;34m(\u001b[0m\u001b[0mkey\u001b[0m\u001b[0;34m)\u001b[0m\u001b[0;34m\u001b[0m\u001b[0;34m\u001b[0m\u001b[0m\n\u001b[0m\u001b[1;32m   4718\u001b[0m                 \u001b[0;32mreturn\u001b[0m \u001b[0ms\u001b[0m\u001b[0;34m[\u001b[0m\u001b[0miloc\u001b[0m\u001b[0;34m]\u001b[0m\u001b[0;34m\u001b[0m\u001b[0;34m\u001b[0m\u001b[0m\n\u001b[1;32m   4719\u001b[0m             \u001b[0;32mexcept\u001b[0m \u001b[0mKeyError\u001b[0m\u001b[0;34m:\u001b[0m\u001b[0;34m\u001b[0m\u001b[0;34m\u001b[0m\u001b[0m\n",
      "\u001b[0;32m~/.local/lib/python3.6/site-packages/pandas/core/indexes/range.py\u001b[0m in \u001b[0;36mget_loc\u001b[0;34m(self, key, method, tolerance)\u001b[0m\n\u001b[1;32m    376\u001b[0m                 \u001b[0;32mreturn\u001b[0m \u001b[0mself\u001b[0m\u001b[0;34m.\u001b[0m\u001b[0m_range\u001b[0m\u001b[0;34m.\u001b[0m\u001b[0mindex\u001b[0m\u001b[0;34m(\u001b[0m\u001b[0mnew_key\u001b[0m\u001b[0;34m)\u001b[0m\u001b[0;34m\u001b[0m\u001b[0;34m\u001b[0m\u001b[0m\n\u001b[1;32m    377\u001b[0m             \u001b[0;32mexcept\u001b[0m \u001b[0mValueError\u001b[0m\u001b[0;34m:\u001b[0m\u001b[0;34m\u001b[0m\u001b[0;34m\u001b[0m\u001b[0m\n\u001b[0;32m--> 378\u001b[0;31m                 \u001b[0;32mraise\u001b[0m \u001b[0mKeyError\u001b[0m\u001b[0;34m(\u001b[0m\u001b[0mkey\u001b[0m\u001b[0;34m)\u001b[0m\u001b[0;34m\u001b[0m\u001b[0;34m\u001b[0m\u001b[0m\n\u001b[0m\u001b[1;32m    379\u001b[0m         \u001b[0;32mreturn\u001b[0m \u001b[0msuper\u001b[0m\u001b[0;34m(\u001b[0m\u001b[0;34m)\u001b[0m\u001b[0;34m.\u001b[0m\u001b[0mget_loc\u001b[0m\u001b[0;34m(\u001b[0m\u001b[0mkey\u001b[0m\u001b[0;34m,\u001b[0m \u001b[0mmethod\u001b[0m\u001b[0;34m=\u001b[0m\u001b[0mmethod\u001b[0m\u001b[0;34m,\u001b[0m \u001b[0mtolerance\u001b[0m\u001b[0;34m=\u001b[0m\u001b[0mtolerance\u001b[0m\u001b[0;34m)\u001b[0m\u001b[0;34m\u001b[0m\u001b[0;34m\u001b[0m\u001b[0m\n\u001b[1;32m    380\u001b[0m \u001b[0;34m\u001b[0m\u001b[0m\n",
      "\u001b[0;31mKeyError\u001b[0m: 1090000"
     ]
    }
   ],
   "source": [
    "B= []\n",
    "for i in range(len(A)):\n",
    "    a= sorted2_ [sorted2_.gap ==1].loc[A[i]:A[1+i]].shape[0]\n",
    "    b = (sorted2_.ts[A[1+i]] - sorted2_.ts[A[i]]).seconds + ((sorted2_.ts[A[1+i]] - sorted2_.ts[A[i]]).microseconds)/ (10**6)\n",
    "    c= sorted2_.order_id[A[1+i]] - sorted2_.order_id[A[i]]\n",
    "    B.append((c-a)/b)\n"
   ]
  },
  {
   "cell_type": "markdown",
   "metadata": {},
   "source": [
    "# Estimativa de players para intervalor de 1k\n"
   ]
  },
  {
   "cell_type": "code",
   "execution_count": 300,
   "metadata": {},
   "outputs": [
    {
     "data": {
      "text/plain": [
       "<matplotlib.axes._subplots.AxesSubplot at 0x7f5471c34710>"
      ]
     },
     "execution_count": 300,
     "metadata": {},
     "output_type": "execute_result"
    },
    {
     "data": {
      "image/png": "[encoded data removed]",
      "text/plain": [
       "<Figure size 432x288 with 1 Axes>"
      ]
     },
     "metadata": {
      "needs_background": "light"
     },
     "output_type": "display_data"
    },
    {
     "data": {
      "image/png": "[encoded data removed]",
      "text/plain": [
       "<Figure size 432x288 with 1 Axes>"
      ]
     },
     "metadata": {
      "needs_background": "light"
     },
     "output_type": "display_data"
    }
   ],
   "source": [
    "pd.DataFrame(B).rolling(window=5).mean().plot()\n",
    "pd.DataFrame(B).plot()"
   ]
  },
  {
   "cell_type": "code",
   "execution_count": 296,
   "metadata": {},
   "outputs": [
    {
     "data": {
      "text/plain": [
       "[<matplotlib.lines.Line2D at 0x7f5433f7a2e8>]"
      ]
     },
     "execution_count": 296,
     "metadata": {},
     "output_type": "execute_result"
    },
    {
     "data": {
      "image/png": "[encoded data removed]",
      "text/plain": [
       "<Figure size 432x288 with 1 Axes>"
      ]
     },
     "metadata": {
      "needs_background": "light"
     },
     "output_type": "display_data"
    }
   ],
   "source": [
    "plt.plot(B)\n",
    "plt.plot(B_m)"
   ]
  },
  {
   "cell_type": "code",
   "execution_count": 47,
   "metadata": {},
   "outputs": [
    {
     "data": {
      "text/plain": [
       "<matplotlib.axes._subplots.AxesSubplot at 0x7f85f77a7710>"
      ]
     },
     "execution_count": 47,
     "metadata": {},
     "output_type": "execute_result"
    },
    {
     "data": {
      "image/png": "[encoded data removed]",
      "text/plain": [
       "<Figure size 432x288 with 1 Axes>"
      ]
     },
     "metadata": {
      "needs_background": "light"
     },
     "output_type": "display_data"
    }
   ],
   "source": [
    "sns.kdeplot(B, shade=True)"
   ]
  },
  {
   "cell_type": "code",
   "execution_count": 50,
   "metadata": {},
   "outputs": [
    {
     "name": "stdout",
     "output_type": "stream",
     "text": [
      "0   739.616603\n",
      "dtype: float64 0   746.805112\n",
      "dtype: float64 0   215.927841\n",
      "dtype: float64\n"
     ]
    }
   ],
   "source": [
    "print(pd.DataFrame(B).mean(), pd.DataFrame(B).median(), pd.DataFrame(B).std())"
   ]
  },
  {
   "cell_type": "markdown",
   "metadata": {},
   "source": [
    "# Estimativa de players para intervalor de 5k\n"
   ]
  },
  {
   "cell_type": "code",
   "execution_count": 53,
   "metadata": {},
   "outputs": [
    {
     "data": {
      "text/plain": [
       "<matplotlib.axes._subplots.AxesSubplot at 0x7f85f6fa52e8>"
      ]
     },
     "execution_count": 53,
     "metadata": {},
     "output_type": "execute_result"
    },
    {
     "data": {
      "image/png": "[encoded data removed]",
      "text/plain": [
       "<Figure size 432x288 with 1 Axes>"
      ]
     },
     "metadata": {
      "needs_background": "light"
     },
     "output_type": "display_data"
    },
    {
     "data": {
      "image/png": "[encoded data removed]",
      "text/plain": [
       "<Figure size 432x288 with 1 Axes>"
      ]
     },
     "metadata": {
      "needs_background": "light"
     },
     "output_type": "display_data"
    }
   ],
   "source": [
    "pd.DataFrame(B).rolling(window=5).mean().plot()\n",
    "pd.DataFrame(B).plot()"
   ]
  },
  {
   "cell_type": "code",
   "execution_count": 54,
   "metadata": {},
   "outputs": [
    {
     "data": {
      "text/plain": [
       "[<matplotlib.lines.Line2D at 0x7f85f7050cf8>]"
      ]
     },
     "execution_count": 54,
     "metadata": {},
     "output_type": "execute_result"
    },
    {
     "data": {
      "image/png": "[encoded data removed]",
      "text/plain": [
       "<Figure size 432x288 with 1 Axes>"
      ]
     },
     "metadata": {
      "needs_background": "light"
     },
     "output_type": "display_data"
    }
   ],
   "source": [
    "plt.plot(B)\n",
    "plt.plot(pd.DataFrame(B).rolling(window=5).mean())"
   ]
  },
  {
   "cell_type": "code",
   "execution_count": 55,
   "metadata": {},
   "outputs": [
    {
     "data": {
      "text/plain": [
       "<matplotlib.axes._subplots.AxesSubplot at 0x7f85f6f2eef0>"
      ]
     },
     "execution_count": 55,
     "metadata": {},
     "output_type": "execute_result"
    },
    {
     "data": {
      "image/png": "[encoded data removed]",
      "text/plain": [
       "<Figure size 432x288 with 1 Axes>"
      ]
     },
     "metadata": {
      "needs_background": "light"
     },
     "output_type": "display_data"
    }
   ],
   "source": [
    "sns.kdeplot(B, shade=True)"
   ]
  },
  {
   "cell_type": "code",
   "execution_count": 56,
   "metadata": {},
   "outputs": [
    {
     "name": "stdout",
     "output_type": "stream",
     "text": [
      "0   721.200948\n",
      "dtype: float64 0   742.883883\n",
      "dtype: float64 0   176.166466\n",
      "dtype: float64\n"
     ]
    }
   ],
   "source": [
    "print(pd.DataFrame(B).mean(), pd.DataFrame(B).median(), pd.DataFrame(B).std())"
   ]
  },
  {
   "cell_type": "markdown",
   "metadata": {},
   "source": [
    "# Estimativa de players para intervalor de 10k\n"
   ]
  },
  {
   "cell_type": "code",
   "execution_count": 59,
   "metadata": {},
   "outputs": [
    {
     "data": {
      "text/plain": [
       "<matplotlib.axes._subplots.AxesSubplot at 0x7f85f6ed5da0>"
      ]
     },
     "execution_count": 59,
     "metadata": {},
     "output_type": "execute_result"
    },
    {
     "data": {
      "image/png": "[encoded data removed]",
      "text/plain": [
       "<Figure size 432x288 with 1 Axes>"
      ]
     },
     "metadata": {
      "needs_background": "light"
     },
     "output_type": "display_data"
    },
    {
     "data": {
      "image/png": "[encoded data removed]",
      "text/plain": [
       "<Figure size 432x288 with 1 Axes>"
      ]
     },
     "metadata": {
      "needs_background": "light"
     },
     "output_type": "display_data"
    }
   ],
   "source": [
    "pd.DataFrame(B).rolling(window=5).mean().plot()\n",
    "pd.DataFrame(B).plot()"
   ]
  },
  {
   "cell_type": "code",
   "execution_count": 62,
   "metadata": {},
   "outputs": [
    {
     "data": {
      "text/plain": [
       "[<matplotlib.lines.Line2D at 0x7f85f6d6e3c8>]"
      ]
     },
     "execution_count": 62,
     "metadata": {},
     "output_type": "execute_result"
    },
    {
     "data": {
      "image/png": "[encoded data removed]",
      "text/plain": [
       "<Figure size 432x288 with 1 Axes>"
      ]
     },
     "metadata": {
      "needs_background": "light"
     },
     "output_type": "display_data"
    }
   ],
   "source": [
    "plt.plot(B)\n",
    "plt.plot(pd.DataFrame(B).rolling(window=5).mean())\n"
   ]
  },
  {
   "cell_type": "code",
   "execution_count": 63,
   "metadata": {},
   "outputs": [
    {
     "data": {
      "text/plain": [
       "<matplotlib.axes._subplots.AxesSubplot at 0x7f85f6ce9c88>"
      ]
     },
     "execution_count": 63,
     "metadata": {},
     "output_type": "execute_result"
    },
    {
     "data": {
      "image/png": "[encoded data removed]",
      "text/plain": [
       "<Figure size 432x288 with 1 Axes>"
      ]
     },
     "metadata": {
      "needs_background": "light"
     },
     "output_type": "display_data"
    }
   ],
   "source": [
    "sns.kdeplot(B, shade=True)"
   ]
  },
  {
   "cell_type": "code",
   "execution_count": 64,
   "metadata": {},
   "outputs": [
    {
     "name": "stdout",
     "output_type": "stream",
     "text": [
      "0   712.775332\n",
      "dtype: float64 0   735.970297\n",
      "dtype: float64 0   161.357527\n",
      "dtype: float64\n"
     ]
    }
   ],
   "source": [
    "print(pd.DataFrame(B).mean(), pd.DataFrame(B).median(), pd.DataFrame(B).std())"
   ]
  },
  {
   "cell_type": "markdown",
   "metadata": {},
   "source": [
    "# OUTRA ANALISE"
   ]
  },
  {
   "cell_type": "code",
   "execution_count": 68,
   "metadata": {},
   "outputs": [
    {
     "data": {
      "text/plain": [
       "array(['INSERT'], dtype=object)"
      ]
     },
     "execution_count": 68,
     "metadata": {},
     "output_type": "execute_result"
    }
   ],
   "source": [
    "sorted2_.event_type.unique()"
   ]
  },
  {
   "cell_type": "code",
   "execution_count": 109,
   "metadata": {},
   "outputs": [],
   "source": [
    "dl = sorted2_[sorted2_['gap'] < 0].reset_index()"
   ]
  },
  {
   "cell_type": "code",
   "execution_count": 110,
   "metadata": {},
   "outputs": [
    {
     "data": {
      "text/html": [
       "<div>\n",
       "<style scoped>\n",
       "    .dataframe tbody tr th:only-of-type {\n",
       "        vertical-align: middle;\n",
       "    }\n",
       "\n",
       "    .dataframe tbody tr th {\n",
       "        vertical-align: top;\n",
       "    }\n",
       "\n",
       "    .dataframe thead th {\n",
       "        text-align: right;\n",
       "    }\n",
       "</style>\n",
       "<table border=\"1\" class=\"dataframe\">\n",
       "  <thead>\n",
       "    <tr style=\"text-align: right;\">\n",
       "      <th></th>\n",
       "      <th>level_0</th>\n",
       "      <th>index</th>\n",
       "      <th>ts</th>\n",
       "      <th>id</th>\n",
       "      <th>msg_seq_num</th>\n",
       "      <th>symbol</th>\n",
       "      <th>event_type</th>\n",
       "      <th>side</th>\n",
       "      <th>position</th>\n",
       "      <th>order_id</th>\n",
       "      <th>broker</th>\n",
       "      <th>order_ts</th>\n",
       "      <th>price</th>\n",
       "      <th>quantity</th>\n",
       "      <th>status</th>\n",
       "      <th>i</th>\n",
       "      <th>type</th>\n",
       "      <th>gap</th>\n",
       "    </tr>\n",
       "  </thead>\n",
       "  <tbody>\n",
       "    <tr>\n",
       "      <th>0</th>\n",
       "      <td>2801</td>\n",
       "      <td>2847</td>\n",
       "      <td>2019-12-06 12:00:49.179000+00:00</td>\n",
       "      <td>67330784</td>\n",
       "      <td>12899448</td>\n",
       "      <td>WDOF20</td>\n",
       "      <td>INSERT</td>\n",
       "      <td>B</td>\n",
       "      <td>1.000000</td>\n",
       "      <td>744121284091.000000</td>\n",
       "      <td>120.000000</td>\n",
       "      <td>12:00:49.178000</td>\n",
       "      <td>4185.000000</td>\n",
       "      <td>8.000000</td>\n",
       "      <td>None</td>\n",
       "      <td>2690</td>\n",
       "      <td>mini_inc</td>\n",
       "      <td>-5.000000</td>\n",
       "    </tr>\n",
       "    <tr>\n",
       "      <th>1</th>\n",
       "      <td>24521</td>\n",
       "      <td>35361</td>\n",
       "      <td>2019-12-06 12:05:11.022000+00:00</td>\n",
       "      <td>67377619</td>\n",
       "      <td>12941217</td>\n",
       "      <td>DOLF20</td>\n",
       "      <td>INSERT</td>\n",
       "      <td>B</td>\n",
       "      <td>1.000000</td>\n",
       "      <td>744121332671.000000</td>\n",
       "      <td>120.000000</td>\n",
       "      <td>12:05:11.022000</td>\n",
       "      <td>4192.500000</td>\n",
       "      <td>40.000000</td>\n",
       "      <td>None</td>\n",
       "      <td>8198</td>\n",
       "      <td>dol</td>\n",
       "      <td>-78819.000000</td>\n",
       "    </tr>\n",
       "    <tr>\n",
       "      <th>2</th>\n",
       "      <td>30153</td>\n",
       "      <td>43817</td>\n",
       "      <td>2019-12-06 12:06:17.504000+00:00</td>\n",
       "      <td>67389807</td>\n",
       "      <td>12952310</td>\n",
       "      <td>DOLF20</td>\n",
       "      <td>INSERT</td>\n",
       "      <td>B</td>\n",
       "      <td>1.000000</td>\n",
       "      <td>744121311466.000000</td>\n",
       "      <td>120.000000</td>\n",
       "      <td>12:06:17.504000</td>\n",
       "      <td>4193.000000</td>\n",
       "      <td>160.000000</td>\n",
       "      <td>None</td>\n",
       "      <td>9299</td>\n",
       "      <td>dol</td>\n",
       "      <td>-144394.000000</td>\n",
       "    </tr>\n",
       "    <tr>\n",
       "      <th>3</th>\n",
       "      <td>110503</td>\n",
       "      <td>190191</td>\n",
       "      <td>2019-12-06 12:34:32.853000+00:00</td>\n",
       "      <td>67602649</td>\n",
       "      <td>13148306</td>\n",
       "      <td>WDOF20</td>\n",
       "      <td>INSERT</td>\n",
       "      <td>A</td>\n",
       "      <td>1.000000</td>\n",
       "      <td>744122444699.000000</td>\n",
       "      <td>120.000000</td>\n",
       "      <td>12:34:32.851000</td>\n",
       "      <td>4187.500000</td>\n",
       "      <td>1.000000</td>\n",
       "      <td>None</td>\n",
       "      <td>240435</td>\n",
       "      <td>mini_inc</td>\n",
       "      <td>-5817.000000</td>\n",
       "    </tr>\n",
       "    <tr>\n",
       "      <th>4</th>\n",
       "      <td>110505</td>\n",
       "      <td>190194</td>\n",
       "      <td>2019-12-06 12:34:32.853000+00:00</td>\n",
       "      <td>67602654</td>\n",
       "      <td>13148308</td>\n",
       "      <td>WDOF20</td>\n",
       "      <td>INSERT</td>\n",
       "      <td>A</td>\n",
       "      <td>2.000000</td>\n",
       "      <td>744122319989.000000</td>\n",
       "      <td>120.000000</td>\n",
       "      <td>12:34:32.852000</td>\n",
       "      <td>4187.000000</td>\n",
       "      <td>1.000000</td>\n",
       "      <td>None</td>\n",
       "      <td>240440</td>\n",
       "      <td>mini_inc</td>\n",
       "      <td>-127499.000000</td>\n",
       "    </tr>\n",
       "  </tbody>\n",
       "</table>\n",
       "</div>"
      ],
      "text/plain": [
       "   level_0   index                               ts        id  msg_seq_num  symbol event_type side  position            order_id     broker         order_ts       price   quantity status       i      type            gap\n",
       "0     2801    2847 2019-12-06 12:00:49.179000+00:00  67330784     12899448  WDOF20     INSERT    B  1.000000 744121284091.000000 120.000000  12:00:49.178000 4185.000000   8.000000   None    2690  mini_inc      -5.000000\n",
       "1    24521   35361 2019-12-06 12:05:11.022000+00:00  67377619     12941217  DOLF20     INSERT    B  1.000000 744121332671.000000 120.000000  12:05:11.022000 4192.500000  40.000000   None    8198       dol  -78819.000000\n",
       "2    30153   43817 2019-12-06 12:06:17.504000+00:00  67389807     12952310  DOLF20     INSERT    B  1.000000 744121311466.000000 120.000000  12:06:17.504000 4193.000000 160.000000   None    9299       dol -144394.000000\n",
       "3   110503  190191 2019-12-06 12:34:32.853000+00:00  67602649     13148306  WDOF20     INSERT    A  1.000000 744122444699.000000 120.000000  12:34:32.851000 4187.500000   1.000000   None  240435  mini_inc   -5817.000000\n",
       "4   110505  190194 2019-12-06 12:34:32.853000+00:00  67602654     13148308  WDOF20     INSERT    A  2.000000 744122319989.000000 120.000000  12:34:32.852000 4187.000000   1.000000   None  240440  mini_inc -127499.000000"
      ]
     },
     "execution_count": 110,
     "metadata": {},
     "output_type": "execute_result"
    }
   ],
   "source": [
    "dl.head()"
   ]
  },
  {
   "cell_type": "code",
   "execution_count": 111,
   "metadata": {},
   "outputs": [],
   "source": [
    "dh = dl [['msg_seq_num', 'symbol', 'order_id', 'ts'] ]"
   ]
  },
  {
   "cell_type": "code",
   "execution_count": 113,
   "metadata": {},
   "outputs": [],
   "source": [
    "con = pd.concat([dh,df])"
   ]
  },
  {
   "cell_type": "code",
   "execution_count": 116,
   "metadata": {},
   "outputs": [],
   "source": [
    "con.to_csv('negative_order_id', sep = ',', header = True, index = False)"
   ]
  },
  {
   "cell_type": "code",
   "execution_count": 144,
   "metadata": {},
   "outputs": [],
   "source": [
    "sorted2_.to_csv('dataframe.csv', sep = ',', header = True, index = False)"
   ]
  },
  {
   "cell_type": "code",
   "execution_count": 76,
   "metadata": {},
   "outputs": [],
   "source": [
    "to_csv('allsymbols.csv', sep = ',', header = True, index = False)"
   ]
  },
  {
   "cell_type": "code",
   "execution_count": 81,
   "metadata": {},
   "outputs": [
    {
     "data": {
      "text/html": [
       "<div>\n",
       "<style scoped>\n",
       "    .dataframe tbody tr th:only-of-type {\n",
       "        vertical-align: middle;\n",
       "    }\n",
       "\n",
       "    .dataframe tbody tr th {\n",
       "        vertical-align: top;\n",
       "    }\n",
       "\n",
       "    .dataframe thead th {\n",
       "        text-align: right;\n",
       "    }\n",
       "</style>\n",
       "<table border=\"1\" class=\"dataframe\">\n",
       "  <thead>\n",
       "    <tr style=\"text-align: right;\">\n",
       "      <th></th>\n",
       "      <th>msg_seq_num</th>\n",
       "      <th>symbol</th>\n",
       "      <th>order_id</th>\n",
       "      <th>ts</th>\n",
       "    </tr>\n",
       "  </thead>\n",
       "  <tbody>\n",
       "    <tr>\n",
       "      <th>0</th>\n",
       "      <td>9800110</td>\n",
       "      <td>DOLF20</td>\n",
       "      <td>744098397282.000000</td>\n",
       "      <td>2019-12-05 12:21:38.613000+00:00</td>\n",
       "    </tr>\n",
       "    <tr>\n",
       "      <th>1</th>\n",
       "      <td>9937050</td>\n",
       "      <td>WDOF20</td>\n",
       "      <td>744098755954.000000</td>\n",
       "      <td>2019-12-05 12:32:36.202000+00:00</td>\n",
       "    </tr>\n",
       "    <tr>\n",
       "      <th>2</th>\n",
       "      <td>10140010</td>\n",
       "      <td>DOLF20</td>\n",
       "      <td>744099472308.000000</td>\n",
       "      <td>2019-12-05 12:58:05.929000+00:00</td>\n",
       "    </tr>\n",
       "    <tr>\n",
       "      <th>3</th>\n",
       "      <td>10160864</td>\n",
       "      <td>WDOF20</td>\n",
       "      <td>744099540237.000000</td>\n",
       "      <td>2019-12-05 13:00:15.645000+00:00</td>\n",
       "    </tr>\n",
       "    <tr>\n",
       "      <th>4</th>\n",
       "      <td>10212245</td>\n",
       "      <td>DOLF20</td>\n",
       "      <td>744099803821.000000</td>\n",
       "      <td>2019-12-05 13:06:53.518000+00:00</td>\n",
       "    </tr>\n",
       "  </tbody>\n",
       "</table>\n",
       "</div>"
      ],
      "text/plain": [
       "   msg_seq_num  symbol            order_id                               ts\n",
       "0      9800110  DOLF20 744098397282.000000 2019-12-05 12:21:38.613000+00:00\n",
       "1      9937050  WDOF20 744098755954.000000 2019-12-05 12:32:36.202000+00:00\n",
       "2     10140010  DOLF20 744099472308.000000 2019-12-05 12:58:05.929000+00:00\n",
       "3     10160864  WDOF20 744099540237.000000 2019-12-05 13:00:15.645000+00:00\n",
       "4     10212245  DOLF20 744099803821.000000 2019-12-05 13:06:53.518000+00:00"
      ]
     },
     "execution_count": 81,
     "metadata": {},
     "output_type": "execute_result"
    }
   ],
   "source": [
    "df.head()"
   ]
  },
  {
   "cell_type": "code",
   "execution_count": null,
   "metadata": {},
   "outputs": [],
   "source": [
    "dl = sorted2_[sorted2_['gap'] > 0].reset_index()"
   ]
  },
  {
   "cell_type": "code",
   "execution_count": 132,
   "metadata": {},
   "outputs": [],
   "source": [
    "sorted3_ = sorted_ #[sorted_['event_type'] != 'CHANGE'].reset_index()\n"
   ]
  },
  {
   "cell_type": "code",
   "execution_count": 139,
   "metadata": {},
   "outputs": [
    {
     "data": {
      "text/html": [
       "<div>\n",
       "<style scoped>\n",
       "    .dataframe tbody tr th:only-of-type {\n",
       "        vertical-align: middle;\n",
       "    }\n",
       "\n",
       "    .dataframe tbody tr th {\n",
       "        vertical-align: top;\n",
       "    }\n",
       "\n",
       "    .dataframe thead th {\n",
       "        text-align: right;\n",
       "    }\n",
       "</style>\n",
       "<table border=\"1\" class=\"dataframe\">\n",
       "  <thead>\n",
       "    <tr style=\"text-align: right;\">\n",
       "      <th></th>\n",
       "      <th>index</th>\n",
       "      <th>ts</th>\n",
       "      <th>id</th>\n",
       "      <th>msg_seq_num</th>\n",
       "      <th>symbol</th>\n",
       "      <th>event_type</th>\n",
       "      <th>side</th>\n",
       "      <th>position</th>\n",
       "      <th>order_id</th>\n",
       "      <th>broker</th>\n",
       "      <th>order_ts</th>\n",
       "      <th>price</th>\n",
       "      <th>quantity</th>\n",
       "      <th>status</th>\n",
       "      <th>i</th>\n",
       "      <th>type</th>\n",
       "      <th>gap</th>\n",
       "    </tr>\n",
       "  </thead>\n",
       "  <tbody>\n",
       "    <tr>\n",
       "      <th>0</th>\n",
       "      <td>410</td>\n",
       "      <td>2019-12-06 11:56:03.082000+00:00</td>\n",
       "      <td>67327510</td>\n",
       "      <td>12896499</td>\n",
       "      <td>WDOF20</td>\n",
       "      <td>CHANGE</td>\n",
       "      <td>A</td>\n",
       "      <td>213.000000</td>\n",
       "      <td>744121281116.000000</td>\n",
       "      <td>1982.000000</td>\n",
       "      <td>11:56:03.081000</td>\n",
       "      <td>4353.000000</td>\n",
       "      <td>1.000000</td>\n",
       "      <td>None</td>\n",
       "      <td>424</td>\n",
       "      <td>mini_inc</td>\n",
       "      <td>1.000000</td>\n",
       "    </tr>\n",
       "    <tr>\n",
       "      <th>1</th>\n",
       "      <td>747</td>\n",
       "      <td>2019-12-06 11:57:31.282000+00:00</td>\n",
       "      <td>67327938</td>\n",
       "      <td>12896900</td>\n",
       "      <td>WDOF20</td>\n",
       "      <td>CHANGE</td>\n",
       "      <td>A</td>\n",
       "      <td>23.000000</td>\n",
       "      <td>744121281519.000000</td>\n",
       "      <td>3.000000</td>\n",
       "      <td>11:57:31.281000</td>\n",
       "      <td>4189.000000</td>\n",
       "      <td>20.000000</td>\n",
       "      <td>None</td>\n",
       "      <td>769</td>\n",
       "      <td>mini_inc</td>\n",
       "      <td>1.000000</td>\n",
       "    </tr>\n",
       "    <tr>\n",
       "      <th>2</th>\n",
       "      <td>1151</td>\n",
       "      <td>2019-12-06 11:59:05.499000+00:00</td>\n",
       "      <td>67328443</td>\n",
       "      <td>12897375</td>\n",
       "      <td>WDOF20</td>\n",
       "      <td>CHANGE</td>\n",
       "      <td>B</td>\n",
       "      <td>370.000000</td>\n",
       "      <td>744121282008.000000</td>\n",
       "      <td>308.000000</td>\n",
       "      <td>11:59:05.498000</td>\n",
       "      <td>4157.000000</td>\n",
       "      <td>2.000000</td>\n",
       "      <td>None</td>\n",
       "      <td>1232</td>\n",
       "      <td>mini_inc</td>\n",
       "      <td>1.000000</td>\n",
       "    </tr>\n",
       "    <tr>\n",
       "      <th>3</th>\n",
       "      <td>1216</td>\n",
       "      <td>2019-12-06 11:59:22.790000+00:00</td>\n",
       "      <td>67328536</td>\n",
       "      <td>12897457</td>\n",
       "      <td>WDOF20</td>\n",
       "      <td>CHANGE</td>\n",
       "      <td>B</td>\n",
       "      <td>56.000000</td>\n",
       "      <td>744121282094.000000</td>\n",
       "      <td>88.000000</td>\n",
       "      <td>11:59:22.790000</td>\n",
       "      <td>4189.000000</td>\n",
       "      <td>1.000000</td>\n",
       "      <td>None</td>\n",
       "      <td>1315</td>\n",
       "      <td>mini_inc</td>\n",
       "      <td>1.000000</td>\n",
       "    </tr>\n",
       "    <tr>\n",
       "      <th>4</th>\n",
       "      <td>1559</td>\n",
       "      <td>2019-12-06 12:00:12.968000+00:00</td>\n",
       "      <td>67329109</td>\n",
       "      <td>12897873</td>\n",
       "      <td>WDOF20</td>\n",
       "      <td>CHANGE</td>\n",
       "      <td>A</td>\n",
       "      <td>91.000000</td>\n",
       "      <td>744121282485.000000</td>\n",
       "      <td>3.000000</td>\n",
       "      <td>12:00:12.968000</td>\n",
       "      <td>4190.000000</td>\n",
       "      <td>1.000000</td>\n",
       "      <td>None</td>\n",
       "      <td>1672</td>\n",
       "      <td>mini_inc</td>\n",
       "      <td>1.000000</td>\n",
       "    </tr>\n",
       "  </tbody>\n",
       "</table>\n",
       "</div>"
      ],
      "text/plain": [
       "   index                               ts        id  msg_seq_num  symbol event_type side   position            order_id      broker         order_ts       price  quantity status     i      type      gap\n",
       "0    410 2019-12-06 11:56:03.082000+00:00  67327510     12896499  WDOF20     CHANGE    A 213.000000 744121281116.000000 1982.000000  11:56:03.081000 4353.000000  1.000000   None   424  mini_inc 1.000000\n",
       "1    747 2019-12-06 11:57:31.282000+00:00  67327938     12896900  WDOF20     CHANGE    A  23.000000 744121281519.000000    3.000000  11:57:31.281000 4189.000000 20.000000   None   769  mini_inc 1.000000\n",
       "2   1151 2019-12-06 11:59:05.499000+00:00  67328443     12897375  WDOF20     CHANGE    B 370.000000 744121282008.000000  308.000000  11:59:05.498000 4157.000000  2.000000   None  1232  mini_inc 1.000000\n",
       "3   1216 2019-12-06 11:59:22.790000+00:00  67328536     12897457  WDOF20     CHANGE    B  56.000000 744121282094.000000   88.000000  11:59:22.790000 4189.000000  1.000000   None  1315  mini_inc 1.000000\n",
       "4   1559 2019-12-06 12:00:12.968000+00:00  67329109     12897873  WDOF20     CHANGE    A  91.000000 744121282485.000000    3.000000  12:00:12.968000 4190.000000  1.000000   None  1672  mini_inc 1.000000"
      ]
     },
     "execution_count": 139,
     "metadata": {},
     "output_type": "execute_result"
    }
   ],
   "source": [
    "sorted3_.head()"
   ]
  },
  {
   "cell_type": "code",
   "execution_count": 133,
   "metadata": {},
   "outputs": [],
   "source": [
    "sorted3_['gap'] = sorted3_['order_id'] - sorted3_['order_id'].shift(1)"
   ]
  },
  {
   "cell_type": "code",
   "execution_count": 134,
   "metadata": {},
   "outputs": [],
   "source": [
    "sorted3_ = sorted3_ [sorted3_['event_type'] == 'CHANGE'].reset_index()\n"
   ]
  },
  {
   "cell_type": "code",
   "execution_count": 135,
   "metadata": {},
   "outputs": [],
   "source": [
    "sorted3_ = sorted3_ [sorted3_['gap'] >= 1]"
   ]
  },
  {
   "cell_type": "code",
   "execution_count": 142,
   "metadata": {},
   "outputs": [
    {
     "data": {
      "text/html": [
       "<div>\n",
       "<style scoped>\n",
       "    .dataframe tbody tr th:only-of-type {\n",
       "        vertical-align: middle;\n",
       "    }\n",
       "\n",
       "    .dataframe tbody tr th {\n",
       "        vertical-align: top;\n",
       "    }\n",
       "\n",
       "    .dataframe thead th {\n",
       "        text-align: right;\n",
       "    }\n",
       "</style>\n",
       "<table border=\"1\" class=\"dataframe\">\n",
       "  <thead>\n",
       "    <tr style=\"text-align: right;\">\n",
       "      <th></th>\n",
       "      <th>ts</th>\n",
       "      <th>id</th>\n",
       "      <th>msg_seq_num</th>\n",
       "      <th>symbol</th>\n",
       "      <th>event_type</th>\n",
       "      <th>side</th>\n",
       "      <th>position</th>\n",
       "      <th>order_id</th>\n",
       "      <th>broker</th>\n",
       "      <th>order_ts</th>\n",
       "      <th>price</th>\n",
       "      <th>quantity</th>\n",
       "      <th>status</th>\n",
       "      <th>i</th>\n",
       "      <th>type</th>\n",
       "      <th>gap</th>\n",
       "    </tr>\n",
       "  </thead>\n",
       "  <tbody>\n",
       "    <tr>\n",
       "      <th>2834</th>\n",
       "      <td>2019-12-06 12:00:49.102000+00:00</td>\n",
       "      <td>67330766</td>\n",
       "      <td>12899431</td>\n",
       "      <td>WDOF20</td>\n",
       "      <td>INSERT</td>\n",
       "      <td>A</td>\n",
       "      <td>2.000000</td>\n",
       "      <td>744121284067.000000</td>\n",
       "      <td>308.000000</td>\n",
       "      <td>12:00:49.102000</td>\n",
       "      <td>4185.500000</td>\n",
       "      <td>5.000000</td>\n",
       "      <td>None</td>\n",
       "      <td>2674</td>\n",
       "      <td>mini_inc</td>\n",
       "      <td>1.000000</td>\n",
       "    </tr>\n",
       "    <tr>\n",
       "      <th>2835</th>\n",
       "      <td>2019-12-06 12:00:49.105000+00:00</td>\n",
       "      <td>67330767</td>\n",
       "      <td>12899432</td>\n",
       "      <td>WDOF20</td>\n",
       "      <td>CHANGE</td>\n",
       "      <td>A</td>\n",
       "      <td>16.000000</td>\n",
       "      <td>744121284068.000000</td>\n",
       "      <td>386.000000</td>\n",
       "      <td>12:00:49.105000</td>\n",
       "      <td>4186.000000</td>\n",
       "      <td>18.000000</td>\n",
       "      <td>None</td>\n",
       "      <td>2675</td>\n",
       "      <td>mini_inc</td>\n",
       "      <td>1.000000</td>\n",
       "    </tr>\n",
       "    <tr>\n",
       "      <th>2836</th>\n",
       "      <td>2019-12-06 12:00:49.108000+00:00</td>\n",
       "      <td>67330768</td>\n",
       "      <td>12899433</td>\n",
       "      <td>WDOF20</td>\n",
       "      <td>CHANGE</td>\n",
       "      <td>A</td>\n",
       "      <td>395.000000</td>\n",
       "      <td>744121284069.000000</td>\n",
       "      <td>308.000000</td>\n",
       "      <td>12:00:49.107000</td>\n",
       "      <td>4200.000000</td>\n",
       "      <td>2.000000</td>\n",
       "      <td>None</td>\n",
       "      <td>2676</td>\n",
       "      <td>mini_inc</td>\n",
       "      <td>1.000000</td>\n",
       "    </tr>\n",
       "    <tr>\n",
       "      <th>2837</th>\n",
       "      <td>2019-12-06 12:00:49.110000+00:00</td>\n",
       "      <td>67330769</td>\n",
       "      <td>12899434</td>\n",
       "      <td>WDOF20</td>\n",
       "      <td>CHANGE</td>\n",
       "      <td>B</td>\n",
       "      <td>20.000000</td>\n",
       "      <td>744121284070.000000</td>\n",
       "      <td>308.000000</td>\n",
       "      <td>12:00:49.110000</td>\n",
       "      <td>4184.000000</td>\n",
       "      <td>15.000000</td>\n",
       "      <td>None</td>\n",
       "      <td>2677</td>\n",
       "      <td>mini_inc</td>\n",
       "      <td>1.000000</td>\n",
       "    </tr>\n",
       "  </tbody>\n",
       "</table>\n",
       "</div>"
      ],
      "text/plain": [
       "                                   ts        id  msg_seq_num  symbol event_type side   position            order_id     broker         order_ts       price  quantity status     i      type      gap\n",
       "2834 2019-12-06 12:00:49.102000+00:00  67330766     12899431  WDOF20     INSERT    A   2.000000 744121284067.000000 308.000000  12:00:49.102000 4185.500000  5.000000   None  2674  mini_inc 1.000000\n",
       "2835 2019-12-06 12:00:49.105000+00:00  67330767     12899432  WDOF20     CHANGE    A  16.000000 744121284068.000000 386.000000  12:00:49.105000 4186.000000 18.000000   None  2675  mini_inc 1.000000\n",
       "2836 2019-12-06 12:00:49.108000+00:00  67330768     12899433  WDOF20     CHANGE    A 395.000000 744121284069.000000 308.000000  12:00:49.107000 4200.000000  2.000000   None  2676  mini_inc 1.000000\n",
       "2837 2019-12-06 12:00:49.110000+00:00  67330769     12899434  WDOF20     CHANGE    B  20.000000 744121284070.000000 308.000000  12:00:49.110000 4184.000000 15.000000   None  2677  mini_inc 1.000000"
      ]
     },
     "execution_count": 142,
     "metadata": {},
     "output_type": "execute_result"
    }
   ],
   "source": [
    "sorted_.loc[2834:2837]"
   ]
  },
  {
   "cell_type": "code",
   "execution_count": null,
   "metadata": {},
   "outputs": [],
   "source": [
    "dl['dt'] =( dl['ts'] - dl['ts'].shift(1))\n"
   ]
  },
  {
   "cell_type": "code",
   "execution_count": null,
   "metadata": {},
   "outputs": [],
   "source": [
    "dl.head()"
   ]
  },
  {
   "cell_type": "code",
   "execution_count": null,
   "metadata": {},
   "outputs": [],
   "source": [
    "dl['sec'] = dl['dt'].apply(lambda x: x.seconds)\n",
    "dl['micro'] = dl['dt'].apply(lambda x: x.microseconds)\n",
    "dl['time'] = dl['sec']+(dl['micro'] /10 ** 6)\n"
   ]
  },
  {
   "cell_type": "code",
   "execution_count": null,
   "metadata": {},
   "outputs": [],
   "source": [
    "dl  = dl [ dl['time'] != 0]\n",
    "\n",
    "# dl['DATA_COMPRA'] = dl['DATA_COMPRA'].apply(lambda x : pd.to_datetime(x))"
   ]
  },
  {
   "cell_type": "code",
   "execution_count": null,
   "metadata": {},
   "outputs": [],
   "source": [
    "A = [0]\n",
    "#while len(dl.index) > 100:\n",
    "for i in range(150): #(len(dl.index)):# dl.iterrows(): \n",
    "    val = np.flatnonzero(np.isclose(dH.time.cumsum().values, 100, atol =.40))[0]\n",
    "    dH = dl.loc[val+sum(A)::]\n",
    "    A.append(val)"
   ]
  },
  {
   "cell_type": "code",
   "execution_count": null,
   "metadata": {},
   "outputs": [],
   "source": [
    "dl['cumsum'] = dl.time.cumsum()"
   ]
  },
  {
   "cell_type": "code",
   "execution_count": null,
   "metadata": {},
   "outputs": [],
   "source": [
    "dl = dl.dropna()"
   ]
  },
  {
   "cell_type": "code",
   "execution_count": null,
   "metadata": {},
   "outputs": [],
   "source": [
    "dl = dl.drop(['index'], axis = 1)"
   ]
  },
  {
   "cell_type": "code",
   "execution_count": null,
   "metadata": {},
   "outputs": [],
   "source": [
    "dl= dl.reset_index()"
   ]
  }
 ],
 "metadata": {
  "kernelspec": {
   "display_name": "Python 3",
   "language": "python",
   "name": "python3"
  },
  "language_info": {
   "codemirror_mode": {
    "name": "ipython",
    "version": 3
   },
   "file_extension": ".py",
   "mimetype": "text/x-python",
   "name": "python",
   "nbconvert_exporter": "python",
   "pygments_lexer": "ipython3",
   "version": "3.6.8"
  }
 },
 "nbformat": 4,
 "nbformat_minor": 4
}
