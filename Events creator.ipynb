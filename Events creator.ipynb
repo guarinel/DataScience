{
 "cells": [
  {
   "cell_type": "code",
   "execution_count": 1,
   "metadata": {},
   "outputs": [],
   "source": [
    "from asimov_database import ParquetCreator\n",
    "\n",
    "pc = ParquetCreator()"
   ]
  },
  {
   "cell_type": "code",
   "execution_count": 17,
   "metadata": {},
   "outputs": [],
   "source": [
    "date = \"2020-01-28\"\n",
    "symbol = \"DOLG20\""
   ]
  },
  {
   "cell_type": "markdown",
   "metadata": {},
   "source": [
    "## Manual update daily data"
   ]
  },
  {
   "cell_type": "code",
   "execution_count": 18,
   "metadata": {},
   "outputs": [
    {
     "name": "stdout",
     "output_type": "stream",
     "text": [
      "[ PARQUET ] Fetching incremental data for DOLG20 2020-01-27\n",
      "[ PARQUET ] Fetching snapshot data for DOLG20 2020-01-27\n",
      "[ PARQUET ] Fetching trades data for DOLG20 2020-01-27\n"
     ]
    }
   ],
   "source": [
    "pc.create_book_events(symbol, date)\n",
    "pc.create_trades_files(symbol, date)\n",
    "pc.create_mirror_files(date)"
   ]
  },
  {
   "cell_type": "code",
   "execution_count": null,
   "metadata": {},
   "outputs": [],
   "source": []
  }
 ],
 "metadata": {
  "kernelspec": {
   "display_name": "Python 3",
   "language": "python",
   "name": "python3"
  },
  "language_info": {
   "codemirror_mode": {
    "name": "ipython",
    "version": 3
   },
   "file_extension": ".py",
   "mimetype": "text/x-python",
   "name": "python",
   "nbconvert_exporter": "python",
   "pygments_lexer": "ipython3",
   "version": "3.6.8"
  }
 },
 "nbformat": 4,
 "nbformat_minor": 4
}
